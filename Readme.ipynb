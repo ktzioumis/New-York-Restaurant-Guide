{
 "cells": [
  {
   "cell_type": "markdown",
   "metadata": {},
   "source": [
    "# New-York-Restaurant-Guide\n",
    "\n",
    "## Project Motivation\n",
    "The New York City Department of Health and Mental Hygene inspects all food service establishments to make sure they meet Health Code requirements. Every food service establishment receives an unannounced, onsite inspection at least once a year to check if it is meeting Health Code food safety requirements. The inspector may visit anytime the restaurant is receiving or preparing food or drink, or is open to the public. Adherence to Health Code food safey requirements is necessary to prevent foodborne illness after it's introduction in 2011 instances of salmonella in New York City fell by 14% in the first year (source: https://ny.eater.com/2019/6/28/18761345/department-of-health-letter-grades-nyc-restaurant-rules) but it has also generates millions of dollars in fines to restaurants. Annual totals for restaurant fines from Dept. of Health Inspections top \\\\$30 million annually and reached \\\\$54 million in 2012 (source: https://comptroller.nyc.gov/reports/new-york-city-fine-revenues-update/). \n",
    "\n",
    "Penalties for Health Code Violations are effectively twofold. Where violations are found a Notice of Violation is issued and a hearing Date is set for the Health Hearing Division of the Office of Trials and Hearings (OATH), violations can be contested and fines are determined at the OATH hearing. Fines can range from \\\\$200 to \\\\$2,000 and higher for repeat offences. The second form of penalty can occur if a restaurant fails to achieve an A grade. According to a 2012 survey conducted by Baruch College at the City University of New York, 88% of New Yorkers  used the letter grades in making their dining decisions, and 76% felt more confident eating in an “A” grade restaurant(source: https://www1.nyc.gov/site/doh/about/press/pr2017/pr031-17.page). Failing to achieve or maintain an A grade can result in damage to a restaurant's reputation, negative press coverage (Upscale restaurant Per Se's 2014 poor inspection result was reported on by Business Insider - https://www.businessinsider.com/per-se-grade-pending-2014-3) and a loss of customer confidence that leads to a drop in foot traffic, sales and profits. \n",
    "\n",
    "The importance of an A grade has restaurants bending over backwards to beat the inspectors (https://ny.eater.com/2019/6/28/18761345/department-of-health-letter-grades-nyc-restaurant-rules) and has led to a booming industry of restaurant consultants, performing mock inspections and legal service that will assist in challenging violations at the OATH Hearing. \n",
    "\n",
    "\n",
    "\n",
    "## Inspection Process\n",
    "![header](inspection_process.PNG)\n"
   ]
  },
  {
   "cell_type": "code",
   "execution_count": null,
   "metadata": {},
   "outputs": [],
   "source": []
  },
  {
   "cell_type": "code",
   "execution_count": null,
   "metadata": {},
   "outputs": [],
   "source": []
  }
 ],
 "metadata": {
  "kernelspec": {
   "display_name": "Python 3",
   "language": "python",
   "name": "python3"
  },
  "language_info": {
   "codemirror_mode": {
    "name": "ipython",
    "version": 3
   },
   "file_extension": ".py",
   "mimetype": "text/x-python",
   "name": "python",
   "nbconvert_exporter": "python",
   "pygments_lexer": "ipython3",
   "version": "3.7.0"
  }
 },
 "nbformat": 4,
 "nbformat_minor": 2
}
