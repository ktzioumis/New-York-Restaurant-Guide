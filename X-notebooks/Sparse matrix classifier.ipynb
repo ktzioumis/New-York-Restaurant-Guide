{
 "cells": [
  {
   "cell_type": "code",
   "execution_count": 1,
   "metadata": {},
   "outputs": [],
   "source": [
    "import pandas as pd \n",
    "import numpy as np\n",
    "import matplotlib.pyplot as plt"
   ]
  },
  {
   "cell_type": "code",
   "execution_count": 2,
   "metadata": {},
   "outputs": [
    {
     "data": {
      "text/html": [
       "<div>\n",
       "<style scoped>\n",
       "    .dataframe tbody tr th:only-of-type {\n",
       "        vertical-align: middle;\n",
       "    }\n",
       "\n",
       "    .dataframe tbody tr th {\n",
       "        vertical-align: top;\n",
       "    }\n",
       "\n",
       "    .dataframe thead th {\n",
       "        text-align: right;\n",
       "    }\n",
       "</style>\n",
       "<table border=\"1\" class=\"dataframe\">\n",
       "  <thead>\n",
       "    <tr style=\"text-align: right;\">\n",
       "      <th></th>\n",
       "      <th>Unnamed: 0</th>\n",
       "      <th>CAMIS</th>\n",
       "      <th>DATE</th>\n",
       "      <th>SCORE</th>\n",
       "      <th>INSPECTION TYPE</th>\n",
       "      <th>02A</th>\n",
       "      <th>02B</th>\n",
       "      <th>02C</th>\n",
       "      <th>02D</th>\n",
       "      <th>02E</th>\n",
       "      <th>...</th>\n",
       "      <th>10D</th>\n",
       "      <th>10E</th>\n",
       "      <th>10F</th>\n",
       "      <th>10G</th>\n",
       "      <th>10H</th>\n",
       "      <th>10I</th>\n",
       "      <th>10J</th>\n",
       "      <th>ACTION</th>\n",
       "      <th>CRITICAL FLAG</th>\n",
       "      <th>GRADE</th>\n",
       "    </tr>\n",
       "  </thead>\n",
       "  <tbody>\n",
       "    <tr>\n",
       "      <th>0</th>\n",
       "      <td>93905</td>\n",
       "      <td>30075445</td>\n",
       "      <td>2017-05-18</td>\n",
       "      <td>7.0</td>\n",
       "      <td>Cycle Inspection / Initial Inspection</td>\n",
       "      <td>0.0</td>\n",
       "      <td>0.0</td>\n",
       "      <td>0.0</td>\n",
       "      <td>0.0</td>\n",
       "      <td>0.0</td>\n",
       "      <td>...</td>\n",
       "      <td>0.0</td>\n",
       "      <td>0.0</td>\n",
       "      <td>1.0</td>\n",
       "      <td>0.0</td>\n",
       "      <td>0.0</td>\n",
       "      <td>0.0</td>\n",
       "      <td>0.0</td>\n",
       "      <td>Violations were cited in the following area(s).</td>\n",
       "      <td>1</td>\n",
       "      <td>A</td>\n",
       "    </tr>\n",
       "    <tr>\n",
       "      <th>1</th>\n",
       "      <td>93904</td>\n",
       "      <td>30075445</td>\n",
       "      <td>2018-05-11</td>\n",
       "      <td>5.0</td>\n",
       "      <td>Cycle Inspection / Initial Inspection</td>\n",
       "      <td>0.0</td>\n",
       "      <td>0.0</td>\n",
       "      <td>0.0</td>\n",
       "      <td>0.0</td>\n",
       "      <td>0.0</td>\n",
       "      <td>...</td>\n",
       "      <td>0.0</td>\n",
       "      <td>0.0</td>\n",
       "      <td>1.0</td>\n",
       "      <td>0.0</td>\n",
       "      <td>0.0</td>\n",
       "      <td>0.0</td>\n",
       "      <td>0.0</td>\n",
       "      <td>Violations were cited in the following area(s).</td>\n",
       "      <td>0</td>\n",
       "      <td>A</td>\n",
       "    </tr>\n",
       "    <tr>\n",
       "      <th>2</th>\n",
       "      <td>93907</td>\n",
       "      <td>30075445</td>\n",
       "      <td>2019-05-16</td>\n",
       "      <td>14.0</td>\n",
       "      <td>Cycle Inspection / Initial Inspection</td>\n",
       "      <td>0.0</td>\n",
       "      <td>0.0</td>\n",
       "      <td>0.0</td>\n",
       "      <td>0.0</td>\n",
       "      <td>0.0</td>\n",
       "      <td>...</td>\n",
       "      <td>0.0</td>\n",
       "      <td>0.0</td>\n",
       "      <td>1.0</td>\n",
       "      <td>0.0</td>\n",
       "      <td>0.0</td>\n",
       "      <td>0.0</td>\n",
       "      <td>0.0</td>\n",
       "      <td>Violations were cited in the following area(s).</td>\n",
       "      <td>1</td>\n",
       "      <td>B</td>\n",
       "    </tr>\n",
       "    <tr>\n",
       "      <th>3</th>\n",
       "      <td>93360</td>\n",
       "      <td>30112340</td>\n",
       "      <td>2016-10-03</td>\n",
       "      <td>48.0</td>\n",
       "      <td>Cycle Inspection / Initial Inspection</td>\n",
       "      <td>0.0</td>\n",
       "      <td>0.0</td>\n",
       "      <td>0.0</td>\n",
       "      <td>0.0</td>\n",
       "      <td>0.0</td>\n",
       "      <td>...</td>\n",
       "      <td>0.0</td>\n",
       "      <td>0.0</td>\n",
       "      <td>0.0</td>\n",
       "      <td>0.0</td>\n",
       "      <td>0.0</td>\n",
       "      <td>0.0</td>\n",
       "      <td>0.0</td>\n",
       "      <td>Violations were cited in the following area(s).</td>\n",
       "      <td>3</td>\n",
       "      <td>C</td>\n",
       "    </tr>\n",
       "    <tr>\n",
       "      <th>4</th>\n",
       "      <td>93364</td>\n",
       "      <td>30112340</td>\n",
       "      <td>2017-06-26</td>\n",
       "      <td>7.0</td>\n",
       "      <td>Cycle Inspection / Initial Inspection</td>\n",
       "      <td>0.0</td>\n",
       "      <td>0.0</td>\n",
       "      <td>0.0</td>\n",
       "      <td>0.0</td>\n",
       "      <td>0.0</td>\n",
       "      <td>...</td>\n",
       "      <td>0.0</td>\n",
       "      <td>0.0</td>\n",
       "      <td>0.0</td>\n",
       "      <td>0.0</td>\n",
       "      <td>0.0</td>\n",
       "      <td>0.0</td>\n",
       "      <td>0.0</td>\n",
       "      <td>Violations were cited in the following area(s).</td>\n",
       "      <td>1</td>\n",
       "      <td>A</td>\n",
       "    </tr>\n",
       "  </tbody>\n",
       "</table>\n",
       "<p>5 rows × 73 columns</p>\n",
       "</div>"
      ],
      "text/plain": [
       "   Unnamed: 0     CAMIS        DATE  SCORE  \\\n",
       "0       93905  30075445  2017-05-18    7.0   \n",
       "1       93904  30075445  2018-05-11    5.0   \n",
       "2       93907  30075445  2019-05-16   14.0   \n",
       "3       93360  30112340  2016-10-03   48.0   \n",
       "4       93364  30112340  2017-06-26    7.0   \n",
       "\n",
       "                         INSPECTION TYPE  02A  02B  02C  02D  02E  ...  10D  \\\n",
       "0  Cycle Inspection / Initial Inspection  0.0  0.0  0.0  0.0  0.0  ...  0.0   \n",
       "1  Cycle Inspection / Initial Inspection  0.0  0.0  0.0  0.0  0.0  ...  0.0   \n",
       "2  Cycle Inspection / Initial Inspection  0.0  0.0  0.0  0.0  0.0  ...  0.0   \n",
       "3  Cycle Inspection / Initial Inspection  0.0  0.0  0.0  0.0  0.0  ...  0.0   \n",
       "4  Cycle Inspection / Initial Inspection  0.0  0.0  0.0  0.0  0.0  ...  0.0   \n",
       "\n",
       "   10E  10F  10G  10H  10I  10J  \\\n",
       "0  0.0  1.0  0.0  0.0  0.0  0.0   \n",
       "1  0.0  1.0  0.0  0.0  0.0  0.0   \n",
       "2  0.0  1.0  0.0  0.0  0.0  0.0   \n",
       "3  0.0  0.0  0.0  0.0  0.0  0.0   \n",
       "4  0.0  0.0  0.0  0.0  0.0  0.0   \n",
       "\n",
       "                                            ACTION  CRITICAL FLAG  GRADE  \n",
       "0  Violations were cited in the following area(s).              1      A  \n",
       "1  Violations were cited in the following area(s).              0      A  \n",
       "2  Violations were cited in the following area(s).              1      B  \n",
       "3  Violations were cited in the following area(s).              3      C  \n",
       "4  Violations were cited in the following area(s).              1      A  \n",
       "\n",
       "[5 rows x 73 columns]"
      ]
     },
     "execution_count": 2,
     "metadata": {},
     "output_type": "execute_result"
    }
   ],
   "source": [
    "df_init=pd.read_csv('initial.csv')\n",
    "df_init.head()"
   ]
  },
  {
   "cell_type": "code",
   "execution_count": 3,
   "metadata": {},
   "outputs": [],
   "source": [
    "df_init.drop(columns='Unnamed: 0',inplace=True)"
   ]
  },
  {
   "cell_type": "code",
   "execution_count": 4,
   "metadata": {},
   "outputs": [
    {
     "data": {
      "text/html": [
       "<div>\n",
       "<style scoped>\n",
       "    .dataframe tbody tr th:only-of-type {\n",
       "        vertical-align: middle;\n",
       "    }\n",
       "\n",
       "    .dataframe tbody tr th {\n",
       "        vertical-align: top;\n",
       "    }\n",
       "\n",
       "    .dataframe thead th {\n",
       "        text-align: right;\n",
       "    }\n",
       "</style>\n",
       "<table border=\"1\" class=\"dataframe\">\n",
       "  <thead>\n",
       "    <tr style=\"text-align: right;\">\n",
       "      <th></th>\n",
       "      <th>CAMIS</th>\n",
       "      <th>DBA</th>\n",
       "      <th>CUISINE DESCRIPTION</th>\n",
       "      <th>BORO</th>\n",
       "      <th>BUILDING</th>\n",
       "      <th>STREET</th>\n",
       "      <th>ZIPCODE</th>\n",
       "      <th>Latitude</th>\n",
       "      <th>Longitude</th>\n",
       "      <th>Community Board</th>\n",
       "      <th>Council District</th>\n",
       "      <th>Census Tract</th>\n",
       "      <th>BIN</th>\n",
       "      <th>BBL</th>\n",
       "      <th>NTA</th>\n",
       "      <th>is_chain</th>\n",
       "    </tr>\n",
       "  </thead>\n",
       "  <tbody>\n",
       "    <tr>\n",
       "      <th>0</th>\n",
       "      <td>30075445</td>\n",
       "      <td>MORRIS PARK BAKE SHOP</td>\n",
       "      <td>Bakery</td>\n",
       "      <td>Bronx</td>\n",
       "      <td>1007</td>\n",
       "      <td>MORRIS PARK AVE</td>\n",
       "      <td>10462.0</td>\n",
       "      <td>40.848231</td>\n",
       "      <td>-73.855972</td>\n",
       "      <td>211.0</td>\n",
       "      <td>13.0</td>\n",
       "      <td>25200.0</td>\n",
       "      <td>2045445.0</td>\n",
       "      <td>2.041270e+09</td>\n",
       "      <td>BX37</td>\n",
       "      <td>0</td>\n",
       "    </tr>\n",
       "    <tr>\n",
       "      <th>1</th>\n",
       "      <td>30112340</td>\n",
       "      <td>WENDY'S</td>\n",
       "      <td>Hamburgers</td>\n",
       "      <td>Brooklyn</td>\n",
       "      <td>469</td>\n",
       "      <td>FLATBUSH AVENUE</td>\n",
       "      <td>11225.0</td>\n",
       "      <td>40.662652</td>\n",
       "      <td>-73.962081</td>\n",
       "      <td>309.0</td>\n",
       "      <td>40.0</td>\n",
       "      <td>32700.0</td>\n",
       "      <td>3029737.0</td>\n",
       "      <td>3.011970e+09</td>\n",
       "      <td>BK60</td>\n",
       "      <td>1</td>\n",
       "    </tr>\n",
       "    <tr>\n",
       "      <th>2</th>\n",
       "      <td>30191841</td>\n",
       "      <td>DJ REYNOLDS PUB AND RESTAURANT</td>\n",
       "      <td>Irish</td>\n",
       "      <td>Manhattan</td>\n",
       "      <td>351</td>\n",
       "      <td>WEST   57 STREET</td>\n",
       "      <td>10019.0</td>\n",
       "      <td>40.767326</td>\n",
       "      <td>-73.984310</td>\n",
       "      <td>104.0</td>\n",
       "      <td>3.0</td>\n",
       "      <td>13900.0</td>\n",
       "      <td>1026048.0</td>\n",
       "      <td>1.010480e+09</td>\n",
       "      <td>MN15</td>\n",
       "      <td>0</td>\n",
       "    </tr>\n",
       "    <tr>\n",
       "      <th>3</th>\n",
       "      <td>40356018</td>\n",
       "      <td>RIVIERA CATERERS</td>\n",
       "      <td>American</td>\n",
       "      <td>Brooklyn</td>\n",
       "      <td>2780</td>\n",
       "      <td>STILLWELL AVENUE</td>\n",
       "      <td>11224.0</td>\n",
       "      <td>40.579920</td>\n",
       "      <td>-73.982090</td>\n",
       "      <td>313.0</td>\n",
       "      <td>47.0</td>\n",
       "      <td>34800.0</td>\n",
       "      <td>3347399.0</td>\n",
       "      <td>3.069970e+09</td>\n",
       "      <td>BK21</td>\n",
       "      <td>0</td>\n",
       "    </tr>\n",
       "    <tr>\n",
       "      <th>4</th>\n",
       "      <td>40356151</td>\n",
       "      <td>BRUNOS ON THE BOULEVARD</td>\n",
       "      <td>American</td>\n",
       "      <td>Queens</td>\n",
       "      <td>8825</td>\n",
       "      <td>ASTORIA BOULEVARD</td>\n",
       "      <td>11369.0</td>\n",
       "      <td>40.763971</td>\n",
       "      <td>-73.880973</td>\n",
       "      <td>403.0</td>\n",
       "      <td>22.0</td>\n",
       "      <td>32900.0</td>\n",
       "      <td>4024132.0</td>\n",
       "      <td>4.011000e+09</td>\n",
       "      <td>QN28</td>\n",
       "      <td>0</td>\n",
       "    </tr>\n",
       "  </tbody>\n",
       "</table>\n",
       "</div>"
      ],
      "text/plain": [
       "      CAMIS                             DBA CUISINE DESCRIPTION       BORO  \\\n",
       "0  30075445           MORRIS PARK BAKE SHOP              Bakery      Bronx   \n",
       "1  30112340                         WENDY'S          Hamburgers   Brooklyn   \n",
       "2  30191841  DJ REYNOLDS PUB AND RESTAURANT               Irish  Manhattan   \n",
       "3  40356018                RIVIERA CATERERS            American   Brooklyn   \n",
       "4  40356151         BRUNOS ON THE BOULEVARD            American     Queens   \n",
       "\n",
       "  BUILDING             STREET  ZIPCODE   Latitude  Longitude  Community Board  \\\n",
       "0     1007    MORRIS PARK AVE  10462.0  40.848231 -73.855972            211.0   \n",
       "1      469    FLATBUSH AVENUE  11225.0  40.662652 -73.962081            309.0   \n",
       "2      351   WEST   57 STREET  10019.0  40.767326 -73.984310            104.0   \n",
       "3     2780   STILLWELL AVENUE  11224.0  40.579920 -73.982090            313.0   \n",
       "4     8825  ASTORIA BOULEVARD  11369.0  40.763971 -73.880973            403.0   \n",
       "\n",
       "   Council District  Census Tract        BIN           BBL   NTA  is_chain  \n",
       "0              13.0       25200.0  2045445.0  2.041270e+09  BX37         0  \n",
       "1              40.0       32700.0  3029737.0  3.011970e+09  BK60         1  \n",
       "2               3.0       13900.0  1026048.0  1.010480e+09  MN15         0  \n",
       "3              47.0       34800.0  3347399.0  3.069970e+09  BK21         0  \n",
       "4              22.0       32900.0  4024132.0  4.011000e+09  QN28         0  "
      ]
     },
     "execution_count": 4,
     "metadata": {},
     "output_type": "execute_result"
    }
   ],
   "source": [
    "df_rests=pd.read_csv('rests.csv')\n",
    "df_rests.rename(columns={'Unnamed: 0':'CAMIS'},inplace=True)\n",
    "df_rests.head()"
   ]
  },
  {
   "cell_type": "code",
   "execution_count": 5,
   "metadata": {},
   "outputs": [],
   "source": [
    "df_small_init=df_init[['CAMIS','GRADE']]\n",
    "df_small_rests=df_rests[['CAMIS','CUISINE DESCRIPTION','Community Board']]"
   ]
  },
  {
   "cell_type": "code",
   "execution_count": 6,
   "metadata": {},
   "outputs": [
    {
     "name": "stdout",
     "output_type": "stream",
     "text": [
      "<class 'pandas.core.frame.DataFrame'>\n",
      "Int64Index: 65932 entries, 0 to 65931\n",
      "Data columns (total 4 columns):\n",
      "CAMIS                  65932 non-null int64\n",
      "GRADE                  65932 non-null object\n",
      "CUISINE DESCRIPTION    65932 non-null object\n",
      "Community Board        64699 non-null float64\n",
      "dtypes: float64(1), int64(1), object(2)\n",
      "memory usage: 2.5+ MB\n"
     ]
    }
   ],
   "source": [
    "df_matrix=df_small_init.merge(df_small_rests,on='CAMIS',)\n",
    "df_matrix.info()"
   ]
  },
  {
   "cell_type": "code",
   "execution_count": 7,
   "metadata": {},
   "outputs": [
    {
     "data": {
      "text/html": [
       "<div>\n",
       "<style scoped>\n",
       "    .dataframe tbody tr th:only-of-type {\n",
       "        vertical-align: middle;\n",
       "    }\n",
       "\n",
       "    .dataframe tbody tr th {\n",
       "        vertical-align: top;\n",
       "    }\n",
       "\n",
       "    .dataframe thead th {\n",
       "        text-align: right;\n",
       "    }\n",
       "</style>\n",
       "<table border=\"1\" class=\"dataframe\">\n",
       "  <thead>\n",
       "    <tr style=\"text-align: right;\">\n",
       "      <th></th>\n",
       "      <th>CAMIS</th>\n",
       "      <th>GRADE</th>\n",
       "      <th>CUISINE DESCRIPTION</th>\n",
       "      <th>Community Board</th>\n",
       "    </tr>\n",
       "  </thead>\n",
       "  <tbody>\n",
       "    <tr>\n",
       "      <th>0</th>\n",
       "      <td>30075445</td>\n",
       "      <td>A</td>\n",
       "      <td>Bakery</td>\n",
       "      <td>211.0</td>\n",
       "    </tr>\n",
       "    <tr>\n",
       "      <th>1</th>\n",
       "      <td>30075445</td>\n",
       "      <td>A</td>\n",
       "      <td>Bakery</td>\n",
       "      <td>211.0</td>\n",
       "    </tr>\n",
       "    <tr>\n",
       "      <th>2</th>\n",
       "      <td>30075445</td>\n",
       "      <td>B</td>\n",
       "      <td>Bakery</td>\n",
       "      <td>211.0</td>\n",
       "    </tr>\n",
       "    <tr>\n",
       "      <th>3</th>\n",
       "      <td>30112340</td>\n",
       "      <td>C</td>\n",
       "      <td>Hamburgers</td>\n",
       "      <td>309.0</td>\n",
       "    </tr>\n",
       "    <tr>\n",
       "      <th>4</th>\n",
       "      <td>30112340</td>\n",
       "      <td>A</td>\n",
       "      <td>Hamburgers</td>\n",
       "      <td>309.0</td>\n",
       "    </tr>\n",
       "  </tbody>\n",
       "</table>\n",
       "</div>"
      ],
      "text/plain": [
       "      CAMIS GRADE CUISINE DESCRIPTION  Community Board\n",
       "0  30075445     A              Bakery            211.0\n",
       "1  30075445     A              Bakery            211.0\n",
       "2  30075445     B              Bakery            211.0\n",
       "3  30112340     C          Hamburgers            309.0\n",
       "4  30112340     A          Hamburgers            309.0"
      ]
     },
     "execution_count": 7,
     "metadata": {},
     "output_type": "execute_result"
    }
   ],
   "source": [
    "df_matrix.head()"
   ]
  },
  {
   "cell_type": "code",
   "execution_count": 8,
   "metadata": {},
   "outputs": [
    {
     "name": "stdout",
     "output_type": "stream",
     "text": [
      "<class 'pandas.core.frame.DataFrame'>\n",
      "Int64Index: 64699 entries, 0 to 65931\n",
      "Data columns (total 4 columns):\n",
      "CAMIS                  64699 non-null int64\n",
      "GRADE                  64699 non-null object\n",
      "CUISINE DESCRIPTION    64699 non-null object\n",
      "Community Board        64699 non-null object\n",
      "dtypes: int64(1), object(3)\n",
      "memory usage: 2.5+ MB\n"
     ]
    }
   ],
   "source": [
    "df_matrix.dropna(inplace=True)\n",
    "df_matrix['Community Board']=df_matrix['Community Board'].astype(int).astype(str)\n",
    "df_matrix.info()"
   ]
  },
  {
   "cell_type": "code",
   "execution_count": 9,
   "metadata": {},
   "outputs": [
    {
     "data": {
      "text/html": [
       "<div>\n",
       "<style scoped>\n",
       "    .dataframe tbody tr th:only-of-type {\n",
       "        vertical-align: middle;\n",
       "    }\n",
       "\n",
       "    .dataframe tbody tr th {\n",
       "        vertical-align: top;\n",
       "    }\n",
       "\n",
       "    .dataframe thead th {\n",
       "        text-align: right;\n",
       "    }\n",
       "</style>\n",
       "<table border=\"1\" class=\"dataframe\">\n",
       "  <thead>\n",
       "    <tr style=\"text-align: right;\">\n",
       "      <th></th>\n",
       "      <th>CAMIS</th>\n",
       "      <th>GRADE_A</th>\n",
       "      <th>GRADE_B</th>\n",
       "      <th>GRADE_C</th>\n",
       "      <th>CUISINE DESCRIPTION_Afghan</th>\n",
       "      <th>CUISINE DESCRIPTION_African</th>\n",
       "      <th>CUISINE DESCRIPTION_American</th>\n",
       "      <th>CUISINE DESCRIPTION_Armenian</th>\n",
       "      <th>CUISINE DESCRIPTION_Asian</th>\n",
       "      <th>CUISINE DESCRIPTION_Australian</th>\n",
       "      <th>...</th>\n",
       "      <th>Community Board_413</th>\n",
       "      <th>Community Board_414</th>\n",
       "      <th>Community Board_480</th>\n",
       "      <th>Community Board_481</th>\n",
       "      <th>Community Board_482</th>\n",
       "      <th>Community Board_483</th>\n",
       "      <th>Community Board_501</th>\n",
       "      <th>Community Board_502</th>\n",
       "      <th>Community Board_503</th>\n",
       "      <th>Community Board_595</th>\n",
       "    </tr>\n",
       "  </thead>\n",
       "  <tbody>\n",
       "    <tr>\n",
       "      <th>0</th>\n",
       "      <td>30075445</td>\n",
       "      <td>1</td>\n",
       "      <td>0</td>\n",
       "      <td>0</td>\n",
       "      <td>0</td>\n",
       "      <td>0</td>\n",
       "      <td>0</td>\n",
       "      <td>0</td>\n",
       "      <td>0</td>\n",
       "      <td>0</td>\n",
       "      <td>...</td>\n",
       "      <td>0</td>\n",
       "      <td>0</td>\n",
       "      <td>0</td>\n",
       "      <td>0</td>\n",
       "      <td>0</td>\n",
       "      <td>0</td>\n",
       "      <td>0</td>\n",
       "      <td>0</td>\n",
       "      <td>0</td>\n",
       "      <td>0</td>\n",
       "    </tr>\n",
       "    <tr>\n",
       "      <th>1</th>\n",
       "      <td>30075445</td>\n",
       "      <td>1</td>\n",
       "      <td>0</td>\n",
       "      <td>0</td>\n",
       "      <td>0</td>\n",
       "      <td>0</td>\n",
       "      <td>0</td>\n",
       "      <td>0</td>\n",
       "      <td>0</td>\n",
       "      <td>0</td>\n",
       "      <td>...</td>\n",
       "      <td>0</td>\n",
       "      <td>0</td>\n",
       "      <td>0</td>\n",
       "      <td>0</td>\n",
       "      <td>0</td>\n",
       "      <td>0</td>\n",
       "      <td>0</td>\n",
       "      <td>0</td>\n",
       "      <td>0</td>\n",
       "      <td>0</td>\n",
       "    </tr>\n",
       "    <tr>\n",
       "      <th>2</th>\n",
       "      <td>30075445</td>\n",
       "      <td>0</td>\n",
       "      <td>1</td>\n",
       "      <td>0</td>\n",
       "      <td>0</td>\n",
       "      <td>0</td>\n",
       "      <td>0</td>\n",
       "      <td>0</td>\n",
       "      <td>0</td>\n",
       "      <td>0</td>\n",
       "      <td>...</td>\n",
       "      <td>0</td>\n",
       "      <td>0</td>\n",
       "      <td>0</td>\n",
       "      <td>0</td>\n",
       "      <td>0</td>\n",
       "      <td>0</td>\n",
       "      <td>0</td>\n",
       "      <td>0</td>\n",
       "      <td>0</td>\n",
       "      <td>0</td>\n",
       "    </tr>\n",
       "    <tr>\n",
       "      <th>3</th>\n",
       "      <td>30112340</td>\n",
       "      <td>0</td>\n",
       "      <td>0</td>\n",
       "      <td>1</td>\n",
       "      <td>0</td>\n",
       "      <td>0</td>\n",
       "      <td>0</td>\n",
       "      <td>0</td>\n",
       "      <td>0</td>\n",
       "      <td>0</td>\n",
       "      <td>...</td>\n",
       "      <td>0</td>\n",
       "      <td>0</td>\n",
       "      <td>0</td>\n",
       "      <td>0</td>\n",
       "      <td>0</td>\n",
       "      <td>0</td>\n",
       "      <td>0</td>\n",
       "      <td>0</td>\n",
       "      <td>0</td>\n",
       "      <td>0</td>\n",
       "    </tr>\n",
       "    <tr>\n",
       "      <th>4</th>\n",
       "      <td>30112340</td>\n",
       "      <td>1</td>\n",
       "      <td>0</td>\n",
       "      <td>0</td>\n",
       "      <td>0</td>\n",
       "      <td>0</td>\n",
       "      <td>0</td>\n",
       "      <td>0</td>\n",
       "      <td>0</td>\n",
       "      <td>0</td>\n",
       "      <td>...</td>\n",
       "      <td>0</td>\n",
       "      <td>0</td>\n",
       "      <td>0</td>\n",
       "      <td>0</td>\n",
       "      <td>0</td>\n",
       "      <td>0</td>\n",
       "      <td>0</td>\n",
       "      <td>0</td>\n",
       "      <td>0</td>\n",
       "      <td>0</td>\n",
       "    </tr>\n",
       "  </tbody>\n",
       "</table>\n",
       "<p>5 rows × 157 columns</p>\n",
       "</div>"
      ],
      "text/plain": [
       "      CAMIS  GRADE_A  GRADE_B  GRADE_C  CUISINE DESCRIPTION_Afghan  \\\n",
       "0  30075445        1        0        0                           0   \n",
       "1  30075445        1        0        0                           0   \n",
       "2  30075445        0        1        0                           0   \n",
       "3  30112340        0        0        1                           0   \n",
       "4  30112340        1        0        0                           0   \n",
       "\n",
       "   CUISINE DESCRIPTION_African  CUISINE DESCRIPTION_American  \\\n",
       "0                            0                             0   \n",
       "1                            0                             0   \n",
       "2                            0                             0   \n",
       "3                            0                             0   \n",
       "4                            0                             0   \n",
       "\n",
       "   CUISINE DESCRIPTION_Armenian  CUISINE DESCRIPTION_Asian  \\\n",
       "0                             0                          0   \n",
       "1                             0                          0   \n",
       "2                             0                          0   \n",
       "3                             0                          0   \n",
       "4                             0                          0   \n",
       "\n",
       "   CUISINE DESCRIPTION_Australian  ...  Community Board_413  \\\n",
       "0                               0  ...                    0   \n",
       "1                               0  ...                    0   \n",
       "2                               0  ...                    0   \n",
       "3                               0  ...                    0   \n",
       "4                               0  ...                    0   \n",
       "\n",
       "   Community Board_414  Community Board_480  Community Board_481  \\\n",
       "0                    0                    0                    0   \n",
       "1                    0                    0                    0   \n",
       "2                    0                    0                    0   \n",
       "3                    0                    0                    0   \n",
       "4                    0                    0                    0   \n",
       "\n",
       "   Community Board_482  Community Board_483  Community Board_501  \\\n",
       "0                    0                    0                    0   \n",
       "1                    0                    0                    0   \n",
       "2                    0                    0                    0   \n",
       "3                    0                    0                    0   \n",
       "4                    0                    0                    0   \n",
       "\n",
       "   Community Board_502  Community Board_503  Community Board_595  \n",
       "0                    0                    0                    0  \n",
       "1                    0                    0                    0  \n",
       "2                    0                    0                    0  \n",
       "3                    0                    0                    0  \n",
       "4                    0                    0                    0  \n",
       "\n",
       "[5 rows x 157 columns]"
      ]
     },
     "execution_count": 9,
     "metadata": {},
     "output_type": "execute_result"
    }
   ],
   "source": [
    "df_matrix_sparse=pd.get_dummies(df_matrix)\n",
    "df_matrix_sparse.head()"
   ]
  },
  {
   "cell_type": "code",
   "execution_count": 10,
   "metadata": {},
   "outputs": [],
   "source": [
    "X=df_matrix_sparse.drop(columns=['CAMIS','GRADE_A','GRADE_B','GRADE_C'])\n",
    "y=df_matrix_sparse['GRADE_A']"
   ]
  },
  {
   "cell_type": "code",
   "execution_count": null,
   "metadata": {},
   "outputs": [],
   "source": []
  },
  {
   "cell_type": "code",
   "execution_count": 11,
   "metadata": {},
   "outputs": [],
   "source": [
    "from sklearn.model_selection import train_test_split\n",
    "X_train, X_test,y_train, y_test=train_test_split(X,y,test_size=0.2)"
   ]
  },
  {
   "cell_type": "code",
   "execution_count": 12,
   "metadata": {
    "scrolled": true
   },
   "outputs": [
    {
     "name": "stdout",
     "output_type": "stream",
     "text": [
      "Fitting 3 folds for each of 15 candidates, totalling 45 fits\n",
      "[CV] learning_rate=1.0, n_estimators=30 ..............................\n"
     ]
    },
    {
     "name": "stderr",
     "output_type": "stream",
     "text": [
      "[Parallel(n_jobs=1)]: Using backend SequentialBackend with 1 concurrent workers.\n"
     ]
    },
    {
     "name": "stdout",
     "output_type": "stream",
     "text": [
      "[CV] ............... learning_rate=1.0, n_estimators=30, total=   2.0s\n",
      "[CV] learning_rate=1.0, n_estimators=30 ..............................\n"
     ]
    },
    {
     "name": "stderr",
     "output_type": "stream",
     "text": [
      "[Parallel(n_jobs=1)]: Done   1 out of   1 | elapsed:    1.9s remaining:    0.0s\n"
     ]
    },
    {
     "name": "stdout",
     "output_type": "stream",
     "text": [
      "[CV] ............... learning_rate=1.0, n_estimators=30, total=   2.1s\n",
      "[CV] learning_rate=1.0, n_estimators=30 ..............................\n",
      "[CV] ............... learning_rate=1.0, n_estimators=30, total=   2.2s\n",
      "[CV] learning_rate=1.0, n_estimators=50 ..............................\n",
      "[CV] ............... learning_rate=1.0, n_estimators=50, total=   3.4s\n",
      "[CV] learning_rate=1.0, n_estimators=50 ..............................\n",
      "[CV] ............... learning_rate=1.0, n_estimators=50, total=   3.4s\n",
      "[CV] learning_rate=1.0, n_estimators=50 ..............................\n",
      "[CV] ............... learning_rate=1.0, n_estimators=50, total=   3.4s\n",
      "[CV] learning_rate=1.0, n_estimators=70 ..............................\n",
      "[CV] ............... learning_rate=1.0, n_estimators=70, total=   4.6s\n",
      "[CV] learning_rate=1.0, n_estimators=70 ..............................\n",
      "[CV] ............... learning_rate=1.0, n_estimators=70, total=   4.7s\n",
      "[CV] learning_rate=1.0, n_estimators=70 ..............................\n",
      "[CV] ............... learning_rate=1.0, n_estimators=70, total=   4.6s\n",
      "[CV] learning_rate=1.0, n_estimators=100 .............................\n",
      "[CV] .............. learning_rate=1.0, n_estimators=100, total=   6.6s\n",
      "[CV] learning_rate=1.0, n_estimators=100 .............................\n",
      "[CV] .............. learning_rate=1.0, n_estimators=100, total=   6.6s\n",
      "[CV] learning_rate=1.0, n_estimators=100 .............................\n",
      "[CV] .............. learning_rate=1.0, n_estimators=100, total=   6.6s\n",
      "[CV] learning_rate=1.0, n_estimators=150 .............................\n",
      "[CV] .............. learning_rate=1.0, n_estimators=150, total=  10.0s\n",
      "[CV] learning_rate=1.0, n_estimators=150 .............................\n",
      "[CV] .............. learning_rate=1.0, n_estimators=150, total=  10.0s\n",
      "[CV] learning_rate=1.0, n_estimators=150 .............................\n",
      "[CV] .............. learning_rate=1.0, n_estimators=150, total=   9.9s\n",
      "[CV] learning_rate=0.5, n_estimators=30 ..............................\n",
      "[CV] ............... learning_rate=0.5, n_estimators=30, total=   2.0s\n",
      "[CV] learning_rate=0.5, n_estimators=30 ..............................\n",
      "[CV] ............... learning_rate=0.5, n_estimators=30, total=   2.0s\n",
      "[CV] learning_rate=0.5, n_estimators=30 ..............................\n",
      "[CV] ............... learning_rate=0.5, n_estimators=30, total=   2.0s\n",
      "[CV] learning_rate=0.5, n_estimators=50 ..............................\n",
      "[CV] ............... learning_rate=0.5, n_estimators=50, total=   3.3s\n",
      "[CV] learning_rate=0.5, n_estimators=50 ..............................\n",
      "[CV] ............... learning_rate=0.5, n_estimators=50, total=   3.3s\n",
      "[CV] learning_rate=0.5, n_estimators=50 ..............................\n",
      "[CV] ............... learning_rate=0.5, n_estimators=50, total=   3.3s\n",
      "[CV] learning_rate=0.5, n_estimators=70 ..............................\n",
      "[CV] ............... learning_rate=0.5, n_estimators=70, total=   4.6s\n",
      "[CV] learning_rate=0.5, n_estimators=70 ..............................\n",
      "[CV] ............... learning_rate=0.5, n_estimators=70, total=   4.7s\n",
      "[CV] learning_rate=0.5, n_estimators=70 ..............................\n",
      "[CV] ............... learning_rate=0.5, n_estimators=70, total=   4.6s\n",
      "[CV] learning_rate=0.5, n_estimators=100 .............................\n",
      "[CV] .............. learning_rate=0.5, n_estimators=100, total=   6.6s\n",
      "[CV] learning_rate=0.5, n_estimators=100 .............................\n",
      "[CV] .............. learning_rate=0.5, n_estimators=100, total=   6.6s\n",
      "[CV] learning_rate=0.5, n_estimators=100 .............................\n",
      "[CV] .............. learning_rate=0.5, n_estimators=100, total=   6.6s\n",
      "[CV] learning_rate=0.5, n_estimators=150 .............................\n",
      "[CV] .............. learning_rate=0.5, n_estimators=150, total=  10.0s\n",
      "[CV] learning_rate=0.5, n_estimators=150 .............................\n",
      "[CV] .............. learning_rate=0.5, n_estimators=150, total=   9.9s\n",
      "[CV] learning_rate=0.5, n_estimators=150 .............................\n",
      "[CV] .............. learning_rate=0.5, n_estimators=150, total=   9.9s\n",
      "[CV] learning_rate=0.1, n_estimators=30 ..............................\n",
      "[CV] ............... learning_rate=0.1, n_estimators=30, total=   2.0s\n",
      "[CV] learning_rate=0.1, n_estimators=30 ..............................\n",
      "[CV] ............... learning_rate=0.1, n_estimators=30, total=   2.0s\n",
      "[CV] learning_rate=0.1, n_estimators=30 ..............................\n",
      "[CV] ............... learning_rate=0.1, n_estimators=30, total=   2.0s\n",
      "[CV] learning_rate=0.1, n_estimators=50 ..............................\n",
      "[CV] ............... learning_rate=0.1, n_estimators=50, total=   3.4s\n",
      "[CV] learning_rate=0.1, n_estimators=50 ..............................\n",
      "[CV] ............... learning_rate=0.1, n_estimators=50, total=   3.3s\n",
      "[CV] learning_rate=0.1, n_estimators=50 ..............................\n",
      "[CV] ............... learning_rate=0.1, n_estimators=50, total=   3.3s\n",
      "[CV] learning_rate=0.1, n_estimators=70 ..............................\n",
      "[CV] ............... learning_rate=0.1, n_estimators=70, total=   4.7s\n",
      "[CV] learning_rate=0.1, n_estimators=70 ..............................\n",
      "[CV] ............... learning_rate=0.1, n_estimators=70, total=   4.7s\n",
      "[CV] learning_rate=0.1, n_estimators=70 ..............................\n",
      "[CV] ............... learning_rate=0.1, n_estimators=70, total=   4.7s\n",
      "[CV] learning_rate=0.1, n_estimators=100 .............................\n",
      "[CV] .............. learning_rate=0.1, n_estimators=100, total=   6.7s\n",
      "[CV] learning_rate=0.1, n_estimators=100 .............................\n",
      "[CV] .............. learning_rate=0.1, n_estimators=100, total=   6.7s\n",
      "[CV] learning_rate=0.1, n_estimators=100 .............................\n",
      "[CV] .............. learning_rate=0.1, n_estimators=100, total=   6.7s\n",
      "[CV] learning_rate=0.1, n_estimators=150 .............................\n",
      "[CV] .............. learning_rate=0.1, n_estimators=150, total=  10.1s\n",
      "[CV] learning_rate=0.1, n_estimators=150 .............................\n",
      "[CV] .............. learning_rate=0.1, n_estimators=150, total=  10.0s\n",
      "[CV] learning_rate=0.1, n_estimators=150 .............................\n",
      "[CV] .............. learning_rate=0.1, n_estimators=150, total=  10.2s\n"
     ]
    },
    {
     "name": "stderr",
     "output_type": "stream",
     "text": [
      "[Parallel(n_jobs=1)]: Done  45 out of  45 | elapsed:  4.0min finished\n"
     ]
    },
    {
     "data": {
      "text/plain": [
       "GridSearchCV(cv=3, error_score='raise-deprecating',\n",
       "             estimator=AdaBoostClassifier(algorithm='SAMME.R',\n",
       "                                          base_estimator=None,\n",
       "                                          learning_rate=1.0, n_estimators=50,\n",
       "                                          random_state=None),\n",
       "             iid='warn', n_jobs=None,\n",
       "             param_grid={'learning_rate': [1.0, 0.5, 0.1],\n",
       "                         'n_estimators': [30, 50, 70, 100, 150]},\n",
       "             pre_dispatch='2*n_jobs', refit=True, return_train_score=False,\n",
       "             scoring=None, verbose=2)"
      ]
     },
     "execution_count": 12,
     "metadata": {},
     "output_type": "execute_result"
    }
   ],
   "source": [
    "from sklearn.model_selection import GridSearchCV\n",
    "from sklearn.ensemble import AdaBoostClassifier\n",
    "param_grid_ada={'n_estimators': [30, 50, 70,100,150],\n",
    "                'learning_rate': [1.0, 0.5, 0.1]}\n",
    "grid_ada=GridSearchCV(estimator=AdaBoostClassifier(),\n",
    "                     param_grid=param_grid_ada,\n",
    "                     cv=3,\n",
    "                     verbose=2)\n",
    "grid_ada.fit(X_train,y_train)"
   ]
  },
  {
   "cell_type": "code",
   "execution_count": 13,
   "metadata": {},
   "outputs": [
    {
     "data": {
      "text/plain": [
       "{'learning_rate': 1.0, 'n_estimators': 150}"
      ]
     },
     "execution_count": 13,
     "metadata": {},
     "output_type": "execute_result"
    }
   ],
   "source": [
    "grid_ada.best_params_"
   ]
  },
  {
   "cell_type": "code",
   "execution_count": 14,
   "metadata": {
    "scrolled": true
   },
   "outputs": [
    {
     "data": {
      "text/plain": [
       "0.6159122085048011"
      ]
     },
     "execution_count": 14,
     "metadata": {},
     "output_type": "execute_result"
    }
   ],
   "source": [
    "grid_ada.best_score_"
   ]
  },
  {
   "cell_type": "code",
   "execution_count": 15,
   "metadata": {},
   "outputs": [
    {
     "name": "stdout",
     "output_type": "stream",
     "text": [
      "[[ 888 4116]\n",
      " [ 819 7117]]\n",
      "              precision    recall  f1-score   support\n",
      "\n",
      "           0       0.52      0.18      0.26      5004\n",
      "           1       0.63      0.90      0.74      7936\n",
      "\n",
      "    accuracy                           0.62     12940\n",
      "   macro avg       0.58      0.54      0.50     12940\n",
      "weighted avg       0.59      0.62      0.56     12940\n",
      "\n"
     ]
    }
   ],
   "source": [
    "y_pred = grid_ada.best_estimator_.predict(X_test)\n",
    "from sklearn.metrics import confusion_matrix, classification_report\n",
    "\n",
    "print(confusion_matrix(y_test,y_pred))\n",
    "print(classification_report(y_test,y_pred))"
   ]
  },
  {
   "cell_type": "code",
   "execution_count": null,
   "metadata": {},
   "outputs": [],
   "source": []
  },
  {
   "cell_type": "code",
   "execution_count": 16,
   "metadata": {},
   "outputs": [
    {
     "name": "stderr",
     "output_type": "stream",
     "text": [
      "Using TensorFlow backend.\n"
     ]
    }
   ],
   "source": [
    "from imblearn.over_sampling import SMOTE\n",
    "X_resampled, y_resampled = SMOTE().fit_sample(X, y) "
   ]
  },
  {
   "cell_type": "code",
   "execution_count": 17,
   "metadata": {},
   "outputs": [],
   "source": [
    "from sklearn.model_selection import train_test_split\n",
    "X_resampled_train, X_resampled_test,y_resampled_train, y_resampled_test=train_test_split(X_resampled,y_resampled,test_size=0.2)"
   ]
  },
  {
   "cell_type": "code",
   "execution_count": 18,
   "metadata": {
    "scrolled": true
   },
   "outputs": [
    {
     "name": "stdout",
     "output_type": "stream",
     "text": [
      "Fitting 3 folds for each of 15 candidates, totalling 45 fits\n",
      "[CV] learning_rate=1.0, n_estimators=30 ..............................\n"
     ]
    },
    {
     "name": "stderr",
     "output_type": "stream",
     "text": [
      "[Parallel(n_jobs=1)]: Using backend SequentialBackend with 1 concurrent workers.\n"
     ]
    },
    {
     "name": "stdout",
     "output_type": "stream",
     "text": [
      "[CV] ............... learning_rate=1.0, n_estimators=30, total=   4.4s\n",
      "[CV] learning_rate=1.0, n_estimators=30 ..............................\n"
     ]
    },
    {
     "name": "stderr",
     "output_type": "stream",
     "text": [
      "[Parallel(n_jobs=1)]: Done   1 out of   1 | elapsed:    4.3s remaining:    0.0s\n"
     ]
    },
    {
     "name": "stdout",
     "output_type": "stream",
     "text": [
      "[CV] ............... learning_rate=1.0, n_estimators=30, total=   4.3s\n",
      "[CV] learning_rate=1.0, n_estimators=30 ..............................\n",
      "[CV] ............... learning_rate=1.0, n_estimators=30, total=   4.3s\n",
      "[CV] learning_rate=1.0, n_estimators=50 ..............................\n",
      "[CV] ............... learning_rate=1.0, n_estimators=50, total=   7.1s\n",
      "[CV] learning_rate=1.0, n_estimators=50 ..............................\n",
      "[CV] ............... learning_rate=1.0, n_estimators=50, total=   7.5s\n",
      "[CV] learning_rate=1.0, n_estimators=50 ..............................\n",
      "[CV] ............... learning_rate=1.0, n_estimators=50, total=   7.1s\n",
      "[CV] learning_rate=1.0, n_estimators=70 ..............................\n",
      "[CV] ............... learning_rate=1.0, n_estimators=70, total=  10.0s\n",
      "[CV] learning_rate=1.0, n_estimators=70 ..............................\n",
      "[CV] ............... learning_rate=1.0, n_estimators=70, total=  10.0s\n",
      "[CV] learning_rate=1.0, n_estimators=70 ..............................\n",
      "[CV] ............... learning_rate=1.0, n_estimators=70, total=   9.9s\n",
      "[CV] learning_rate=1.0, n_estimators=100 .............................\n",
      "[CV] .............. learning_rate=1.0, n_estimators=100, total=  14.2s\n",
      "[CV] learning_rate=1.0, n_estimators=100 .............................\n",
      "[CV] .............. learning_rate=1.0, n_estimators=100, total=  14.2s\n",
      "[CV] learning_rate=1.0, n_estimators=100 .............................\n",
      "[CV] .............. learning_rate=1.0, n_estimators=100, total=  14.2s\n",
      "[CV] learning_rate=1.0, n_estimators=150 .............................\n",
      "[CV] .............. learning_rate=1.0, n_estimators=150, total=  21.3s\n",
      "[CV] learning_rate=1.0, n_estimators=150 .............................\n",
      "[CV] .............. learning_rate=1.0, n_estimators=150, total=  21.4s\n",
      "[CV] learning_rate=1.0, n_estimators=150 .............................\n",
      "[CV] .............. learning_rate=1.0, n_estimators=150, total=  21.4s\n",
      "[CV] learning_rate=0.5, n_estimators=30 ..............................\n",
      "[CV] ............... learning_rate=0.5, n_estimators=30, total=   4.2s\n",
      "[CV] learning_rate=0.5, n_estimators=30 ..............................\n",
      "[CV] ............... learning_rate=0.5, n_estimators=30, total=   4.6s\n",
      "[CV] learning_rate=0.5, n_estimators=30 ..............................\n",
      "[CV] ............... learning_rate=0.5, n_estimators=30, total=   4.5s\n",
      "[CV] learning_rate=0.5, n_estimators=50 ..............................\n",
      "[CV] ............... learning_rate=0.5, n_estimators=50, total=   7.3s\n",
      "[CV] learning_rate=0.5, n_estimators=50 ..............................\n",
      "[CV] ............... learning_rate=0.5, n_estimators=50, total=   7.1s\n",
      "[CV] learning_rate=0.5, n_estimators=50 ..............................\n",
      "[CV] ............... learning_rate=0.5, n_estimators=50, total=   7.1s\n",
      "[CV] learning_rate=0.5, n_estimators=70 ..............................\n",
      "[CV] ............... learning_rate=0.5, n_estimators=70, total=   9.9s\n",
      "[CV] learning_rate=0.5, n_estimators=70 ..............................\n",
      "[CV] ............... learning_rate=0.5, n_estimators=70, total=   9.9s\n",
      "[CV] learning_rate=0.5, n_estimators=70 ..............................\n",
      "[CV] ............... learning_rate=0.5, n_estimators=70, total=   9.9s\n",
      "[CV] learning_rate=0.5, n_estimators=100 .............................\n",
      "[CV] .............. learning_rate=0.5, n_estimators=100, total=  14.9s\n",
      "[CV] learning_rate=0.5, n_estimators=100 .............................\n",
      "[CV] .............. learning_rate=0.5, n_estimators=100, total=  15.0s\n",
      "[CV] learning_rate=0.5, n_estimators=100 .............................\n",
      "[CV] .............. learning_rate=0.5, n_estimators=100, total=  14.2s\n",
      "[CV] learning_rate=0.5, n_estimators=150 .............................\n",
      "[CV] .............. learning_rate=0.5, n_estimators=150, total=  22.4s\n",
      "[CV] learning_rate=0.5, n_estimators=150 .............................\n",
      "[CV] .............. learning_rate=0.5, n_estimators=150, total=  22.2s\n",
      "[CV] learning_rate=0.5, n_estimators=150 .............................\n",
      "[CV] .............. learning_rate=0.5, n_estimators=150, total=  21.3s\n",
      "[CV] learning_rate=0.1, n_estimators=30 ..............................\n",
      "[CV] ............... learning_rate=0.1, n_estimators=30, total=   4.3s\n",
      "[CV] learning_rate=0.1, n_estimators=30 ..............................\n",
      "[CV] ............... learning_rate=0.1, n_estimators=30, total=   4.4s\n",
      "[CV] learning_rate=0.1, n_estimators=30 ..............................\n",
      "[CV] ............... learning_rate=0.1, n_estimators=30, total=   4.9s\n",
      "[CV] learning_rate=0.1, n_estimators=50 ..............................\n",
      "[CV] ............... learning_rate=0.1, n_estimators=50, total=   8.5s\n",
      "[CV] learning_rate=0.1, n_estimators=50 ..............................\n",
      "[CV] ............... learning_rate=0.1, n_estimators=50, total=   8.0s\n",
      "[CV] learning_rate=0.1, n_estimators=50 ..............................\n",
      "[CV] ............... learning_rate=0.1, n_estimators=50, total=   7.9s\n",
      "[CV] learning_rate=0.1, n_estimators=70 ..............................\n",
      "[CV] ............... learning_rate=0.1, n_estimators=70, total=  11.4s\n",
      "[CV] learning_rate=0.1, n_estimators=70 ..............................\n",
      "[CV] ............... learning_rate=0.1, n_estimators=70, total=  10.9s\n",
      "[CV] learning_rate=0.1, n_estimators=70 ..............................\n",
      "[CV] ............... learning_rate=0.1, n_estimators=70, total=  10.1s\n",
      "[CV] learning_rate=0.1, n_estimators=100 .............................\n",
      "[CV] .............. learning_rate=0.1, n_estimators=100, total=  15.6s\n",
      "[CV] learning_rate=0.1, n_estimators=100 .............................\n",
      "[CV] .............. learning_rate=0.1, n_estimators=100, total=  14.5s\n",
      "[CV] learning_rate=0.1, n_estimators=100 .............................\n",
      "[CV] .............. learning_rate=0.1, n_estimators=100, total=  14.7s\n",
      "[CV] learning_rate=0.1, n_estimators=150 .............................\n",
      "[CV] .............. learning_rate=0.1, n_estimators=150, total=  22.2s\n",
      "[CV] learning_rate=0.1, n_estimators=150 .............................\n",
      "[CV] .............. learning_rate=0.1, n_estimators=150, total=  23.7s\n",
      "[CV] learning_rate=0.1, n_estimators=150 .............................\n",
      "[CV] .............. learning_rate=0.1, n_estimators=150, total=  22.7s\n"
     ]
    },
    {
     "name": "stderr",
     "output_type": "stream",
     "text": [
      "[Parallel(n_jobs=1)]: Done  45 out of  45 | elapsed:  8.8min finished\n"
     ]
    },
    {
     "data": {
      "text/plain": [
       "GridSearchCV(cv=3, error_score='raise-deprecating',\n",
       "             estimator=AdaBoostClassifier(algorithm='SAMME.R',\n",
       "                                          base_estimator=None,\n",
       "                                          learning_rate=1.0, n_estimators=50,\n",
       "                                          random_state=None),\n",
       "             iid='warn', n_jobs=None,\n",
       "             param_grid={'learning_rate': [1.0, 0.5, 0.1],\n",
       "                         'n_estimators': [30, 50, 70, 100, 150]},\n",
       "             pre_dispatch='2*n_jobs', refit=True, return_train_score=False,\n",
       "             scoring=None, verbose=2)"
      ]
     },
     "execution_count": 18,
     "metadata": {},
     "output_type": "execute_result"
    }
   ],
   "source": [
    "from sklearn.model_selection import GridSearchCV\n",
    "from sklearn.ensemble import AdaBoostClassifier\n",
    "param_grid_ada={'n_estimators': [30, 50, 70,100,150],\n",
    "                'learning_rate': [1.0, 0.5, 0.1]}\n",
    "grid_ada_res=GridSearchCV(estimator=AdaBoostClassifier(),\n",
    "                     param_grid=param_grid_ada,\n",
    "                     cv=3,\n",
    "                     verbose=2)\n",
    "grid_ada_res.fit(X_resampled_train,y_resampled_train)"
   ]
  },
  {
   "cell_type": "code",
   "execution_count": 19,
   "metadata": {},
   "outputs": [
    {
     "data": {
      "text/plain": [
       "{'learning_rate': 1.0, 'n_estimators': 150}"
      ]
     },
     "execution_count": 19,
     "metadata": {},
     "output_type": "execute_result"
    }
   ],
   "source": [
    "grid_ada_res.best_params_"
   ]
  },
  {
   "cell_type": "code",
   "execution_count": 20,
   "metadata": {},
   "outputs": [
    {
     "data": {
      "text/plain": [
       "0.5846031746031746"
      ]
     },
     "execution_count": 20,
     "metadata": {},
     "output_type": "execute_result"
    }
   ],
   "source": [
    "grid_ada_res.best_score_"
   ]
  },
  {
   "cell_type": "code",
   "execution_count": 21,
   "metadata": {},
   "outputs": [
    {
     "name": "stdout",
     "output_type": "stream",
     "text": [
      "[[4978 2972]\n",
      " [3559 4241]]\n",
      "              precision    recall  f1-score   support\n",
      "\n",
      "           0       0.58      0.63      0.60      7950\n",
      "           1       0.59      0.54      0.56      7800\n",
      "\n",
      "    accuracy                           0.59     15750\n",
      "   macro avg       0.59      0.58      0.58     15750\n",
      "weighted avg       0.59      0.59      0.58     15750\n",
      "\n"
     ]
    }
   ],
   "source": [
    "y_res_pred = grid_ada_res.best_estimator_.predict(X_resampled_test)\n",
    "from sklearn.metrics import confusion_matrix, classification_report\n",
    "\n",
    "print(confusion_matrix(y_resampled_test,y_res_pred))\n",
    "print(classification_report(y_resampled_test,y_res_pred))"
   ]
  },
  {
   "cell_type": "code",
   "execution_count": null,
   "metadata": {},
   "outputs": [],
   "source": []
  },
  {
   "cell_type": "code",
   "execution_count": null,
   "metadata": {},
   "outputs": [],
   "source": []
  },
  {
   "cell_type": "code",
   "execution_count": 22,
   "metadata": {},
   "outputs": [
    {
     "data": {
      "text/plain": [
       "1    39375\n",
       "0    25324\n",
       "Name: GRADE_A, dtype: int64"
      ]
     },
     "execution_count": 22,
     "metadata": {},
     "output_type": "execute_result"
    }
   ],
   "source": [
    "df_matrix_sparse['GRADE_A'].value_counts()"
   ]
  },
  {
   "cell_type": "code",
   "execution_count": null,
   "metadata": {},
   "outputs": [],
   "source": []
  },
  {
   "cell_type": "code",
   "execution_count": null,
   "metadata": {},
   "outputs": [],
   "source": []
  },
  {
   "cell_type": "code",
   "execution_count": 23,
   "metadata": {},
   "outputs": [
    {
     "data": {
      "text/plain": [
       "(51759, 153)"
      ]
     },
     "execution_count": 23,
     "metadata": {},
     "output_type": "execute_result"
    }
   ],
   "source": [
    "X_train.shape"
   ]
  },
  {
   "cell_type": "code",
   "execution_count": 24,
   "metadata": {
    "scrolled": true
   },
   "outputs": [
    {
     "name": "stdout",
     "output_type": "stream",
     "text": [
      "WARNING:tensorflow:From C:\\Users\\kosta\\Anaconda3\\lib\\site-packages\\tensorflow\\python\\framework\\op_def_library.py:263: colocate_with (from tensorflow.python.framework.ops) is deprecated and will be removed in a future version.\n",
      "Instructions for updating:\n",
      "Colocations handled automatically by placer.\n",
      "WARNING:tensorflow:From C:\\Users\\kosta\\Anaconda3\\lib\\site-packages\\tensorflow\\python\\ops\\math_ops.py:3066: to_int32 (from tensorflow.python.ops.math_ops) is deprecated and will be removed in a future version.\n",
      "Instructions for updating:\n",
      "Use tf.cast instead.\n",
      "Train on 46583 samples, validate on 5176 samples\n",
      "Epoch 1/50\n",
      "46583/46583 [==============================] - 2s 35us/step - loss: 0.6601 - acc: 0.6067 - val_loss: 0.6454 - val_acc: 0.6293\n",
      "Epoch 2/50\n",
      "46583/46583 [==============================] - 0s 9us/step - loss: 0.6496 - acc: 0.6185 - val_loss: 0.6435 - val_acc: 0.6316\n",
      "Epoch 3/50\n",
      "46583/46583 [==============================] - 0s 9us/step - loss: 0.6463 - acc: 0.6237 - val_loss: 0.6415 - val_acc: 0.6347\n",
      "Epoch 4/50\n",
      "46583/46583 [==============================] - 0s 9us/step - loss: 0.6442 - acc: 0.6253 - val_loss: 0.6417 - val_acc: 0.6397\n",
      "Epoch 5/50\n",
      "46583/46583 [==============================] - 0s 9us/step - loss: 0.6424 - acc: 0.6277 - val_loss: 0.6406 - val_acc: 0.6366\n",
      "Epoch 6/50\n",
      "46583/46583 [==============================] - 0s 9us/step - loss: 0.6408 - acc: 0.6301 - val_loss: 0.6405 - val_acc: 0.6364\n",
      "Epoch 7/50\n",
      "46583/46583 [==============================] - 0s 9us/step - loss: 0.6392 - acc: 0.6311 - val_loss: 0.6420 - val_acc: 0.6341\n",
      "Epoch 8/50\n",
      "46583/46583 [==============================] - 0s 9us/step - loss: 0.6380 - acc: 0.6327 - val_loss: 0.6411 - val_acc: 0.6350\n",
      "Epoch 9/50\n",
      "46583/46583 [==============================] - 0s 9us/step - loss: 0.6370 - acc: 0.6349 - val_loss: 0.6416 - val_acc: 0.6381\n",
      "Epoch 10/50\n",
      "46583/46583 [==============================] - 0s 9us/step - loss: 0.6355 - acc: 0.6341 - val_loss: 0.6432 - val_acc: 0.6339\n",
      "Epoch 11/50\n",
      "46583/46583 [==============================] - 0s 9us/step - loss: 0.6347 - acc: 0.6362 - val_loss: 0.6439 - val_acc: 0.6343\n",
      "Epoch 12/50\n",
      "46583/46583 [==============================] - 0s 9us/step - loss: 0.6336 - acc: 0.6361 - val_loss: 0.6435 - val_acc: 0.6294\n",
      "Epoch 13/50\n",
      "46583/46583 [==============================] - 0s 9us/step - loss: 0.6328 - acc: 0.6382 - val_loss: 0.6460 - val_acc: 0.6289\n",
      "Epoch 14/50\n",
      "46583/46583 [==============================] - 0s 9us/step - loss: 0.6325 - acc: 0.6384 - val_loss: 0.6463 - val_acc: 0.6349\n",
      "Epoch 15/50\n",
      "46583/46583 [==============================] - 0s 9us/step - loss: 0.6319 - acc: 0.6380 - val_loss: 0.6484 - val_acc: 0.6318\n",
      "Epoch 16/50\n",
      "46583/46583 [==============================] - 0s 10us/step - loss: 0.6306 - acc: 0.6388 - val_loss: 0.6473 - val_acc: 0.6366\n",
      "Epoch 17/50\n",
      "46583/46583 [==============================] - 0s 10us/step - loss: 0.6302 - acc: 0.6394 - val_loss: 0.6497 - val_acc: 0.6314\n",
      "Epoch 18/50\n",
      "46583/46583 [==============================] - 0s 9us/step - loss: 0.6300 - acc: 0.6400 - val_loss: 0.6457 - val_acc: 0.6364\n",
      "Epoch 19/50\n",
      "46583/46583 [==============================] - 0s 9us/step - loss: 0.6295 - acc: 0.6387 - val_loss: 0.6492 - val_acc: 0.6300\n",
      "Epoch 20/50\n",
      "46583/46583 [==============================] - 0s 10us/step - loss: 0.6288 - acc: 0.6403 - val_loss: 0.6483 - val_acc: 0.6325\n",
      "Epoch 21/50\n",
      "46583/46583 [==============================] - 1s 15us/step - loss: 0.6286 - acc: 0.6411 - val_loss: 0.6473 - val_acc: 0.6337\n",
      "Epoch 22/50\n",
      "46583/46583 [==============================] - 0s 10us/step - loss: 0.6281 - acc: 0.6425 - val_loss: 0.6476 - val_acc: 0.6364\n",
      "Epoch 23/50\n",
      "46583/46583 [==============================] - 0s 9us/step - loss: 0.6277 - acc: 0.6409 - val_loss: 0.6485 - val_acc: 0.6289\n",
      "Epoch 24/50\n",
      "46583/46583 [==============================] - 0s 9us/step - loss: 0.6274 - acc: 0.6409 - val_loss: 0.6485 - val_acc: 0.6383\n",
      "Epoch 25/50\n",
      "46583/46583 [==============================] - 0s 9us/step - loss: 0.6273 - acc: 0.6401 - val_loss: 0.6503 - val_acc: 0.6339\n",
      "Epoch 26/50\n",
      "46583/46583 [==============================] - 0s 9us/step - loss: 0.6270 - acc: 0.6409 - val_loss: 0.6499 - val_acc: 0.6308\n",
      "Epoch 27/50\n",
      "46583/46583 [==============================] - 0s 9us/step - loss: 0.6268 - acc: 0.6416 - val_loss: 0.6507 - val_acc: 0.6316\n",
      "Epoch 28/50\n",
      "46583/46583 [==============================] - 0s 9us/step - loss: 0.6265 - acc: 0.6408 - val_loss: 0.6508 - val_acc: 0.6335\n",
      "Epoch 29/50\n",
      "46583/46583 [==============================] - 0s 10us/step - loss: 0.6263 - acc: 0.6417 - val_loss: 0.6525 - val_acc: 0.6285\n",
      "Epoch 30/50\n",
      "46583/46583 [==============================] - 0s 9us/step - loss: 0.6262 - acc: 0.6420 - val_loss: 0.6512 - val_acc: 0.6345\n",
      "Epoch 31/50\n",
      "46583/46583 [==============================] - 0s 10us/step - loss: 0.6257 - acc: 0.6414 - val_loss: 0.6497 - val_acc: 0.6347\n",
      "Epoch 32/50\n",
      "46583/46583 [==============================] - 0s 10us/step - loss: 0.6259 - acc: 0.6412 - val_loss: 0.6529 - val_acc: 0.6277\n",
      "Epoch 33/50\n",
      "46583/46583 [==============================] - 0s 9us/step - loss: 0.6253 - acc: 0.6425 - val_loss: 0.6501 - val_acc: 0.6316\n",
      "Epoch 34/50\n",
      "46583/46583 [==============================] - 0s 10us/step - loss: 0.6253 - acc: 0.6416 - val_loss: 0.6526 - val_acc: 0.6281\n",
      "Epoch 35/50\n",
      "46583/46583 [==============================] - 0s 10us/step - loss: 0.6253 - acc: 0.6426 - val_loss: 0.6522 - val_acc: 0.6298\n",
      "Epoch 36/50\n",
      "46583/46583 [==============================] - 0s 9us/step - loss: 0.6251 - acc: 0.6426 - val_loss: 0.6530 - val_acc: 0.6318\n",
      "Epoch 37/50\n",
      "46583/46583 [==============================] - 0s 9us/step - loss: 0.6250 - acc: 0.6417 - val_loss: 0.6523 - val_acc: 0.6343\n",
      "Epoch 38/50\n",
      "46583/46583 [==============================] - 0s 9us/step - loss: 0.6247 - acc: 0.6423 - val_loss: 0.6536 - val_acc: 0.6318\n",
      "Epoch 39/50\n",
      "46583/46583 [==============================] - 0s 9us/step - loss: 0.6248 - acc: 0.6423 - val_loss: 0.6526 - val_acc: 0.6323\n",
      "Epoch 40/50\n",
      "46583/46583 [==============================] - 0s 9us/step - loss: 0.6244 - acc: 0.6415 - val_loss: 0.6517 - val_acc: 0.6354\n",
      "Epoch 41/50\n",
      "46583/46583 [==============================] - 0s 10us/step - loss: 0.6244 - acc: 0.6415 - val_loss: 0.6522 - val_acc: 0.6327\n",
      "Epoch 42/50\n",
      "46583/46583 [==============================] - 0s 9us/step - loss: 0.6243 - acc: 0.6422 - val_loss: 0.6526 - val_acc: 0.6296\n",
      "Epoch 43/50\n",
      "46583/46583 [==============================] - 0s 9us/step - loss: 0.6242 - acc: 0.6425 - val_loss: 0.6531 - val_acc: 0.6318\n",
      "Epoch 44/50\n",
      "46583/46583 [==============================] - 0s 9us/step - loss: 0.6239 - acc: 0.6429 - val_loss: 0.6535 - val_acc: 0.6304\n",
      "Epoch 45/50\n",
      "46583/46583 [==============================] - 0s 9us/step - loss: 0.6240 - acc: 0.6407 - val_loss: 0.6539 - val_acc: 0.6302\n",
      "Epoch 46/50\n",
      "46583/46583 [==============================] - 0s 10us/step - loss: 0.6239 - acc: 0.6413 - val_loss: 0.6535 - val_acc: 0.6329\n",
      "Epoch 47/50\n",
      "46583/46583 [==============================] - 0s 10us/step - loss: 0.6236 - acc: 0.6431 - val_loss: 0.6554 - val_acc: 0.6269\n",
      "Epoch 48/50\n",
      "46583/46583 [==============================] - 0s 9us/step - loss: 0.6236 - acc: 0.6426 - val_loss: 0.6549 - val_acc: 0.6279\n",
      "Epoch 49/50\n",
      "46583/46583 [==============================] - 0s 9us/step - loss: 0.6236 - acc: 0.6409 - val_loss: 0.6562 - val_acc: 0.6314\n",
      "Epoch 50/50\n",
      "46583/46583 [==============================] - 0s 10us/step - loss: 0.6234 - acc: 0.6431 - val_loss: 0.6547 - val_acc: 0.6293\n"
     ]
    }
   ],
   "source": [
    "from keras import Sequential,layers,models\n",
    "\n",
    "model=models.Sequential()\n",
    "model.add(layers.Dense(100,input_shape=(153,),activation='relu'))\n",
    "model.add(layers.Dense(50,activation='relu'))\n",
    "model.add(layers.Dense(1,activation='sigmoid'))\n",
    "\n",
    "model.compile(loss='binary_crossentropy',optimizer='adam',metrics=['accuracy'])\n",
    "\n",
    "history0=model.fit(X_train,y_train,epochs=50,batch_size=256,validation_split=0.1)"
   ]
  },
  {
   "cell_type": "code",
   "execution_count": 25,
   "metadata": {},
   "outputs": [],
   "source": [
    "def plt_hist(history):\n",
    "    acc = history.history['acc']\n",
    "    val_acc = history.history['val_acc']\n",
    "    loss = history.history['loss']\n",
    "    val_loss = history.history['val_loss']\n",
    "    epochs = range(len(acc))\n",
    "    plt.plot(epochs, acc, 'bo', label='Training acc')\n",
    "    plt.plot(epochs, val_acc, 'b', label='Validation acc')\n",
    "    plt.title('Training and validation accuracy')\n",
    "    plt.legend()\n",
    "    plt.figure()\n",
    "    plt.plot(epochs, loss, 'bo', label='Training loss')\n",
    "    plt.plot(epochs, val_loss, 'b', label='Validation loss')\n",
    "    plt.title('Training and validation loss')\n",
    "    plt.legend()\n",
    "    plt.show()"
   ]
  },
  {
   "cell_type": "code",
   "execution_count": 26,
   "metadata": {},
   "outputs": [
    {
     "data": {
      "image/png": "[encoded data removed]",
      "text/plain": [
       "<Figure size 432x288 with 1 Axes>"
      ]
     },
     "metadata": {
      "needs_background": "light"
     },
     "output_type": "display_data"
    },
    {
     "data": {
      "image/png": "[encoded data removed]",
      "text/plain": [
       "<Figure size 432x288 with 1 Axes>"
      ]
     },
     "metadata": {
      "needs_background": "light"
     },
     "output_type": "display_data"
    }
   ],
   "source": [
    "plt_hist(history0)"
   ]
  },
  {
   "cell_type": "code",
   "execution_count": null,
   "metadata": {},
   "outputs": [],
   "source": []
  }
 ],
 "metadata": {
  "kernelspec": {
   "display_name": "Python 3",
   "language": "python",
   "name": "python3"
  },
  "language_info": {
   "codemirror_mode": {
    "name": "ipython",
    "version": 3
   },
   "file_extension": ".py",
   "mimetype": "text/x-python",
   "name": "python",
   "nbconvert_exporter": "python",
   "pygments_lexer": "ipython3",
   "version": "3.7.0"
  }
 },
 "nbformat": 4,
 "nbformat_minor": 2
}
