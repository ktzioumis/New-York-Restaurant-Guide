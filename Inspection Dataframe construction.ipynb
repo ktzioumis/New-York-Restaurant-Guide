{
 "cells": [
  {
   "cell_type": "code",
   "execution_count": 1,
   "metadata": {},
   "outputs": [
    {
     "name": "stderr",
     "output_type": "stream",
     "text": [
      "C:\\Users\\kosta\\Anaconda3\\lib\\site-packages\\ipykernel_launcher.py:8: SettingWithCopyWarning: \n",
      "A value is trying to be set on a copy of a slice from a DataFrame.\n",
      "Try using .loc[row_indexer,col_indexer] = value instead\n",
      "\n",
      "See the caveats in the documentation: http://pandas.pydata.org/pandas-docs/stable/indexing.html#indexing-view-versus-copy\n",
      "  \n"
     ]
    }
   ],
   "source": [
    "import pandas as pd\n",
    "import numpy as np\n",
    "import matplotlib.pyplot as plt\n",
    "import folium\n",
    "\n",
    "df=pd.read_csv('DOHMH_New_York_City_Restaurant_Inspection_Results.csv')\n",
    "df_cycles=df[df['INSPECTION TYPE'].str.contains('Cycle',regex=False, na=False)]\n",
    "df_cycles['INSPECTION DATE']=pd.to_datetime(df['INSPECTION DATE'])\n"
   ]
  },
  {
   "cell_type": "code",
   "execution_count": 2,
   "metadata": {},
   "outputs": [
    {
     "data": {
      "text/plain": [
       "Index(['CAMIS', 'DBA', 'BORO', 'BUILDING', 'STREET', 'ZIPCODE', 'PHONE',\n",
       "       'CUISINE DESCRIPTION', 'INSPECTION DATE', 'ACTION', 'VIOLATION CODE',\n",
       "       'VIOLATION DESCRIPTION', 'CRITICAL FLAG', 'SCORE', 'GRADE',\n",
       "       'GRADE DATE', 'RECORD DATE', 'INSPECTION TYPE', 'Latitude', 'Longitude',\n",
       "       'Community Board', 'Council District', 'Census Tract', 'BIN', 'BBL',\n",
       "       'NTA'],\n",
       "      dtype='object')"
      ]
     },
     "execution_count": 2,
     "metadata": {},
     "output_type": "execute_result"
    }
   ],
   "source": [
    "df.columns"
   ]
  },
  {
   "cell_type": "code",
   "execution_count": 3,
   "metadata": {
    "scrolled": true
   },
   "outputs": [
    {
     "data": {
      "text/plain": [
       "Violations were cited in the following area(s).                                                                                        306617\n",
       "Establishment Closed by DOHMH.  Violations were cited in the following area(s) and those requiring immediate action were addressed.     11498\n",
       "Establishment re-opened by DOHMH                                                                                                         3264\n",
       "Establishment re-closed by DOHMH                                                                                                          873\n",
       "No violations were recorded at the time of this inspection.                                                                               736\n",
       "Name: ACTION, dtype: int64"
      ]
     },
     "execution_count": 3,
     "metadata": {},
     "output_type": "execute_result"
    }
   ],
   "source": [
    "df_cycles.ACTION.value_counts()"
   ]
  },
  {
   "cell_type": "code",
   "execution_count": 4,
   "metadata": {},
   "outputs": [],
   "source": [
    "CAMIS=df_cycles.CAMIS.unique()\n",
    "#construct dictionary of individual inspections at establishment\n",
    "rest_inspection_dates={}\n",
    "for cam in CAMIS:\n",
    "    rest_inspection_dates[cam]=df_cycles.loc[df_cycles['CAMIS']==cam]['INSPECTION DATE'].unique()\n"
   ]
  },
  {
   "cell_type": "code",
   "execution_count": 5,
   "metadata": {},
   "outputs": [
    {
     "name": "stdout",
     "output_type": "stream",
     "text": [
      "112071\n",
      "112071\n"
     ]
    }
   ],
   "source": [
    "#turn each into equal length arrays of CAMIS an inspection date   \n",
    "cam2=[]\n",
    "date2=[]\n",
    "for cam in CAMIS:\n",
    "    for date in rest_inspection_dates[cam]:\n",
    "        cam2.append(cam)\n",
    "        date2.append(date)\n",
    "#turn each into equal length arrays of CAMIS an inspection date        \n",
    "print(len(cam2))\n",
    "print(len(date2))"
   ]
  },
  {
   "cell_type": "code",
   "execution_count": 6,
   "metadata": {
    "scrolled": true
   },
   "outputs": [],
   "source": [
    "df_inspections=pd.DataFrame()\n",
    "df_inspections['CAMIS']=cam2\n",
    "df_inspections['DATE']=pd.to_datetime(date2)\n",
    "df_inspections=df_inspections.sort_values(['CAMIS','DATE'])"
   ]
  },
  {
   "cell_type": "code",
   "execution_count": 7,
   "metadata": {},
   "outputs": [],
   "source": [
    "#add columns to inspection data frame for inspection type, violations, score,"
   ]
  },
  {
   "cell_type": "code",
   "execution_count": 8,
   "metadata": {},
   "outputs": [],
   "source": [
    "score=[]\n",
    "for c, d in zip(df_inspections['CAMIS'],df_inspections['DATE']):\n",
    "    score.append(df_cycles.loc[df_cycles['CAMIS']==c].loc[df_cycles['INSPECTION DATE']==d]['SCORE'].iloc[0])\n"
   ]
  },
  {
   "cell_type": "code",
   "execution_count": 9,
   "metadata": {},
   "outputs": [
    {
     "data": {
      "text/html": [
       "<div>\n",
       "<style scoped>\n",
       "    .dataframe tbody tr th:only-of-type {\n",
       "        vertical-align: middle;\n",
       "    }\n",
       "\n",
       "    .dataframe tbody tr th {\n",
       "        vertical-align: top;\n",
       "    }\n",
       "\n",
       "    .dataframe thead th {\n",
       "        text-align: right;\n",
       "    }\n",
       "</style>\n",
       "<table border=\"1\" class=\"dataframe\">\n",
       "  <thead>\n",
       "    <tr style=\"text-align: right;\">\n",
       "      <th></th>\n",
       "      <th>CAMIS</th>\n",
       "      <th>DATE</th>\n",
       "      <th>SCORE</th>\n",
       "    </tr>\n",
       "  </thead>\n",
       "  <tbody>\n",
       "    <tr>\n",
       "      <th>75428</th>\n",
       "      <td>30075445</td>\n",
       "      <td>2017-05-18</td>\n",
       "      <td>7.0</td>\n",
       "    </tr>\n",
       "    <tr>\n",
       "      <th>75430</th>\n",
       "      <td>30075445</td>\n",
       "      <td>2018-05-11</td>\n",
       "      <td>5.0</td>\n",
       "    </tr>\n",
       "    <tr>\n",
       "      <th>75431</th>\n",
       "      <td>30075445</td>\n",
       "      <td>2019-05-16</td>\n",
       "      <td>14.0</td>\n",
       "    </tr>\n",
       "    <tr>\n",
       "      <th>75429</th>\n",
       "      <td>30075445</td>\n",
       "      <td>2019-06-11</td>\n",
       "      <td>6.0</td>\n",
       "    </tr>\n",
       "    <tr>\n",
       "      <th>90427</th>\n",
       "      <td>30112340</td>\n",
       "      <td>2016-04-12</td>\n",
       "      <td>0.0</td>\n",
       "    </tr>\n",
       "  </tbody>\n",
       "</table>\n",
       "</div>"
      ],
      "text/plain": [
       "          CAMIS       DATE  SCORE\n",
       "75428  30075445 2017-05-18    7.0\n",
       "75430  30075445 2018-05-11    5.0\n",
       "75431  30075445 2019-05-16   14.0\n",
       "75429  30075445 2019-06-11    6.0\n",
       "90427  30112340 2016-04-12    0.0"
      ]
     },
     "execution_count": 9,
     "metadata": {},
     "output_type": "execute_result"
    }
   ],
   "source": [
    "df_inspections['SCORE']=score\n",
    "df_inspections.head()"
   ]
  },
  {
   "cell_type": "code",
   "execution_count": 10,
   "metadata": {},
   "outputs": [
    {
     "data": {
      "text/html": [
       "<div>\n",
       "<style scoped>\n",
       "    .dataframe tbody tr th:only-of-type {\n",
       "        vertical-align: middle;\n",
       "    }\n",
       "\n",
       "    .dataframe tbody tr th {\n",
       "        vertical-align: top;\n",
       "    }\n",
       "\n",
       "    .dataframe thead th {\n",
       "        text-align: right;\n",
       "    }\n",
       "</style>\n",
       "<table border=\"1\" class=\"dataframe\">\n",
       "  <thead>\n",
       "    <tr style=\"text-align: right;\">\n",
       "      <th></th>\n",
       "      <th>CAMIS</th>\n",
       "      <th>DATE</th>\n",
       "      <th>SCORE</th>\n",
       "      <th>INSPECTION TYPE</th>\n",
       "    </tr>\n",
       "  </thead>\n",
       "  <tbody>\n",
       "    <tr>\n",
       "      <th>75428</th>\n",
       "      <td>30075445</td>\n",
       "      <td>2017-05-18</td>\n",
       "      <td>7.0</td>\n",
       "      <td>Cycle Inspection / Initial Inspection</td>\n",
       "    </tr>\n",
       "    <tr>\n",
       "      <th>75430</th>\n",
       "      <td>30075445</td>\n",
       "      <td>2018-05-11</td>\n",
       "      <td>5.0</td>\n",
       "      <td>Cycle Inspection / Initial Inspection</td>\n",
       "    </tr>\n",
       "    <tr>\n",
       "      <th>75431</th>\n",
       "      <td>30075445</td>\n",
       "      <td>2019-05-16</td>\n",
       "      <td>14.0</td>\n",
       "      <td>Cycle Inspection / Initial Inspection</td>\n",
       "    </tr>\n",
       "    <tr>\n",
       "      <th>75429</th>\n",
       "      <td>30075445</td>\n",
       "      <td>2019-06-11</td>\n",
       "      <td>6.0</td>\n",
       "      <td>Cycle Inspection / Re-inspection</td>\n",
       "    </tr>\n",
       "    <tr>\n",
       "      <th>90427</th>\n",
       "      <td>30112340</td>\n",
       "      <td>2016-04-12</td>\n",
       "      <td>0.0</td>\n",
       "      <td>Cycle Inspection / Initial Inspection</td>\n",
       "    </tr>\n",
       "  </tbody>\n",
       "</table>\n",
       "</div>"
      ],
      "text/plain": [
       "          CAMIS       DATE  SCORE                        INSPECTION TYPE\n",
       "75428  30075445 2017-05-18    7.0  Cycle Inspection / Initial Inspection\n",
       "75430  30075445 2018-05-11    5.0  Cycle Inspection / Initial Inspection\n",
       "75431  30075445 2019-05-16   14.0  Cycle Inspection / Initial Inspection\n",
       "75429  30075445 2019-06-11    6.0       Cycle Inspection / Re-inspection\n",
       "90427  30112340 2016-04-12    0.0  Cycle Inspection / Initial Inspection"
      ]
     },
     "execution_count": 10,
     "metadata": {},
     "output_type": "execute_result"
    }
   ],
   "source": [
    "ins_type=[]\n",
    "for c, d in zip(df_inspections['CAMIS'],df_inspections['DATE']):\n",
    "    ins_type.append(df_cycles.loc[df_cycles['CAMIS']==c].loc[df_cycles['INSPECTION DATE']==d]['INSPECTION TYPE'].iloc[0])\n",
    "df_inspections['INSPECTION TYPE']=ins_type\n",
    "df_inspections.head()"
   ]
  },
  {
   "cell_type": "code",
   "execution_count": 11,
   "metadata": {
    "scrolled": true
   },
   "outputs": [
    {
     "data": {
      "text/plain": [
       "['02A',\n",
       " '02B',\n",
       " '02C',\n",
       " '02D',\n",
       " '02E',\n",
       " '02F',\n",
       " '02G',\n",
       " '02H',\n",
       " '02I',\n",
       " '02J',\n",
       " '03A',\n",
       " '03B',\n",
       " '03C',\n",
       " '03D',\n",
       " '03E',\n",
       " '03F',\n",
       " '03G',\n",
       " '04A',\n",
       " '04B',\n",
       " '04C',\n",
       " '04D',\n",
       " '04E',\n",
       " '04F',\n",
       " '04G',\n",
       " '04H',\n",
       " '04I',\n",
       " '04J',\n",
       " '04K',\n",
       " '04L',\n",
       " '04M',\n",
       " '04N',\n",
       " '04O',\n",
       " '05A',\n",
       " '05B',\n",
       " '05C',\n",
       " '05D',\n",
       " '05E',\n",
       " '05F',\n",
       " '05H',\n",
       " '06A',\n",
       " '06B',\n",
       " '06C',\n",
       " '06D',\n",
       " '06E',\n",
       " '06F',\n",
       " '06G',\n",
       " '06H',\n",
       " '06I',\n",
       " '07A',\n",
       " '08A',\n",
       " '08B',\n",
       " '08C',\n",
       " '09A',\n",
       " '09B',\n",
       " '09C',\n",
       " '10A',\n",
       " '10B',\n",
       " '10C',\n",
       " '10D',\n",
       " '10E',\n",
       " '10F',\n",
       " '10G',\n",
       " '10H',\n",
       " '10I',\n",
       " '10J',\n",
       " '17A1',\n",
       " '17A3',\n",
       " '19A1',\n",
       " '19A3',\n",
       " '22F',\n",
       " '22G']"
      ]
     },
     "execution_count": 11,
     "metadata": {},
     "output_type": "execute_result"
    }
   ],
   "source": [
    "sorted(df_cycles['VIOLATION CODE'].dropna().unique())"
   ]
  },
  {
   "cell_type": "markdown",
   "metadata": {},
   "source": [
    "Full list of codes and descriptions is available in the \"blue book\" https://www1.nyc.gov/assets/doh/downloads/pdf/rii/blue-book.pdf . Some of these codes are not in that list and all of those that are not valid codes are missing the Violation Description as well. These are dropped from the dataset."
   ]
  },
  {
   "cell_type": "code",
   "execution_count": 12,
   "metadata": {},
   "outputs": [
    {
     "name": "stdout",
     "output_type": "stream",
     "text": [
      "2\n",
      "1\n",
      "1\n",
      "1\n",
      "427\n",
      "712\n"
     ]
    }
   ],
   "source": [
    "for v in sorted(df_cycles['VIOLATION CODE'].dropna().unique())[-6:]:\n",
    "    print(len(df_cycles.loc[df_cycles['VIOLATION CODE']==v]['VIOLATION DESCRIPTION']))"
   ]
  },
  {
   "cell_type": "code",
   "execution_count": 13,
   "metadata": {
    "scrolled": true
   },
   "outputs": [],
   "source": [
    "vio_codes=sorted(df_cycles['VIOLATION CODE'].dropna().unique())[:-6]"
   ]
  },
  {
   "cell_type": "code",
   "execution_count": null,
   "metadata": {},
   "outputs": [],
   "source": [
    "for v in vio_codes:\n",
    "    temp=[]\n",
    "    for c, d in zip(df_inspections['CAMIS'],df_inspections['DATE']):\n",
    "        #sum of true and falses. should only every be 1 or 0\n",
    "        temp.append(sum(df_cycles.loc[df_cycles['CAMIS']==c].loc[df_cycles['INSPECTION DATE']==d]['VIOLATION CODE'].str.contains(v))==1)\n",
    "        \n",
    "    df_inspections[v]=temp"
   ]
  },
  {
   "cell_type": "code",
   "execution_count": null,
   "metadata": {},
   "outputs": [],
   "source": [
    "df_inspections.head()"
   ]
  },
  {
   "cell_type": "code",
   "execution_count": null,
   "metadata": {},
   "outputs": [],
   "source": [
    "sum(df_cycles.loc[df_cycles['CAMIS']==c].loc[df_cycles['INSPECTION DATE']==d]['VIOLATION CODE'].str.contains('06D'))"
   ]
  },
  {
   "cell_type": "code",
   "execution_count": null,
   "metadata": {},
   "outputs": [],
   "source": []
  }
 ],
 "metadata": {
  "kernelspec": {
   "display_name": "Python 3",
   "language": "python",
   "name": "python3"
  },
  "language_info": {
   "codemirror_mode": {
    "name": "ipython",
    "version": 3
   },
   "file_extension": ".py",
   "mimetype": "text/x-python",
   "name": "python",
   "nbconvert_exporter": "python",
   "pygments_lexer": "ipython3",
   "version": "3.7.0"
  }
 },
 "nbformat": 4,
 "nbformat_minor": 2
}
