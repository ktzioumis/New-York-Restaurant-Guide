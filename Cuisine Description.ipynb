{
 "cells": [
  {
   "cell_type": "code",
   "execution_count": 1,
   "metadata": {},
   "outputs": [],
   "source": [
    "import pandas as pd \n",
    "import numpy as np\n",
    "import matplotlib.pyplot as plt\n",
    "import folium\n",
    "import seaborn as sns"
   ]
  },
  {
   "cell_type": "code",
   "execution_count": 44,
   "metadata": {},
   "outputs": [
    {
     "data": {
      "text/html": [
       "<div>\n",
       "<style scoped>\n",
       "    .dataframe tbody tr th:only-of-type {\n",
       "        vertical-align: middle;\n",
       "    }\n",
       "\n",
       "    .dataframe tbody tr th {\n",
       "        vertical-align: top;\n",
       "    }\n",
       "\n",
       "    .dataframe thead th {\n",
       "        text-align: right;\n",
       "    }\n",
       "</style>\n",
       "<table border=\"1\" class=\"dataframe\">\n",
       "  <thead>\n",
       "    <tr style=\"text-align: right;\">\n",
       "      <th></th>\n",
       "      <th>Unnamed: 0</th>\n",
       "      <th>CAMIS</th>\n",
       "      <th>DATE</th>\n",
       "      <th>SCORE</th>\n",
       "      <th>INSPECTION TYPE</th>\n",
       "      <th>02A</th>\n",
       "      <th>02B</th>\n",
       "      <th>02C</th>\n",
       "      <th>02D</th>\n",
       "      <th>02E</th>\n",
       "      <th>...</th>\n",
       "      <th>10I</th>\n",
       "      <th>10J</th>\n",
       "      <th>ACTION</th>\n",
       "      <th>CRITICAL FLAG</th>\n",
       "      <th>GRADE</th>\n",
       "      <th>DBA</th>\n",
       "      <th>CUISINE DESCRIPTION</th>\n",
       "      <th>is_chain</th>\n",
       "      <th>Community Board</th>\n",
       "      <th>BORO</th>\n",
       "    </tr>\n",
       "  </thead>\n",
       "  <tbody>\n",
       "    <tr>\n",
       "      <th>0</th>\n",
       "      <td>0</td>\n",
       "      <td>30075445</td>\n",
       "      <td>2017-05-18</td>\n",
       "      <td>7.0</td>\n",
       "      <td>Cycle Inspection / Initial Inspection</td>\n",
       "      <td>0.0</td>\n",
       "      <td>0.0</td>\n",
       "      <td>0.0</td>\n",
       "      <td>0.0</td>\n",
       "      <td>0.0</td>\n",
       "      <td>...</td>\n",
       "      <td>0.0</td>\n",
       "      <td>0.0</td>\n",
       "      <td>Violations were cited in the following area(s).</td>\n",
       "      <td>1</td>\n",
       "      <td>A</td>\n",
       "      <td>MORRIS PARK BAKE SHOP</td>\n",
       "      <td>Bakery</td>\n",
       "      <td>0</td>\n",
       "      <td>211.0</td>\n",
       "      <td>Bronx</td>\n",
       "    </tr>\n",
       "    <tr>\n",
       "      <th>1</th>\n",
       "      <td>1</td>\n",
       "      <td>30075445</td>\n",
       "      <td>2018-05-11</td>\n",
       "      <td>5.0</td>\n",
       "      <td>Cycle Inspection / Initial Inspection</td>\n",
       "      <td>0.0</td>\n",
       "      <td>0.0</td>\n",
       "      <td>0.0</td>\n",
       "      <td>0.0</td>\n",
       "      <td>0.0</td>\n",
       "      <td>...</td>\n",
       "      <td>0.0</td>\n",
       "      <td>0.0</td>\n",
       "      <td>Violations were cited in the following area(s).</td>\n",
       "      <td>0</td>\n",
       "      <td>A</td>\n",
       "      <td>MORRIS PARK BAKE SHOP</td>\n",
       "      <td>Bakery</td>\n",
       "      <td>0</td>\n",
       "      <td>211.0</td>\n",
       "      <td>Bronx</td>\n",
       "    </tr>\n",
       "    <tr>\n",
       "      <th>2</th>\n",
       "      <td>2</td>\n",
       "      <td>30075445</td>\n",
       "      <td>2019-05-16</td>\n",
       "      <td>14.0</td>\n",
       "      <td>Cycle Inspection / Initial Inspection</td>\n",
       "      <td>0.0</td>\n",
       "      <td>0.0</td>\n",
       "      <td>0.0</td>\n",
       "      <td>0.0</td>\n",
       "      <td>0.0</td>\n",
       "      <td>...</td>\n",
       "      <td>0.0</td>\n",
       "      <td>0.0</td>\n",
       "      <td>Violations were cited in the following area(s).</td>\n",
       "      <td>1</td>\n",
       "      <td>B</td>\n",
       "      <td>MORRIS PARK BAKE SHOP</td>\n",
       "      <td>Bakery</td>\n",
       "      <td>0</td>\n",
       "      <td>211.0</td>\n",
       "      <td>Bronx</td>\n",
       "    </tr>\n",
       "    <tr>\n",
       "      <th>3</th>\n",
       "      <td>3</td>\n",
       "      <td>30112340</td>\n",
       "      <td>2016-10-03</td>\n",
       "      <td>48.0</td>\n",
       "      <td>Cycle Inspection / Initial Inspection</td>\n",
       "      <td>0.0</td>\n",
       "      <td>0.0</td>\n",
       "      <td>0.0</td>\n",
       "      <td>0.0</td>\n",
       "      <td>0.0</td>\n",
       "      <td>...</td>\n",
       "      <td>0.0</td>\n",
       "      <td>0.0</td>\n",
       "      <td>Violations were cited in the following area(s).</td>\n",
       "      <td>3</td>\n",
       "      <td>C</td>\n",
       "      <td>WENDY'S</td>\n",
       "      <td>Hamburgers</td>\n",
       "      <td>1</td>\n",
       "      <td>309.0</td>\n",
       "      <td>Brooklyn</td>\n",
       "    </tr>\n",
       "    <tr>\n",
       "      <th>4</th>\n",
       "      <td>4</td>\n",
       "      <td>30112340</td>\n",
       "      <td>2017-06-26</td>\n",
       "      <td>7.0</td>\n",
       "      <td>Cycle Inspection / Initial Inspection</td>\n",
       "      <td>0.0</td>\n",
       "      <td>0.0</td>\n",
       "      <td>0.0</td>\n",
       "      <td>0.0</td>\n",
       "      <td>0.0</td>\n",
       "      <td>...</td>\n",
       "      <td>0.0</td>\n",
       "      <td>0.0</td>\n",
       "      <td>Violations were cited in the following area(s).</td>\n",
       "      <td>1</td>\n",
       "      <td>A</td>\n",
       "      <td>WENDY'S</td>\n",
       "      <td>Hamburgers</td>\n",
       "      <td>1</td>\n",
       "      <td>309.0</td>\n",
       "      <td>Brooklyn</td>\n",
       "    </tr>\n",
       "  </tbody>\n",
       "</table>\n",
       "<p>5 rows × 78 columns</p>\n",
       "</div>"
      ],
      "text/plain": [
       "   Unnamed: 0     CAMIS        DATE  SCORE  \\\n",
       "0           0  30075445  2017-05-18    7.0   \n",
       "1           1  30075445  2018-05-11    5.0   \n",
       "2           2  30075445  2019-05-16   14.0   \n",
       "3           3  30112340  2016-10-03   48.0   \n",
       "4           4  30112340  2017-06-26    7.0   \n",
       "\n",
       "                         INSPECTION TYPE  02A  02B  02C  02D  02E  ...  10I  \\\n",
       "0  Cycle Inspection / Initial Inspection  0.0  0.0  0.0  0.0  0.0  ...  0.0   \n",
       "1  Cycle Inspection / Initial Inspection  0.0  0.0  0.0  0.0  0.0  ...  0.0   \n",
       "2  Cycle Inspection / Initial Inspection  0.0  0.0  0.0  0.0  0.0  ...  0.0   \n",
       "3  Cycle Inspection / Initial Inspection  0.0  0.0  0.0  0.0  0.0  ...  0.0   \n",
       "4  Cycle Inspection / Initial Inspection  0.0  0.0  0.0  0.0  0.0  ...  0.0   \n",
       "\n",
       "   10J                                           ACTION  CRITICAL FLAG  GRADE  \\\n",
       "0  0.0  Violations were cited in the following area(s).              1      A   \n",
       "1  0.0  Violations were cited in the following area(s).              0      A   \n",
       "2  0.0  Violations were cited in the following area(s).              1      B   \n",
       "3  0.0  Violations were cited in the following area(s).              3      C   \n",
       "4  0.0  Violations were cited in the following area(s).              1      A   \n",
       "\n",
       "                     DBA  CUISINE DESCRIPTION  is_chain  Community Board  \\\n",
       "0  MORRIS PARK BAKE SHOP               Bakery         0            211.0   \n",
       "1  MORRIS PARK BAKE SHOP               Bakery         0            211.0   \n",
       "2  MORRIS PARK BAKE SHOP               Bakery         0            211.0   \n",
       "3                WENDY'S           Hamburgers         1            309.0   \n",
       "4                WENDY'S           Hamburgers         1            309.0   \n",
       "\n",
       "       BORO  \n",
       "0     Bronx  \n",
       "1     Bronx  \n",
       "2     Bronx  \n",
       "3  Brooklyn  \n",
       "4  Brooklyn  \n",
       "\n",
       "[5 rows x 78 columns]"
      ]
     },
     "execution_count": 44,
     "metadata": {},
     "output_type": "execute_result"
    }
   ],
   "source": [
    "df_merged=pd.read_csv('merged.csv')\n",
    "df_merged.head()"
   ]
  },
  {
   "cell_type": "code",
   "execution_count": 45,
   "metadata": {},
   "outputs": [
    {
     "data": {
      "text/html": [
       "<div>\n",
       "<style scoped>\n",
       "    .dataframe tbody tr th:only-of-type {\n",
       "        vertical-align: middle;\n",
       "    }\n",
       "\n",
       "    .dataframe tbody tr th {\n",
       "        vertical-align: top;\n",
       "    }\n",
       "\n",
       "    .dataframe thead th {\n",
       "        text-align: right;\n",
       "    }\n",
       "</style>\n",
       "<table border=\"1\" class=\"dataframe\">\n",
       "  <thead>\n",
       "    <tr style=\"text-align: right;\">\n",
       "      <th></th>\n",
       "      <th>CAMIS</th>\n",
       "      <th>DATE</th>\n",
       "      <th>SCORE</th>\n",
       "      <th>INSPECTION TYPE</th>\n",
       "      <th>02A</th>\n",
       "      <th>02B</th>\n",
       "      <th>02C</th>\n",
       "      <th>02D</th>\n",
       "      <th>02E</th>\n",
       "      <th>02F</th>\n",
       "      <th>...</th>\n",
       "      <th>10I</th>\n",
       "      <th>10J</th>\n",
       "      <th>ACTION</th>\n",
       "      <th>CRITICAL FLAG</th>\n",
       "      <th>GRADE</th>\n",
       "      <th>DBA</th>\n",
       "      <th>CUISINE DESCRIPTION</th>\n",
       "      <th>is_chain</th>\n",
       "      <th>Community Board</th>\n",
       "      <th>BORO</th>\n",
       "    </tr>\n",
       "  </thead>\n",
       "  <tbody>\n",
       "    <tr>\n",
       "      <th>0</th>\n",
       "      <td>30075445</td>\n",
       "      <td>2017-05-18</td>\n",
       "      <td>7.0</td>\n",
       "      <td>Cycle Inspection / Initial Inspection</td>\n",
       "      <td>0.0</td>\n",
       "      <td>0.0</td>\n",
       "      <td>0.0</td>\n",
       "      <td>0.0</td>\n",
       "      <td>0.0</td>\n",
       "      <td>0.0</td>\n",
       "      <td>...</td>\n",
       "      <td>0.0</td>\n",
       "      <td>0.0</td>\n",
       "      <td>Violations were cited in the following area(s).</td>\n",
       "      <td>1</td>\n",
       "      <td>A</td>\n",
       "      <td>MORRIS PARK BAKE SHOP</td>\n",
       "      <td>Bakery</td>\n",
       "      <td>0</td>\n",
       "      <td>211.0</td>\n",
       "      <td>Bronx</td>\n",
       "    </tr>\n",
       "    <tr>\n",
       "      <th>1</th>\n",
       "      <td>30075445</td>\n",
       "      <td>2018-05-11</td>\n",
       "      <td>5.0</td>\n",
       "      <td>Cycle Inspection / Initial Inspection</td>\n",
       "      <td>0.0</td>\n",
       "      <td>0.0</td>\n",
       "      <td>0.0</td>\n",
       "      <td>0.0</td>\n",
       "      <td>0.0</td>\n",
       "      <td>0.0</td>\n",
       "      <td>...</td>\n",
       "      <td>0.0</td>\n",
       "      <td>0.0</td>\n",
       "      <td>Violations were cited in the following area(s).</td>\n",
       "      <td>0</td>\n",
       "      <td>A</td>\n",
       "      <td>MORRIS PARK BAKE SHOP</td>\n",
       "      <td>Bakery</td>\n",
       "      <td>0</td>\n",
       "      <td>211.0</td>\n",
       "      <td>Bronx</td>\n",
       "    </tr>\n",
       "    <tr>\n",
       "      <th>2</th>\n",
       "      <td>30075445</td>\n",
       "      <td>2019-05-16</td>\n",
       "      <td>14.0</td>\n",
       "      <td>Cycle Inspection / Initial Inspection</td>\n",
       "      <td>0.0</td>\n",
       "      <td>0.0</td>\n",
       "      <td>0.0</td>\n",
       "      <td>0.0</td>\n",
       "      <td>0.0</td>\n",
       "      <td>0.0</td>\n",
       "      <td>...</td>\n",
       "      <td>0.0</td>\n",
       "      <td>0.0</td>\n",
       "      <td>Violations were cited in the following area(s).</td>\n",
       "      <td>1</td>\n",
       "      <td>B</td>\n",
       "      <td>MORRIS PARK BAKE SHOP</td>\n",
       "      <td>Bakery</td>\n",
       "      <td>0</td>\n",
       "      <td>211.0</td>\n",
       "      <td>Bronx</td>\n",
       "    </tr>\n",
       "    <tr>\n",
       "      <th>3</th>\n",
       "      <td>30112340</td>\n",
       "      <td>2016-10-03</td>\n",
       "      <td>48.0</td>\n",
       "      <td>Cycle Inspection / Initial Inspection</td>\n",
       "      <td>0.0</td>\n",
       "      <td>0.0</td>\n",
       "      <td>0.0</td>\n",
       "      <td>0.0</td>\n",
       "      <td>0.0</td>\n",
       "      <td>0.0</td>\n",
       "      <td>...</td>\n",
       "      <td>0.0</td>\n",
       "      <td>0.0</td>\n",
       "      <td>Violations were cited in the following area(s).</td>\n",
       "      <td>3</td>\n",
       "      <td>C</td>\n",
       "      <td>WENDY'S</td>\n",
       "      <td>Hamburgers</td>\n",
       "      <td>1</td>\n",
       "      <td>309.0</td>\n",
       "      <td>Brooklyn</td>\n",
       "    </tr>\n",
       "    <tr>\n",
       "      <th>4</th>\n",
       "      <td>30112340</td>\n",
       "      <td>2017-06-26</td>\n",
       "      <td>7.0</td>\n",
       "      <td>Cycle Inspection / Initial Inspection</td>\n",
       "      <td>0.0</td>\n",
       "      <td>0.0</td>\n",
       "      <td>0.0</td>\n",
       "      <td>0.0</td>\n",
       "      <td>0.0</td>\n",
       "      <td>0.0</td>\n",
       "      <td>...</td>\n",
       "      <td>0.0</td>\n",
       "      <td>0.0</td>\n",
       "      <td>Violations were cited in the following area(s).</td>\n",
       "      <td>1</td>\n",
       "      <td>A</td>\n",
       "      <td>WENDY'S</td>\n",
       "      <td>Hamburgers</td>\n",
       "      <td>1</td>\n",
       "      <td>309.0</td>\n",
       "      <td>Brooklyn</td>\n",
       "    </tr>\n",
       "  </tbody>\n",
       "</table>\n",
       "<p>5 rows × 77 columns</p>\n",
       "</div>"
      ],
      "text/plain": [
       "      CAMIS       DATE  SCORE                        INSPECTION TYPE  02A  \\\n",
       "0  30075445 2017-05-18    7.0  Cycle Inspection / Initial Inspection  0.0   \n",
       "1  30075445 2018-05-11    5.0  Cycle Inspection / Initial Inspection  0.0   \n",
       "2  30075445 2019-05-16   14.0  Cycle Inspection / Initial Inspection  0.0   \n",
       "3  30112340 2016-10-03   48.0  Cycle Inspection / Initial Inspection  0.0   \n",
       "4  30112340 2017-06-26    7.0  Cycle Inspection / Initial Inspection  0.0   \n",
       "\n",
       "   02B  02C  02D  02E  02F  ...  10I  10J  \\\n",
       "0  0.0  0.0  0.0  0.0  0.0  ...  0.0  0.0   \n",
       "1  0.0  0.0  0.0  0.0  0.0  ...  0.0  0.0   \n",
       "2  0.0  0.0  0.0  0.0  0.0  ...  0.0  0.0   \n",
       "3  0.0  0.0  0.0  0.0  0.0  ...  0.0  0.0   \n",
       "4  0.0  0.0  0.0  0.0  0.0  ...  0.0  0.0   \n",
       "\n",
       "                                            ACTION  CRITICAL FLAG  GRADE  \\\n",
       "0  Violations were cited in the following area(s).              1      A   \n",
       "1  Violations were cited in the following area(s).              0      A   \n",
       "2  Violations were cited in the following area(s).              1      B   \n",
       "3  Violations were cited in the following area(s).              3      C   \n",
       "4  Violations were cited in the following area(s).              1      A   \n",
       "\n",
       "                     DBA  CUISINE DESCRIPTION  is_chain  Community Board  \\\n",
       "0  MORRIS PARK BAKE SHOP               Bakery         0            211.0   \n",
       "1  MORRIS PARK BAKE SHOP               Bakery         0            211.0   \n",
       "2  MORRIS PARK BAKE SHOP               Bakery         0            211.0   \n",
       "3                WENDY'S           Hamburgers         1            309.0   \n",
       "4                WENDY'S           Hamburgers         1            309.0   \n",
       "\n",
       "       BORO  \n",
       "0     Bronx  \n",
       "1     Bronx  \n",
       "2     Bronx  \n",
       "3  Brooklyn  \n",
       "4  Brooklyn  \n",
       "\n",
       "[5 rows x 77 columns]"
      ]
     },
     "execution_count": 45,
     "metadata": {},
     "output_type": "execute_result"
    }
   ],
   "source": [
    "df_merged.drop(columns='Unnamed: 0',inplace=True)\n",
    "df_merged['DATE']=pd.to_datetime(df_merged['DATE'])\n",
    "df_merged.head()"
   ]
  },
  {
   "cell_type": "code",
   "execution_count": 8,
   "metadata": {},
   "outputs": [
    {
     "data": {
      "text/plain": [
       "CUISINE DESCRIPTION\n",
       "Hotdogs                7.968750\n",
       "Nuts/Confectionary     8.125000\n",
       "Hotdogs/Pretzels       8.964912\n",
       "Basque                10.000000\n",
       "Donuts                10.479868\n",
       "Name: SCORE, dtype: float64"
      ]
     },
     "execution_count": 8,
     "metadata": {},
     "output_type": "execute_result"
    }
   ],
   "source": [
    "df_merged.groupby('CUISINE DESCRIPTION')['SCORE'].mean().sort_values().head()"
   ]
  },
  {
   "cell_type": "code",
   "execution_count": 9,
   "metadata": {},
   "outputs": [
    {
     "data": {
      "text/plain": [
       "count    84.000000\n",
       "mean     16.123009\n",
       "std       3.552806\n",
       "min       7.968750\n",
       "25%      14.100746\n",
       "50%      16.249314\n",
       "75%      18.062420\n",
       "max      27.750000\n",
       "Name: SCORE, dtype: float64"
      ]
     },
     "execution_count": 9,
     "metadata": {},
     "output_type": "execute_result"
    }
   ],
   "source": [
    "df_merged.groupby('CUISINE DESCRIPTION')['SCORE'].mean().describe()"
   ]
  },
  {
   "cell_type": "code",
   "execution_count": 16,
   "metadata": {},
   "outputs": [
    {
     "data": {
      "image/png": "[encoded data removed]",
      "text/plain": [
       "<Figure size 432x288 with 1 Axes>"
      ]
     },
     "metadata": {
      "needs_background": "light"
     },
     "output_type": "display_data"
    }
   ],
   "source": [
    "cuis_avg=df_merged.groupby('CUISINE DESCRIPTION')['SCORE'].mean().values\n",
    "plt.hist(cuis_avg)\n",
    "plt.axvline(x=np.mean(cuis_avg),color='r',label=f'Mean = {round(np.mean(cuis_avg),1)}')\n",
    "plt.axvline(x=np.median(cuis_avg),color='y',label=f'Median = {round(np.median(cuis_avg),1)}')\n",
    "plt.legend()\n",
    "plt.title('Cuisine Average Score distribution')\n",
    "plt.xlabel('Average Score')\n",
    "plt.ylabel('Count')\n",
    "plt.show()"
   ]
  },
  {
   "cell_type": "code",
   "execution_count": 20,
   "metadata": {},
   "outputs": [
    {
     "data": {
      "text/plain": [
       "American                                                            15473\n",
       "Chinese                                                              6181\n",
       "Café/Coffee/Tea                                                      4013\n",
       "Pizza                                                                3045\n",
       "Italian                                                              2645\n",
       "Latin (Cuban, Dominican, Puerto Rican, South & Central American)     2517\n",
       "Mexican                                                              2409\n",
       "Bakery                                                               2160\n",
       "Japanese                                                             2102\n",
       "Name: CUISINE DESCRIPTION, dtype: int64"
      ]
     },
     "execution_count": 20,
     "metadata": {},
     "output_type": "execute_result"
    }
   ],
   "source": [
    "df_merged['CUISINE DESCRIPTION'].value_counts().head(9)"
   ]
  },
  {
   "cell_type": "code",
   "execution_count": 22,
   "metadata": {},
   "outputs": [
    {
     "data": {
      "image/png": "[encoded data removed]",
      "text/plain": [
       "<Figure size 1008x1008 with 9 Axes>"
      ]
     },
     "metadata": {
      "needs_background": "light"
     },
     "output_type": "display_data"
    }
   ],
   "source": [
    "nine_most_pop=df_merged['CUISINE DESCRIPTION'].value_counts().head(9).index\n",
    "plt.figure(figsize=(14,14))\n",
    "for i in range(0,9):\n",
    "    plt.subplot(3,3,i+1)\n",
    "    score=df_merged.loc[df_merged['CUISINE DESCRIPTION']==nine_most_pop[i]]['SCORE']\n",
    "    plt.hist(score,label=nine_most_pop[i][:15])\n",
    "    plt.axvline(x=np.mean(score),color='r',label=f'Mean = {round(np.mean(score),1)}',)\n",
    "    plt.axvline(x=np.median(score),color='y',label=f'Median = {round(np.median(score),1)}')\n",
    "    plt.title(f'Score distribution for {nine_most_pop[i][:15]} restaurants')\n",
    "    plt.legend()"
   ]
  },
  {
   "cell_type": "code",
   "execution_count": 25,
   "metadata": {},
   "outputs": [
    {
     "data": {
      "image/png": "[encoded data removed]",
      "text/plain": [
       "<Figure size 1008x648 with 5 Axes>"
      ]
     },
     "metadata": {
      "needs_background": "light"
     },
     "output_type": "display_data"
    }
   ],
   "source": [
    "five_pop=['American', 'Chinese', 'Caribbean','Latin (Cuban, Dominican, Puerto Rican, South & Central American)','Jewish/Kosher']\n",
    "plt.figure(figsize=(14,9))\n",
    "for i in range(0,5):\n",
    "    plt.subplot(2,3,i+1)\n",
    "    score=df_merged.loc[df_merged['CUISINE DESCRIPTION']==five_pop[i]]['SCORE']\n",
    "    plt.hist(score,label=five_pop[i][:15])\n",
    "    plt.axvline(x=np.mean(score),color='r',label=f'Mean = {round(np.mean(score),1)}',)\n",
    "    plt.axvline(x=np.median(score),color='y',label=f'Median = {round(np.median(score),1)}')\n",
    "    plt.title(f'Score distribution for {five_pop[i][:15]} restaurants')\n",
    "    plt.legend()"
   ]
  },
  {
   "cell_type": "code",
   "execution_count": null,
   "metadata": {},
   "outputs": [],
   "source": []
  },
  {
   "cell_type": "code",
   "execution_count": 34,
   "metadata": {},
   "outputs": [
    {
     "data": {
      "text/html": [
       "<div>\n",
       "<style scoped>\n",
       "    .dataframe tbody tr th:only-of-type {\n",
       "        vertical-align: middle;\n",
       "    }\n",
       "\n",
       "    .dataframe tbody tr th {\n",
       "        vertical-align: top;\n",
       "    }\n",
       "\n",
       "    .dataframe thead th {\n",
       "        text-align: right;\n",
       "    }\n",
       "</style>\n",
       "<table border=\"1\" class=\"dataframe\">\n",
       "  <thead>\n",
       "    <tr style=\"text-align: right;\">\n",
       "      <th></th>\n",
       "      <th>NOT_chain</th>\n",
       "      <th>IS_chain</th>\n",
       "    </tr>\n",
       "    <tr>\n",
       "      <th>stats</th>\n",
       "      <th></th>\n",
       "      <th></th>\n",
       "    </tr>\n",
       "  </thead>\n",
       "  <tbody>\n",
       "    <tr>\n",
       "      <th>count</th>\n",
       "      <td>49135.000000</td>\n",
       "      <td>16797.000000</td>\n",
       "    </tr>\n",
       "    <tr>\n",
       "      <th>mean</th>\n",
       "      <td>16.435637</td>\n",
       "      <td>13.637971</td>\n",
       "    </tr>\n",
       "    <tr>\n",
       "      <th>std</th>\n",
       "      <td>11.610397</td>\n",
       "      <td>10.414274</td>\n",
       "    </tr>\n",
       "    <tr>\n",
       "      <th>min</th>\n",
       "      <td>0.000000</td>\n",
       "      <td>0.000000</td>\n",
       "    </tr>\n",
       "    <tr>\n",
       "      <th>25%</th>\n",
       "      <td>9.000000</td>\n",
       "      <td>7.000000</td>\n",
       "    </tr>\n",
       "    <tr>\n",
       "      <th>50%</th>\n",
       "      <td>12.000000</td>\n",
       "      <td>11.000000</td>\n",
       "    </tr>\n",
       "    <tr>\n",
       "      <th>75%</th>\n",
       "      <td>21.000000</td>\n",
       "      <td>17.000000</td>\n",
       "    </tr>\n",
       "    <tr>\n",
       "      <th>max</th>\n",
       "      <td>166.000000</td>\n",
       "      <td>137.000000</td>\n",
       "    </tr>\n",
       "  </tbody>\n",
       "</table>\n",
       "</div>"
      ],
      "text/plain": [
       "          NOT_chain      IS_chain\n",
       "stats                            \n",
       "count  49135.000000  16797.000000\n",
       "mean      16.435637     13.637971\n",
       "std       11.610397     10.414274\n",
       "min        0.000000      0.000000\n",
       "25%        9.000000      7.000000\n",
       "50%       12.000000     11.000000\n",
       "75%       21.000000     17.000000\n",
       "max      166.000000    137.000000"
      ]
     },
     "execution_count": 34,
     "metadata": {},
     "output_type": "execute_result"
    }
   ],
   "source": [
    "stats=df_merged.loc[df_merged['is_chain']==0]['SCORE'].describe().index\n",
    "not_chain=df_merged.loc[df_merged['is_chain']==0]['SCORE'].describe().values\n",
    "is_chain=df_merged.loc[df_merged['is_chain']==1]['SCORE'].describe().values\n",
    "df_chain=pd.DataFrame()\n",
    "df_chain['stats']=stats\n",
    "df_chain['NOT_chain']=not_chain\n",
    "df_chain['IS_chain']=is_chain\n",
    "df_chain.set_index('stats',inplace=True)\n",
    "df_chain"
   ]
  },
  {
   "cell_type": "code",
   "execution_count": 29,
   "metadata": {},
   "outputs": [
    {
     "data": {
      "image/png": "[encoded data removed]",
      "text/plain": [
       "<Figure size 432x288 with 1 Axes>"
      ]
     },
     "metadata": {
      "needs_background": "light"
     },
     "output_type": "display_data"
    },
    {
     "data": {
      "image/png": "[encoded data removed]",
      "text/plain": [
       "<Figure size 432x288 with 1 Axes>"
      ]
     },
     "metadata": {
      "needs_background": "light"
     },
     "output_type": "display_data"
    }
   ],
   "source": [
    "plt.boxplot([df_merged.loc[df_merged['is_chain']==0]['SCORE'],df_merged.loc[df_merged['is_chain']==1]['SCORE']],showfliers=False,showmeans=True)\n",
    "plt.xticks([1,2],['NOT chain','IS chain'])\n",
    "plt.title('Score distribution for chain and not chain restaurants WITHOUT outliers')\n",
    "plt.show()\n",
    "plt.boxplot([df_merged.loc[df_merged['is_chain']==0]['SCORE'],df_merged.loc[df_merged['is_chain']==1]['SCORE']],showmeans=True)\n",
    "plt.xticks([1,2],['NOT chain','IS chain'])\n",
    "plt.title('Score distribution for chain and not chain restaurants WITH outliers')\n",
    "\n",
    "plt.show()"
   ]
  },
  {
   "cell_type": "code",
   "execution_count": 32,
   "metadata": {},
   "outputs": [
    {
     "name": "stderr",
     "output_type": "stream",
     "text": [
      "C:\\Users\\kosta\\Anaconda3\\lib\\site-packages\\scipy\\stats\\stats.py:1713: FutureWarning: Using a non-tuple sequence for multidimensional indexing is deprecated; use `arr[tuple(seq)]` instead of `arr[seq]`. In the future this will be interpreted as an array index, `arr[np.array(seq)]`, which will result either in an error or a different result.\n",
      "  return np.add.reduce(sorted[indexer] * weights, axis=axis) / sumval\n"
     ]
    },
    {
     "data": {
      "image/png": "[encoded data removed]",
      "text/plain": [
       "<Figure size 1008x432 with 1 Axes>"
      ]
     },
     "metadata": {
      "needs_background": "light"
     },
     "output_type": "display_data"
    }
   ],
   "source": [
    "plt.figure(figsize=(14,6))\n",
    "sns.distplot(df_merged.loc[df_merged['is_chain']==1]['SCORE'],label='IS chain')\n",
    "sns.distplot(df_merged.loc[df_merged['is_chain']==0]['SCORE'],label='NOT chain')\n",
    "plt.legend()\n",
    "plt.title('Chain and not chain restaurants score distribution plot')\n",
    "plt.show()"
   ]
  },
  {
   "cell_type": "code",
   "execution_count": 30,
   "metadata": {},
   "outputs": [
    {
     "name": "stdout",
     "output_type": "stream",
     "text": [
      "T-test p-value : 1.306083944817936e-184\n"
     ]
    }
   ],
   "source": [
    "from scipy import stats\n",
    "t_stat, p= stats.ttest_ind(df_merged.loc[df_merged['is_chain']==1]['SCORE'].values,df_merged.loc[df_merged['is_chain']==0]['SCORE'].values,equal_var=False)\n",
    "print('T-test p-value :',p)"
   ]
  },
  {
   "cell_type": "code",
   "execution_count": null,
   "metadata": {},
   "outputs": [],
   "source": []
  },
  {
   "cell_type": "code",
   "execution_count": null,
   "metadata": {},
   "outputs": [],
   "source": []
  },
  {
   "cell_type": "code",
   "execution_count": null,
   "metadata": {},
   "outputs": [],
   "source": []
  },
  {
   "cell_type": "code",
   "execution_count": 38,
   "metadata": {
    "scrolled": true
   },
   "outputs": [
    {
     "data": {
      "text/plain": [
       "['Afghan',\n",
       " 'African',\n",
       " 'American',\n",
       " 'Armenian',\n",
       " 'Asian',\n",
       " 'Australian',\n",
       " 'Bagels/Pretzels',\n",
       " 'Bakery',\n",
       " 'Bangladeshi',\n",
       " 'Barbecue',\n",
       " 'Basque',\n",
       " 'Bottled beverages, including water, sodas, juices, etc.',\n",
       " 'Brazilian',\n",
       " 'Café/Coffee/Tea',\n",
       " 'Cajun',\n",
       " 'Californian',\n",
       " 'Caribbean',\n",
       " 'Chicken',\n",
       " 'Chilean',\n",
       " 'Chinese',\n",
       " 'Chinese/Cuban',\n",
       " 'Chinese/Japanese',\n",
       " 'Continental',\n",
       " 'Creole',\n",
       " 'Creole/Cajun',\n",
       " 'Czech',\n",
       " 'Delicatessen',\n",
       " 'Donuts',\n",
       " 'Eastern European',\n",
       " 'Egyptian',\n",
       " 'English',\n",
       " 'Ethiopian',\n",
       " 'Filipino',\n",
       " 'French',\n",
       " 'Fruits/Vegetables',\n",
       " 'German',\n",
       " 'Greek',\n",
       " 'Hamburgers',\n",
       " 'Hawaiian',\n",
       " 'Hotdogs',\n",
       " 'Hotdogs/Pretzels',\n",
       " 'Ice Cream, Gelato, Yogurt, Ices',\n",
       " 'Indian',\n",
       " 'Indonesian',\n",
       " 'Iranian',\n",
       " 'Irish',\n",
       " 'Italian',\n",
       " 'Japanese',\n",
       " 'Jewish/Kosher',\n",
       " 'Juice, Smoothies, Fruit Salads',\n",
       " 'Korean',\n",
       " 'Latin (Cuban, Dominican, Puerto Rican, South & Central American)',\n",
       " 'Mediterranean',\n",
       " 'Mexican',\n",
       " 'Middle Eastern',\n",
       " 'Moroccan',\n",
       " 'Not Listed/Not Applicable',\n",
       " 'Nuts/Confectionary',\n",
       " 'Other',\n",
       " 'Pakistani',\n",
       " 'Pancakes/Waffles',\n",
       " 'Peruvian',\n",
       " 'Pizza',\n",
       " 'Pizza/Italian',\n",
       " 'Polish',\n",
       " 'Portuguese',\n",
       " 'Russian',\n",
       " 'Salads',\n",
       " 'Sandwiches',\n",
       " 'Sandwiches/Salads/Mixed Buffet',\n",
       " 'Scandinavian',\n",
       " 'Seafood',\n",
       " 'Soul Food',\n",
       " 'Soups',\n",
       " 'Soups & Sandwiches',\n",
       " 'Southwestern',\n",
       " 'Spanish',\n",
       " 'Steak',\n",
       " 'Tapas',\n",
       " 'Tex-Mex',\n",
       " 'Thai',\n",
       " 'Turkish',\n",
       " 'Vegetarian',\n",
       " 'Vietnamese/Cambodian/Malaysia']"
      ]
     },
     "execution_count": 38,
     "metadata": {},
     "output_type": "execute_result"
    }
   ],
   "source": [
    "sorted(df_merged['CUISINE DESCRIPTION'].unique())"
   ]
  },
  {
   "cell_type": "code",
   "execution_count": 40,
   "metadata": {
    "scrolled": true
   },
   "outputs": [
    {
     "data": {
      "text/plain": [
       "CUISINE DESCRIPTION\n",
       "Afghan                                                      9.120718\n",
       "African                                                    13.855357\n",
       "American                                                   10.734016\n",
       "Armenian                                                   12.861613\n",
       "Asian                                                      11.330352\n",
       "Australian                                                 11.714306\n",
       "Bagels/Pretzels                                            11.817518\n",
       "Bakery                                                     11.594986\n",
       "Bangladeshi                                                17.704055\n",
       "Barbecue                                                   11.855732\n",
       "Basque                                                      4.242641\n",
       "Bottled beverages, including water, sodas, juices, etc.     9.116387\n",
       "Brazilian                                                  12.414868\n",
       "Café/Coffee/Tea                                             9.728048\n",
       "Cajun                                                      10.494443\n",
       "Californian                                                10.485993\n",
       "Caribbean                                                  13.341723\n",
       "Chicken                                                    11.147110\n",
       "Chilean                                                    12.124356\n",
       "Chinese                                                    12.525400\n",
       "Chinese/Cuban                                              14.108089\n",
       "Chinese/Japanese                                           11.360743\n",
       "Continental                                                10.001971\n",
       "Creole                                                     11.576855\n",
       "Creole/Cajun                                               14.129438\n",
       "Czech                                                      10.401656\n",
       "Delicatessen                                               12.707004\n",
       "Donuts                                                      7.700904\n",
       "Eastern European                                           12.049603\n",
       "Egyptian                                                   11.877645\n",
       "                                                             ...    \n",
       "Middle Eastern                                             10.286959\n",
       "Moroccan                                                    9.041439\n",
       "Not Listed/Not Applicable                                   5.851975\n",
       "Nuts/Confectionary                                          6.749339\n",
       "Other                                                      10.540633\n",
       "Pakistani                                                  10.852653\n",
       "Pancakes/Waffles                                            8.817194\n",
       "Peruvian                                                   14.367057\n",
       "Pizza                                                      10.619980\n",
       "Pizza/Italian                                              11.056055\n",
       "Polish                                                     11.083081\n",
       "Portuguese                                                  5.733041\n",
       "Russian                                                    13.427235\n",
       "Salads                                                      8.090335\n",
       "Sandwiches                                                  8.669335\n",
       "Sandwiches/Salads/Mixed Buffet                              9.300792\n",
       "Scandinavian                                                9.902825\n",
       "Seafood                                                    11.271130\n",
       "Soul Food                                                  14.952016\n",
       "Soups                                                      11.613472\n",
       "Soups & Sandwiches                                         10.372252\n",
       "Southwestern                                               15.106763\n",
       "Spanish                                                    12.326568\n",
       "Steak                                                      10.160733\n",
       "Tapas                                                       9.917086\n",
       "Tex-Mex                                                    10.122213\n",
       "Thai                                                       12.405998\n",
       "Turkish                                                    11.065315\n",
       "Vegetarian                                                 12.781794\n",
       "Vietnamese/Cambodian/Malaysia                              12.211117\n",
       "Name: SCORE, Length: 84, dtype: float64"
      ]
     },
     "execution_count": 40,
     "metadata": {},
     "output_type": "execute_result"
    }
   ],
   "source": [
    "df_merged.groupby('CUISINE DESCRIPTION')['SCORE'].std().sort_index()"
   ]
  },
  {
   "cell_type": "code",
   "execution_count": 49,
   "metadata": {},
   "outputs": [
    {
     "data": {
      "text/html": [
       "<div>\n",
       "<style scoped>\n",
       "    .dataframe tbody tr th:only-of-type {\n",
       "        vertical-align: middle;\n",
       "    }\n",
       "\n",
       "    .dataframe tbody tr th {\n",
       "        vertical-align: top;\n",
       "    }\n",
       "\n",
       "    .dataframe thead th {\n",
       "        text-align: right;\n",
       "    }\n",
       "</style>\n",
       "<table border=\"1\" class=\"dataframe\">\n",
       "  <thead>\n",
       "    <tr style=\"text-align: right;\">\n",
       "      <th></th>\n",
       "      <th>CUISINE DESCRIPTION</th>\n",
       "      <th>cuisine score mean</th>\n",
       "      <th>cuisine score std</th>\n",
       "      <th>cuisine count</th>\n",
       "    </tr>\n",
       "  </thead>\n",
       "  <tbody>\n",
       "    <tr>\n",
       "      <th>0</th>\n",
       "      <td>Afghan</td>\n",
       "      <td>14.083333</td>\n",
       "      <td>10.543920</td>\n",
       "      <td>12</td>\n",
       "    </tr>\n",
       "    <tr>\n",
       "      <th>1</th>\n",
       "      <td>African</td>\n",
       "      <td>20.181818</td>\n",
       "      <td>11.821635</td>\n",
       "      <td>66</td>\n",
       "    </tr>\n",
       "    <tr>\n",
       "      <th>2</th>\n",
       "      <td>American</td>\n",
       "      <td>15.510520</td>\n",
       "      <td>11.191669</td>\n",
       "      <td>7937</td>\n",
       "    </tr>\n",
       "    <tr>\n",
       "      <th>3</th>\n",
       "      <td>Armenian</td>\n",
       "      <td>15.324324</td>\n",
       "      <td>16.441908</td>\n",
       "      <td>37</td>\n",
       "    </tr>\n",
       "    <tr>\n",
       "      <th>4</th>\n",
       "      <td>Asian</td>\n",
       "      <td>17.968170</td>\n",
       "      <td>11.473329</td>\n",
       "      <td>377</td>\n",
       "    </tr>\n",
       "  </tbody>\n",
       "</table>\n",
       "</div>"
      ],
      "text/plain": [
       "  CUISINE DESCRIPTION  cuisine score mean  cuisine score std  cuisine count\n",
       "0              Afghan           14.083333          10.543920             12\n",
       "1             African           20.181818          11.821635             66\n",
       "2            American           15.510520          11.191669           7937\n",
       "3            Armenian           15.324324          16.441908             37\n",
       "4               Asian           17.968170          11.473329            377"
      ]
     },
     "execution_count": 49,
     "metadata": {},
     "output_type": "execute_result"
    }
   ],
   "source": [
    "cuisine_stats=pd.DataFrame()\n",
    "cuisine_stats['CUISINE DESCRIPTION']=sorted(df_merged.loc[df_merged['BORO']=='Manhattan']['CUISINE DESCRIPTION'].unique())\n",
    "cuisine_stats['cuisine score mean']=df_merged.loc[df_merged['BORO']=='Manhattan'].groupby('CUISINE DESCRIPTION')['SCORE'].mean().sort_index().values\n",
    "cuisine_stats['cuisine score std']=df_merged.loc[df_merged['BORO']=='Manhattan'].groupby('CUISINE DESCRIPTION')['SCORE'].std().sort_index().values\n",
    "cuisine_stats['cuisine count']=df_merged.loc[df_merged['BORO']=='Manhattan']['CUISINE DESCRIPTION'].value_counts().sort_index().values\n",
    "cuisine_stats.head()"
   ]
  },
  {
   "cell_type": "code",
   "execution_count": null,
   "metadata": {},
   "outputs": [],
   "source": [
    "cuis"
   ]
  }
 ],
 "metadata": {
  "kernelspec": {
   "display_name": "Python 3",
   "language": "python",
   "name": "python3"
  },
  "language_info": {
   "codemirror_mode": {
    "name": "ipython",
    "version": 3
   },
   "file_extension": ".py",
   "mimetype": "text/x-python",
   "name": "python",
   "nbconvert_exporter": "python",
   "pygments_lexer": "ipython3",
   "version": "3.7.0"
  }
 },
 "nbformat": 4,
 "nbformat_minor": 2
}
