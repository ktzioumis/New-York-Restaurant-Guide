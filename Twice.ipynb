{
 "cells": [
  {
   "cell_type": "code",
   "execution_count": 8,
   "metadata": {},
   "outputs": [],
   "source": [
    "import pandas as pd \n",
    "import numpy as np\n",
    "import matplotlib.pyplot as plt\n",
    "import folium\n",
    "import seaborn as sns"
   ]
  },
  {
   "cell_type": "code",
   "execution_count": 9,
   "metadata": {},
   "outputs": [
    {
     "data": {
      "text/html": [
       "<div>\n",
       "<style scoped>\n",
       "    .dataframe tbody tr th:only-of-type {\n",
       "        vertical-align: middle;\n",
       "    }\n",
       "\n",
       "    .dataframe tbody tr th {\n",
       "        vertical-align: top;\n",
       "    }\n",
       "\n",
       "    .dataframe thead th {\n",
       "        text-align: right;\n",
       "    }\n",
       "</style>\n",
       "<table border=\"1\" class=\"dataframe\">\n",
       "  <thead>\n",
       "    <tr style=\"text-align: right;\">\n",
       "      <th></th>\n",
       "      <th>CAMIS</th>\n",
       "      <th>DATE</th>\n",
       "      <th>SCORE</th>\n",
       "      <th>INSPECTION TYPE</th>\n",
       "      <th>02A</th>\n",
       "      <th>02B</th>\n",
       "      <th>02C</th>\n",
       "      <th>02D</th>\n",
       "      <th>02E</th>\n",
       "      <th>02F</th>\n",
       "      <th>...</th>\n",
       "      <th>10D</th>\n",
       "      <th>10E</th>\n",
       "      <th>10F</th>\n",
       "      <th>10G</th>\n",
       "      <th>10H</th>\n",
       "      <th>10I</th>\n",
       "      <th>10J</th>\n",
       "      <th>ACTION</th>\n",
       "      <th>CRITICAL FLAG</th>\n",
       "      <th>GRADE</th>\n",
       "    </tr>\n",
       "  </thead>\n",
       "  <tbody>\n",
       "    <tr>\n",
       "      <th>0</th>\n",
       "      <td>30075445</td>\n",
       "      <td>2017-05-18</td>\n",
       "      <td>7.0</td>\n",
       "      <td>Cycle Inspection / Initial Inspection</td>\n",
       "      <td>0.0</td>\n",
       "      <td>0.0</td>\n",
       "      <td>0.0</td>\n",
       "      <td>0.0</td>\n",
       "      <td>0.0</td>\n",
       "      <td>0.0</td>\n",
       "      <td>...</td>\n",
       "      <td>0.0</td>\n",
       "      <td>0.0</td>\n",
       "      <td>1.0</td>\n",
       "      <td>0.0</td>\n",
       "      <td>0.0</td>\n",
       "      <td>0.0</td>\n",
       "      <td>0.0</td>\n",
       "      <td>Violations were cited in the following area(s).</td>\n",
       "      <td>1</td>\n",
       "      <td>A</td>\n",
       "    </tr>\n",
       "    <tr>\n",
       "      <th>1</th>\n",
       "      <td>30075445</td>\n",
       "      <td>2018-05-11</td>\n",
       "      <td>5.0</td>\n",
       "      <td>Cycle Inspection / Initial Inspection</td>\n",
       "      <td>0.0</td>\n",
       "      <td>0.0</td>\n",
       "      <td>0.0</td>\n",
       "      <td>0.0</td>\n",
       "      <td>0.0</td>\n",
       "      <td>0.0</td>\n",
       "      <td>...</td>\n",
       "      <td>0.0</td>\n",
       "      <td>0.0</td>\n",
       "      <td>1.0</td>\n",
       "      <td>0.0</td>\n",
       "      <td>0.0</td>\n",
       "      <td>0.0</td>\n",
       "      <td>0.0</td>\n",
       "      <td>Violations were cited in the following area(s).</td>\n",
       "      <td>0</td>\n",
       "      <td>A</td>\n",
       "    </tr>\n",
       "    <tr>\n",
       "      <th>2</th>\n",
       "      <td>30075445</td>\n",
       "      <td>2019-05-16</td>\n",
       "      <td>14.0</td>\n",
       "      <td>Cycle Inspection / Initial Inspection</td>\n",
       "      <td>0.0</td>\n",
       "      <td>0.0</td>\n",
       "      <td>0.0</td>\n",
       "      <td>0.0</td>\n",
       "      <td>0.0</td>\n",
       "      <td>0.0</td>\n",
       "      <td>...</td>\n",
       "      <td>0.0</td>\n",
       "      <td>0.0</td>\n",
       "      <td>1.0</td>\n",
       "      <td>0.0</td>\n",
       "      <td>0.0</td>\n",
       "      <td>0.0</td>\n",
       "      <td>0.0</td>\n",
       "      <td>Violations were cited in the following area(s).</td>\n",
       "      <td>1</td>\n",
       "      <td>B</td>\n",
       "    </tr>\n",
       "    <tr>\n",
       "      <th>3</th>\n",
       "      <td>30112340</td>\n",
       "      <td>2016-10-03</td>\n",
       "      <td>48.0</td>\n",
       "      <td>Cycle Inspection / Initial Inspection</td>\n",
       "      <td>0.0</td>\n",
       "      <td>0.0</td>\n",
       "      <td>0.0</td>\n",
       "      <td>0.0</td>\n",
       "      <td>0.0</td>\n",
       "      <td>0.0</td>\n",
       "      <td>...</td>\n",
       "      <td>0.0</td>\n",
       "      <td>0.0</td>\n",
       "      <td>0.0</td>\n",
       "      <td>0.0</td>\n",
       "      <td>0.0</td>\n",
       "      <td>0.0</td>\n",
       "      <td>0.0</td>\n",
       "      <td>Violations were cited in the following area(s).</td>\n",
       "      <td>3</td>\n",
       "      <td>C</td>\n",
       "    </tr>\n",
       "    <tr>\n",
       "      <th>4</th>\n",
       "      <td>30112340</td>\n",
       "      <td>2017-06-26</td>\n",
       "      <td>7.0</td>\n",
       "      <td>Cycle Inspection / Initial Inspection</td>\n",
       "      <td>0.0</td>\n",
       "      <td>0.0</td>\n",
       "      <td>0.0</td>\n",
       "      <td>0.0</td>\n",
       "      <td>0.0</td>\n",
       "      <td>0.0</td>\n",
       "      <td>...</td>\n",
       "      <td>0.0</td>\n",
       "      <td>0.0</td>\n",
       "      <td>0.0</td>\n",
       "      <td>0.0</td>\n",
       "      <td>0.0</td>\n",
       "      <td>0.0</td>\n",
       "      <td>0.0</td>\n",
       "      <td>Violations were cited in the following area(s).</td>\n",
       "      <td>1</td>\n",
       "      <td>A</td>\n",
       "    </tr>\n",
       "  </tbody>\n",
       "</table>\n",
       "<p>5 rows × 72 columns</p>\n",
       "</div>"
      ],
      "text/plain": [
       "      CAMIS       DATE  SCORE                        INSPECTION TYPE  02A  \\\n",
       "0  30075445 2017-05-18    7.0  Cycle Inspection / Initial Inspection  0.0   \n",
       "1  30075445 2018-05-11    5.0  Cycle Inspection / Initial Inspection  0.0   \n",
       "2  30075445 2019-05-16   14.0  Cycle Inspection / Initial Inspection  0.0   \n",
       "3  30112340 2016-10-03   48.0  Cycle Inspection / Initial Inspection  0.0   \n",
       "4  30112340 2017-06-26    7.0  Cycle Inspection / Initial Inspection  0.0   \n",
       "\n",
       "   02B  02C  02D  02E  02F  ...  10D  10E  10F  10G  10H  10I  10J  \\\n",
       "0  0.0  0.0  0.0  0.0  0.0  ...  0.0  0.0  1.0  0.0  0.0  0.0  0.0   \n",
       "1  0.0  0.0  0.0  0.0  0.0  ...  0.0  0.0  1.0  0.0  0.0  0.0  0.0   \n",
       "2  0.0  0.0  0.0  0.0  0.0  ...  0.0  0.0  1.0  0.0  0.0  0.0  0.0   \n",
       "3  0.0  0.0  0.0  0.0  0.0  ...  0.0  0.0  0.0  0.0  0.0  0.0  0.0   \n",
       "4  0.0  0.0  0.0  0.0  0.0  ...  0.0  0.0  0.0  0.0  0.0  0.0  0.0   \n",
       "\n",
       "                                            ACTION  CRITICAL FLAG  GRADE  \n",
       "0  Violations were cited in the following area(s).              1      A  \n",
       "1  Violations were cited in the following area(s).              0      A  \n",
       "2  Violations were cited in the following area(s).              1      B  \n",
       "3  Violations were cited in the following area(s).              3      C  \n",
       "4  Violations were cited in the following area(s).              1      A  \n",
       "\n",
       "[5 rows x 72 columns]"
      ]
     },
     "execution_count": 9,
     "metadata": {},
     "output_type": "execute_result"
    }
   ],
   "source": [
    "df_init=pd.read_csv('initial.csv')\n",
    "df_init.drop(columns=['Unnamed: 0'],inplace=True)\n",
    "df_init['DATE']=pd.to_datetime(df_init['DATE'])\n",
    "df_init.head()"
   ]
  },
  {
   "cell_type": "code",
   "execution_count": 10,
   "metadata": {},
   "outputs": [],
   "source": [
    "ins_count=[]\n",
    "CAMIS=df_init['CAMIS'].unique()\n",
    "for cam in CAMIS:\n",
    "    ins_count.append(len(df_init.loc[df_init['CAMIS']==cam]))"
   ]
  },
  {
   "cell_type": "code",
   "execution_count": 11,
   "metadata": {},
   "outputs": [
    {
     "data": {
      "image/png": "[encoded data removed]",
      "text/plain": [
       "<Figure size 432x288 with 1 Axes>"
      ]
     },
     "metadata": {
      "needs_background": "light"
     },
     "output_type": "display_data"
    }
   ],
   "source": [
    "plt.hist(ins_count,bins=7)\n",
    "plt.title('Rate of Cycle/Initial Inspections per restaurant')\n",
    "plt.ylabel('Count', rotation=0)\n",
    "plt.xlabel('Number of Inspections')\n",
    "plt.show()"
   ]
  },
  {
   "cell_type": "code",
   "execution_count": 12,
   "metadata": {
    "scrolled": true
   },
   "outputs": [
    {
     "data": {
      "text/plain": [
       "3    9292\n",
       "4    5008\n",
       "2    3856\n",
       "1    2317\n",
       "5    1396\n",
       "6     168\n",
       "7       1\n",
       "dtype: int64"
      ]
     },
     "execution_count": 12,
     "metadata": {},
     "output_type": "execute_result"
    }
   ],
   "source": [
    "pd.Series(ins_count).value_counts()"
   ]
  },
  {
   "cell_type": "markdown",
   "metadata": {},
   "source": [
    "In order to investigate correlation between an inspection score and the previous inspection perofrmed at the same restaurant we may only consider resstaurants that have had more than 1 inspection."
   ]
  },
  {
   "cell_type": "code",
   "execution_count": 13,
   "metadata": {},
   "outputs": [],
   "source": [
    "df_init_sum=pd.DataFrame()\n",
    "df_init_sum['CAMIS']=CAMIS\n",
    "df_init_sum['ins_count']=ins_count\n",
    "twice_ins=df_init_sum.loc[df_init_sum['ins_count']>=2]['CAMIS'].values\n",
    "df_twice_init=df_init.loc[df_init['CAMIS'].isin(twice_ins)]"
   ]
  },
  {
   "cell_type": "code",
   "execution_count": 14,
   "metadata": {},
   "outputs": [
    {
     "name": "stderr",
     "output_type": "stream",
     "text": [
      "C:\\Users\\kosta\\Anaconda3\\lib\\site-packages\\ipykernel_launcher.py:7: SettingWithCopyWarning: \n",
      "A value is trying to be set on a copy of a slice from a DataFrame.\n",
      "Try using .loc[row_indexer,col_indexer] = value instead\n",
      "\n",
      "See the caveats in the documentation: http://pandas.pydata.org/pandas-docs/stable/indexing.html#indexing-view-versus-copy\n",
      "  import sys\n"
     ]
    }
   ],
   "source": [
    "prev=[]\n",
    "for cam,date in zip(df_twice_init['CAMIS'],df_twice_init['DATE']):\n",
    "    if len(df_init.loc[(df_init['CAMIS']==cam)&(df_init['DATE']<date)]['SCORE'])>0:\n",
    "        prev.append(df_init.loc[(df_init['CAMIS']==cam)&(df_init['DATE']<date)]['SCORE'].iloc[-1])\n",
    "    else:\n",
    "        prev.append(np.nan)\n",
    "df_twice_init['prev_score']=prev   "
   ]
  },
  {
   "cell_type": "code",
   "execution_count": 15,
   "metadata": {},
   "outputs": [
    {
     "name": "stdout",
     "output_type": "stream",
     "text": [
      "<class 'pandas.core.frame.DataFrame'>\n",
      "Int64Index: 63615 entries, 0 to 65801\n",
      "Data columns (total 2 columns):\n",
      "SCORE         63615 non-null float64\n",
      "prev_score    43894 non-null float64\n",
      "dtypes: float64(2)\n",
      "memory usage: 1.5 MB\n"
     ]
    }
   ],
   "source": [
    "df_twice_init[['SCORE','prev_score']].info()"
   ]
  },
  {
   "cell_type": "code",
   "execution_count": 16,
   "metadata": {},
   "outputs": [
    {
     "data": {
      "text/html": [
       "<div>\n",
       "<style scoped>\n",
       "    .dataframe tbody tr th:only-of-type {\n",
       "        vertical-align: middle;\n",
       "    }\n",
       "\n",
       "    .dataframe tbody tr th {\n",
       "        vertical-align: top;\n",
       "    }\n",
       "\n",
       "    .dataframe thead th {\n",
       "        text-align: right;\n",
       "    }\n",
       "</style>\n",
       "<table border=\"1\" class=\"dataframe\">\n",
       "  <thead>\n",
       "    <tr style=\"text-align: right;\">\n",
       "      <th></th>\n",
       "      <th>CAMIS</th>\n",
       "      <th>DATE</th>\n",
       "      <th>SCORE</th>\n",
       "      <th>INSPECTION TYPE</th>\n",
       "      <th>02A</th>\n",
       "      <th>02B</th>\n",
       "      <th>02C</th>\n",
       "      <th>02D</th>\n",
       "      <th>02E</th>\n",
       "      <th>02F</th>\n",
       "      <th>...</th>\n",
       "      <th>10E</th>\n",
       "      <th>10F</th>\n",
       "      <th>10G</th>\n",
       "      <th>10H</th>\n",
       "      <th>10I</th>\n",
       "      <th>10J</th>\n",
       "      <th>ACTION</th>\n",
       "      <th>CRITICAL FLAG</th>\n",
       "      <th>GRADE</th>\n",
       "      <th>prev_score</th>\n",
       "    </tr>\n",
       "  </thead>\n",
       "  <tbody>\n",
       "    <tr>\n",
       "      <th>0</th>\n",
       "      <td>30075445</td>\n",
       "      <td>2017-05-18</td>\n",
       "      <td>7.0</td>\n",
       "      <td>Cycle Inspection / Initial Inspection</td>\n",
       "      <td>0.0</td>\n",
       "      <td>0.0</td>\n",
       "      <td>0.0</td>\n",
       "      <td>0.0</td>\n",
       "      <td>0.0</td>\n",
       "      <td>0.0</td>\n",
       "      <td>...</td>\n",
       "      <td>0.0</td>\n",
       "      <td>1.0</td>\n",
       "      <td>0.0</td>\n",
       "      <td>0.0</td>\n",
       "      <td>0.0</td>\n",
       "      <td>0.0</td>\n",
       "      <td>Violations were cited in the following area(s).</td>\n",
       "      <td>1</td>\n",
       "      <td>A</td>\n",
       "      <td>NaN</td>\n",
       "    </tr>\n",
       "    <tr>\n",
       "      <th>1</th>\n",
       "      <td>30075445</td>\n",
       "      <td>2018-05-11</td>\n",
       "      <td>5.0</td>\n",
       "      <td>Cycle Inspection / Initial Inspection</td>\n",
       "      <td>0.0</td>\n",
       "      <td>0.0</td>\n",
       "      <td>0.0</td>\n",
       "      <td>0.0</td>\n",
       "      <td>0.0</td>\n",
       "      <td>0.0</td>\n",
       "      <td>...</td>\n",
       "      <td>0.0</td>\n",
       "      <td>1.0</td>\n",
       "      <td>0.0</td>\n",
       "      <td>0.0</td>\n",
       "      <td>0.0</td>\n",
       "      <td>0.0</td>\n",
       "      <td>Violations were cited in the following area(s).</td>\n",
       "      <td>0</td>\n",
       "      <td>A</td>\n",
       "      <td>7.0</td>\n",
       "    </tr>\n",
       "    <tr>\n",
       "      <th>2</th>\n",
       "      <td>30075445</td>\n",
       "      <td>2019-05-16</td>\n",
       "      <td>14.0</td>\n",
       "      <td>Cycle Inspection / Initial Inspection</td>\n",
       "      <td>0.0</td>\n",
       "      <td>0.0</td>\n",
       "      <td>0.0</td>\n",
       "      <td>0.0</td>\n",
       "      <td>0.0</td>\n",
       "      <td>0.0</td>\n",
       "      <td>...</td>\n",
       "      <td>0.0</td>\n",
       "      <td>1.0</td>\n",
       "      <td>0.0</td>\n",
       "      <td>0.0</td>\n",
       "      <td>0.0</td>\n",
       "      <td>0.0</td>\n",
       "      <td>Violations were cited in the following area(s).</td>\n",
       "      <td>1</td>\n",
       "      <td>B</td>\n",
       "      <td>5.0</td>\n",
       "    </tr>\n",
       "    <tr>\n",
       "      <th>3</th>\n",
       "      <td>30112340</td>\n",
       "      <td>2016-10-03</td>\n",
       "      <td>48.0</td>\n",
       "      <td>Cycle Inspection / Initial Inspection</td>\n",
       "      <td>0.0</td>\n",
       "      <td>0.0</td>\n",
       "      <td>0.0</td>\n",
       "      <td>0.0</td>\n",
       "      <td>0.0</td>\n",
       "      <td>0.0</td>\n",
       "      <td>...</td>\n",
       "      <td>0.0</td>\n",
       "      <td>0.0</td>\n",
       "      <td>0.0</td>\n",
       "      <td>0.0</td>\n",
       "      <td>0.0</td>\n",
       "      <td>0.0</td>\n",
       "      <td>Violations were cited in the following area(s).</td>\n",
       "      <td>3</td>\n",
       "      <td>C</td>\n",
       "      <td>NaN</td>\n",
       "    </tr>\n",
       "    <tr>\n",
       "      <th>4</th>\n",
       "      <td>30112340</td>\n",
       "      <td>2017-06-26</td>\n",
       "      <td>7.0</td>\n",
       "      <td>Cycle Inspection / Initial Inspection</td>\n",
       "      <td>0.0</td>\n",
       "      <td>0.0</td>\n",
       "      <td>0.0</td>\n",
       "      <td>0.0</td>\n",
       "      <td>0.0</td>\n",
       "      <td>0.0</td>\n",
       "      <td>...</td>\n",
       "      <td>0.0</td>\n",
       "      <td>0.0</td>\n",
       "      <td>0.0</td>\n",
       "      <td>0.0</td>\n",
       "      <td>0.0</td>\n",
       "      <td>0.0</td>\n",
       "      <td>Violations were cited in the following area(s).</td>\n",
       "      <td>1</td>\n",
       "      <td>A</td>\n",
       "      <td>48.0</td>\n",
       "    </tr>\n",
       "  </tbody>\n",
       "</table>\n",
       "<p>5 rows × 73 columns</p>\n",
       "</div>"
      ],
      "text/plain": [
       "      CAMIS       DATE  SCORE                        INSPECTION TYPE  02A  \\\n",
       "0  30075445 2017-05-18    7.0  Cycle Inspection / Initial Inspection  0.0   \n",
       "1  30075445 2018-05-11    5.0  Cycle Inspection / Initial Inspection  0.0   \n",
       "2  30075445 2019-05-16   14.0  Cycle Inspection / Initial Inspection  0.0   \n",
       "3  30112340 2016-10-03   48.0  Cycle Inspection / Initial Inspection  0.0   \n",
       "4  30112340 2017-06-26    7.0  Cycle Inspection / Initial Inspection  0.0   \n",
       "\n",
       "   02B  02C  02D  02E  02F  ...  10E  10F  10G  10H  10I  10J  \\\n",
       "0  0.0  0.0  0.0  0.0  0.0  ...  0.0  1.0  0.0  0.0  0.0  0.0   \n",
       "1  0.0  0.0  0.0  0.0  0.0  ...  0.0  1.0  0.0  0.0  0.0  0.0   \n",
       "2  0.0  0.0  0.0  0.0  0.0  ...  0.0  1.0  0.0  0.0  0.0  0.0   \n",
       "3  0.0  0.0  0.0  0.0  0.0  ...  0.0  0.0  0.0  0.0  0.0  0.0   \n",
       "4  0.0  0.0  0.0  0.0  0.0  ...  0.0  0.0  0.0  0.0  0.0  0.0   \n",
       "\n",
       "                                            ACTION  CRITICAL FLAG  GRADE  \\\n",
       "0  Violations were cited in the following area(s).              1      A   \n",
       "1  Violations were cited in the following area(s).              0      A   \n",
       "2  Violations were cited in the following area(s).              1      B   \n",
       "3  Violations were cited in the following area(s).              3      C   \n",
       "4  Violations were cited in the following area(s).              1      A   \n",
       "\n",
       "   prev_score  \n",
       "0         NaN  \n",
       "1         7.0  \n",
       "2         5.0  \n",
       "3         NaN  \n",
       "4        48.0  \n",
       "\n",
       "[5 rows x 73 columns]"
      ]
     },
     "execution_count": 16,
     "metadata": {},
     "output_type": "execute_result"
    }
   ],
   "source": [
    "df_twice_init.head()"
   ]
  },
  {
   "cell_type": "code",
   "execution_count": 17,
   "metadata": {},
   "outputs": [
    {
     "name": "stderr",
     "output_type": "stream",
     "text": [
      "C:\\Users\\kosta\\Anaconda3\\lib\\site-packages\\ipykernel_launcher.py:1: SettingWithCopyWarning: \n",
      "A value is trying to be set on a copy of a slice from a DataFrame\n",
      "\n",
      "See the caveats in the documentation: http://pandas.pydata.org/pandas-docs/stable/indexing.html#indexing-view-versus-copy\n",
      "  \"\"\"Entry point for launching an IPython kernel.\n"
     ]
    }
   ],
   "source": [
    "df_twice_init.dropna(inplace=True)\n",
    "# nan values are the first inspection for that restaurant in the dataset, there is no previous inspection to compare against"
   ]
  },
  {
   "cell_type": "code",
   "execution_count": 18,
   "metadata": {},
   "outputs": [
    {
     "data": {
      "image/png": "[encoded data removed]",
      "text/plain": [
       "<Figure size 576x576 with 2 Axes>"
      ]
     },
     "metadata": {
      "needs_background": "light"
     },
     "output_type": "display_data"
    }
   ],
   "source": [
    "plt.figure(figsize=(8,8))\n",
    "plt.scatter(df_twice_init['prev_score'],df_twice_init['SCORE'],alpha=0.5,c=df_twice_init['prev_score']-df_twice_init['SCORE']>0)\n",
    "plt.title('Scatter plot of Inspection Score vs Previous Inspection Score ')\n",
    "plt.plot([0,20,100],[0,20,100],color='red',label='relative improvement line')\n",
    "plt.xlabel('Previous Inspection Score')\n",
    "plt.ylabel('Inspection Score')\n",
    "plt.colorbar()\n",
    "plt.legend()\n",
    "plt.show()"
   ]
  },
  {
   "cell_type": "code",
   "execution_count": 19,
   "metadata": {
    "scrolled": true
   },
   "outputs": [
    {
     "data": {
      "text/html": [
       "<div>\n",
       "<style scoped>\n",
       "    .dataframe tbody tr th:only-of-type {\n",
       "        vertical-align: middle;\n",
       "    }\n",
       "\n",
       "    .dataframe tbody tr th {\n",
       "        vertical-align: top;\n",
       "    }\n",
       "\n",
       "    .dataframe thead th {\n",
       "        text-align: right;\n",
       "    }\n",
       "</style>\n",
       "<table border=\"1\" class=\"dataframe\">\n",
       "  <thead>\n",
       "    <tr style=\"text-align: right;\">\n",
       "      <th></th>\n",
       "      <th>SCORE</th>\n",
       "      <th>prev_score</th>\n",
       "    </tr>\n",
       "  </thead>\n",
       "  <tbody>\n",
       "    <tr>\n",
       "      <th>SCORE</th>\n",
       "      <td>1.000000</td>\n",
       "      <td>0.232972</td>\n",
       "    </tr>\n",
       "    <tr>\n",
       "      <th>prev_score</th>\n",
       "      <td>0.232972</td>\n",
       "      <td>1.000000</td>\n",
       "    </tr>\n",
       "  </tbody>\n",
       "</table>\n",
       "</div>"
      ],
      "text/plain": [
       "               SCORE  prev_score\n",
       "SCORE       1.000000    0.232972\n",
       "prev_score  0.232972    1.000000"
      ]
     },
     "execution_count": 19,
     "metadata": {},
     "output_type": "execute_result"
    }
   ],
   "source": [
    "df_twice_init[['SCORE','prev_score']].corr()"
   ]
  },
  {
   "cell_type": "markdown",
   "metadata": {},
   "source": [
    "Surprisingly the score received by a restaurant upon inspection is only weakly correlated to its previous inspection. Restaurants are absolutely capable of adapting their practices and improving (or disimproving)"
   ]
  },
  {
   "cell_type": "code",
   "execution_count": 20,
   "metadata": {},
   "outputs": [
    {
     "name": "stdout",
     "output_type": "stream",
     "text": [
      "better 0.48\n",
      "same 0.06\n",
      "worse 0.46\n"
     ]
    }
   ],
   "source": [
    "print('better',round(sum(df_twice_init['prev_score']-df_twice_init['SCORE']>0)/len(df_twice_init),2))\n",
    "print('same',round(sum(df_twice_init['prev_score']-df_twice_init['SCORE']==0)/len(df_twice_init),2))\n",
    "print('worse',round(sum(df_twice_init['prev_score']-df_twice_init['SCORE']<0)/len(df_twice_init),2))\n",
    "\n",
    "      "
   ]
  },
  {
   "cell_type": "code",
   "execution_count": 21,
   "metadata": {},
   "outputs": [
    {
     "name": "stderr",
     "output_type": "stream",
     "text": [
      "C:\\Users\\kosta\\Anaconda3\\lib\\site-packages\\ipykernel_launcher.py:4: SettingWithCopyWarning: \n",
      "A value is trying to be set on a copy of a slice from a DataFrame.\n",
      "Try using .loc[row_indexer,col_indexer] = value instead\n",
      "\n",
      "See the caveats in the documentation: http://pandas.pydata.org/pandas-docs/stable/indexing.html#indexing-view-versus-copy\n",
      "  after removing the cwd from sys.path.\n"
     ]
    },
    {
     "data": {
      "text/html": [
       "<div>\n",
       "<style scoped>\n",
       "    .dataframe tbody tr th:only-of-type {\n",
       "        vertical-align: middle;\n",
       "    }\n",
       "\n",
       "    .dataframe tbody tr th {\n",
       "        vertical-align: top;\n",
       "    }\n",
       "\n",
       "    .dataframe thead th {\n",
       "        text-align: right;\n",
       "    }\n",
       "</style>\n",
       "<table border=\"1\" class=\"dataframe\">\n",
       "  <thead>\n",
       "    <tr style=\"text-align: right;\">\n",
       "      <th></th>\n",
       "      <th>CAMIS</th>\n",
       "      <th>DATE</th>\n",
       "      <th>SCORE</th>\n",
       "      <th>INSPECTION TYPE</th>\n",
       "      <th>02A</th>\n",
       "      <th>02B</th>\n",
       "      <th>02C</th>\n",
       "      <th>02D</th>\n",
       "      <th>02E</th>\n",
       "      <th>02F</th>\n",
       "      <th>...</th>\n",
       "      <th>10F</th>\n",
       "      <th>10G</th>\n",
       "      <th>10H</th>\n",
       "      <th>10I</th>\n",
       "      <th>10J</th>\n",
       "      <th>ACTION</th>\n",
       "      <th>CRITICAL FLAG</th>\n",
       "      <th>GRADE</th>\n",
       "      <th>prev_score</th>\n",
       "      <th>prev_critical</th>\n",
       "    </tr>\n",
       "  </thead>\n",
       "  <tbody>\n",
       "    <tr>\n",
       "      <th>1</th>\n",
       "      <td>30075445</td>\n",
       "      <td>2018-05-11</td>\n",
       "      <td>5.0</td>\n",
       "      <td>Cycle Inspection / Initial Inspection</td>\n",
       "      <td>0.0</td>\n",
       "      <td>0.0</td>\n",
       "      <td>0.0</td>\n",
       "      <td>0.0</td>\n",
       "      <td>0.0</td>\n",
       "      <td>0.0</td>\n",
       "      <td>...</td>\n",
       "      <td>1.0</td>\n",
       "      <td>0.0</td>\n",
       "      <td>0.0</td>\n",
       "      <td>0.0</td>\n",
       "      <td>0.0</td>\n",
       "      <td>Violations were cited in the following area(s).</td>\n",
       "      <td>0</td>\n",
       "      <td>A</td>\n",
       "      <td>7.0</td>\n",
       "      <td>1</td>\n",
       "    </tr>\n",
       "    <tr>\n",
       "      <th>2</th>\n",
       "      <td>30075445</td>\n",
       "      <td>2019-05-16</td>\n",
       "      <td>14.0</td>\n",
       "      <td>Cycle Inspection / Initial Inspection</td>\n",
       "      <td>0.0</td>\n",
       "      <td>0.0</td>\n",
       "      <td>0.0</td>\n",
       "      <td>0.0</td>\n",
       "      <td>0.0</td>\n",
       "      <td>0.0</td>\n",
       "      <td>...</td>\n",
       "      <td>1.0</td>\n",
       "      <td>0.0</td>\n",
       "      <td>0.0</td>\n",
       "      <td>0.0</td>\n",
       "      <td>0.0</td>\n",
       "      <td>Violations were cited in the following area(s).</td>\n",
       "      <td>1</td>\n",
       "      <td>B</td>\n",
       "      <td>5.0</td>\n",
       "      <td>0</td>\n",
       "    </tr>\n",
       "    <tr>\n",
       "      <th>4</th>\n",
       "      <td>30112340</td>\n",
       "      <td>2017-06-26</td>\n",
       "      <td>7.0</td>\n",
       "      <td>Cycle Inspection / Initial Inspection</td>\n",
       "      <td>0.0</td>\n",
       "      <td>0.0</td>\n",
       "      <td>0.0</td>\n",
       "      <td>0.0</td>\n",
       "      <td>0.0</td>\n",
       "      <td>0.0</td>\n",
       "      <td>...</td>\n",
       "      <td>0.0</td>\n",
       "      <td>0.0</td>\n",
       "      <td>0.0</td>\n",
       "      <td>0.0</td>\n",
       "      <td>0.0</td>\n",
       "      <td>Violations were cited in the following area(s).</td>\n",
       "      <td>1</td>\n",
       "      <td>A</td>\n",
       "      <td>48.0</td>\n",
       "      <td>3</td>\n",
       "    </tr>\n",
       "    <tr>\n",
       "      <th>5</th>\n",
       "      <td>30112340</td>\n",
       "      <td>2018-03-13</td>\n",
       "      <td>12.0</td>\n",
       "      <td>Cycle Inspection / Initial Inspection</td>\n",
       "      <td>0.0</td>\n",
       "      <td>0.0</td>\n",
       "      <td>0.0</td>\n",
       "      <td>0.0</td>\n",
       "      <td>0.0</td>\n",
       "      <td>0.0</td>\n",
       "      <td>...</td>\n",
       "      <td>0.0</td>\n",
       "      <td>0.0</td>\n",
       "      <td>0.0</td>\n",
       "      <td>0.0</td>\n",
       "      <td>0.0</td>\n",
       "      <td>Violations were cited in the following area(s).</td>\n",
       "      <td>1</td>\n",
       "      <td>A</td>\n",
       "      <td>7.0</td>\n",
       "      <td>1</td>\n",
       "    </tr>\n",
       "    <tr>\n",
       "      <th>6</th>\n",
       "      <td>30112340</td>\n",
       "      <td>2019-03-04</td>\n",
       "      <td>13.0</td>\n",
       "      <td>Cycle Inspection / Initial Inspection</td>\n",
       "      <td>0.0</td>\n",
       "      <td>0.0</td>\n",
       "      <td>0.0</td>\n",
       "      <td>0.0</td>\n",
       "      <td>0.0</td>\n",
       "      <td>0.0</td>\n",
       "      <td>...</td>\n",
       "      <td>1.0</td>\n",
       "      <td>0.0</td>\n",
       "      <td>0.0</td>\n",
       "      <td>0.0</td>\n",
       "      <td>0.0</td>\n",
       "      <td>Violations were cited in the following area(s).</td>\n",
       "      <td>1</td>\n",
       "      <td>A</td>\n",
       "      <td>12.0</td>\n",
       "      <td>1</td>\n",
       "    </tr>\n",
       "  </tbody>\n",
       "</table>\n",
       "<p>5 rows × 74 columns</p>\n",
       "</div>"
      ],
      "text/plain": [
       "      CAMIS       DATE  SCORE                        INSPECTION TYPE  02A  \\\n",
       "1  30075445 2018-05-11    5.0  Cycle Inspection / Initial Inspection  0.0   \n",
       "2  30075445 2019-05-16   14.0  Cycle Inspection / Initial Inspection  0.0   \n",
       "4  30112340 2017-06-26    7.0  Cycle Inspection / Initial Inspection  0.0   \n",
       "5  30112340 2018-03-13   12.0  Cycle Inspection / Initial Inspection  0.0   \n",
       "6  30112340 2019-03-04   13.0  Cycle Inspection / Initial Inspection  0.0   \n",
       "\n",
       "   02B  02C  02D  02E  02F  ...  10F  10G  10H  10I  10J  \\\n",
       "1  0.0  0.0  0.0  0.0  0.0  ...  1.0  0.0  0.0  0.0  0.0   \n",
       "2  0.0  0.0  0.0  0.0  0.0  ...  1.0  0.0  0.0  0.0  0.0   \n",
       "4  0.0  0.0  0.0  0.0  0.0  ...  0.0  0.0  0.0  0.0  0.0   \n",
       "5  0.0  0.0  0.0  0.0  0.0  ...  0.0  0.0  0.0  0.0  0.0   \n",
       "6  0.0  0.0  0.0  0.0  0.0  ...  1.0  0.0  0.0  0.0  0.0   \n",
       "\n",
       "                                            ACTION  CRITICAL FLAG  GRADE  \\\n",
       "1  Violations were cited in the following area(s).              0      A   \n",
       "2  Violations were cited in the following area(s).              1      B   \n",
       "4  Violations were cited in the following area(s).              1      A   \n",
       "5  Violations were cited in the following area(s).              1      A   \n",
       "6  Violations were cited in the following area(s).              1      A   \n",
       "\n",
       "   prev_score  prev_critical  \n",
       "1         7.0              1  \n",
       "2         5.0              0  \n",
       "4        48.0              3  \n",
       "5         7.0              1  \n",
       "6        12.0              1  \n",
       "\n",
       "[5 rows x 74 columns]"
      ]
     },
     "execution_count": 21,
     "metadata": {},
     "output_type": "execute_result"
    }
   ],
   "source": [
    "prev_crit=[]\n",
    "for cam,date in zip(df_twice_init['CAMIS'],df_twice_init['DATE']):\n",
    "    prev_crit.append(df_init.loc[(df_init['CAMIS']==cam)&(df_init['DATE']<date)]['CRITICAL FLAG'].iloc[-1])\n",
    "df_twice_init['prev_critical']=prev_crit          \n",
    "df_twice_init.head()"
   ]
  },
  {
   "cell_type": "code",
   "execution_count": 22,
   "metadata": {},
   "outputs": [
    {
     "data": {
      "text/html": [
       "<div>\n",
       "<style scoped>\n",
       "    .dataframe tbody tr th:only-of-type {\n",
       "        vertical-align: middle;\n",
       "    }\n",
       "\n",
       "    .dataframe tbody tr th {\n",
       "        vertical-align: top;\n",
       "    }\n",
       "\n",
       "    .dataframe thead th {\n",
       "        text-align: right;\n",
       "    }\n",
       "</style>\n",
       "<table border=\"1\" class=\"dataframe\">\n",
       "  <thead>\n",
       "    <tr style=\"text-align: right;\">\n",
       "      <th></th>\n",
       "      <th>CRITICAL FLAG</th>\n",
       "      <th>prev_critical</th>\n",
       "    </tr>\n",
       "  </thead>\n",
       "  <tbody>\n",
       "    <tr>\n",
       "      <th>CRITICAL FLAG</th>\n",
       "      <td>1.000000</td>\n",
       "      <td>0.266088</td>\n",
       "    </tr>\n",
       "    <tr>\n",
       "      <th>prev_critical</th>\n",
       "      <td>0.266088</td>\n",
       "      <td>1.000000</td>\n",
       "    </tr>\n",
       "  </tbody>\n",
       "</table>\n",
       "</div>"
      ],
      "text/plain": [
       "               CRITICAL FLAG  prev_critical\n",
       "CRITICAL FLAG       1.000000       0.266088\n",
       "prev_critical       0.266088       1.000000"
      ]
     },
     "execution_count": 22,
     "metadata": {},
     "output_type": "execute_result"
    }
   ],
   "source": [
    "df_twice_init[['CRITICAL FLAG','prev_critical']].corr()"
   ]
  },
  {
   "cell_type": "code",
   "execution_count": 23,
   "metadata": {
    "scrolled": false
   },
   "outputs": [
    {
     "data": {
      "image/png": "[encoded data removed]",
      "text/plain": [
       "<Figure size 1008x576 with 1 Axes>"
      ]
     },
     "metadata": {
      "needs_background": "light"
     },
     "output_type": "display_data"
    }
   ],
   "source": [
    "plt.figure(figsize=(14,8))\n",
    "sns.boxplot(df_twice_init['prev_critical'],df_twice_init['CRITICAL FLAG'],showmeans=True,meanprops=dict(marker='D', markeredgecolor='black',markerfacecolor='firebrick'))\n",
    "plt.title('Boxplots of number of critical flags for inspection and previous inspection')\n",
    "plt.ylabel('Inspection critical flags')\n",
    "plt.xlabel('previous inspection critical flags')\n",
    "plt.show()"
   ]
  },
  {
   "cell_type": "code",
   "execution_count": 24,
   "metadata": {
    "scrolled": true
   },
   "outputs": [
    {
     "name": "stdout",
     "output_type": "stream",
     "text": [
      "better 0.36\n",
      "same 0.31\n",
      "worse 0.33\n"
     ]
    }
   ],
   "source": [
    "print('better',round(sum(df_twice_init['prev_critical']-df_twice_init['CRITICAL FLAG']>0)/len(df_twice_init),2))\n",
    "print('same',round(sum(df_twice_init['prev_critical']-df_twice_init['CRITICAL FLAG']==0)/len(df_twice_init),2))\n",
    "print('worse',round(sum(df_twice_init['prev_critical']-df_twice_init['CRITICAL FLAG']<0)/len(df_twice_init),2))"
   ]
  },
  {
   "cell_type": "code",
   "execution_count": 25,
   "metadata": {},
   "outputs": [
    {
     "data": {
      "text/plain": [
       "0     0.098351\n",
       "1     0.389119\n",
       "2     0.267485\n",
       "3     0.149633\n",
       "4     0.062674\n",
       "5     0.021780\n",
       "6     0.007473\n",
       "7     0.002392\n",
       "8     0.000820\n",
       "9     0.000182\n",
       "10    0.000046\n",
       "11    0.000046\n",
       "Name: prev_critical, dtype: float64"
      ]
     },
     "execution_count": 25,
     "metadata": {},
     "output_type": "execute_result"
    }
   ],
   "source": [
    "df_twice_init['prev_critical'].value_counts(normalize=True).sort_index()"
   ]
  },
  {
   "cell_type": "code",
   "execution_count": 26,
   "metadata": {},
   "outputs": [
    {
     "data": {
      "text/plain": [
       "0     0.110562\n",
       "1     0.407345\n",
       "2     0.247437\n",
       "3     0.140520\n",
       "4     0.060350\n",
       "5     0.022463\n",
       "6     0.007313\n",
       "7     0.002757\n",
       "8     0.000729\n",
       "9     0.000342\n",
       "10    0.000091\n",
       "11    0.000068\n",
       "13    0.000023\n",
       "Name: CRITICAL FLAG, dtype: float64"
      ]
     },
     "execution_count": 26,
     "metadata": {},
     "output_type": "execute_result"
    }
   ],
   "source": [
    "df_twice_init['CRITICAL FLAG'].value_counts(normalize=True).sort_index()"
   ]
  },
  {
   "cell_type": "code",
   "execution_count": 27,
   "metadata": {
    "scrolled": false
   },
   "outputs": [
    {
     "name": "stderr",
     "output_type": "stream",
     "text": [
      "C:\\Users\\kosta\\Anaconda3\\lib\\site-packages\\scipy\\stats\\stats.py:1713: FutureWarning: Using a non-tuple sequence for multidimensional indexing is deprecated; use `arr[tuple(seq)]` instead of `arr[seq]`. In the future this will be interpreted as an array index, `arr[np.array(seq)]`, which will result either in an error or a different result.\n",
      "  return np.add.reduce(sorted[indexer] * weights, axis=axis) / sumval\n"
     ]
    },
    {
     "data": {
      "image/png": "[encoded data removed]",
      "text/plain": [
       "<Figure size 1008x288 with 2 Axes>"
      ]
     },
     "metadata": {
      "needs_background": "light"
     },
     "output_type": "display_data"
    }
   ],
   "source": [
    "plt.figure(figsize=(14,4))\n",
    "plt.subplot(1,2,1)\n",
    "plt.plot(df_twice_init['prev_critical'].value_counts(normalize=True).sort_index(),label='previous')\n",
    "plt.plot(df_twice_init['CRITICAL FLAG'].value_counts(normalize=True).sort_index(),label='current')\n",
    "plt.title('Critical Flags and Previous Critical Flags normalized plot')\n",
    "plt.legend()\n",
    "plt.xlabel('Number of critical flags')\n",
    "plt.ylabel('relative frequency (%)')\n",
    "\n",
    "plt.subplot(1,2,2)\n",
    "sns.distplot(df_twice_init['prev_critical'].value_counts(normalize=True),label='previous')\n",
    "sns.distplot(df_twice_init['CRITICAL FLAG'].value_counts(normalize=True),label='current')\n",
    "plt.title('Normalized Critical Flags and Previous Critical Flags Distribution plot')\n",
    "plt.legend()\n",
    "# plt.xlabel('Number of critical flags')\n",
    "# plt.ylabel('relative frequency (%)')\n",
    "plt.show()"
   ]
  },
  {
   "cell_type": "code",
   "execution_count": 28,
   "metadata": {},
   "outputs": [
    {
     "name": "stderr",
     "output_type": "stream",
     "text": [
      "C:\\Users\\kosta\\Anaconda3\\lib\\site-packages\\ipykernel_launcher.py:1: SettingWithCopyWarning: \n",
      "A value is trying to be set on a copy of a slice from a DataFrame.\n",
      "Try using .loc[row_indexer,col_indexer] = value instead\n",
      "\n",
      "See the caveats in the documentation: http://pandas.pydata.org/pandas-docs/stable/indexing.html#indexing-view-versus-copy\n",
      "  \"\"\"Entry point for launching an IPython kernel.\n",
      "C:\\Users\\kosta\\Anaconda3\\lib\\site-packages\\ipykernel_launcher.py:2: SettingWithCopyWarning: \n",
      "A value is trying to be set on a copy of a slice from a DataFrame.\n",
      "Try using .loc[row_indexer,col_indexer] = value instead\n",
      "\n",
      "See the caveats in the documentation: http://pandas.pydata.org/pandas-docs/stable/indexing.html#indexing-view-versus-copy\n",
      "  \n"
     ]
    }
   ],
   "source": [
    "df_twice_init['A']=df_twice_init['GRADE']=='A'\n",
    "df_twice_init['prev_A']=df_twice_init['prev_score']<=13"
   ]
  },
  {
   "cell_type": "code",
   "execution_count": 29,
   "metadata": {},
   "outputs": [
    {
     "data": {
      "text/html": [
       "<div>\n",
       "<style scoped>\n",
       "    .dataframe tbody tr th:only-of-type {\n",
       "        vertical-align: middle;\n",
       "    }\n",
       "\n",
       "    .dataframe tbody tr th {\n",
       "        vertical-align: top;\n",
       "    }\n",
       "\n",
       "    .dataframe thead th {\n",
       "        text-align: right;\n",
       "    }\n",
       "</style>\n",
       "<table border=\"1\" class=\"dataframe\">\n",
       "  <thead>\n",
       "    <tr style=\"text-align: right;\">\n",
       "      <th></th>\n",
       "      <th>A</th>\n",
       "      <th>prev_A</th>\n",
       "    </tr>\n",
       "  </thead>\n",
       "  <tbody>\n",
       "    <tr>\n",
       "      <th>A</th>\n",
       "      <td>1.000000</td>\n",
       "      <td>0.234849</td>\n",
       "    </tr>\n",
       "    <tr>\n",
       "      <th>prev_A</th>\n",
       "      <td>0.234849</td>\n",
       "      <td>1.000000</td>\n",
       "    </tr>\n",
       "  </tbody>\n",
       "</table>\n",
       "</div>"
      ],
      "text/plain": [
       "               A    prev_A\n",
       "A       1.000000  0.234849\n",
       "prev_A  0.234849  1.000000"
      ]
     },
     "execution_count": 29,
     "metadata": {},
     "output_type": "execute_result"
    }
   ],
   "source": [
    "df_twice_init[['A','prev_A']].corr()"
   ]
  },
  {
   "cell_type": "code",
   "execution_count": 30,
   "metadata": {},
   "outputs": [
    {
     "data": {
      "text/plain": [
       "prev_A  A    \n",
       "False   False    10060\n",
       "        True      8675\n",
       "True    True     17510\n",
       "        False     7649\n",
       "Name: A, dtype: int64"
      ]
     },
     "execution_count": 30,
     "metadata": {},
     "output_type": "execute_result"
    }
   ],
   "source": [
    "df_twice_init.groupby('prev_A')['A'].value_counts()"
   ]
  },
  {
   "cell_type": "markdown",
   "metadata": {},
   "source": [
    "<img src='improvement.png'>"
   ]
  },
  {
   "cell_type": "markdown",
   "metadata": {},
   "source": [
    "40% of two inspection cycles are consistently A on both inspections <br>\n",
    "17% of two inspection cycles see a restaurant imrove from Not A to an A<br>\n",
    "20% of two inspection cycles see a restaurant disimprove from an A to Not A<br>\n",
    "23% of two inspection cycles are conssitentley Not A on both inspections<br>\n",
    "\n"
   ]
  },
  {
   "cell_type": "code",
   "execution_count": null,
   "metadata": {},
   "outputs": [],
   "source": []
  },
  {
   "cell_type": "code",
   "execution_count": 32,
   "metadata": {},
   "outputs": [],
   "source": [
    "df_twice_init.to_csv('twice_init.csv')"
   ]
  },
  {
   "cell_type": "code",
   "execution_count": null,
   "metadata": {},
   "outputs": [],
   "source": []
  }
 ],
 "metadata": {
  "kernelspec": {
   "display_name": "Python 3",
   "language": "python",
   "name": "python3"
  },
  "language_info": {
   "codemirror_mode": {
    "name": "ipython",
    "version": 3
   },
   "file_extension": ".py",
   "mimetype": "text/x-python",
   "name": "python",
   "nbconvert_exporter": "python",
   "pygments_lexer": "ipython3",
   "version": "3.7.0"
  }
 },
 "nbformat": 4,
 "nbformat_minor": 2
}
