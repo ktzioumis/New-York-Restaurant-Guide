{
 "cells": [
  {
   "cell_type": "code",
   "execution_count": 2,
   "metadata": {},
   "outputs": [
    {
     "name": "stderr",
     "output_type": "stream",
     "text": [
      "C:\\Users\\kosta\\Anaconda3\\lib\\site-packages\\ipykernel_launcher.py:7: SettingWithCopyWarning: \n",
      "A value is trying to be set on a copy of a slice from a DataFrame.\n",
      "Try using .loc[row_indexer,col_indexer] = value instead\n",
      "\n",
      "See the caveats in the documentation: http://pandas.pydata.org/pandas-docs/stable/indexing.html#indexing-view-versus-copy\n",
      "  import sys\n"
     ]
    }
   ],
   "source": [
    "import pandas as pd\n",
    "import numpy as np\n",
    "import matplotlib.pyplot as plt\n",
    "\n",
    "df=pd.read_csv('DOHMH_New_York_City_Restaurant_Inspection_Results.csv')\n",
    "df_cycles=df[df['INSPECTION TYPE'].str.contains('Cycle',regex=False, na=False)]\n",
    "df_cycles['INSPECTION DATE']=pd.to_datetime(df['INSPECTION DATE'])\n"
   ]
  },
  {
   "cell_type": "markdown",
   "metadata": {},
   "source": []
  },
  {
   "cell_type": "code",
   "execution_count": 3,
   "metadata": {
    "scrolled": true
   },
   "outputs": [
    {
     "data": {
      "text/plain": [
       "Violations were cited in the following area(s).                                                                                        306617\n",
       "Establishment Closed by DOHMH.  Violations were cited in the following area(s) and those requiring immediate action were addressed.     11498\n",
       "Establishment re-opened by DOHMH                                                                                                         3264\n",
       "Establishment re-closed by DOHMH                                                                                                          873\n",
       "No violations were recorded at the time of this inspection.                                                                               736\n",
       "Name: ACTION, dtype: int64"
      ]
     },
     "execution_count": 3,
     "metadata": {},
     "output_type": "execute_result"
    }
   ],
   "source": [
    "df_cycles.ACTION.value_counts()"
   ]
  },
  {
   "cell_type": "code",
   "execution_count": 4,
   "metadata": {},
   "outputs": [],
   "source": [
    "CAMIS=df_cycles.CAMIS.unique()\n",
    "#construct dictionary of individual inspections at establishment\n",
    "rest_inspection_dates={}\n",
    "for cam in CAMIS:\n",
    "    rest_inspection_dates[cam]=df_cycles.loc[df_cycles['CAMIS']==cam]['INSPECTION DATE'].unique()\n"
   ]
  },
  {
   "cell_type": "code",
   "execution_count": 5,
   "metadata": {},
   "outputs": [
    {
     "name": "stdout",
     "output_type": "stream",
     "text": [
      "112071\n",
      "112071\n"
     ]
    }
   ],
   "source": [
    "#turn each into equal length arrays of CAMIS an inspection date   \n",
    "cam2=[]\n",
    "date2=[]\n",
    "for cam in CAMIS:\n",
    "    for date in rest_inspection_dates[cam]:\n",
    "        cam2.append(cam)\n",
    "        date2.append(date)\n",
    "#turn each into equal length arrays of CAMIS an inspection date        \n",
    "print(len(cam2))\n",
    "print(len(date2))"
   ]
  },
  {
   "cell_type": "code",
   "execution_count": 6,
   "metadata": {
    "scrolled": true
   },
   "outputs": [],
   "source": [
    "df_inspections=pd.DataFrame()\n",
    "df_inspections['CAMIS']=cam2\n",
    "df_inspections['DATE']=pd.to_datetime(date2)\n",
    "df_inspections=df_inspections.sort_values(['CAMIS','DATE'])"
   ]
  },
  {
   "cell_type": "code",
   "execution_count": 7,
   "metadata": {},
   "outputs": [],
   "source": [
    "#add columns to inspection data frame for inspection type, violations, score,"
   ]
  },
  {
   "cell_type": "code",
   "execution_count": 12,
   "metadata": {},
   "outputs": [],
   "source": [
    "score=[]\n",
    "for c, d in zip(df_inspections['CAMIS'],df_inspections['DATE']):\n",
    "    score.append(df_cycles.loc[df_cycles['CAMIS']==c].loc[df_cycles['INSPECTION DATE']==d]['SCORE'].iloc[0])\n"
   ]
  },
  {
   "cell_type": "code",
   "execution_count": 14,
   "metadata": {},
   "outputs": [
    {
     "data": {
      "text/html": [
       "<div>\n",
       "<style scoped>\n",
       "    .dataframe tbody tr th:only-of-type {\n",
       "        vertical-align: middle;\n",
       "    }\n",
       "\n",
       "    .dataframe tbody tr th {\n",
       "        vertical-align: top;\n",
       "    }\n",
       "\n",
       "    .dataframe thead th {\n",
       "        text-align: right;\n",
       "    }\n",
       "</style>\n",
       "<table border=\"1\" class=\"dataframe\">\n",
       "  <thead>\n",
       "    <tr style=\"text-align: right;\">\n",
       "      <th></th>\n",
       "      <th>CAMIS</th>\n",
       "      <th>DATE</th>\n",
       "      <th>SCORE</th>\n",
       "    </tr>\n",
       "  </thead>\n",
       "  <tbody>\n",
       "    <tr>\n",
       "      <th>75428</th>\n",
       "      <td>30075445</td>\n",
       "      <td>2017-05-18</td>\n",
       "      <td>7.0</td>\n",
       "    </tr>\n",
       "    <tr>\n",
       "      <th>75430</th>\n",
       "      <td>30075445</td>\n",
       "      <td>2018-05-11</td>\n",
       "      <td>5.0</td>\n",
       "    </tr>\n",
       "    <tr>\n",
       "      <th>75431</th>\n",
       "      <td>30075445</td>\n",
       "      <td>2019-05-16</td>\n",
       "      <td>14.0</td>\n",
       "    </tr>\n",
       "    <tr>\n",
       "      <th>75429</th>\n",
       "      <td>30075445</td>\n",
       "      <td>2019-06-11</td>\n",
       "      <td>6.0</td>\n",
       "    </tr>\n",
       "    <tr>\n",
       "      <th>90427</th>\n",
       "      <td>30112340</td>\n",
       "      <td>2016-04-12</td>\n",
       "      <td>0.0</td>\n",
       "    </tr>\n",
       "  </tbody>\n",
       "</table>\n",
       "</div>"
      ],
      "text/plain": [
       "          CAMIS       DATE  SCORE\n",
       "75428  30075445 2017-05-18    7.0\n",
       "75430  30075445 2018-05-11    5.0\n",
       "75431  30075445 2019-05-16   14.0\n",
       "75429  30075445 2019-06-11    6.0\n",
       "90427  30112340 2016-04-12    0.0"
      ]
     },
     "execution_count": 14,
     "metadata": {},
     "output_type": "execute_result"
    }
   ],
   "source": [
    "df_inspections['SCORE']=score\n",
    "df_inspections.head()"
   ]
  },
  {
   "cell_type": "code",
   "execution_count": 23,
   "metadata": {},
   "outputs": [
    {
     "name": "stdout",
     "output_type": "stream",
     "text": [
      "           CAMIS      DBA      BORO BUILDING           STREET  ZIPCODE  \\\n",
      "303534  30112340  WENDY'S  Brooklyn      469  FLATBUSH AVENUE  11225.0   \n",
      "\n",
      "             PHONE CUISINE DESCRIPTION INSPECTION DATE  \\\n",
      "303534  7182875005          Hamburgers      2016-04-12   \n",
      "\n",
      "                                                   ACTION  ... RECORD DATE  \\\n",
      "303534  No violations were recorded at the time of thi...  ...  08/05/2019   \n",
      "\n",
      "                              INSPECTION TYPE   Latitude  Longitude  \\\n",
      "303534  Cycle Inspection / Initial Inspection  40.662652 -73.962081   \n",
      "\n",
      "       Community Board Council District Census Tract        BIN           BBL  \\\n",
      "303534           309.0             40.0      32700.0  3029737.0  3.011970e+09   \n",
      "\n",
      "         NTA  \n",
      "303534  BK60  \n",
      "\n",
      "[1 rows x 26 columns]\n"
     ]
    }
   ],
   "source": [
    "print(df_cycles.loc[df_cycles['CAMIS']==30112340].loc[df_cycles['INSPECTION DATE']=='2016-04-12'])"
   ]
  },
  {
   "cell_type": "code",
   "execution_count": 20,
   "metadata": {},
   "outputs": [
    {
     "name": "stdout",
     "output_type": "stream",
     "text": [
      "      CAMIS                  DBA       BORO BUILDING            STREET  \\\n",
      "0  40385767  ACADEMY RESTAURAUNT   Brooklyn       69  LAFAYETTE AVENUE   \n",
      "1  50013059        COCINA TALLER  Manhattan      416        W 203RD ST   \n",
      "2  41284555        JIMMY'S DINER   Brooklyn      577      UNION AVENUE   \n",
      "3  41605870     CAKOR RESTAURANT      Bronx      632  EAST  186 STREET   \n",
      "4  41345907     MEE THAI CUISINE   Brooklyn      180          5 AVENUE   \n",
      "\n",
      "   ZIPCODE       PHONE                                CUISINE DESCRIPTION  \\\n",
      "0  11217.0  7182379326                                           American   \n",
      "1  10034.0  9174594125  Latin (Cuban, Dominican, Puerto Rican, South &...   \n",
      "2  11211.0  7182187174                                           American   \n",
      "3  10458.0  7187332300                                   Eastern European   \n",
      "4  11217.0  7182308280                                               Thai   \n",
      "\n",
      "  INSPECTION DATE                                           ACTION  ...  \\\n",
      "0      2016-10-12  Violations were cited in the following area(s).  ...   \n",
      "1      2016-06-17  Violations were cited in the following area(s).  ...   \n",
      "2      2019-01-17  Violations were cited in the following area(s).  ...   \n",
      "3      2018-08-22  Violations were cited in the following area(s).  ...   \n",
      "4      2019-06-13  Violations were cited in the following area(s).  ...   \n",
      "\n",
      "  RECORD DATE                        INSPECTION TYPE   Latitude  Longitude  \\\n",
      "0  08/05/2019  Cycle Inspection / Initial Inspection  40.687078 -73.975683   \n",
      "1  08/05/2019       Cycle Inspection / Re-inspection  40.861339 -73.919420   \n",
      "2  08/05/2019  Cycle Inspection / Initial Inspection  40.717670 -73.952227   \n",
      "3  08/05/2019  Cycle Inspection / Initial Inspection  40.854126 -73.886949   \n",
      "4  08/05/2019       Cycle Inspection / Re-inspection  40.677319 -73.979854   \n",
      "\n",
      "  Community Board Council District Census Tract        BIN           BBL   NTA  \n",
      "0           302.0             35.0       3300.0  3058766.0  3.020980e+09  BK68  \n",
      "1           112.0             10.0      29900.0  1064493.0  1.021990e+09  MN01  \n",
      "2           301.0             33.0      51900.0  3061639.0  3.023000e+09  BK73  \n",
      "3           206.0             15.0      39100.0  2012153.0  2.030740e+09  BX06  \n",
      "4           306.0             39.0      13100.0  3019564.0  3.009490e+09  BK37  \n",
      "\n",
      "[5 rows x 26 columns]\n"
     ]
    }
   ],
   "source": [
    "print(df_cycles.head())"
   ]
  },
  {
   "cell_type": "code",
   "execution_count": null,
   "metadata": {},
   "outputs": [],
   "source": []
  }
 ],
 "metadata": {
  "kernelspec": {
   "display_name": "Python 3",
   "language": "python",
   "name": "python3"
  },
  "language_info": {
   "codemirror_mode": {
    "name": "ipython",
    "version": 3
   },
   "file_extension": ".py",
   "mimetype": "text/x-python",
   "name": "python",
   "nbconvert_exporter": "python",
   "pygments_lexer": "ipython3",
   "version": "3.7.0"
  }
 },
 "nbformat": 4,
 "nbformat_minor": 2
}
