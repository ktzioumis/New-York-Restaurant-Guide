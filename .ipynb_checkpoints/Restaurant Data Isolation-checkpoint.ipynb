{
 "cells": [
  {
   "cell_type": "code",
   "execution_count": 2,
   "metadata": {},
   "outputs": [],
   "source": [
    "import pandas as pd\n",
    "import numpy as np\n",
    "import matplotlib.pyplot as plt\n",
    "\n",
    "df=pd.read_csv('DOHMH_New_York_City_Restaurant_Inspection_Results.csv')\n"
   ]
  },
  {
   "cell_type": "markdown",
   "metadata": {},
   "source": [
    "there are many types of inspection performed bby the Department of Health and Mental Hygene but we will concern ourselvs only with the cycle inspections performed for food saftey and grade assignment"
   ]
  },
  {
   "cell_type": "code",
   "execution_count": 3,
   "metadata": {},
   "outputs": [],
   "source": [
    "df_cycles=df[df['INSPECTION TYPE'].str.contains('Cycle',regex=False, na=False)]"
   ]
  },
  {
   "cell_type": "code",
   "execution_count": 5,
   "metadata": {},
   "outputs": [
    {
     "name": "stderr",
     "output_type": "stream",
     "text": [
      "C:\\Users\\kosta\\Anaconda3\\lib\\site-packages\\ipykernel_launcher.py:1: SettingWithCopyWarning: \n",
      "A value is trying to be set on a copy of a slice from a DataFrame.\n",
      "Try using .loc[row_indexer,col_indexer] = value instead\n",
      "\n",
      "See the caveats in the documentation: http://pandas.pydata.org/pandas-docs/stable/indexing.html#indexing-view-versus-copy\n",
      "  \"\"\"Entry point for launching an IPython kernel.\n"
     ]
    }
   ],
   "source": [
    "df_cycles['INSPECTION DATE']=pd.to_datetime(df['INSPECTION DATE'])\n"
   ]
  },
  {
   "cell_type": "code",
   "execution_count": 24,
   "metadata": {
    "scrolled": true
   },
   "outputs": [
    {
     "data": {
      "text/plain": [
       "Index(['CAMIS', 'DBA', 'BORO', 'BUILDING', 'STREET', 'ZIPCODE', 'PHONE',\n",
       "       'CUISINE DESCRIPTION', 'INSPECTION DATE', 'ACTION', 'VIOLATION CODE',\n",
       "       'VIOLATION DESCRIPTION', 'CRITICAL FLAG', 'SCORE', 'GRADE',\n",
       "       'GRADE DATE', 'RECORD DATE', 'INSPECTION TYPE', 'Latitude', 'Longitude',\n",
       "       'Community Board', 'Council District', 'Census Tract', 'BIN', 'BBL',\n",
       "       'NTA'],\n",
       "      dtype='object')"
      ]
     },
     "execution_count": 24,
     "metadata": {},
     "output_type": "execute_result"
    }
   ],
   "source": [
    "df_cycles.columns"
   ]
  },
  {
   "cell_type": "code",
   "execution_count": 23,
   "metadata": {},
   "outputs": [],
   "source": [
    "CAMIS=sorted(df_cycles.CAMIS.unique())\n",
    "rest_dict={}\n",
    "def get_inf(column):\n",
    "    #returns data from first cell that matches each CAMIS for the column specified\n",
    "    first_entries=[]\n",
    "    for cam in CAMIS:\n",
    "        first_entries.append(df_cycles.loc[df_cycles['CAMIS']==cam][column].iloc[0])\n",
    "    return first_entries\n",
    "#collect columns that pertain to individual restaurant information\n",
    "rest_info_cols=['DBA','CUISINE DESCRIPTION', 'BORO', 'BUILDING', 'STREET', 'ZIPCODE','Latitude', 'Longitude','Community Board', 'Council District', 'Census Tract', 'BIN', 'BBL','NTA']\n",
    "for col in rest_info_cols:\n",
    "    rest_dict[col]=get_inf(col)\n",
    "\n"
   ]
  },
  {
   "cell_type": "code",
   "execution_count": 24,
   "metadata": {},
   "outputs": [
    {
     "data": {
      "text/html": [
       "<div>\n",
       "<style scoped>\n",
       "    .dataframe tbody tr th:only-of-type {\n",
       "        vertical-align: middle;\n",
       "    }\n",
       "\n",
       "    .dataframe tbody tr th {\n",
       "        vertical-align: top;\n",
       "    }\n",
       "\n",
       "    .dataframe thead th {\n",
       "        text-align: right;\n",
       "    }\n",
       "</style>\n",
       "<table border=\"1\" class=\"dataframe\">\n",
       "  <thead>\n",
       "    <tr style=\"text-align: right;\">\n",
       "      <th></th>\n",
       "      <th>DBA</th>\n",
       "      <th>CUISINE DESCRIPTION</th>\n",
       "      <th>BORO</th>\n",
       "      <th>BUILDING</th>\n",
       "      <th>STREET</th>\n",
       "      <th>ZIPCODE</th>\n",
       "      <th>Latitude</th>\n",
       "      <th>Longitude</th>\n",
       "      <th>Community Board</th>\n",
       "      <th>Council District</th>\n",
       "      <th>Census Tract</th>\n",
       "      <th>BIN</th>\n",
       "      <th>BBL</th>\n",
       "      <th>NTA</th>\n",
       "    </tr>\n",
       "  </thead>\n",
       "  <tbody>\n",
       "    <tr>\n",
       "      <th>30075445</th>\n",
       "      <td>MORRIS PARK BAKE SHOP</td>\n",
       "      <td>Bakery</td>\n",
       "      <td>Bronx</td>\n",
       "      <td>1007</td>\n",
       "      <td>MORRIS PARK AVE</td>\n",
       "      <td>10462.0</td>\n",
       "      <td>40.848231</td>\n",
       "      <td>-73.855972</td>\n",
       "      <td>211.0</td>\n",
       "      <td>13.0</td>\n",
       "      <td>25200.0</td>\n",
       "      <td>2045445.0</td>\n",
       "      <td>2.041270e+09</td>\n",
       "      <td>BX37</td>\n",
       "    </tr>\n",
       "    <tr>\n",
       "      <th>30112340</th>\n",
       "      <td>WENDY'S</td>\n",
       "      <td>Hamburgers</td>\n",
       "      <td>Brooklyn</td>\n",
       "      <td>469</td>\n",
       "      <td>FLATBUSH AVENUE</td>\n",
       "      <td>11225.0</td>\n",
       "      <td>40.662652</td>\n",
       "      <td>-73.962081</td>\n",
       "      <td>309.0</td>\n",
       "      <td>40.0</td>\n",
       "      <td>32700.0</td>\n",
       "      <td>3029737.0</td>\n",
       "      <td>3.011970e+09</td>\n",
       "      <td>BK60</td>\n",
       "    </tr>\n",
       "    <tr>\n",
       "      <th>30191841</th>\n",
       "      <td>DJ REYNOLDS PUB AND RESTAURANT</td>\n",
       "      <td>Irish</td>\n",
       "      <td>Manhattan</td>\n",
       "      <td>351</td>\n",
       "      <td>WEST   57 STREET</td>\n",
       "      <td>10019.0</td>\n",
       "      <td>40.767326</td>\n",
       "      <td>-73.984310</td>\n",
       "      <td>104.0</td>\n",
       "      <td>3.0</td>\n",
       "      <td>13900.0</td>\n",
       "      <td>1026048.0</td>\n",
       "      <td>1.010480e+09</td>\n",
       "      <td>MN15</td>\n",
       "    </tr>\n",
       "    <tr>\n",
       "      <th>40356018</th>\n",
       "      <td>RIVIERA CATERERS</td>\n",
       "      <td>American</td>\n",
       "      <td>Brooklyn</td>\n",
       "      <td>2780</td>\n",
       "      <td>STILLWELL AVENUE</td>\n",
       "      <td>11224.0</td>\n",
       "      <td>40.579920</td>\n",
       "      <td>-73.982090</td>\n",
       "      <td>313.0</td>\n",
       "      <td>47.0</td>\n",
       "      <td>34800.0</td>\n",
       "      <td>3347399.0</td>\n",
       "      <td>3.069970e+09</td>\n",
       "      <td>BK21</td>\n",
       "    </tr>\n",
       "    <tr>\n",
       "      <th>40356151</th>\n",
       "      <td>BRUNOS ON THE BOULEVARD</td>\n",
       "      <td>American</td>\n",
       "      <td>Queens</td>\n",
       "      <td>8825</td>\n",
       "      <td>ASTORIA BOULEVARD</td>\n",
       "      <td>11369.0</td>\n",
       "      <td>40.763971</td>\n",
       "      <td>-73.880973</td>\n",
       "      <td>403.0</td>\n",
       "      <td>22.0</td>\n",
       "      <td>32900.0</td>\n",
       "      <td>4024132.0</td>\n",
       "      <td>4.011000e+09</td>\n",
       "      <td>QN28</td>\n",
       "    </tr>\n",
       "  </tbody>\n",
       "</table>\n",
       "</div>"
      ],
      "text/plain": [
       "                                     DBA CUISINE DESCRIPTION       BORO  \\\n",
       "30075445           MORRIS PARK BAKE SHOP              Bakery      Bronx   \n",
       "30112340                         WENDY'S          Hamburgers   Brooklyn   \n",
       "30191841  DJ REYNOLDS PUB AND RESTAURANT               Irish  Manhattan   \n",
       "40356018                RIVIERA CATERERS            American   Brooklyn   \n",
       "40356151         BRUNOS ON THE BOULEVARD            American     Queens   \n",
       "\n",
       "         BUILDING             STREET  ZIPCODE   Latitude  Longitude  \\\n",
       "30075445     1007    MORRIS PARK AVE  10462.0  40.848231 -73.855972   \n",
       "30112340      469    FLATBUSH AVENUE  11225.0  40.662652 -73.962081   \n",
       "30191841      351   WEST   57 STREET  10019.0  40.767326 -73.984310   \n",
       "40356018     2780   STILLWELL AVENUE  11224.0  40.579920 -73.982090   \n",
       "40356151     8825  ASTORIA BOULEVARD  11369.0  40.763971 -73.880973   \n",
       "\n",
       "          Community Board  Council District  Census Tract        BIN  \\\n",
       "30075445            211.0              13.0       25200.0  2045445.0   \n",
       "30112340            309.0              40.0       32700.0  3029737.0   \n",
       "30191841            104.0               3.0       13900.0  1026048.0   \n",
       "40356018            313.0              47.0       34800.0  3347399.0   \n",
       "40356151            403.0              22.0       32900.0  4024132.0   \n",
       "\n",
       "                   BBL   NTA  \n",
       "30075445  2.041270e+09  BX37  \n",
       "30112340  3.011970e+09  BK60  \n",
       "30191841  1.010480e+09  MN15  \n",
       "40356018  3.069970e+09  BK21  \n",
       "40356151  4.011000e+09  QN28  "
      ]
     },
     "execution_count": 24,
     "metadata": {},
     "output_type": "execute_result"
    }
   ],
   "source": [
    "#build dataframe for individual restaurant information with CAMIS as index\n",
    "df_rests=pd.DataFrame.from_dict(rest_dict)\n",
    "df_rests.index=CAMIS\n",
    "df_rests.head()"
   ]
  },
  {
   "cell_type": "code",
   "execution_count": 26,
   "metadata": {
    "scrolled": false
   },
   "outputs": [
    {
     "name": "stdout",
     "output_type": "stream",
     "text": [
      "CAMIS                                                             50090049\n",
      "DBA                                                         SUNG BOOK DONG\n",
      "BORO                                                                Queens\n",
      "BUILDING                                                             24825\n",
      "STREET                                                       NORTHERN BLVD\n",
      "ZIPCODE                                                              11362\n",
      "PHONE                                                           7182247900\n",
      "CUISINE DESCRIPTION                                                  Other\n",
      "INSPECTION DATE                                        2019-07-22 00:00:00\n",
      "ACTION                     Violations were cited in the following area(s).\n",
      "VIOLATION CODE                                                         10F\n",
      "VIOLATION DESCRIPTION    Non-food contact surface improperly constructe...\n",
      "CRITICAL FLAG                                                            N\n",
      "SCORE                                                                   12\n",
      "GRADE                                                                    A\n",
      "GRADE DATE                                                      07/22/2019\n",
      "RECORD DATE                                                     08/05/2019\n",
      "INSPECTION TYPE                      Cycle Inspection / Initial Inspection\n",
      "Latitude                                                           40.7675\n",
      "Longitude                                                         -73.7386\n",
      "Community Board                                                        411\n",
      "Council District                                                        19\n",
      "Census Tract                                                        147900\n",
      "BIN                                                            4.16906e+06\n",
      "BBL                                                            4.08118e+09\n",
      "NTA                                                                   QN45\n",
      "Name: 200094, dtype: object\n",
      "CAMIS                                                             50090297\n",
      "DBA                                           BOND STREET COFFEE AND GOODS\n",
      "BORO                                                              Brooklyn\n",
      "BUILDING                                                               365\n",
      "STREET                                                             BOND ST\n",
      "ZIPCODE                                                              11231\n",
      "PHONE                                                           3478741293\n",
      "CUISINE DESCRIPTION                                        Café/Coffee/Tea\n",
      "INSPECTION DATE                                        2019-07-30 00:00:00\n",
      "ACTION                     Violations were cited in the following area(s).\n",
      "VIOLATION CODE                                                         06C\n",
      "VIOLATION DESCRIPTION    Food not protected from potential source of co...\n",
      "CRITICAL FLAG                                                            Y\n",
      "SCORE                                                                    6\n",
      "GRADE                                                                    A\n",
      "GRADE DATE                                                      07/30/2019\n",
      "RECORD DATE                                                     08/05/2019\n",
      "INSPECTION TYPE                      Cycle Inspection / Initial Inspection\n",
      "Latitude                                                           40.6779\n",
      "Longitude                                                         -73.9907\n",
      "Community Board                                                        306\n",
      "Council District                                                        39\n",
      "Census Tract                                                          7700\n",
      "BIN                                                            3.42504e+06\n",
      "BBL                                                            3.00458e+09\n",
      "NTA                                                                   BK33\n",
      "Name: 264355, dtype: object\n",
      "CAMIS                                                             50090427\n",
      "DBA                                                  West End Taco Company\n",
      "BORO                                                             Manhattan\n",
      "BUILDING                                                               301\n",
      "STREET                                                           W 96TH ST\n",
      "ZIPCODE                                                              10025\n",
      "PHONE                                                           7186830839\n",
      "CUISINE DESCRIPTION                                                Mexican\n",
      "INSPECTION DATE                                        2019-07-24 00:00:00\n",
      "ACTION                     Violations were cited in the following area(s).\n",
      "VIOLATION CODE                                                         04N\n",
      "VIOLATION DESCRIPTION    Filth flies or food/refuse/sewage-associated (...\n",
      "CRITICAL FLAG                                                            Y\n",
      "SCORE                                                                   42\n",
      "GRADE                                                                    N\n",
      "GRADE DATE                                                             NaN\n",
      "RECORD DATE                                                     08/05/2019\n",
      "INSPECTION TYPE                      Cycle Inspection / Initial Inspection\n",
      "Latitude                                                           40.7954\n",
      "Longitude                                                         -73.9735\n",
      "Community Board                                                        107\n",
      "Council District                                                         6\n",
      "Census Tract                                                         18300\n",
      "BIN                                                            1.05706e+06\n",
      "BBL                                                            1.01887e+09\n",
      "NTA                                                                   MN12\n",
      "Name: 59261, dtype: object\n",
      "CAMIS                                                             50090463\n",
      "DBA                                                     NUAN XIN RICE ROLL\n",
      "BORO                                                             Manhattan\n",
      "BUILDING                                                               67A\n",
      "STREET                                                         ELDRIDGE ST\n",
      "ZIPCODE                                                              10002\n",
      "PHONE                                                           2129200156\n",
      "CUISINE DESCRIPTION                                                  Asian\n",
      "INSPECTION DATE                                        2019-07-26 00:00:00\n",
      "ACTION                     Violations were cited in the following area(s).\n",
      "VIOLATION CODE                                                         10B\n",
      "VIOLATION DESCRIPTION    Plumbing not properly installed or maintained;...\n",
      "CRITICAL FLAG                                                            N\n",
      "SCORE                                                                    8\n",
      "GRADE                                                                    A\n",
      "GRADE DATE                                                      07/26/2019\n",
      "RECORD DATE                                                     08/05/2019\n",
      "INSPECTION TYPE                      Cycle Inspection / Initial Inspection\n",
      "Latitude                                                           40.7167\n",
      "Longitude                                                         -73.9927\n",
      "Community Board                                                        103\n",
      "Council District                                                         1\n",
      "Census Tract                                                          1600\n",
      "BIN                                                                    NaN\n",
      "BBL                                                                      1\n",
      "NTA                                                                   MN27\n",
      "Name: 37021, dtype: object\n",
      "CAMIS                                                             50091419\n",
      "DBA                                                         WHISTLE & FIZZ\n",
      "BORO                                                             Manhattan\n",
      "BUILDING                                                               254\n",
      "STREET                                                           GREENE ST\n",
      "ZIPCODE                                                              10003\n",
      "PHONE                                                           3477513717\n",
      "CUISINE DESCRIPTION                                        Café/Coffee/Tea\n",
      "INSPECTION DATE                                        2019-07-30 00:00:00\n",
      "ACTION                     Violations were cited in the following area(s).\n",
      "VIOLATION CODE                                                         06D\n",
      "VIOLATION DESCRIPTION    Food contact surface not properly washed, rins...\n",
      "CRITICAL FLAG                                                            Y\n",
      "SCORE                                                                    5\n",
      "GRADE                                                                    A\n",
      "GRADE DATE                                                      07/30/2019\n",
      "RECORD DATE                                                     08/05/2019\n",
      "INSPECTION TYPE                      Cycle Inspection / Initial Inspection\n",
      "Latitude                                                           40.7306\n",
      "Longitude                                                         -73.9946\n",
      "Community Board                                                        102\n",
      "Council District                                                         1\n",
      "Census Tract                                                          5900\n",
      "BIN                                                            1.00884e+06\n",
      "BBL                                                            1.00548e+09\n",
      "NTA                                                                   MN23\n",
      "Name: 292808, dtype: object\n"
     ]
    }
   ],
   "source": [
    "for cam in CAMIS[-5:]:\n",
    "    print(df_cycles.loc[df_cycles['CAMIS']==cam].iloc[0])\n",
    "    "
   ]
  },
  {
   "cell_type": "code",
   "execution_count": 28,
   "metadata": {},
   "outputs": [
    {
     "data": {
      "text/plain": [
       "DBA                      0\n",
       "CUISINE DESCRIPTION      0\n",
       "BORO                     0\n",
       "BUILDING                19\n",
       "STREET                   0\n",
       "ZIPCODE                381\n",
       "Latitude                28\n",
       "Longitude               28\n",
       "Community Board        409\n",
       "Council District       409\n",
       "Census Tract           409\n",
       "BIN                    517\n",
       "BBL                     28\n",
       "NTA                    409\n",
       "dtype: int64"
      ]
     },
     "execution_count": 28,
     "metadata": {},
     "output_type": "execute_result"
    }
   ],
   "source": [
    "df_rests.isna().sum()"
   ]
  },
  {
   "cell_type": "code",
   "execution_count": 33,
   "metadata": {},
   "outputs": [],
   "source": [
    "df_rests.to_csv('rests.csv')"
   ]
  },
  {
   "cell_type": "code",
   "execution_count": null,
   "metadata": {},
   "outputs": [],
   "source": []
  },
  {
   "cell_type": "code",
   "execution_count": 39,
   "metadata": {},
   "outputs": [
    {
     "data": {
      "text/html": [
       "<div>\n",
       "<style scoped>\n",
       "    .dataframe tbody tr th:only-of-type {\n",
       "        vertical-align: middle;\n",
       "    }\n",
       "\n",
       "    .dataframe tbody tr th {\n",
       "        vertical-align: top;\n",
       "    }\n",
       "\n",
       "    .dataframe thead th {\n",
       "        text-align: right;\n",
       "    }\n",
       "</style>\n",
       "<table border=\"1\" class=\"dataframe\">\n",
       "  <thead>\n",
       "    <tr style=\"text-align: right;\">\n",
       "      <th></th>\n",
       "      <th>NTA</th>\n",
       "      <th>COUNT</th>\n",
       "    </tr>\n",
       "  </thead>\n",
       "  <tbody>\n",
       "    <tr>\n",
       "      <th>0</th>\n",
       "      <td>MN17</td>\n",
       "      <td>1561</td>\n",
       "    </tr>\n",
       "    <tr>\n",
       "      <th>1</th>\n",
       "      <td>MN23</td>\n",
       "      <td>701</td>\n",
       "    </tr>\n",
       "    <tr>\n",
       "      <th>2</th>\n",
       "      <td>MN13</td>\n",
       "      <td>652</td>\n",
       "    </tr>\n",
       "    <tr>\n",
       "      <th>3</th>\n",
       "      <td>MN24</td>\n",
       "      <td>622</td>\n",
       "    </tr>\n",
       "    <tr>\n",
       "      <th>4</th>\n",
       "      <td>MN19</td>\n",
       "      <td>523</td>\n",
       "    </tr>\n",
       "  </tbody>\n",
       "</table>\n",
       "</div>"
      ],
      "text/plain": [
       "    NTA  COUNT\n",
       "0  MN17   1561\n",
       "1  MN23    701\n",
       "2  MN13    652\n",
       "3  MN24    622\n",
       "4  MN19    523"
      ]
     },
     "execution_count": 39,
     "metadata": {},
     "output_type": "execute_result"
    }
   ],
   "source": [
    "df_ntas=pd.DataFrame()\n",
    "df_ntas['NTA']=df_rests.NTA.value_counts().index\n",
    "df_ntas['COUNT']=df_rests.NTA.value_counts().values\n",
    "df_ntas.head()"
   ]
  },
  {
   "cell_type": "code",
   "execution_count": 58,
   "metadata": {},
   "outputs": [
    {
     "name": "stdout",
     "output_type": "stream",
     "text": [
      "Collecting geopandas\n",
      "  Using cached https://files.pythonhosted.org/packages/21/80/da2a33c9201cd4ce693f4aa6189efc9ef1a48bec1c3b02c3ce9908b07fec/geopandas-0.5.1-py2.py3-none-any.whl\n",
      "Collecting pyproj (from geopandas)\n",
      "  Using cached https://files.pythonhosted.org/packages/ce/36/2d8f1fe6bf32eebc0e880d9f27b394b97dd5119303986de691d7e91e1a51/pyproj-2.2.1-cp37-cp37m-win_amd64.whl\n",
      "Requirement already satisfied: pandas in c:\\users\\kosta\\anaconda3\\lib\\site-packages (from geopandas) (0.24.2)\n",
      "Collecting fiona (from geopandas)\n",
      "  Using cached https://files.pythonhosted.org/packages/41/9d/63696e7b1de42aad294d4781199a408bec593d8fdb80a2b4a788c911a33b/Fiona-1.8.6.tar.gz\n"
     ]
    },
    {
     "name": "stderr",
     "output_type": "stream",
     "text": [
      "    ERROR: Command errored out with exit status 1:\n",
      "     command: 'c:\\users\\kosta\\anaconda3\\python.exe' -c 'import sys, setuptools, tokenize; sys.argv[0] = '\"'\"'C:\\\\Users\\\\kosta\\\\AppData\\\\Local\\\\Temp\\\\pip-install-cq_fkemx\\\\fiona\\\\setup.py'\"'\"'; __file__='\"'\"'C:\\\\Users\\\\kosta\\\\AppData\\\\Local\\\\Temp\\\\pip-install-cq_fkemx\\\\fiona\\\\setup.py'\"'\"';f=getattr(tokenize, '\"'\"'open'\"'\"', open)(__file__);code=f.read().replace('\"'\"'\\r\\n'\"'\"', '\"'\"'\\n'\"'\"');f.close();exec(compile(code, __file__, '\"'\"'exec'\"'\"'))' egg_info --egg-base pip-egg-info\n",
      "         cwd: C:\\Users\\kosta\\AppData\\Local\\Temp\\pip-install-cq_fkemx\\fiona\\\n",
      "    Complete output (1 lines):\n",
      "    A GDAL API version must be specified. Provide a path to gdal-config using a GDAL_CONFIG environment variable or use a GDAL_VERSION environment variable.\n",
      "    ----------------------------------------\n",
      "ERROR: Command errored out with exit status 1: python setup.py egg_info Check the logs for full command output.\n"
     ]
    }
   ],
   "source": [
    "!pip install geopandas"
   ]
  },
  {
   "cell_type": "code",
   "execution_count": 57,
   "metadata": {},
   "outputs": [
    {
     "ename": "SyntaxError",
     "evalue": "invalid syntax (<ipython-input-57-0a8cf7b99133>, line 1)",
     "output_type": "error",
     "traceback": [
      "\u001b[1;36m  File \u001b[1;32m\"<ipython-input-57-0a8cf7b99133>\"\u001b[1;36m, line \u001b[1;32m1\u001b[0m\n\u001b[1;33m    python -m pip install --upgrade pip\u001b[0m\n\u001b[1;37m                ^\u001b[0m\n\u001b[1;31mSyntaxError\u001b[0m\u001b[1;31m:\u001b[0m invalid syntax\n"
     ]
    }
   ],
   "source": []
  },
  {
   "cell_type": "code",
   "execution_count": null,
   "metadata": {},
   "outputs": [],
   "source": []
  }
 ],
 "metadata": {
  "kernelspec": {
   "display_name": "Python 3",
   "language": "python",
   "name": "python3"
  }
 },
 "nbformat": 4,
 "nbformat_minor": 2
}
