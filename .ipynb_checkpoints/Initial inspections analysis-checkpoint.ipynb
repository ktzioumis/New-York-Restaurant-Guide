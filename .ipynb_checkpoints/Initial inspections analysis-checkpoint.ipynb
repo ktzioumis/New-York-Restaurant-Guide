{
 "cells": [
  {
   "cell_type": "code",
   "execution_count": 1,
   "metadata": {},
   "outputs": [],
   "source": [
    "import pandas as pd \n",
    "import numpy as np\n",
    "import matplotlib.pyplot as plt\n",
    "import folium\n",
    "import seaborn as sns"
   ]
  },
  {
   "cell_type": "code",
   "execution_count": 2,
   "metadata": {},
   "outputs": [
    {
     "data": {
      "text/html": [
       "<div>\n",
       "<style scoped>\n",
       "    .dataframe tbody tr th:only-of-type {\n",
       "        vertical-align: middle;\n",
       "    }\n",
       "\n",
       "    .dataframe tbody tr th {\n",
       "        vertical-align: top;\n",
       "    }\n",
       "\n",
       "    .dataframe thead th {\n",
       "        text-align: right;\n",
       "    }\n",
       "</style>\n",
       "<table border=\"1\" class=\"dataframe\">\n",
       "  <thead>\n",
       "    <tr style=\"text-align: right;\">\n",
       "      <th></th>\n",
       "      <th>CAMIS</th>\n",
       "      <th>DATE</th>\n",
       "      <th>SCORE</th>\n",
       "      <th>INSPECTION TYPE</th>\n",
       "      <th>02A</th>\n",
       "      <th>02B</th>\n",
       "      <th>02C</th>\n",
       "      <th>02D</th>\n",
       "      <th>02E</th>\n",
       "      <th>02F</th>\n",
       "      <th>...</th>\n",
       "      <th>10D</th>\n",
       "      <th>10E</th>\n",
       "      <th>10F</th>\n",
       "      <th>10G</th>\n",
       "      <th>10H</th>\n",
       "      <th>10I</th>\n",
       "      <th>10J</th>\n",
       "      <th>ACTION</th>\n",
       "      <th>CRITICAL FLAG</th>\n",
       "      <th>GRADE</th>\n",
       "    </tr>\n",
       "  </thead>\n",
       "  <tbody>\n",
       "    <tr>\n",
       "      <th>0</th>\n",
       "      <td>30075445</td>\n",
       "      <td>2017-05-18</td>\n",
       "      <td>7.0</td>\n",
       "      <td>Cycle Inspection / Initial Inspection</td>\n",
       "      <td>0.0</td>\n",
       "      <td>0.0</td>\n",
       "      <td>0.0</td>\n",
       "      <td>0.0</td>\n",
       "      <td>0.0</td>\n",
       "      <td>0.0</td>\n",
       "      <td>...</td>\n",
       "      <td>0.0</td>\n",
       "      <td>0.0</td>\n",
       "      <td>1.0</td>\n",
       "      <td>0.0</td>\n",
       "      <td>0.0</td>\n",
       "      <td>0.0</td>\n",
       "      <td>0.0</td>\n",
       "      <td>Violations were cited in the following area(s).</td>\n",
       "      <td>1</td>\n",
       "      <td>A</td>\n",
       "    </tr>\n",
       "    <tr>\n",
       "      <th>1</th>\n",
       "      <td>30075445</td>\n",
       "      <td>2018-05-11</td>\n",
       "      <td>5.0</td>\n",
       "      <td>Cycle Inspection / Initial Inspection</td>\n",
       "      <td>0.0</td>\n",
       "      <td>0.0</td>\n",
       "      <td>0.0</td>\n",
       "      <td>0.0</td>\n",
       "      <td>0.0</td>\n",
       "      <td>0.0</td>\n",
       "      <td>...</td>\n",
       "      <td>0.0</td>\n",
       "      <td>0.0</td>\n",
       "      <td>1.0</td>\n",
       "      <td>0.0</td>\n",
       "      <td>0.0</td>\n",
       "      <td>0.0</td>\n",
       "      <td>0.0</td>\n",
       "      <td>Violations were cited in the following area(s).</td>\n",
       "      <td>0</td>\n",
       "      <td>A</td>\n",
       "    </tr>\n",
       "    <tr>\n",
       "      <th>2</th>\n",
       "      <td>30075445</td>\n",
       "      <td>2019-05-16</td>\n",
       "      <td>14.0</td>\n",
       "      <td>Cycle Inspection / Initial Inspection</td>\n",
       "      <td>0.0</td>\n",
       "      <td>0.0</td>\n",
       "      <td>0.0</td>\n",
       "      <td>0.0</td>\n",
       "      <td>0.0</td>\n",
       "      <td>0.0</td>\n",
       "      <td>...</td>\n",
       "      <td>0.0</td>\n",
       "      <td>0.0</td>\n",
       "      <td>1.0</td>\n",
       "      <td>0.0</td>\n",
       "      <td>0.0</td>\n",
       "      <td>0.0</td>\n",
       "      <td>0.0</td>\n",
       "      <td>Violations were cited in the following area(s).</td>\n",
       "      <td>1</td>\n",
       "      <td>B</td>\n",
       "    </tr>\n",
       "    <tr>\n",
       "      <th>3</th>\n",
       "      <td>30112340</td>\n",
       "      <td>2016-10-03</td>\n",
       "      <td>48.0</td>\n",
       "      <td>Cycle Inspection / Initial Inspection</td>\n",
       "      <td>0.0</td>\n",
       "      <td>0.0</td>\n",
       "      <td>0.0</td>\n",
       "      <td>0.0</td>\n",
       "      <td>0.0</td>\n",
       "      <td>0.0</td>\n",
       "      <td>...</td>\n",
       "      <td>0.0</td>\n",
       "      <td>0.0</td>\n",
       "      <td>0.0</td>\n",
       "      <td>0.0</td>\n",
       "      <td>0.0</td>\n",
       "      <td>0.0</td>\n",
       "      <td>0.0</td>\n",
       "      <td>Violations were cited in the following area(s).</td>\n",
       "      <td>3</td>\n",
       "      <td>C</td>\n",
       "    </tr>\n",
       "    <tr>\n",
       "      <th>4</th>\n",
       "      <td>30112340</td>\n",
       "      <td>2017-06-26</td>\n",
       "      <td>7.0</td>\n",
       "      <td>Cycle Inspection / Initial Inspection</td>\n",
       "      <td>0.0</td>\n",
       "      <td>0.0</td>\n",
       "      <td>0.0</td>\n",
       "      <td>0.0</td>\n",
       "      <td>0.0</td>\n",
       "      <td>0.0</td>\n",
       "      <td>...</td>\n",
       "      <td>0.0</td>\n",
       "      <td>0.0</td>\n",
       "      <td>0.0</td>\n",
       "      <td>0.0</td>\n",
       "      <td>0.0</td>\n",
       "      <td>0.0</td>\n",
       "      <td>0.0</td>\n",
       "      <td>Violations were cited in the following area(s).</td>\n",
       "      <td>1</td>\n",
       "      <td>A</td>\n",
       "    </tr>\n",
       "  </tbody>\n",
       "</table>\n",
       "<p>5 rows × 72 columns</p>\n",
       "</div>"
      ],
      "text/plain": [
       "      CAMIS       DATE  SCORE                        INSPECTION TYPE  02A  \\\n",
       "0  30075445 2017-05-18    7.0  Cycle Inspection / Initial Inspection  0.0   \n",
       "1  30075445 2018-05-11    5.0  Cycle Inspection / Initial Inspection  0.0   \n",
       "2  30075445 2019-05-16   14.0  Cycle Inspection / Initial Inspection  0.0   \n",
       "3  30112340 2016-10-03   48.0  Cycle Inspection / Initial Inspection  0.0   \n",
       "4  30112340 2017-06-26    7.0  Cycle Inspection / Initial Inspection  0.0   \n",
       "\n",
       "   02B  02C  02D  02E  02F  ...    10D  10E  10F  10G  10H  10I  10J  \\\n",
       "0  0.0  0.0  0.0  0.0  0.0  ...    0.0  0.0  1.0  0.0  0.0  0.0  0.0   \n",
       "1  0.0  0.0  0.0  0.0  0.0  ...    0.0  0.0  1.0  0.0  0.0  0.0  0.0   \n",
       "2  0.0  0.0  0.0  0.0  0.0  ...    0.0  0.0  1.0  0.0  0.0  0.0  0.0   \n",
       "3  0.0  0.0  0.0  0.0  0.0  ...    0.0  0.0  0.0  0.0  0.0  0.0  0.0   \n",
       "4  0.0  0.0  0.0  0.0  0.0  ...    0.0  0.0  0.0  0.0  0.0  0.0  0.0   \n",
       "\n",
       "                                            ACTION  CRITICAL FLAG  GRADE  \n",
       "0  Violations were cited in the following area(s).              1      A  \n",
       "1  Violations were cited in the following area(s).              0      A  \n",
       "2  Violations were cited in the following area(s).              1      B  \n",
       "3  Violations were cited in the following area(s).              3      C  \n",
       "4  Violations were cited in the following area(s).              1      A  \n",
       "\n",
       "[5 rows x 72 columns]"
      ]
     },
     "execution_count": 2,
     "metadata": {},
     "output_type": "execute_result"
    }
   ],
   "source": [
    "df_init=pd.read_csv('initial.csv')\n",
    "df_init.drop(columns=['Unnamed: 0'],inplace=True)\n",
    "df_init['DATE']=pd.to_datetime(df_init['DATE'])\n",
    "df_init.head()"
   ]
  },
  {
   "cell_type": "code",
   "execution_count": 3,
   "metadata": {
    "scrolled": true
   },
   "outputs": [
    {
     "data": {
      "image/png": "[encoded data removed]",
      "text/plain": [
       "<Figure size 1008x360 with 2 Axes>"
      ]
     },
     "metadata": {
      "needs_background": "light"
     },
     "output_type": "display_data"
    }
   ],
   "source": [
    "plt.figure(figsize=(14,5))\n",
    "\n",
    "plt.subplot(1,2,1)\n",
    "df_init['SCORE'].hist(bins=40)\n",
    "plt.axvline(x=df_init['SCORE'].mean(),color='r',label=f'Mean = {round(df_init[\"SCORE\"].mean(),1)}')\n",
    "plt.axvline(x=df_init['SCORE'].median(),color='y',label=f'Median = {df_init[\"SCORE\"].median()}')\n",
    "plt.legend()\n",
    "plt.title('Initial Inspection Score Distribution')\n",
    "\n",
    "plt.subplot(1,2,2)\n",
    "df_init['GRADE'].value_counts(normalize=True).plot(kind='bar')\n",
    "plt.xticks(rotation=0)\n",
    "plt.ylabel('% of Initial inspections that receive grade')\n",
    "plt.xlabel('Grade awarded on initial inspection')\n",
    "plt.title('Distribution of Initial Inspection Grades')\n",
    "plt.show()"
   ]
  },
  {
   "cell_type": "code",
   "execution_count": 4,
   "metadata": {},
   "outputs": [
    {
     "data": {
      "text/plain": [
       "<matplotlib.axes._subplots.AxesSubplot at 0x120c4d30>"
      ]
     },
     "execution_count": 4,
     "metadata": {},
     "output_type": "execute_result"
    },
    {
     "data": {
      "image/png": "[encoded data removed]",
      "text/plain": [
       "<Figure size 864x864 with 2 Axes>"
      ]
     },
     "metadata": {
      "needs_background": "light"
     },
     "output_type": "display_data"
    }
   ],
   "source": [
    "plt.figure(figsize=(12,12))\n",
    "sns.heatmap(abs(df_init.drop(columns=['CAMIS','ACTION','GRADE']).corr()))"
   ]
  },
  {
   "cell_type": "code",
   "execution_count": 5,
   "metadata": {},
   "outputs": [
    {
     "data": {
      "text/plain": [
       "5"
      ]
     },
     "execution_count": 5,
     "metadata": {},
     "output_type": "execute_result"
    }
   ],
   "source": [
    "sum(abs(df_init.corr()['SCORE'])>0.3)"
   ]
  },
  {
   "cell_type": "code",
   "execution_count": 6,
   "metadata": {},
   "outputs": [
    {
     "data": {
      "text/plain": [
       "SCORE            1.000000\n",
       "CRITICAL FLAG    0.833407\n",
       "08A              0.475213\n",
       "04L              0.330653\n",
       "02G              0.324326\n",
       "Name: SCORE, dtype: float64"
      ]
     },
     "execution_count": 6,
     "metadata": {},
     "output_type": "execute_result"
    }
   ],
   "source": [
    "abs(df_init.corr()['SCORE']).sort_values(ascending=False).head()"
   ]
  },
  {
   "cell_type": "code",
   "execution_count": 7,
   "metadata": {},
   "outputs": [
    {
     "data": {
      "image/png": "[encoded data removed]",
      "text/plain": [
       "<Figure size 432x288 with 2 Axes>"
      ]
     },
     "metadata": {
      "needs_background": "light"
     },
     "output_type": "display_data"
    }
   ],
   "source": [
    "cols=abs(df_init.corr()['SCORE']).sort_values(ascending=False).head(5).index\n",
    "sns.heatmap(df_init[cols].corr())\n",
    "plt.title('Most Correlated Violations heatmap')\n",
    "plt.show()"
   ]
  },
  {
   "cell_type": "markdown",
   "metadata": {},
   "source": [
    "The number of critical flag violations correlates the most highly with a high score, this is to be expected as these are more serious violations and likely attract more point"
   ]
  },
  {
   "cell_type": "code",
   "execution_count": 8,
   "metadata": {},
   "outputs": [
    {
     "data": {
      "image/png": "[encoded data removed]",
      "text/plain": [
       "<Figure size 432x288 with 2 Axes>"
      ]
     },
     "metadata": {
      "needs_background": "light"
     },
     "output_type": "display_data"
    }
   ],
   "source": [
    "vermin=['SCORE','04K','04L','04M','04N','08A']\n",
    "sns.heatmap(df_init[vermin].corr())\n",
    "plt.yticks(rotation=0)\n",
    "plt.title('Vermin Related Violations heatmap')\n",
    "plt.show()"
   ]
  },
  {
   "cell_type": "code",
   "execution_count": 25,
   "metadata": {},
   "outputs": [
    {
     "data": {
      "text/html": [
       "<div>\n",
       "<style scoped>\n",
       "    .dataframe tbody tr th:only-of-type {\n",
       "        vertical-align: middle;\n",
       "    }\n",
       "\n",
       "    .dataframe tbody tr th {\n",
       "        vertical-align: top;\n",
       "    }\n",
       "\n",
       "    .dataframe thead th {\n",
       "        text-align: right;\n",
       "    }\n",
       "</style>\n",
       "<table border=\"1\" class=\"dataframe\">\n",
       "  <thead>\n",
       "    <tr style=\"text-align: right;\">\n",
       "      <th></th>\n",
       "      <th>SCORE</th>\n",
       "      <th>04K</th>\n",
       "      <th>04L</th>\n",
       "      <th>04M</th>\n",
       "      <th>04N</th>\n",
       "      <th>08A</th>\n",
       "    </tr>\n",
       "  </thead>\n",
       "  <tbody>\n",
       "    <tr>\n",
       "      <th>SCORE</th>\n",
       "      <td>1.00</td>\n",
       "      <td>0.12</td>\n",
       "      <td>0.33</td>\n",
       "      <td>0.23</td>\n",
       "      <td>0.29</td>\n",
       "      <td>0.48</td>\n",
       "    </tr>\n",
       "    <tr>\n",
       "      <th>04K</th>\n",
       "      <td>0.12</td>\n",
       "      <td>1.00</td>\n",
       "      <td>0.03</td>\n",
       "      <td>0.03</td>\n",
       "      <td>0.02</td>\n",
       "      <td>0.17</td>\n",
       "    </tr>\n",
       "    <tr>\n",
       "      <th>04L</th>\n",
       "      <td>0.33</td>\n",
       "      <td>0.03</td>\n",
       "      <td>1.00</td>\n",
       "      <td>0.06</td>\n",
       "      <td>0.02</td>\n",
       "      <td>0.64</td>\n",
       "    </tr>\n",
       "    <tr>\n",
       "      <th>04M</th>\n",
       "      <td>0.23</td>\n",
       "      <td>0.03</td>\n",
       "      <td>0.06</td>\n",
       "      <td>1.00</td>\n",
       "      <td>0.07</td>\n",
       "      <td>0.29</td>\n",
       "    </tr>\n",
       "    <tr>\n",
       "      <th>04N</th>\n",
       "      <td>0.29</td>\n",
       "      <td>0.02</td>\n",
       "      <td>0.02</td>\n",
       "      <td>0.07</td>\n",
       "      <td>1.00</td>\n",
       "      <td>0.44</td>\n",
       "    </tr>\n",
       "    <tr>\n",
       "      <th>08A</th>\n",
       "      <td>0.48</td>\n",
       "      <td>0.17</td>\n",
       "      <td>0.64</td>\n",
       "      <td>0.29</td>\n",
       "      <td>0.44</td>\n",
       "      <td>1.00</td>\n",
       "    </tr>\n",
       "  </tbody>\n",
       "</table>\n",
       "</div>"
      ],
      "text/plain": [
       "       SCORE   04K   04L   04M   04N   08A\n",
       "SCORE   1.00  0.12  0.33  0.23  0.29  0.48\n",
       "04K     0.12  1.00  0.03  0.03  0.02  0.17\n",
       "04L     0.33  0.03  1.00  0.06  0.02  0.64\n",
       "04M     0.23  0.03  0.06  1.00  0.07  0.29\n",
       "04N     0.29  0.02  0.02  0.07  1.00  0.44\n",
       "08A     0.48  0.17  0.64  0.29  0.44  1.00"
      ]
     },
     "execution_count": 25,
     "metadata": {},
     "output_type": "execute_result"
    }
   ],
   "source": [
    "round(df_init[vermin].corr(),2)"
   ]
  },
  {
   "cell_type": "markdown",
   "metadata": {},
   "source": [
    "Although violation 08A correlates the most highly with score, it itself is a non-critical flag violation"
   ]
  },
  {
   "cell_type": "code",
   "execution_count": null,
   "metadata": {},
   "outputs": [],
   "source": []
  },
  {
   "cell_type": "code",
   "execution_count": 9,
   "metadata": {},
   "outputs": [
    {
     "data": {
      "text/plain": [
       "count    65932.000000\n",
       "mean         1.726112\n",
       "std          1.246251\n",
       "min          0.000000\n",
       "25%          1.000000\n",
       "50%          1.000000\n",
       "75%          2.000000\n",
       "max         13.000000\n",
       "Name: CRITICAL FLAG, dtype: float64"
      ]
     },
     "execution_count": 9,
     "metadata": {},
     "output_type": "execute_result"
    }
   ],
   "source": [
    "df_init['CRITICAL FLAG'].describe()"
   ]
  },
  {
   "cell_type": "code",
   "execution_count": 10,
   "metadata": {},
   "outputs": [
    {
     "data": {
      "image/png": "[encoded data removed]",
      "text/plain": [
       "<Figure size 432x288 with 1 Axes>"
      ]
     },
     "metadata": {
      "needs_background": "light"
     },
     "output_type": "display_data"
    }
   ],
   "source": [
    "df_init['CRITICAL FLAG'].hist(bins=14)\n",
    "plt.title('Critical flag distribution plot')\n",
    "plt.axvline(x=df_init['CRITICAL FLAG'].mean(),color='r',label=f'Mean = {round(df_init[\"CRITICAL FLAG\"].mean(),1)}')\n",
    "plt.axvline(x=df_init['CRITICAL FLAG'].median(),color='y',label=f'Median = {df_init[\"CRITICAL FLAG\"].median()}')\n",
    "plt.xlabel('Num of Critical Flags')\n",
    "plt.ylabel('Count)')\n",
    "plt.legend()\n",
    "plt.show()"
   ]
  },
  {
   "cell_type": "code",
   "execution_count": 11,
   "metadata": {},
   "outputs": [],
   "source": [
    "scores_crity=df_init.loc[df_init['CRITICAL FLAG']>=1]['SCORE']\n",
    "scores_critn=df_init.loc[df_init['CRITICAL FLAG']==0]['SCORE']"
   ]
  },
  {
   "cell_type": "code",
   "execution_count": 16,
   "metadata": {},
   "outputs": [
    {
     "data": {
      "image/png": "[encoded data removed]",
      "text/plain": [
       "<Figure size 1008x432 with 2 Axes>"
      ]
     },
     "metadata": {
      "needs_background": "light"
     },
     "output_type": "display_data"
    }
   ],
   "source": [
    "plt.figure(figsize=(14,6))\n",
    "\n",
    "plt.subplot(1,2,1)\n",
    "plt.boxplot([scores_crity,scores_critn],showfliers=False)\n",
    "plt.xticks([1,2],['Critical Flags',' NO Critical Flag'])\n",
    "plt.axhline(13,color='green', label='A')\n",
    "plt.title('Boxplot of Scores with and without critical flags WITHOUT outliers')\n",
    "plt.legend()\n",
    "plt.ylabel('Score')\n",
    "\n",
    "plt.subplot(1,2,2)\n",
    "plt.boxplot([scores_crity,scores_critn])\n",
    "plt.title('Boxplot of Scores with and without critical flags WITH outliers')\n",
    "plt.xticks([1,2],['Critical Flags',' NO Critical Flag'])\n",
    "plt.axhline(13,color='green', label='A')\n",
    "plt.ylabel('Score')\n",
    "plt.legend()\n",
    "plt.show()"
   ]
  },
  {
   "cell_type": "code",
   "execution_count": 20,
   "metadata": {},
   "outputs": [
    {
     "data": {
      "text/plain": [
       "0.9997266265718973"
      ]
     },
     "execution_count": 20,
     "metadata": {},
     "output_type": "execute_result"
    }
   ],
   "source": [
    "sum(scores_critn<=13)/len(scores_critn)"
   ]
  },
  {
   "cell_type": "markdown",
   "metadata": {},
   "source": [
    "99.97% of all inspections that do not result in a critical flag violation are awarded an A grade"
   ]
  },
  {
   "cell_type": "code",
   "execution_count": 30,
   "metadata": {
    "scrolled": true
   },
   "outputs": [
    {
     "data": {
      "text/plain": [
       "0.9519531681455028"
      ]
     },
     "execution_count": 30,
     "metadata": {},
     "output_type": "execute_result"
    }
   ],
   "source": [
    "sum(df_init.loc[df_init['CRITICAL FLAG']==1]['GRADE']=='A')/len(df_init.loc[df_init['CRITICAL FLAG']==1])"
   ]
  },
  {
   "cell_type": "markdown",
   "metadata": {},
   "source": [
    "95% of all inspections that result in 1 critical flag violation are still able to obtain an A grade"
   ]
  },
  {
   "cell_type": "code",
   "execution_count": 32,
   "metadata": {},
   "outputs": [
    {
     "data": {
      "text/plain": [
       "0.41602113733261276"
      ]
     },
     "execution_count": 32,
     "metadata": {},
     "output_type": "execute_result"
    }
   ],
   "source": [
    "sum(df_init.loc[df_init['CRITICAL FLAG']==2]['GRADE']=='A')/len(df_init.loc[df_init['CRITICAL FLAG']==2])"
   ]
  },
  {
   "cell_type": "markdown",
   "metadata": {},
   "source": [
    "41% of inspection that result in 2 critical flag violations obtain an A grade"
   ]
  },
  {
   "cell_type": "code",
   "execution_count": 29,
   "metadata": {},
   "outputs": [
    {
     "data": {
      "text/plain": [
       "0.007836778813673827"
      ]
     },
     "execution_count": 29,
     "metadata": {},
     "output_type": "execute_result"
    }
   ],
   "source": [
    "sum(df_init.loc[df_init['CRITICAL FLAG']>2]['GRADE']=='A')/len(df_init.loc[df_init['CRITICAL FLAG']>2])"
   ]
  },
  {
   "cell_type": "markdown",
   "metadata": {},
   "source": [
    "Less than 1% of inspections that result in more than 2 critical flags obtain an A grade"
   ]
  },
  {
   "cell_type": "code",
   "execution_count": null,
   "metadata": {},
   "outputs": [],
   "source": []
  }
 ],
 "metadata": {
  "kernelspec": {
   "display_name": "Python 3",
   "language": "python",
   "name": "python3"
  },
  "language_info": {
   "codemirror_mode": {
    "name": "ipython",
    "version": 3
   },
   "file_extension": ".py",
   "mimetype": "text/x-python",
   "name": "python",
   "nbconvert_exporter": "python",
   "pygments_lexer": "ipython3",
   "version": "3.7.1"
  }
 },
 "nbformat": 4,
 "nbformat_minor": 2
}
