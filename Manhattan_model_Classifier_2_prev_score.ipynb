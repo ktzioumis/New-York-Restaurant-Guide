{
 "cells": [
  {
   "cell_type": "code",
   "execution_count": 1,
   "metadata": {},
   "outputs": [],
   "source": [
    "import pandas as pd \n",
    "import numpy as np\n",
    "import matplotlib.pyplot as plt"
   ]
  },
  {
   "cell_type": "code",
   "execution_count": 2,
   "metadata": {},
   "outputs": [
    {
     "data": {
      "text/html": [
       "<div>\n",
       "<style scoped>\n",
       "    .dataframe tbody tr th:only-of-type {\n",
       "        vertical-align: middle;\n",
       "    }\n",
       "\n",
       "    .dataframe tbody tr th {\n",
       "        vertical-align: top;\n",
       "    }\n",
       "\n",
       "    .dataframe thead th {\n",
       "        text-align: right;\n",
       "    }\n",
       "</style>\n",
       "<table border=\"1\" class=\"dataframe\">\n",
       "  <thead>\n",
       "    <tr style=\"text-align: right;\">\n",
       "      <th></th>\n",
       "      <th>Unnamed: 0</th>\n",
       "      <th>Unnamed: 0.1</th>\n",
       "      <th>CAMIS</th>\n",
       "      <th>DATE</th>\n",
       "      <th>SCORE</th>\n",
       "      <th>INSPECTION TYPE</th>\n",
       "      <th>02A</th>\n",
       "      <th>02B</th>\n",
       "      <th>02C</th>\n",
       "      <th>02D</th>\n",
       "      <th>...</th>\n",
       "      <th>GRADE</th>\n",
       "      <th>prev_score</th>\n",
       "      <th>prev_critical</th>\n",
       "      <th>A</th>\n",
       "      <th>prev_A</th>\n",
       "      <th>DBA</th>\n",
       "      <th>CUISINE DESCRIPTION</th>\n",
       "      <th>is_chain</th>\n",
       "      <th>Community Board</th>\n",
       "      <th>BORO</th>\n",
       "    </tr>\n",
       "  </thead>\n",
       "  <tbody>\n",
       "    <tr>\n",
       "      <th>0</th>\n",
       "      <td>0</td>\n",
       "      <td>1</td>\n",
       "      <td>30075445</td>\n",
       "      <td>2018-05-11</td>\n",
       "      <td>5.0</td>\n",
       "      <td>Cycle Inspection / Initial Inspection</td>\n",
       "      <td>0.0</td>\n",
       "      <td>0.0</td>\n",
       "      <td>0.0</td>\n",
       "      <td>0.0</td>\n",
       "      <td>...</td>\n",
       "      <td>A</td>\n",
       "      <td>7.0</td>\n",
       "      <td>1</td>\n",
       "      <td>True</td>\n",
       "      <td>True</td>\n",
       "      <td>MORRIS PARK BAKE SHOP</td>\n",
       "      <td>Bakery</td>\n",
       "      <td>0</td>\n",
       "      <td>211.0</td>\n",
       "      <td>Bronx</td>\n",
       "    </tr>\n",
       "    <tr>\n",
       "      <th>1</th>\n",
       "      <td>1</td>\n",
       "      <td>2</td>\n",
       "      <td>30075445</td>\n",
       "      <td>2019-05-16</td>\n",
       "      <td>14.0</td>\n",
       "      <td>Cycle Inspection / Initial Inspection</td>\n",
       "      <td>0.0</td>\n",
       "      <td>0.0</td>\n",
       "      <td>0.0</td>\n",
       "      <td>0.0</td>\n",
       "      <td>...</td>\n",
       "      <td>B</td>\n",
       "      <td>5.0</td>\n",
       "      <td>0</td>\n",
       "      <td>False</td>\n",
       "      <td>True</td>\n",
       "      <td>MORRIS PARK BAKE SHOP</td>\n",
       "      <td>Bakery</td>\n",
       "      <td>0</td>\n",
       "      <td>211.0</td>\n",
       "      <td>Bronx</td>\n",
       "    </tr>\n",
       "    <tr>\n",
       "      <th>2</th>\n",
       "      <td>2</td>\n",
       "      <td>4</td>\n",
       "      <td>30112340</td>\n",
       "      <td>2017-06-26</td>\n",
       "      <td>7.0</td>\n",
       "      <td>Cycle Inspection / Initial Inspection</td>\n",
       "      <td>0.0</td>\n",
       "      <td>0.0</td>\n",
       "      <td>0.0</td>\n",
       "      <td>0.0</td>\n",
       "      <td>...</td>\n",
       "      <td>A</td>\n",
       "      <td>48.0</td>\n",
       "      <td>3</td>\n",
       "      <td>True</td>\n",
       "      <td>False</td>\n",
       "      <td>WENDY'S</td>\n",
       "      <td>Hamburgers</td>\n",
       "      <td>1</td>\n",
       "      <td>309.0</td>\n",
       "      <td>Brooklyn</td>\n",
       "    </tr>\n",
       "    <tr>\n",
       "      <th>3</th>\n",
       "      <td>3</td>\n",
       "      <td>5</td>\n",
       "      <td>30112340</td>\n",
       "      <td>2018-03-13</td>\n",
       "      <td>12.0</td>\n",
       "      <td>Cycle Inspection / Initial Inspection</td>\n",
       "      <td>0.0</td>\n",
       "      <td>0.0</td>\n",
       "      <td>0.0</td>\n",
       "      <td>0.0</td>\n",
       "      <td>...</td>\n",
       "      <td>A</td>\n",
       "      <td>7.0</td>\n",
       "      <td>1</td>\n",
       "      <td>True</td>\n",
       "      <td>True</td>\n",
       "      <td>WENDY'S</td>\n",
       "      <td>Hamburgers</td>\n",
       "      <td>1</td>\n",
       "      <td>309.0</td>\n",
       "      <td>Brooklyn</td>\n",
       "    </tr>\n",
       "    <tr>\n",
       "      <th>4</th>\n",
       "      <td>4</td>\n",
       "      <td>6</td>\n",
       "      <td>30112340</td>\n",
       "      <td>2019-03-04</td>\n",
       "      <td>13.0</td>\n",
       "      <td>Cycle Inspection / Initial Inspection</td>\n",
       "      <td>0.0</td>\n",
       "      <td>0.0</td>\n",
       "      <td>0.0</td>\n",
       "      <td>0.0</td>\n",
       "      <td>...</td>\n",
       "      <td>A</td>\n",
       "      <td>12.0</td>\n",
       "      <td>1</td>\n",
       "      <td>True</td>\n",
       "      <td>True</td>\n",
       "      <td>WENDY'S</td>\n",
       "      <td>Hamburgers</td>\n",
       "      <td>1</td>\n",
       "      <td>309.0</td>\n",
       "      <td>Brooklyn</td>\n",
       "    </tr>\n",
       "  </tbody>\n",
       "</table>\n",
       "<p>5 rows × 83 columns</p>\n",
       "</div>"
      ],
      "text/plain": [
       "   Unnamed: 0  Unnamed: 0.1     CAMIS        DATE  SCORE  \\\n",
       "0           0             1  30075445  2018-05-11    5.0   \n",
       "1           1             2  30075445  2019-05-16   14.0   \n",
       "2           2             4  30112340  2017-06-26    7.0   \n",
       "3           3             5  30112340  2018-03-13   12.0   \n",
       "4           4             6  30112340  2019-03-04   13.0   \n",
       "\n",
       "                         INSPECTION TYPE  02A  02B  02C  02D  ...  GRADE  \\\n",
       "0  Cycle Inspection / Initial Inspection  0.0  0.0  0.0  0.0  ...      A   \n",
       "1  Cycle Inspection / Initial Inspection  0.0  0.0  0.0  0.0  ...      B   \n",
       "2  Cycle Inspection / Initial Inspection  0.0  0.0  0.0  0.0  ...      A   \n",
       "3  Cycle Inspection / Initial Inspection  0.0  0.0  0.0  0.0  ...      A   \n",
       "4  Cycle Inspection / Initial Inspection  0.0  0.0  0.0  0.0  ...      A   \n",
       "\n",
       "   prev_score  prev_critical      A  prev_A                    DBA  \\\n",
       "0         7.0              1   True    True  MORRIS PARK BAKE SHOP   \n",
       "1         5.0              0  False    True  MORRIS PARK BAKE SHOP   \n",
       "2        48.0              3   True   False                WENDY'S   \n",
       "3         7.0              1   True    True                WENDY'S   \n",
       "4        12.0              1   True    True                WENDY'S   \n",
       "\n",
       "   CUISINE DESCRIPTION  is_chain  Community Board      BORO  \n",
       "0               Bakery         0            211.0     Bronx  \n",
       "1               Bakery         0            211.0     Bronx  \n",
       "2           Hamburgers         1            309.0  Brooklyn  \n",
       "3           Hamburgers         1            309.0  Brooklyn  \n",
       "4           Hamburgers         1            309.0  Brooklyn  \n",
       "\n",
       "[5 rows x 83 columns]"
      ]
     },
     "execution_count": 2,
     "metadata": {},
     "output_type": "execute_result"
    }
   ],
   "source": [
    "df_twice_merged=pd.read_csv('twice_merged.csv')\n",
    "df_twice_merged.head()"
   ]
  },
  {
   "cell_type": "code",
   "execution_count": 3,
   "metadata": {},
   "outputs": [
    {
     "data": {
      "text/html": [
       "<div>\n",
       "<style scoped>\n",
       "    .dataframe tbody tr th:only-of-type {\n",
       "        vertical-align: middle;\n",
       "    }\n",
       "\n",
       "    .dataframe tbody tr th {\n",
       "        vertical-align: top;\n",
       "    }\n",
       "\n",
       "    .dataframe thead th {\n",
       "        text-align: right;\n",
       "    }\n",
       "</style>\n",
       "<table border=\"1\" class=\"dataframe\">\n",
       "  <thead>\n",
       "    <tr style=\"text-align: right;\">\n",
       "      <th></th>\n",
       "      <th>A</th>\n",
       "      <th>prev_score</th>\n",
       "      <th>prev_critical</th>\n",
       "      <th>is_chain</th>\n",
       "      <th>CUISINE DESCRIPTION</th>\n",
       "      <th>Community Board</th>\n",
       "    </tr>\n",
       "  </thead>\n",
       "  <tbody>\n",
       "    <tr>\n",
       "      <th>5</th>\n",
       "      <td>True</td>\n",
       "      <td>13.0</td>\n",
       "      <td>2</td>\n",
       "      <td>0</td>\n",
       "      <td>Irish</td>\n",
       "      <td>104</td>\n",
       "    </tr>\n",
       "    <tr>\n",
       "      <th>6</th>\n",
       "      <td>True</td>\n",
       "      <td>12.0</td>\n",
       "      <td>1</td>\n",
       "      <td>0</td>\n",
       "      <td>Irish</td>\n",
       "      <td>104</td>\n",
       "    </tr>\n",
       "    <tr>\n",
       "      <th>15</th>\n",
       "      <td>True</td>\n",
       "      <td>11.0</td>\n",
       "      <td>1</td>\n",
       "      <td>0</td>\n",
       "      <td>American</td>\n",
       "      <td>108</td>\n",
       "    </tr>\n",
       "    <tr>\n",
       "      <th>29</th>\n",
       "      <td>False</td>\n",
       "      <td>12.0</td>\n",
       "      <td>1</td>\n",
       "      <td>0</td>\n",
       "      <td>American</td>\n",
       "      <td>107</td>\n",
       "    </tr>\n",
       "    <tr>\n",
       "      <th>30</th>\n",
       "      <td>False</td>\n",
       "      <td>22.0</td>\n",
       "      <td>3</td>\n",
       "      <td>0</td>\n",
       "      <td>American</td>\n",
       "      <td>107</td>\n",
       "    </tr>\n",
       "  </tbody>\n",
       "</table>\n",
       "</div>"
      ],
      "text/plain": [
       "        A  prev_score  prev_critical  is_chain CUISINE DESCRIPTION  \\\n",
       "5    True        13.0              2         0               Irish   \n",
       "6    True        12.0              1         0               Irish   \n",
       "15   True        11.0              1         0            American   \n",
       "29  False        12.0              1         0            American   \n",
       "30  False        22.0              3         0            American   \n",
       "\n",
       "   Community Board  \n",
       "5              104  \n",
       "6              104  \n",
       "15             108  \n",
       "29             107  \n",
       "30             107  "
      ]
     },
     "execution_count": 3,
     "metadata": {},
     "output_type": "execute_result"
    }
   ],
   "source": [
    "df_manhattan=df_twice_merged.loc[df_twice_merged['BORO']=='Manhattan'][['A','prev_score','prev_critical','is_chain','CUISINE DESCRIPTION','Community Board']].dropna()\n",
    "df_manhattan['Community Board']=df_manhattan['Community Board'].astype(int).astype(str)\n",
    "df_manhattan.head()"
   ]
  },
  {
   "cell_type": "code",
   "execution_count": 4,
   "metadata": {},
   "outputs": [
    {
     "name": "stderr",
     "output_type": "stream",
     "text": [
      "C:\\Users\\kosta\\Anaconda3\\lib\\site-packages\\ipykernel_launcher.py:4: SettingWithCopyWarning: \n",
      "A value is trying to be set on a copy of a slice from a DataFrame.\n",
      "Try using .loc[row_indexer,col_indexer] = value instead\n",
      "\n",
      "See the caveats in the documentation: http://pandas.pydata.org/pandas-docs/stable/indexing.html#indexing-view-versus-copy\n",
      "  after removing the cwd from sys.path.\n"
     ]
    },
    {
     "data": {
      "text/html": [
       "<div>\n",
       "<style scoped>\n",
       "    .dataframe tbody tr th:only-of-type {\n",
       "        vertical-align: middle;\n",
       "    }\n",
       "\n",
       "    .dataframe tbody tr th {\n",
       "        vertical-align: top;\n",
       "    }\n",
       "\n",
       "    .dataframe thead th {\n",
       "        text-align: right;\n",
       "    }\n",
       "</style>\n",
       "<table border=\"1\" class=\"dataframe\">\n",
       "  <thead>\n",
       "    <tr style=\"text-align: right;\">\n",
       "      <th></th>\n",
       "      <th>Community Board</th>\n",
       "      <th>cb score mean</th>\n",
       "      <th>cb score std</th>\n",
       "      <th>cb count</th>\n",
       "    </tr>\n",
       "  </thead>\n",
       "  <tbody>\n",
       "    <tr>\n",
       "      <th>0</th>\n",
       "      <td>101</td>\n",
       "      <td>14.684808</td>\n",
       "      <td>10.633265</td>\n",
       "      <td>2113</td>\n",
       "    </tr>\n",
       "    <tr>\n",
       "      <th>1</th>\n",
       "      <td>102</td>\n",
       "      <td>16.493172</td>\n",
       "      <td>11.560859</td>\n",
       "      <td>3149</td>\n",
       "    </tr>\n",
       "    <tr>\n",
       "      <th>2</th>\n",
       "      <td>103</td>\n",
       "      <td>17.736706</td>\n",
       "      <td>13.020565</td>\n",
       "      <td>3103</td>\n",
       "    </tr>\n",
       "    <tr>\n",
       "      <th>3</th>\n",
       "      <td>104</td>\n",
       "      <td>15.768121</td>\n",
       "      <td>10.975397</td>\n",
       "      <td>2704</td>\n",
       "    </tr>\n",
       "    <tr>\n",
       "      <th>4</th>\n",
       "      <td>105</td>\n",
       "      <td>14.678484</td>\n",
       "      <td>11.384473</td>\n",
       "      <td>6093</td>\n",
       "    </tr>\n",
       "    <tr>\n",
       "      <th>5</th>\n",
       "      <td>106</td>\n",
       "      <td>16.747238</td>\n",
       "      <td>11.282198</td>\n",
       "      <td>2172</td>\n",
       "    </tr>\n",
       "    <tr>\n",
       "      <th>6</th>\n",
       "      <td>107</td>\n",
       "      <td>15.930505</td>\n",
       "      <td>11.218918</td>\n",
       "      <td>1367</td>\n",
       "    </tr>\n",
       "    <tr>\n",
       "      <th>7</th>\n",
       "      <td>108</td>\n",
       "      <td>16.027832</td>\n",
       "      <td>10.412485</td>\n",
       "      <td>2048</td>\n",
       "    </tr>\n",
       "    <tr>\n",
       "      <th>8</th>\n",
       "      <td>109</td>\n",
       "      <td>16.032841</td>\n",
       "      <td>12.037315</td>\n",
       "      <td>609</td>\n",
       "    </tr>\n",
       "    <tr>\n",
       "      <th>9</th>\n",
       "      <td>110</td>\n",
       "      <td>16.457050</td>\n",
       "      <td>12.407261</td>\n",
       "      <td>617</td>\n",
       "    </tr>\n",
       "    <tr>\n",
       "      <th>10</th>\n",
       "      <td>111</td>\n",
       "      <td>16.658038</td>\n",
       "      <td>11.473510</td>\n",
       "      <td>734</td>\n",
       "    </tr>\n",
       "    <tr>\n",
       "      <th>11</th>\n",
       "      <td>112</td>\n",
       "      <td>17.875752</td>\n",
       "      <td>12.730231</td>\n",
       "      <td>998</td>\n",
       "    </tr>\n",
       "    <tr>\n",
       "      <th>12</th>\n",
       "      <td>164</td>\n",
       "      <td>8.272727</td>\n",
       "      <td>9.113997</td>\n",
       "      <td>22</td>\n",
       "    </tr>\n",
       "  </tbody>\n",
       "</table>\n",
       "</div>"
      ],
      "text/plain": [
       "   Community Board  cb score mean  cb score std  cb count\n",
       "0              101      14.684808     10.633265      2113\n",
       "1              102      16.493172     11.560859      3149\n",
       "2              103      17.736706     13.020565      3103\n",
       "3              104      15.768121     10.975397      2704\n",
       "4              105      14.678484     11.384473      6093\n",
       "5              106      16.747238     11.282198      2172\n",
       "6              107      15.930505     11.218918      1367\n",
       "7              108      16.027832     10.412485      2048\n",
       "8              109      16.032841     12.037315       609\n",
       "9              110      16.457050     12.407261       617\n",
       "10             111      16.658038     11.473510       734\n",
       "11             112      17.875752     12.730231       998\n",
       "12             164       8.272727      9.113997        22"
      ]
     },
     "execution_count": 4,
     "metadata": {},
     "output_type": "execute_result"
    }
   ],
   "source": [
    "df_cb_stats=pd.read_csv('cb_stats.csv')\n",
    "df_cb_stats.drop(columns='Unnamed: 0',inplace=True)\n",
    "df_cb_stats_man=df_cb_stats.loc[df_cb_stats['Community Board']<200]\n",
    "df_cb_stats_man['Community Board']=df_cb_stats_man['Community Board'].astype(int).astype(str)\n",
    "df_cb_stats_man"
   ]
  },
  {
   "cell_type": "code",
   "execution_count": 5,
   "metadata": {},
   "outputs": [
    {
     "data": {
      "text/html": [
       "<div>\n",
       "<style scoped>\n",
       "    .dataframe tbody tr th:only-of-type {\n",
       "        vertical-align: middle;\n",
       "    }\n",
       "\n",
       "    .dataframe tbody tr th {\n",
       "        vertical-align: top;\n",
       "    }\n",
       "\n",
       "    .dataframe thead th {\n",
       "        text-align: right;\n",
       "    }\n",
       "</style>\n",
       "<table border=\"1\" class=\"dataframe\">\n",
       "  <thead>\n",
       "    <tr style=\"text-align: right;\">\n",
       "      <th></th>\n",
       "      <th>CUISINE DESCRIPTION</th>\n",
       "      <th>cuisine score mean</th>\n",
       "      <th>cuisine score std</th>\n",
       "      <th>cuisine count</th>\n",
       "    </tr>\n",
       "  </thead>\n",
       "  <tbody>\n",
       "    <tr>\n",
       "      <th>0</th>\n",
       "      <td>Afghan</td>\n",
       "      <td>14.083333</td>\n",
       "      <td>10.543920</td>\n",
       "      <td>12</td>\n",
       "    </tr>\n",
       "    <tr>\n",
       "      <th>1</th>\n",
       "      <td>African</td>\n",
       "      <td>20.181818</td>\n",
       "      <td>11.821635</td>\n",
       "      <td>66</td>\n",
       "    </tr>\n",
       "    <tr>\n",
       "      <th>2</th>\n",
       "      <td>American</td>\n",
       "      <td>15.510520</td>\n",
       "      <td>11.191669</td>\n",
       "      <td>7937</td>\n",
       "    </tr>\n",
       "    <tr>\n",
       "      <th>3</th>\n",
       "      <td>Armenian</td>\n",
       "      <td>15.324324</td>\n",
       "      <td>16.441908</td>\n",
       "      <td>37</td>\n",
       "    </tr>\n",
       "    <tr>\n",
       "      <th>4</th>\n",
       "      <td>Asian</td>\n",
       "      <td>17.968170</td>\n",
       "      <td>11.473329</td>\n",
       "      <td>377</td>\n",
       "    </tr>\n",
       "  </tbody>\n",
       "</table>\n",
       "</div>"
      ],
      "text/plain": [
       "  CUISINE DESCRIPTION  cuisine score mean  cuisine score std  cuisine count\n",
       "0              Afghan           14.083333          10.543920             12\n",
       "1             African           20.181818          11.821635             66\n",
       "2            American           15.510520          11.191669           7937\n",
       "3            Armenian           15.324324          16.441908             37\n",
       "4               Asian           17.968170          11.473329            377"
      ]
     },
     "execution_count": 5,
     "metadata": {},
     "output_type": "execute_result"
    }
   ],
   "source": [
    "df_cuis_stats_man=pd.read_csv('cuis_stats_man.csv')\n",
    "df_cuis_stats_man.drop(columns='Unnamed: 0',inplace=True)\n",
    "df_cuis_stats_man.head()"
   ]
  },
  {
   "cell_type": "code",
   "execution_count": 6,
   "metadata": {},
   "outputs": [
    {
     "data": {
      "text/html": [
       "<div>\n",
       "<style scoped>\n",
       "    .dataframe tbody tr th:only-of-type {\n",
       "        vertical-align: middle;\n",
       "    }\n",
       "\n",
       "    .dataframe tbody tr th {\n",
       "        vertical-align: top;\n",
       "    }\n",
       "\n",
       "    .dataframe thead th {\n",
       "        text-align: right;\n",
       "    }\n",
       "</style>\n",
       "<table border=\"1\" class=\"dataframe\">\n",
       "  <thead>\n",
       "    <tr style=\"text-align: right;\">\n",
       "      <th></th>\n",
       "      <th>A</th>\n",
       "      <th>prev_score</th>\n",
       "      <th>prev_critical</th>\n",
       "      <th>is_chain</th>\n",
       "      <th>CUISINE DESCRIPTION</th>\n",
       "      <th>Community Board</th>\n",
       "      <th>cuisine score mean</th>\n",
       "      <th>cuisine score std</th>\n",
       "      <th>cuisine count</th>\n",
       "      <th>cb score mean</th>\n",
       "      <th>cb score std</th>\n",
       "      <th>cb count</th>\n",
       "    </tr>\n",
       "  </thead>\n",
       "  <tbody>\n",
       "    <tr>\n",
       "      <th>0</th>\n",
       "      <td>True</td>\n",
       "      <td>13.0</td>\n",
       "      <td>2</td>\n",
       "      <td>0</td>\n",
       "      <td>Irish</td>\n",
       "      <td>104</td>\n",
       "      <td>16.489418</td>\n",
       "      <td>9.536536</td>\n",
       "      <td>378</td>\n",
       "      <td>15.768121</td>\n",
       "      <td>10.975397</td>\n",
       "      <td>2704</td>\n",
       "    </tr>\n",
       "    <tr>\n",
       "      <th>1</th>\n",
       "      <td>True</td>\n",
       "      <td>12.0</td>\n",
       "      <td>1</td>\n",
       "      <td>0</td>\n",
       "      <td>Irish</td>\n",
       "      <td>104</td>\n",
       "      <td>16.489418</td>\n",
       "      <td>9.536536</td>\n",
       "      <td>378</td>\n",
       "      <td>15.768121</td>\n",
       "      <td>10.975397</td>\n",
       "      <td>2704</td>\n",
       "    </tr>\n",
       "    <tr>\n",
       "      <th>2</th>\n",
       "      <td>False</td>\n",
       "      <td>12.0</td>\n",
       "      <td>1</td>\n",
       "      <td>0</td>\n",
       "      <td>Irish</td>\n",
       "      <td>104</td>\n",
       "      <td>16.489418</td>\n",
       "      <td>9.536536</td>\n",
       "      <td>378</td>\n",
       "      <td>15.768121</td>\n",
       "      <td>10.975397</td>\n",
       "      <td>2704</td>\n",
       "    </tr>\n",
       "    <tr>\n",
       "      <th>3</th>\n",
       "      <td>False</td>\n",
       "      <td>17.0</td>\n",
       "      <td>2</td>\n",
       "      <td>0</td>\n",
       "      <td>Irish</td>\n",
       "      <td>104</td>\n",
       "      <td>16.489418</td>\n",
       "      <td>9.536536</td>\n",
       "      <td>378</td>\n",
       "      <td>15.768121</td>\n",
       "      <td>10.975397</td>\n",
       "      <td>2704</td>\n",
       "    </tr>\n",
       "    <tr>\n",
       "      <th>4</th>\n",
       "      <td>True</td>\n",
       "      <td>18.0</td>\n",
       "      <td>2</td>\n",
       "      <td>0</td>\n",
       "      <td>Irish</td>\n",
       "      <td>104</td>\n",
       "      <td>16.489418</td>\n",
       "      <td>9.536536</td>\n",
       "      <td>378</td>\n",
       "      <td>15.768121</td>\n",
       "      <td>10.975397</td>\n",
       "      <td>2704</td>\n",
       "    </tr>\n",
       "  </tbody>\n",
       "</table>\n",
       "</div>"
      ],
      "text/plain": [
       "       A  prev_score  prev_critical  is_chain CUISINE DESCRIPTION  \\\n",
       "0   True        13.0              2         0               Irish   \n",
       "1   True        12.0              1         0               Irish   \n",
       "2  False        12.0              1         0               Irish   \n",
       "3  False        17.0              2         0               Irish   \n",
       "4   True        18.0              2         0               Irish   \n",
       "\n",
       "  Community Board  cuisine score mean  cuisine score std  cuisine count  \\\n",
       "0             104           16.489418           9.536536            378   \n",
       "1             104           16.489418           9.536536            378   \n",
       "2             104           16.489418           9.536536            378   \n",
       "3             104           16.489418           9.536536            378   \n",
       "4             104           16.489418           9.536536            378   \n",
       "\n",
       "   cb score mean  cb score std  cb count  \n",
       "0      15.768121     10.975397      2704  \n",
       "1      15.768121     10.975397      2704  \n",
       "2      15.768121     10.975397      2704  \n",
       "3      15.768121     10.975397      2704  \n",
       "4      15.768121     10.975397      2704  "
      ]
     },
     "execution_count": 6,
     "metadata": {},
     "output_type": "execute_result"
    }
   ],
   "source": [
    "df_manhattan_merged=df_manhattan.merge(df_cuis_stats_man,on='CUISINE DESCRIPTION').merge(df_cb_stats_man,on='Community Board')\n",
    "df_manhattan_merged.head()"
   ]
  },
  {
   "cell_type": "code",
   "execution_count": 7,
   "metadata": {},
   "outputs": [
    {
     "data": {
      "text/html": [
       "<div>\n",
       "<style scoped>\n",
       "    .dataframe tbody tr th:only-of-type {\n",
       "        vertical-align: middle;\n",
       "    }\n",
       "\n",
       "    .dataframe tbody tr th {\n",
       "        vertical-align: top;\n",
       "    }\n",
       "\n",
       "    .dataframe thead th {\n",
       "        text-align: right;\n",
       "    }\n",
       "</style>\n",
       "<table border=\"1\" class=\"dataframe\">\n",
       "  <thead>\n",
       "    <tr style=\"text-align: right;\">\n",
       "      <th></th>\n",
       "      <th>A</th>\n",
       "      <th>prev_score</th>\n",
       "      <th>prev_critical</th>\n",
       "      <th>is_chain</th>\n",
       "      <th>cuisine score mean</th>\n",
       "      <th>cuisine score std</th>\n",
       "      <th>cuisine count</th>\n",
       "      <th>cb score mean</th>\n",
       "      <th>cb score std</th>\n",
       "      <th>cb count</th>\n",
       "    </tr>\n",
       "  </thead>\n",
       "  <tbody>\n",
       "    <tr>\n",
       "      <th>0</th>\n",
       "      <td>True</td>\n",
       "      <td>13.0</td>\n",
       "      <td>2</td>\n",
       "      <td>0</td>\n",
       "      <td>16.489418</td>\n",
       "      <td>9.536536</td>\n",
       "      <td>378</td>\n",
       "      <td>15.768121</td>\n",
       "      <td>10.975397</td>\n",
       "      <td>2704</td>\n",
       "    </tr>\n",
       "    <tr>\n",
       "      <th>1</th>\n",
       "      <td>True</td>\n",
       "      <td>12.0</td>\n",
       "      <td>1</td>\n",
       "      <td>0</td>\n",
       "      <td>16.489418</td>\n",
       "      <td>9.536536</td>\n",
       "      <td>378</td>\n",
       "      <td>15.768121</td>\n",
       "      <td>10.975397</td>\n",
       "      <td>2704</td>\n",
       "    </tr>\n",
       "    <tr>\n",
       "      <th>2</th>\n",
       "      <td>False</td>\n",
       "      <td>12.0</td>\n",
       "      <td>1</td>\n",
       "      <td>0</td>\n",
       "      <td>16.489418</td>\n",
       "      <td>9.536536</td>\n",
       "      <td>378</td>\n",
       "      <td>15.768121</td>\n",
       "      <td>10.975397</td>\n",
       "      <td>2704</td>\n",
       "    </tr>\n",
       "    <tr>\n",
       "      <th>3</th>\n",
       "      <td>False</td>\n",
       "      <td>17.0</td>\n",
       "      <td>2</td>\n",
       "      <td>0</td>\n",
       "      <td>16.489418</td>\n",
       "      <td>9.536536</td>\n",
       "      <td>378</td>\n",
       "      <td>15.768121</td>\n",
       "      <td>10.975397</td>\n",
       "      <td>2704</td>\n",
       "    </tr>\n",
       "    <tr>\n",
       "      <th>4</th>\n",
       "      <td>True</td>\n",
       "      <td>18.0</td>\n",
       "      <td>2</td>\n",
       "      <td>0</td>\n",
       "      <td>16.489418</td>\n",
       "      <td>9.536536</td>\n",
       "      <td>378</td>\n",
       "      <td>15.768121</td>\n",
       "      <td>10.975397</td>\n",
       "      <td>2704</td>\n",
       "    </tr>\n",
       "  </tbody>\n",
       "</table>\n",
       "</div>"
      ],
      "text/plain": [
       "       A  prev_score  prev_critical  is_chain  cuisine score mean  \\\n",
       "0   True        13.0              2         0           16.489418   \n",
       "1   True        12.0              1         0           16.489418   \n",
       "2  False        12.0              1         0           16.489418   \n",
       "3  False        17.0              2         0           16.489418   \n",
       "4   True        18.0              2         0           16.489418   \n",
       "\n",
       "   cuisine score std  cuisine count  cb score mean  cb score std  cb count  \n",
       "0           9.536536            378      15.768121     10.975397      2704  \n",
       "1           9.536536            378      15.768121     10.975397      2704  \n",
       "2           9.536536            378      15.768121     10.975397      2704  \n",
       "3           9.536536            378      15.768121     10.975397      2704  \n",
       "4           9.536536            378      15.768121     10.975397      2704  "
      ]
     },
     "execution_count": 7,
     "metadata": {},
     "output_type": "execute_result"
    }
   ],
   "source": [
    "df_manhattan_merged=df_manhattan_merged.drop(columns=['CUISINE DESCRIPTION','Community Board'])\n",
    "df_manhattan_merged.head()"
   ]
  },
  {
   "cell_type": "code",
   "execution_count": null,
   "metadata": {},
   "outputs": [],
   "source": []
  },
  {
   "cell_type": "code",
   "execution_count": null,
   "metadata": {},
   "outputs": [],
   "source": []
  },
  {
   "cell_type": "code",
   "execution_count": 8,
   "metadata": {},
   "outputs": [],
   "source": [
    "import itertools\n",
    "def show_cf(y_true, y_pred, class_names=None, model_name=None):\n",
    "    '''Stylized Visual Confusion Matrix provided by Flatiron School'''\n",
    "    cf = confusion_matrix(y_true, y_pred)\n",
    "    plt.imshow(cf, cmap=plt.cm.Blues)\n",
    "    \n",
    "    if model_name:\n",
    "        plt.title(\"Confusion Matrix: {}\".format(model_name))\n",
    "    else:\n",
    "        plt.title(\"Confusion Matrix\")\n",
    "    plt.ylabel('True Label')\n",
    "    plt.xlabel('Predicted Label')\n",
    "    \n",
    "#     class_names = set(y_true)\n",
    "    tick_marks = np.arange(len(class_names))\n",
    "    if class_names:\n",
    "        plt.xticks(tick_marks, class_names)\n",
    "        plt.yticks(tick_marks, class_names)\n",
    "    \n",
    "    thresh = cf.max() / 2.\n",
    "    \n",
    "    for i, j in itertools.product(range(cf.shape[0]), range(cf.shape[1])):\n",
    "        plt.text(j, i, cf[i, j], horizontalalignment='center', color='white' if cf[i, j] > thresh else 'black')\n",
    "\n",
    "    plt.colorbar()\n",
    "    "
   ]
  },
  {
   "cell_type": "code",
   "execution_count": null,
   "metadata": {},
   "outputs": [],
   "source": []
  },
  {
   "cell_type": "code",
   "execution_count": null,
   "metadata": {},
   "outputs": [],
   "source": []
  },
  {
   "cell_type": "markdown",
   "metadata": {},
   "source": [
    "determine features and target and create machine learning models"
   ]
  },
  {
   "cell_type": "code",
   "execution_count": 9,
   "metadata": {},
   "outputs": [],
   "source": [
    "y=df_manhattan_merged['A']\n",
    "X=df_manhattan_merged.drop(columns='A')"
   ]
  },
  {
   "cell_type": "code",
   "execution_count": 10,
   "metadata": {
    "scrolled": false
   },
   "outputs": [
    {
     "data": {
      "text/plain": [
       "True     10032\n",
       "False     7065\n",
       "Name: A, dtype: int64"
      ]
     },
     "execution_count": 10,
     "metadata": {},
     "output_type": "execute_result"
    }
   ],
   "source": [
    "df_manhattan_merged['A'].value_counts()"
   ]
  },
  {
   "cell_type": "code",
   "execution_count": 11,
   "metadata": {},
   "outputs": [],
   "source": [
    "from sklearn.model_selection import train_test_split\n",
    "X_train, X_test, y_train, y_test=train_test_split(X,y)"
   ]
  },
  {
   "cell_type": "code",
   "execution_count": 12,
   "metadata": {},
   "outputs": [
    {
     "name": "stderr",
     "output_type": "stream",
     "text": [
      "C:\\Users\\kosta\\Anaconda3\\lib\\site-packages\\sklearn\\linear_model\\logistic.py:432: FutureWarning: Default solver will be changed to 'lbfgs' in 0.22. Specify a solver to silence this warning.\n",
      "  FutureWarning)\n"
     ]
    },
    {
     "name": "stdout",
     "output_type": "stream",
     "text": [
      "              precision    recall  f1-score   support\n",
      "\n",
      "       False       0.59      0.37      0.45      1772\n",
      "        True       0.65      0.82      0.72      2503\n",
      "\n",
      "    accuracy                           0.63      4275\n",
      "   macro avg       0.62      0.59      0.59      4275\n",
      "weighted avg       0.62      0.63      0.61      4275\n",
      "\n"
     ]
    },
    {
     "data": {
      "image/png": "[encoded data removed]",
      "text/plain": [
       "<Figure size 432x288 with 2 Axes>"
      ]
     },
     "metadata": {
      "needs_background": "light"
     },
     "output_type": "display_data"
    }
   ],
   "source": [
    "from sklearn.linear_model import LogisticRegression\n",
    "lr=LogisticRegression()\n",
    "lr.fit(X_train,y_train)\n",
    "y_pred=lr.predict(X_test)\n",
    "from sklearn.metrics import confusion_matrix, classification_report\n",
    "print(classification_report(y_test,y_pred))\n",
    "show_cf(y_test,y_pred,class_names=['Not A','A'],model_name='Basic Logistic Regression')"
   ]
  },
  {
   "cell_type": "code",
   "execution_count": null,
   "metadata": {},
   "outputs": [],
   "source": []
  },
  {
   "cell_type": "code",
   "execution_count": 13,
   "metadata": {},
   "outputs": [],
   "source": [
    "#fit standard scaler to data\n",
    "from sklearn.preprocessing import StandardScaler\n",
    "scaler=StandardScaler()\n",
    "X_scaled=scaler.fit_transform(X)\n",
    "X_scaled_train, X_scaled_test, y_train, y_test=train_test_split(X_scaled,y)"
   ]
  },
  {
   "cell_type": "code",
   "execution_count": 14,
   "metadata": {},
   "outputs": [
    {
     "name": "stdout",
     "output_type": "stream",
     "text": [
      "              precision    recall  f1-score   support\n",
      "\n",
      "       False       0.61      0.39      0.48      1765\n",
      "        True       0.66      0.82      0.73      2510\n",
      "\n",
      "    accuracy                           0.65      4275\n",
      "   macro avg       0.64      0.61      0.61      4275\n",
      "weighted avg       0.64      0.65      0.63      4275\n",
      "\n"
     ]
    },
    {
     "name": "stderr",
     "output_type": "stream",
     "text": [
      "C:\\Users\\kosta\\Anaconda3\\lib\\site-packages\\sklearn\\linear_model\\logistic.py:432: FutureWarning: Default solver will be changed to 'lbfgs' in 0.22. Specify a solver to silence this warning.\n",
      "  FutureWarning)\n"
     ]
    },
    {
     "data": {
      "image/png": "[encoded data removed]",
      "text/plain": [
       "<Figure size 432x288 with 2 Axes>"
      ]
     },
     "metadata": {
      "needs_background": "light"
     },
     "output_type": "display_data"
    }
   ],
   "source": [
    "from sklearn.linear_model import LogisticRegression\n",
    "lr=LogisticRegression()\n",
    "lr.fit(X_scaled_train,y_train)\n",
    "y_pred=lr.predict(X_scaled_test)\n",
    "from sklearn.metrics import confusion_matrix, classification_report\n",
    "print(classification_report(y_test,y_pred))\n",
    "show_cf(y_test,y_pred,class_names=['Not A','A'],model_name='Scaled Logistic Regression')"
   ]
  },
  {
   "cell_type": "code",
   "execution_count": null,
   "metadata": {},
   "outputs": [],
   "source": []
  },
  {
   "cell_type": "code",
   "execution_count": 15,
   "metadata": {},
   "outputs": [
    {
     "name": "stderr",
     "output_type": "stream",
     "text": [
      "Using TensorFlow backend.\n"
     ]
    }
   ],
   "source": [
    "#reesmaple data to addrss biased target outcomes\n",
    "from imblearn.over_sampling import RandomOverSampler, SMOTE\n",
    "X_resampled, y_resampled = SMOTE().fit_sample(X, y) "
   ]
  },
  {
   "cell_type": "code",
   "execution_count": 16,
   "metadata": {},
   "outputs": [],
   "source": [
    "X_resampled_train, X_resampled_test, y_resampled_train, y_resampled_test=train_test_split(X_resampled,y_resampled)"
   ]
  },
  {
   "cell_type": "code",
   "execution_count": 17,
   "metadata": {},
   "outputs": [
    {
     "name": "stderr",
     "output_type": "stream",
     "text": [
      "C:\\Users\\kosta\\Anaconda3\\lib\\site-packages\\sklearn\\linear_model\\logistic.py:432: FutureWarning: Default solver will be changed to 'lbfgs' in 0.22. Specify a solver to silence this warning.\n",
      "  FutureWarning)\n"
     ]
    },
    {
     "name": "stdout",
     "output_type": "stream",
     "text": [
      "              precision    recall  f1-score   support\n",
      "\n",
      "       False       0.63      0.61      0.62      2481\n",
      "        True       0.63      0.65      0.64      2535\n",
      "\n",
      "    accuracy                           0.63      5016\n",
      "   macro avg       0.63      0.63      0.63      5016\n",
      "weighted avg       0.63      0.63      0.63      5016\n",
      "\n"
     ]
    },
    {
     "data": {
      "image/png": "[encoded data removed]",
      "text/plain": [
       "<Figure size 432x288 with 2 Axes>"
      ]
     },
     "metadata": {
      "needs_background": "light"
     },
     "output_type": "display_data"
    }
   ],
   "source": [
    "from sklearn.linear_model import LogisticRegression\n",
    "lr=LogisticRegression()\n",
    "lr.fit(X_resampled_train,y_resampled_train)\n",
    "y_pred=lr.predict(X_resampled_test)\n",
    "from sklearn.metrics import confusion_matrix, classification_report\n",
    "print(classification_report(y_resampled_test,y_pred))\n",
    "show_cf(y_resampled_test,y_pred,class_names=['Not A','A'],model_name='Resampled Logistic Regression')"
   ]
  },
  {
   "cell_type": "markdown",
   "metadata": {},
   "source": [
    "Both scaling and resmapling made improvements to the leanring model"
   ]
  },
  {
   "cell_type": "code",
   "execution_count": 18,
   "metadata": {},
   "outputs": [],
   "source": [
    "scaler=StandardScaler()\n",
    "X_scaled=scaler.fit_transform(X)\n",
    "X_scaled_resampled, y_resampled = SMOTE().fit_sample(X_scaled, y) \n",
    "X_scaled_resampled_train, X_scaled_resampled_test, y_resampled_train, y_resampled_test=train_test_split(X_scaled_resampled,y_resampled)"
   ]
  },
  {
   "cell_type": "code",
   "execution_count": 19,
   "metadata": {},
   "outputs": [
    {
     "name": "stdout",
     "output_type": "stream",
     "text": [
      "              precision    recall  f1-score   support\n",
      "\n",
      "       False       0.63      0.60      0.62      2531\n",
      "        True       0.61      0.64      0.63      2485\n",
      "\n",
      "    accuracy                           0.62      5016\n",
      "   macro avg       0.62      0.62      0.62      5016\n",
      "weighted avg       0.62      0.62      0.62      5016\n",
      "\n"
     ]
    },
    {
     "name": "stderr",
     "output_type": "stream",
     "text": [
      "C:\\Users\\kosta\\Anaconda3\\lib\\site-packages\\sklearn\\linear_model\\logistic.py:432: FutureWarning: Default solver will be changed to 'lbfgs' in 0.22. Specify a solver to silence this warning.\n",
      "  FutureWarning)\n"
     ]
    },
    {
     "data": {
      "image/png": "[encoded data removed]",
      "text/plain": [
       "<Figure size 432x288 with 2 Axes>"
      ]
     },
     "metadata": {
      "needs_background": "light"
     },
     "output_type": "display_data"
    }
   ],
   "source": [
    "from sklearn.linear_model import LogisticRegression\n",
    "lr=LogisticRegression()\n",
    "lr.fit(X_scaled_resampled_train,y_resampled_train)\n",
    "y_pred=lr.predict(X_scaled_resampled_test)\n",
    "from sklearn.metrics import confusion_matrix, classification_report\n",
    "print(classification_report(y_resampled_test,y_pred))\n",
    "show_cf(y_resampled_test,y_pred,class_names=['Not A','A'],model_name='Scaled & Resampled Logistic Regression')"
   ]
  },
  {
   "cell_type": "markdown",
   "metadata": {},
   "source": [
    "Scaling and Resampling together provide noticable improvements over the base model"
   ]
  },
  {
   "cell_type": "markdown",
   "metadata": {},
   "source": [
    "Grid Search using XGBoost and 3 fold cross validation to tune for an improved model of the Logistic Rgression\n"
   ]
  },
  {
   "cell_type": "code",
   "execution_count": 20,
   "metadata": {
    "scrolled": true
   },
   "outputs": [
    {
     "name": "stdout",
     "output_type": "stream",
     "text": [
      "Fitting 3 folds for each of 54 candidates, totalling 162 fits\n",
      "[CV] learning_rate=0.3, max_depth=5, min_child_weight=0, n_estimators=10 \n"
     ]
    },
    {
     "name": "stderr",
     "output_type": "stream",
     "text": [
      "[Parallel(n_jobs=1)]: Using backend SequentialBackend with 1 concurrent workers.\n"
     ]
    },
    {
     "name": "stdout",
     "output_type": "stream",
     "text": [
      "[CV]  learning_rate=0.3, max_depth=5, min_child_weight=0, n_estimators=10, total=   3.4s\n",
      "[CV] learning_rate=0.3, max_depth=5, min_child_weight=0, n_estimators=10 \n",
      "[CV]  learning_rate=0.3, max_depth=5, min_child_weight=0, n_estimators=10, total=   0.1s\n",
      "[CV] learning_rate=0.3, max_depth=5, min_child_weight=0, n_estimators=10 \n",
      "[CV]  learning_rate=0.3, max_depth=5, min_child_weight=0, n_estimators=10, total=   0.1s\n",
      "[CV] learning_rate=0.3, max_depth=5, min_child_weight=0, n_estimators=100 \n"
     ]
    },
    {
     "name": "stderr",
     "output_type": "stream",
     "text": [
      "[Parallel(n_jobs=1)]: Done   1 out of   1 | elapsed:    3.3s remaining:    0.0s\n"
     ]
    },
    {
     "name": "stdout",
     "output_type": "stream",
     "text": [
      "[CV]  learning_rate=0.3, max_depth=5, min_child_weight=0, n_estimators=100, total=   0.6s\n",
      "[CV] learning_rate=0.3, max_depth=5, min_child_weight=0, n_estimators=100 \n",
      "[CV]  learning_rate=0.3, max_depth=5, min_child_weight=0, n_estimators=100, total=   0.6s\n",
      "[CV] learning_rate=0.3, max_depth=5, min_child_weight=0, n_estimators=100 \n",
      "[CV]  learning_rate=0.3, max_depth=5, min_child_weight=0, n_estimators=100, total=   0.6s\n",
      "[CV] learning_rate=0.3, max_depth=5, min_child_weight=1, n_estimators=10 \n",
      "[CV]  learning_rate=0.3, max_depth=5, min_child_weight=1, n_estimators=10, total=   0.1s\n",
      "[CV] learning_rate=0.3, max_depth=5, min_child_weight=1, n_estimators=10 \n",
      "[CV]  learning_rate=0.3, max_depth=5, min_child_weight=1, n_estimators=10, total=   0.1s\n",
      "[CV] learning_rate=0.3, max_depth=5, min_child_weight=1, n_estimators=10 \n",
      "[CV]  learning_rate=0.3, max_depth=5, min_child_weight=1, n_estimators=10, total=   0.1s\n",
      "[CV] learning_rate=0.3, max_depth=5, min_child_weight=1, n_estimators=100 \n",
      "[CV]  learning_rate=0.3, max_depth=5, min_child_weight=1, n_estimators=100, total=   0.6s\n",
      "[CV] learning_rate=0.3, max_depth=5, min_child_weight=1, n_estimators=100 \n",
      "[CV]  learning_rate=0.3, max_depth=5, min_child_weight=1, n_estimators=100, total=   0.6s\n",
      "[CV] learning_rate=0.3, max_depth=5, min_child_weight=1, n_estimators=100 \n",
      "[CV]  learning_rate=0.3, max_depth=5, min_child_weight=1, n_estimators=100, total=   0.6s\n",
      "[CV] learning_rate=0.3, max_depth=5, min_child_weight=3, n_estimators=10 \n",
      "[CV]  learning_rate=0.3, max_depth=5, min_child_weight=3, n_estimators=10, total=   0.1s\n",
      "[CV] learning_rate=0.3, max_depth=5, min_child_weight=3, n_estimators=10 \n",
      "[CV]  learning_rate=0.3, max_depth=5, min_child_weight=3, n_estimators=10, total=   0.1s\n",
      "[CV] learning_rate=0.3, max_depth=5, min_child_weight=3, n_estimators=10 \n",
      "[CV]  learning_rate=0.3, max_depth=5, min_child_weight=3, n_estimators=10, total=   0.1s\n",
      "[CV] learning_rate=0.3, max_depth=5, min_child_weight=3, n_estimators=100 \n",
      "[CV]  learning_rate=0.3, max_depth=5, min_child_weight=3, n_estimators=100, total=   0.6s\n",
      "[CV] learning_rate=0.3, max_depth=5, min_child_weight=3, n_estimators=100 \n",
      "[CV]  learning_rate=0.3, max_depth=5, min_child_weight=3, n_estimators=100, total=   0.6s\n",
      "[CV] learning_rate=0.3, max_depth=5, min_child_weight=3, n_estimators=100 \n",
      "[CV]  learning_rate=0.3, max_depth=5, min_child_weight=3, n_estimators=100, total=   0.6s\n",
      "[CV] learning_rate=0.3, max_depth=6, min_child_weight=0, n_estimators=10 \n",
      "[CV]  learning_rate=0.3, max_depth=6, min_child_weight=0, n_estimators=10, total=   0.1s\n",
      "[CV] learning_rate=0.3, max_depth=6, min_child_weight=0, n_estimators=10 \n",
      "[CV]  learning_rate=0.3, max_depth=6, min_child_weight=0, n_estimators=10, total=   0.1s\n",
      "[CV] learning_rate=0.3, max_depth=6, min_child_weight=0, n_estimators=10 \n",
      "[CV]  learning_rate=0.3, max_depth=6, min_child_weight=0, n_estimators=10, total=   0.1s\n",
      "[CV] learning_rate=0.3, max_depth=6, min_child_weight=0, n_estimators=100 \n",
      "[CV]  learning_rate=0.3, max_depth=6, min_child_weight=0, n_estimators=100, total=   0.7s\n",
      "[CV] learning_rate=0.3, max_depth=6, min_child_weight=0, n_estimators=100 \n",
      "[CV]  learning_rate=0.3, max_depth=6, min_child_weight=0, n_estimators=100, total=   0.7s\n",
      "[CV] learning_rate=0.3, max_depth=6, min_child_weight=0, n_estimators=100 \n",
      "[CV]  learning_rate=0.3, max_depth=6, min_child_weight=0, n_estimators=100, total=   0.7s\n",
      "[CV] learning_rate=0.3, max_depth=6, min_child_weight=1, n_estimators=10 \n",
      "[CV]  learning_rate=0.3, max_depth=6, min_child_weight=1, n_estimators=10, total=   0.1s\n",
      "[CV] learning_rate=0.3, max_depth=6, min_child_weight=1, n_estimators=10 \n",
      "[CV]  learning_rate=0.3, max_depth=6, min_child_weight=1, n_estimators=10, total=   0.1s\n",
      "[CV] learning_rate=0.3, max_depth=6, min_child_weight=1, n_estimators=10 \n",
      "[CV]  learning_rate=0.3, max_depth=6, min_child_weight=1, n_estimators=10, total=   0.1s\n",
      "[CV] learning_rate=0.3, max_depth=6, min_child_weight=1, n_estimators=100 \n",
      "[CV]  learning_rate=0.3, max_depth=6, min_child_weight=1, n_estimators=100, total=   0.7s\n",
      "[CV] learning_rate=0.3, max_depth=6, min_child_weight=1, n_estimators=100 \n",
      "[CV]  learning_rate=0.3, max_depth=6, min_child_weight=1, n_estimators=100, total=   0.7s\n",
      "[CV] learning_rate=0.3, max_depth=6, min_child_weight=1, n_estimators=100 \n",
      "[CV]  learning_rate=0.3, max_depth=6, min_child_weight=1, n_estimators=100, total=   0.7s\n",
      "[CV] learning_rate=0.3, max_depth=6, min_child_weight=3, n_estimators=10 \n",
      "[CV]  learning_rate=0.3, max_depth=6, min_child_weight=3, n_estimators=10, total=   0.1s\n",
      "[CV] learning_rate=0.3, max_depth=6, min_child_weight=3, n_estimators=10 \n",
      "[CV]  learning_rate=0.3, max_depth=6, min_child_weight=3, n_estimators=10, total=   0.1s\n",
      "[CV] learning_rate=0.3, max_depth=6, min_child_weight=3, n_estimators=10 \n",
      "[CV]  learning_rate=0.3, max_depth=6, min_child_weight=3, n_estimators=10, total=   0.1s\n",
      "[CV] learning_rate=0.3, max_depth=6, min_child_weight=3, n_estimators=100 \n",
      "[CV]  learning_rate=0.3, max_depth=6, min_child_weight=3, n_estimators=100, total=   0.7s\n",
      "[CV] learning_rate=0.3, max_depth=6, min_child_weight=3, n_estimators=100 \n",
      "[CV]  learning_rate=0.3, max_depth=6, min_child_weight=3, n_estimators=100, total=   0.7s\n",
      "[CV] learning_rate=0.3, max_depth=6, min_child_weight=3, n_estimators=100 \n",
      "[CV]  learning_rate=0.3, max_depth=6, min_child_weight=3, n_estimators=100, total=   0.7s\n",
      "[CV] learning_rate=0.3, max_depth=7, min_child_weight=0, n_estimators=10 \n",
      "[CV]  learning_rate=0.3, max_depth=7, min_child_weight=0, n_estimators=10, total=   0.1s\n",
      "[CV] learning_rate=0.3, max_depth=7, min_child_weight=0, n_estimators=10 \n",
      "[CV]  learning_rate=0.3, max_depth=7, min_child_weight=0, n_estimators=10, total=   0.1s\n",
      "[CV] learning_rate=0.3, max_depth=7, min_child_weight=0, n_estimators=10 \n",
      "[CV]  learning_rate=0.3, max_depth=7, min_child_weight=0, n_estimators=10, total=   0.1s\n",
      "[CV] learning_rate=0.3, max_depth=7, min_child_weight=0, n_estimators=100 \n",
      "[CV]  learning_rate=0.3, max_depth=7, min_child_weight=0, n_estimators=100, total=   0.8s\n",
      "[CV] learning_rate=0.3, max_depth=7, min_child_weight=0, n_estimators=100 \n",
      "[CV]  learning_rate=0.3, max_depth=7, min_child_weight=0, n_estimators=100, total=   0.8s\n",
      "[CV] learning_rate=0.3, max_depth=7, min_child_weight=0, n_estimators=100 \n",
      "[CV]  learning_rate=0.3, max_depth=7, min_child_weight=0, n_estimators=100, total=   0.8s\n",
      "[CV] learning_rate=0.3, max_depth=7, min_child_weight=1, n_estimators=10 \n",
      "[CV]  learning_rate=0.3, max_depth=7, min_child_weight=1, n_estimators=10, total=   0.1s\n",
      "[CV] learning_rate=0.3, max_depth=7, min_child_weight=1, n_estimators=10 \n",
      "[CV]  learning_rate=0.3, max_depth=7, min_child_weight=1, n_estimators=10, total=   0.1s\n",
      "[CV] learning_rate=0.3, max_depth=7, min_child_weight=1, n_estimators=10 \n",
      "[CV]  learning_rate=0.3, max_depth=7, min_child_weight=1, n_estimators=10, total=   0.1s\n",
      "[CV] learning_rate=0.3, max_depth=7, min_child_weight=1, n_estimators=100 \n",
      "[CV]  learning_rate=0.3, max_depth=7, min_child_weight=1, n_estimators=100, total=   0.8s\n",
      "[CV] learning_rate=0.3, max_depth=7, min_child_weight=1, n_estimators=100 \n",
      "[CV]  learning_rate=0.3, max_depth=7, min_child_weight=1, n_estimators=100, total=   0.8s\n",
      "[CV] learning_rate=0.3, max_depth=7, min_child_weight=1, n_estimators=100 \n",
      "[CV]  learning_rate=0.3, max_depth=7, min_child_weight=1, n_estimators=100, total=   0.8s\n",
      "[CV] learning_rate=0.3, max_depth=7, min_child_weight=3, n_estimators=10 \n",
      "[CV]  learning_rate=0.3, max_depth=7, min_child_weight=3, n_estimators=10, total=   0.1s\n",
      "[CV] learning_rate=0.3, max_depth=7, min_child_weight=3, n_estimators=10 \n",
      "[CV]  learning_rate=0.3, max_depth=7, min_child_weight=3, n_estimators=10, total=   0.1s\n",
      "[CV] learning_rate=0.3, max_depth=7, min_child_weight=3, n_estimators=10 \n",
      "[CV]  learning_rate=0.3, max_depth=7, min_child_weight=3, n_estimators=10, total=   0.1s\n",
      "[CV] learning_rate=0.3, max_depth=7, min_child_weight=3, n_estimators=100 \n",
      "[CV]  learning_rate=0.3, max_depth=7, min_child_weight=3, n_estimators=100, total=   0.8s\n",
      "[CV] learning_rate=0.3, max_depth=7, min_child_weight=3, n_estimators=100 \n",
      "[CV]  learning_rate=0.3, max_depth=7, min_child_weight=3, n_estimators=100, total=   0.8s\n",
      "[CV] learning_rate=0.3, max_depth=7, min_child_weight=3, n_estimators=100 \n"
     ]
    },
    {
     "name": "stdout",
     "output_type": "stream",
     "text": [
      "[CV]  learning_rate=0.3, max_depth=7, min_child_weight=3, n_estimators=100, total=   0.8s\n",
      "[CV] learning_rate=0.5, max_depth=5, min_child_weight=0, n_estimators=10 \n",
      "[CV]  learning_rate=0.5, max_depth=5, min_child_weight=0, n_estimators=10, total=   0.1s\n",
      "[CV] learning_rate=0.5, max_depth=5, min_child_weight=0, n_estimators=10 \n",
      "[CV]  learning_rate=0.5, max_depth=5, min_child_weight=0, n_estimators=10, total=   0.1s\n",
      "[CV] learning_rate=0.5, max_depth=5, min_child_weight=0, n_estimators=10 \n",
      "[CV]  learning_rate=0.5, max_depth=5, min_child_weight=0, n_estimators=10, total=   0.1s\n",
      "[CV] learning_rate=0.5, max_depth=5, min_child_weight=0, n_estimators=100 \n",
      "[CV]  learning_rate=0.5, max_depth=5, min_child_weight=0, n_estimators=100, total=   0.6s\n",
      "[CV] learning_rate=0.5, max_depth=5, min_child_weight=0, n_estimators=100 \n",
      "[CV]  learning_rate=0.5, max_depth=5, min_child_weight=0, n_estimators=100, total=   0.6s\n",
      "[CV] learning_rate=0.5, max_depth=5, min_child_weight=0, n_estimators=100 \n",
      "[CV]  learning_rate=0.5, max_depth=5, min_child_weight=0, n_estimators=100, total=   0.6s\n",
      "[CV] learning_rate=0.5, max_depth=5, min_child_weight=1, n_estimators=10 \n",
      "[CV]  learning_rate=0.5, max_depth=5, min_child_weight=1, n_estimators=10, total=   0.1s\n",
      "[CV] learning_rate=0.5, max_depth=5, min_child_weight=1, n_estimators=10 \n",
      "[CV]  learning_rate=0.5, max_depth=5, min_child_weight=1, n_estimators=10, total=   0.1s\n",
      "[CV] learning_rate=0.5, max_depth=5, min_child_weight=1, n_estimators=10 \n",
      "[CV]  learning_rate=0.5, max_depth=5, min_child_weight=1, n_estimators=10, total=   0.1s\n",
      "[CV] learning_rate=0.5, max_depth=5, min_child_weight=1, n_estimators=100 \n",
      "[CV]  learning_rate=0.5, max_depth=5, min_child_weight=1, n_estimators=100, total=   0.6s\n",
      "[CV] learning_rate=0.5, max_depth=5, min_child_weight=1, n_estimators=100 \n",
      "[CV]  learning_rate=0.5, max_depth=5, min_child_weight=1, n_estimators=100, total=   0.6s\n",
      "[CV] learning_rate=0.5, max_depth=5, min_child_weight=1, n_estimators=100 \n",
      "[CV]  learning_rate=0.5, max_depth=5, min_child_weight=1, n_estimators=100, total=   0.6s\n",
      "[CV] learning_rate=0.5, max_depth=5, min_child_weight=3, n_estimators=10 \n",
      "[CV]  learning_rate=0.5, max_depth=5, min_child_weight=3, n_estimators=10, total=   0.1s\n",
      "[CV] learning_rate=0.5, max_depth=5, min_child_weight=3, n_estimators=10 \n",
      "[CV]  learning_rate=0.5, max_depth=5, min_child_weight=3, n_estimators=10, total=   0.1s\n",
      "[CV] learning_rate=0.5, max_depth=5, min_child_weight=3, n_estimators=10 \n",
      "[CV]  learning_rate=0.5, max_depth=5, min_child_weight=3, n_estimators=10, total=   0.1s\n",
      "[CV] learning_rate=0.5, max_depth=5, min_child_weight=3, n_estimators=100 \n",
      "[CV]  learning_rate=0.5, max_depth=5, min_child_weight=3, n_estimators=100, total=   0.6s\n",
      "[CV] learning_rate=0.5, max_depth=5, min_child_weight=3, n_estimators=100 \n",
      "[CV]  learning_rate=0.5, max_depth=5, min_child_weight=3, n_estimators=100, total=   0.6s\n",
      "[CV] learning_rate=0.5, max_depth=5, min_child_weight=3, n_estimators=100 \n",
      "[CV]  learning_rate=0.5, max_depth=5, min_child_weight=3, n_estimators=100, total=   0.6s\n",
      "[CV] learning_rate=0.5, max_depth=6, min_child_weight=0, n_estimators=10 \n",
      "[CV]  learning_rate=0.5, max_depth=6, min_child_weight=0, n_estimators=10, total=   0.1s\n",
      "[CV] learning_rate=0.5, max_depth=6, min_child_weight=0, n_estimators=10 \n",
      "[CV]  learning_rate=0.5, max_depth=6, min_child_weight=0, n_estimators=10, total=   0.1s\n",
      "[CV] learning_rate=0.5, max_depth=6, min_child_weight=0, n_estimators=10 \n",
      "[CV]  learning_rate=0.5, max_depth=6, min_child_weight=0, n_estimators=10, total=   0.1s\n",
      "[CV] learning_rate=0.5, max_depth=6, min_child_weight=0, n_estimators=100 \n",
      "[CV]  learning_rate=0.5, max_depth=6, min_child_weight=0, n_estimators=100, total=   0.7s\n",
      "[CV] learning_rate=0.5, max_depth=6, min_child_weight=0, n_estimators=100 \n",
      "[CV]  learning_rate=0.5, max_depth=6, min_child_weight=0, n_estimators=100, total=   0.7s\n",
      "[CV] learning_rate=0.5, max_depth=6, min_child_weight=0, n_estimators=100 \n",
      "[CV]  learning_rate=0.5, max_depth=6, min_child_weight=0, n_estimators=100, total=   0.7s\n",
      "[CV] learning_rate=0.5, max_depth=6, min_child_weight=1, n_estimators=10 \n",
      "[CV]  learning_rate=0.5, max_depth=6, min_child_weight=1, n_estimators=10, total=   0.1s\n",
      "[CV] learning_rate=0.5, max_depth=6, min_child_weight=1, n_estimators=10 \n",
      "[CV]  learning_rate=0.5, max_depth=6, min_child_weight=1, n_estimators=10, total=   0.1s\n",
      "[CV] learning_rate=0.5, max_depth=6, min_child_weight=1, n_estimators=10 \n",
      "[CV]  learning_rate=0.5, max_depth=6, min_child_weight=1, n_estimators=10, total=   0.1s\n",
      "[CV] learning_rate=0.5, max_depth=6, min_child_weight=1, n_estimators=100 \n",
      "[CV]  learning_rate=0.5, max_depth=6, min_child_weight=1, n_estimators=100, total=   0.7s\n",
      "[CV] learning_rate=0.5, max_depth=6, min_child_weight=1, n_estimators=100 \n",
      "[CV]  learning_rate=0.5, max_depth=6, min_child_weight=1, n_estimators=100, total=   0.7s\n",
      "[CV] learning_rate=0.5, max_depth=6, min_child_weight=1, n_estimators=100 \n",
      "[CV]  learning_rate=0.5, max_depth=6, min_child_weight=1, n_estimators=100, total=   0.7s\n",
      "[CV] learning_rate=0.5, max_depth=6, min_child_weight=3, n_estimators=10 \n",
      "[CV]  learning_rate=0.5, max_depth=6, min_child_weight=3, n_estimators=10, total=   0.1s\n",
      "[CV] learning_rate=0.5, max_depth=6, min_child_weight=3, n_estimators=10 \n",
      "[CV]  learning_rate=0.5, max_depth=6, min_child_weight=3, n_estimators=10, total=   0.1s\n",
      "[CV] learning_rate=0.5, max_depth=6, min_child_weight=3, n_estimators=10 \n",
      "[CV]  learning_rate=0.5, max_depth=6, min_child_weight=3, n_estimators=10, total=   0.1s\n",
      "[CV] learning_rate=0.5, max_depth=6, min_child_weight=3, n_estimators=100 \n",
      "[CV]  learning_rate=0.5, max_depth=6, min_child_weight=3, n_estimators=100, total=   0.7s\n",
      "[CV] learning_rate=0.5, max_depth=6, min_child_weight=3, n_estimators=100 \n",
      "[CV]  learning_rate=0.5, max_depth=6, min_child_weight=3, n_estimators=100, total=   0.7s\n",
      "[CV] learning_rate=0.5, max_depth=6, min_child_weight=3, n_estimators=100 \n",
      "[CV]  learning_rate=0.5, max_depth=6, min_child_weight=3, n_estimators=100, total=   0.7s\n",
      "[CV] learning_rate=0.5, max_depth=7, min_child_weight=0, n_estimators=10 \n",
      "[CV]  learning_rate=0.5, max_depth=7, min_child_weight=0, n_estimators=10, total=   0.1s\n",
      "[CV] learning_rate=0.5, max_depth=7, min_child_weight=0, n_estimators=10 \n",
      "[CV]  learning_rate=0.5, max_depth=7, min_child_weight=0, n_estimators=10, total=   0.1s\n",
      "[CV] learning_rate=0.5, max_depth=7, min_child_weight=0, n_estimators=10 \n",
      "[CV]  learning_rate=0.5, max_depth=7, min_child_weight=0, n_estimators=10, total=   0.1s\n",
      "[CV] learning_rate=0.5, max_depth=7, min_child_weight=0, n_estimators=100 \n",
      "[CV]  learning_rate=0.5, max_depth=7, min_child_weight=0, n_estimators=100, total=   0.8s\n",
      "[CV] learning_rate=0.5, max_depth=7, min_child_weight=0, n_estimators=100 \n",
      "[CV]  learning_rate=0.5, max_depth=7, min_child_weight=0, n_estimators=100, total=   0.8s\n",
      "[CV] learning_rate=0.5, max_depth=7, min_child_weight=0, n_estimators=100 \n",
      "[CV]  learning_rate=0.5, max_depth=7, min_child_weight=0, n_estimators=100, total=   0.8s\n",
      "[CV] learning_rate=0.5, max_depth=7, min_child_weight=1, n_estimators=10 \n",
      "[CV]  learning_rate=0.5, max_depth=7, min_child_weight=1, n_estimators=10, total=   0.1s\n",
      "[CV] learning_rate=0.5, max_depth=7, min_child_weight=1, n_estimators=10 \n",
      "[CV]  learning_rate=0.5, max_depth=7, min_child_weight=1, n_estimators=10, total=   0.1s\n",
      "[CV] learning_rate=0.5, max_depth=7, min_child_weight=1, n_estimators=10 \n",
      "[CV]  learning_rate=0.5, max_depth=7, min_child_weight=1, n_estimators=10, total=   0.1s\n",
      "[CV] learning_rate=0.5, max_depth=7, min_child_weight=1, n_estimators=100 \n",
      "[CV]  learning_rate=0.5, max_depth=7, min_child_weight=1, n_estimators=100, total=   0.8s\n",
      "[CV] learning_rate=0.5, max_depth=7, min_child_weight=1, n_estimators=100 \n",
      "[CV]  learning_rate=0.5, max_depth=7, min_child_weight=1, n_estimators=100, total=   0.8s\n",
      "[CV] learning_rate=0.5, max_depth=7, min_child_weight=1, n_estimators=100 \n",
      "[CV]  learning_rate=0.5, max_depth=7, min_child_weight=1, n_estimators=100, total=   0.8s\n",
      "[CV] learning_rate=0.5, max_depth=7, min_child_weight=3, n_estimators=10 \n",
      "[CV]  learning_rate=0.5, max_depth=7, min_child_weight=3, n_estimators=10, total=   0.1s\n",
      "[CV] learning_rate=0.5, max_depth=7, min_child_weight=3, n_estimators=10 \n",
      "[CV]  learning_rate=0.5, max_depth=7, min_child_weight=3, n_estimators=10, total=   0.1s\n",
      "[CV] learning_rate=0.5, max_depth=7, min_child_weight=3, n_estimators=10 \n"
     ]
    },
    {
     "name": "stdout",
     "output_type": "stream",
     "text": [
      "[CV]  learning_rate=0.5, max_depth=7, min_child_weight=3, n_estimators=10, total=   0.1s\n",
      "[CV] learning_rate=0.5, max_depth=7, min_child_weight=3, n_estimators=100 \n",
      "[CV]  learning_rate=0.5, max_depth=7, min_child_weight=3, n_estimators=100, total=   0.8s\n",
      "[CV] learning_rate=0.5, max_depth=7, min_child_weight=3, n_estimators=100 \n",
      "[CV]  learning_rate=0.5, max_depth=7, min_child_weight=3, n_estimators=100, total=   0.8s\n",
      "[CV] learning_rate=0.5, max_depth=7, min_child_weight=3, n_estimators=100 \n",
      "[CV]  learning_rate=0.5, max_depth=7, min_child_weight=3, n_estimators=100, total=   0.8s\n",
      "[CV] learning_rate=0.7, max_depth=5, min_child_weight=0, n_estimators=10 \n",
      "[CV]  learning_rate=0.7, max_depth=5, min_child_weight=0, n_estimators=10, total=   0.1s\n",
      "[CV] learning_rate=0.7, max_depth=5, min_child_weight=0, n_estimators=10 \n",
      "[CV]  learning_rate=0.7, max_depth=5, min_child_weight=0, n_estimators=10, total=   0.1s\n",
      "[CV] learning_rate=0.7, max_depth=5, min_child_weight=0, n_estimators=10 \n",
      "[CV]  learning_rate=0.7, max_depth=5, min_child_weight=0, n_estimators=10, total=   0.1s\n",
      "[CV] learning_rate=0.7, max_depth=5, min_child_weight=0, n_estimators=100 \n",
      "[CV]  learning_rate=0.7, max_depth=5, min_child_weight=0, n_estimators=100, total=   0.6s\n",
      "[CV] learning_rate=0.7, max_depth=5, min_child_weight=0, n_estimators=100 \n",
      "[CV]  learning_rate=0.7, max_depth=5, min_child_weight=0, n_estimators=100, total=   0.6s\n",
      "[CV] learning_rate=0.7, max_depth=5, min_child_weight=0, n_estimators=100 \n",
      "[CV]  learning_rate=0.7, max_depth=5, min_child_weight=0, n_estimators=100, total=   0.6s\n",
      "[CV] learning_rate=0.7, max_depth=5, min_child_weight=1, n_estimators=10 \n",
      "[CV]  learning_rate=0.7, max_depth=5, min_child_weight=1, n_estimators=10, total=   0.1s\n",
      "[CV] learning_rate=0.7, max_depth=5, min_child_weight=1, n_estimators=10 \n",
      "[CV]  learning_rate=0.7, max_depth=5, min_child_weight=1, n_estimators=10, total=   0.1s\n",
      "[CV] learning_rate=0.7, max_depth=5, min_child_weight=1, n_estimators=10 \n",
      "[CV]  learning_rate=0.7, max_depth=5, min_child_weight=1, n_estimators=10, total=   0.1s\n",
      "[CV] learning_rate=0.7, max_depth=5, min_child_weight=1, n_estimators=100 \n",
      "[CV]  learning_rate=0.7, max_depth=5, min_child_weight=1, n_estimators=100, total=   0.6s\n",
      "[CV] learning_rate=0.7, max_depth=5, min_child_weight=1, n_estimators=100 \n",
      "[CV]  learning_rate=0.7, max_depth=5, min_child_weight=1, n_estimators=100, total=   0.6s\n",
      "[CV] learning_rate=0.7, max_depth=5, min_child_weight=1, n_estimators=100 \n",
      "[CV]  learning_rate=0.7, max_depth=5, min_child_weight=1, n_estimators=100, total=   0.6s\n",
      "[CV] learning_rate=0.7, max_depth=5, min_child_weight=3, n_estimators=10 \n",
      "[CV]  learning_rate=0.7, max_depth=5, min_child_weight=3, n_estimators=10, total=   0.1s\n",
      "[CV] learning_rate=0.7, max_depth=5, min_child_weight=3, n_estimators=10 \n",
      "[CV]  learning_rate=0.7, max_depth=5, min_child_weight=3, n_estimators=10, total=   0.1s\n",
      "[CV] learning_rate=0.7, max_depth=5, min_child_weight=3, n_estimators=10 \n",
      "[CV]  learning_rate=0.7, max_depth=5, min_child_weight=3, n_estimators=10, total=   0.1s\n",
      "[CV] learning_rate=0.7, max_depth=5, min_child_weight=3, n_estimators=100 \n",
      "[CV]  learning_rate=0.7, max_depth=5, min_child_weight=3, n_estimators=100, total=   0.6s\n",
      "[CV] learning_rate=0.7, max_depth=5, min_child_weight=3, n_estimators=100 \n",
      "[CV]  learning_rate=0.7, max_depth=5, min_child_weight=3, n_estimators=100, total=   0.6s\n",
      "[CV] learning_rate=0.7, max_depth=5, min_child_weight=3, n_estimators=100 \n",
      "[CV]  learning_rate=0.7, max_depth=5, min_child_weight=3, n_estimators=100, total=   0.6s\n",
      "[CV] learning_rate=0.7, max_depth=6, min_child_weight=0, n_estimators=10 \n",
      "[CV]  learning_rate=0.7, max_depth=6, min_child_weight=0, n_estimators=10, total=   0.1s\n",
      "[CV] learning_rate=0.7, max_depth=6, min_child_weight=0, n_estimators=10 \n",
      "[CV]  learning_rate=0.7, max_depth=6, min_child_weight=0, n_estimators=10, total=   0.1s\n",
      "[CV] learning_rate=0.7, max_depth=6, min_child_weight=0, n_estimators=10 \n",
      "[CV]  learning_rate=0.7, max_depth=6, min_child_weight=0, n_estimators=10, total=   0.1s\n",
      "[CV] learning_rate=0.7, max_depth=6, min_child_weight=0, n_estimators=100 \n",
      "[CV]  learning_rate=0.7, max_depth=6, min_child_weight=0, n_estimators=100, total=   0.7s\n",
      "[CV] learning_rate=0.7, max_depth=6, min_child_weight=0, n_estimators=100 \n",
      "[CV]  learning_rate=0.7, max_depth=6, min_child_weight=0, n_estimators=100, total=   0.7s\n",
      "[CV] learning_rate=0.7, max_depth=6, min_child_weight=0, n_estimators=100 \n",
      "[CV]  learning_rate=0.7, max_depth=6, min_child_weight=0, n_estimators=100, total=   0.7s\n",
      "[CV] learning_rate=0.7, max_depth=6, min_child_weight=1, n_estimators=10 \n",
      "[CV]  learning_rate=0.7, max_depth=6, min_child_weight=1, n_estimators=10, total=   0.1s\n",
      "[CV] learning_rate=0.7, max_depth=6, min_child_weight=1, n_estimators=10 \n",
      "[CV]  learning_rate=0.7, max_depth=6, min_child_weight=1, n_estimators=10, total=   0.1s\n",
      "[CV] learning_rate=0.7, max_depth=6, min_child_weight=1, n_estimators=10 \n",
      "[CV]  learning_rate=0.7, max_depth=6, min_child_weight=1, n_estimators=10, total=   0.1s\n",
      "[CV] learning_rate=0.7, max_depth=6, min_child_weight=1, n_estimators=100 \n",
      "[CV]  learning_rate=0.7, max_depth=6, min_child_weight=1, n_estimators=100, total=   0.7s\n",
      "[CV] learning_rate=0.7, max_depth=6, min_child_weight=1, n_estimators=100 \n",
      "[CV]  learning_rate=0.7, max_depth=6, min_child_weight=1, n_estimators=100, total=   0.7s\n",
      "[CV] learning_rate=0.7, max_depth=6, min_child_weight=1, n_estimators=100 \n",
      "[CV]  learning_rate=0.7, max_depth=6, min_child_weight=1, n_estimators=100, total=   0.7s\n",
      "[CV] learning_rate=0.7, max_depth=6, min_child_weight=3, n_estimators=10 \n",
      "[CV]  learning_rate=0.7, max_depth=6, min_child_weight=3, n_estimators=10, total=   0.1s\n",
      "[CV] learning_rate=0.7, max_depth=6, min_child_weight=3, n_estimators=10 \n",
      "[CV]  learning_rate=0.7, max_depth=6, min_child_weight=3, n_estimators=10, total=   0.1s\n",
      "[CV] learning_rate=0.7, max_depth=6, min_child_weight=3, n_estimators=10 \n",
      "[CV]  learning_rate=0.7, max_depth=6, min_child_weight=3, n_estimators=10, total=   0.1s\n",
      "[CV] learning_rate=0.7, max_depth=6, min_child_weight=3, n_estimators=100 \n",
      "[CV]  learning_rate=0.7, max_depth=6, min_child_weight=3, n_estimators=100, total=   0.7s\n",
      "[CV] learning_rate=0.7, max_depth=6, min_child_weight=3, n_estimators=100 \n",
      "[CV]  learning_rate=0.7, max_depth=6, min_child_weight=3, n_estimators=100, total=   0.7s\n",
      "[CV] learning_rate=0.7, max_depth=6, min_child_weight=3, n_estimators=100 \n",
      "[CV]  learning_rate=0.7, max_depth=6, min_child_weight=3, n_estimators=100, total=   0.7s\n",
      "[CV] learning_rate=0.7, max_depth=7, min_child_weight=0, n_estimators=10 \n",
      "[CV]  learning_rate=0.7, max_depth=7, min_child_weight=0, n_estimators=10, total=   0.1s\n",
      "[CV] learning_rate=0.7, max_depth=7, min_child_weight=0, n_estimators=10 \n",
      "[CV]  learning_rate=0.7, max_depth=7, min_child_weight=0, n_estimators=10, total=   0.1s\n",
      "[CV] learning_rate=0.7, max_depth=7, min_child_weight=0, n_estimators=10 \n",
      "[CV]  learning_rate=0.7, max_depth=7, min_child_weight=0, n_estimators=10, total=   0.1s\n",
      "[CV] learning_rate=0.7, max_depth=7, min_child_weight=0, n_estimators=100 \n",
      "[CV]  learning_rate=0.7, max_depth=7, min_child_weight=0, n_estimators=100, total=   0.8s\n",
      "[CV] learning_rate=0.7, max_depth=7, min_child_weight=0, n_estimators=100 \n",
      "[CV]  learning_rate=0.7, max_depth=7, min_child_weight=0, n_estimators=100, total=   0.8s\n",
      "[CV] learning_rate=0.7, max_depth=7, min_child_weight=0, n_estimators=100 \n",
      "[CV]  learning_rate=0.7, max_depth=7, min_child_weight=0, n_estimators=100, total=   0.8s\n",
      "[CV] learning_rate=0.7, max_depth=7, min_child_weight=1, n_estimators=10 \n",
      "[CV]  learning_rate=0.7, max_depth=7, min_child_weight=1, n_estimators=10, total=   0.1s\n",
      "[CV] learning_rate=0.7, max_depth=7, min_child_weight=1, n_estimators=10 \n",
      "[CV]  learning_rate=0.7, max_depth=7, min_child_weight=1, n_estimators=10, total=   0.1s\n",
      "[CV] learning_rate=0.7, max_depth=7, min_child_weight=1, n_estimators=10 \n",
      "[CV]  learning_rate=0.7, max_depth=7, min_child_weight=1, n_estimators=10, total=   0.1s\n",
      "[CV] learning_rate=0.7, max_depth=7, min_child_weight=1, n_estimators=100 \n",
      "[CV]  learning_rate=0.7, max_depth=7, min_child_weight=1, n_estimators=100, total=   0.8s\n",
      "[CV] learning_rate=0.7, max_depth=7, min_child_weight=1, n_estimators=100 \n"
     ]
    },
    {
     "name": "stdout",
     "output_type": "stream",
     "text": [
      "[CV]  learning_rate=0.7, max_depth=7, min_child_weight=1, n_estimators=100, total=   0.8s\n",
      "[CV] learning_rate=0.7, max_depth=7, min_child_weight=1, n_estimators=100 \n",
      "[CV]  learning_rate=0.7, max_depth=7, min_child_weight=1, n_estimators=100, total=   0.8s\n",
      "[CV] learning_rate=0.7, max_depth=7, min_child_weight=3, n_estimators=10 \n",
      "[CV]  learning_rate=0.7, max_depth=7, min_child_weight=3, n_estimators=10, total=   0.1s\n",
      "[CV] learning_rate=0.7, max_depth=7, min_child_weight=3, n_estimators=10 \n",
      "[CV]  learning_rate=0.7, max_depth=7, min_child_weight=3, n_estimators=10, total=   0.1s\n",
      "[CV] learning_rate=0.7, max_depth=7, min_child_weight=3, n_estimators=10 \n",
      "[CV]  learning_rate=0.7, max_depth=7, min_child_weight=3, n_estimators=10, total=   0.1s\n",
      "[CV] learning_rate=0.7, max_depth=7, min_child_weight=3, n_estimators=100 \n",
      "[CV]  learning_rate=0.7, max_depth=7, min_child_weight=3, n_estimators=100, total=   0.8s\n",
      "[CV] learning_rate=0.7, max_depth=7, min_child_weight=3, n_estimators=100 \n",
      "[CV]  learning_rate=0.7, max_depth=7, min_child_weight=3, n_estimators=100, total=   0.8s\n",
      "[CV] learning_rate=0.7, max_depth=7, min_child_weight=3, n_estimators=100 \n",
      "[CV]  learning_rate=0.7, max_depth=7, min_child_weight=3, n_estimators=100, total=   0.8s\n"
     ]
    },
    {
     "name": "stderr",
     "output_type": "stream",
     "text": [
      "[Parallel(n_jobs=1)]: Done 162 out of 162 | elapsed:  1.1min finished\n"
     ]
    },
    {
     "data": {
      "text/plain": [
       "GridSearchCV(cv=3, error_score='raise-deprecating',\n",
       "             estimator=XGBClassifier(base_score=0.5, booster='gbtree',\n",
       "                                     colsample_bylevel=1, colsample_bynode=1,\n",
       "                                     colsample_bytree=1, gamma=0,\n",
       "                                     learning_rate=0.1, max_delta_step=0,\n",
       "                                     max_depth=3, min_child_weight=1,\n",
       "                                     missing=None, n_estimators=100, n_jobs=1,\n",
       "                                     nthread=None, objective='binary:logistic',\n",
       "                                     random_state=0, reg_alpha=0, reg_lambda=1,\n",
       "                                     scale_pos_weight=1, seed=None, silent=None,\n",
       "                                     subsample=1, verbosity=1),\n",
       "             iid='warn', n_jobs=None,\n",
       "             param_grid={'learning_rate': [0.3, 0.5, 0.7],\n",
       "                         'max_depth': [5, 6, 7], 'min_child_weight': [0, 1, 3],\n",
       "                         'n_estimators': [10, 100]},\n",
       "             pre_dispatch='2*n_jobs', refit=True, return_train_score=False,\n",
       "             scoring=None, verbose=2)"
      ]
     },
     "execution_count": 20,
     "metadata": {},
     "output_type": "execute_result"
    }
   ],
   "source": [
    "import xgboost as xgb\n",
    "from sklearn.model_selection import GridSearchCV\n",
    "param_grid_xgb= {\n",
    "    \"learning_rate\": [0.3,0.5,0.7],\n",
    "    'max_depth': [5,6,7],\n",
    "    'min_child_weight': [0,1,3],\n",
    "    'n_estimators': [10,100],\n",
    "}\n",
    "grid_xgb_man=GridSearchCV(estimator=xgb.XGBClassifier(),\n",
    "                      param_grid=param_grid_xgb,\n",
    "                     cv=3,\n",
    "                     verbose=2)\n",
    "grid_xgb_man.fit(X_scaled_resampled_train,y_resampled_train)"
   ]
  },
  {
   "cell_type": "code",
   "execution_count": 21,
   "metadata": {},
   "outputs": [
    {
     "data": {
      "text/plain": [
       "{'learning_rate': 0.3,\n",
       " 'max_depth': 6,\n",
       " 'min_child_weight': 0,\n",
       " 'n_estimators': 100}"
      ]
     },
     "execution_count": 21,
     "metadata": {},
     "output_type": "execute_result"
    }
   ],
   "source": [
    "grid_xgb_man.best_params_"
   ]
  },
  {
   "cell_type": "code",
   "execution_count": 22,
   "metadata": {
    "scrolled": true
   },
   "outputs": [
    {
     "data": {
      "text/plain": [
       "0.6632775119617225"
      ]
     },
     "execution_count": 22,
     "metadata": {},
     "output_type": "execute_result"
    }
   ],
   "source": [
    "grid_xgb_man.best_score_"
   ]
  },
  {
   "cell_type": "code",
   "execution_count": 23,
   "metadata": {},
   "outputs": [
    {
     "name": "stdout",
     "output_type": "stream",
     "text": [
      "              precision    recall  f1-score   support\n",
      "\n",
      "       False       0.69      0.63      0.66      2531\n",
      "        True       0.65      0.70      0.68      2485\n",
      "\n",
      "    accuracy                           0.67      5016\n",
      "   macro avg       0.67      0.67      0.67      5016\n",
      "weighted avg       0.67      0.67      0.67      5016\n",
      "\n"
     ]
    },
    {
     "data": {
      "image/png": "[encoded data removed]",
      "text/plain": [
       "<Figure size 432x288 with 2 Axes>"
      ]
     },
     "metadata": {
      "needs_background": "light"
     },
     "output_type": "display_data"
    }
   ],
   "source": [
    "y_pred = grid_xgb_man.best_estimator_.predict(X_scaled_resampled_test)\n",
    "\n",
    "print(classification_report(y_resampled_test,y_pred))\n",
    "show_cf(y_resampled_test,y_pred,class_names=['Not A','A'],model_name='XGBoost (Scaled & Resampled)')"
   ]
  },
  {
   "cell_type": "code",
   "execution_count": 24,
   "metadata": {},
   "outputs": [
    {
     "data": {
      "text/plain": [
       "array([0.23285726, 0.09051209, 0.09287223, 0.14745599, 0.09296887,\n",
       "       0.09503329, 0.08706563, 0.08411563, 0.077119  ], dtype=float32)"
      ]
     },
     "execution_count": 24,
     "metadata": {},
     "output_type": "execute_result"
    }
   ],
   "source": [
    "grid_xgb_man.best_estimator_.feature_importances_"
   ]
  },
  {
   "cell_type": "markdown",
   "metadata": {},
   "source": [
    "save best Manhattan model"
   ]
  },
  {
   "cell_type": "code",
   "execution_count": 25,
   "metadata": {},
   "outputs": [
    {
     "data": {
      "text/plain": [
       "XGBClassifier(base_score=0.5, booster='gbtree', colsample_bylevel=1,\n",
       "              colsample_bynode=1, colsample_bytree=1, gamma=0,\n",
       "              learning_rate=0.3, max_delta_step=0, max_depth=6,\n",
       "              min_child_weight=0, missing=None, n_estimators=100, n_jobs=1,\n",
       "              nthread=None, objective='binary:logistic', random_state=0,\n",
       "              reg_alpha=0, reg_lambda=1, scale_pos_weight=1, seed=None,\n",
       "              silent=None, subsample=1, verbosity=1)"
      ]
     },
     "execution_count": 25,
     "metadata": {},
     "output_type": "execute_result"
    }
   ],
   "source": [
    "grid_xgb_man.best_estimator_"
   ]
  },
  {
   "cell_type": "code",
   "execution_count": 26,
   "metadata": {},
   "outputs": [],
   "source": [
    "import pickle\n",
    "pickle.dump(grid_xgb_man.best_estimator_,  open('man2.pickle.dat', \"wb\"))"
   ]
  },
  {
   "cell_type": "code",
   "execution_count": null,
   "metadata": {},
   "outputs": [],
   "source": []
  },
  {
   "cell_type": "code",
   "execution_count": null,
   "metadata": {},
   "outputs": [],
   "source": []
  },
  {
   "cell_type": "markdown",
   "metadata": {},
   "source": [
    "Build Keras Deep Leanring Neural Network to try for improvement on machine learning model"
   ]
  },
  {
   "cell_type": "code",
   "execution_count": 65,
   "metadata": {},
   "outputs": [
    {
     "data": {
      "text/plain": [
       "(15048, 9)"
      ]
     },
     "execution_count": 65,
     "metadata": {},
     "output_type": "execute_result"
    }
   ],
   "source": [
    "X_scaled_resampled_train.shape"
   ]
  },
  {
   "cell_type": "code",
   "execution_count": 83,
   "metadata": {
    "scrolled": true
   },
   "outputs": [
    {
     "name": "stdout",
     "output_type": "stream",
     "text": [
      "Train on 13543 samples, validate on 1505 samples\n",
      "Epoch 1/120\n",
      "13543/13543 [==============================] - 1s 44us/step - loss: 0.7499 - acc: 0.4656 - val_loss: 0.7193 - val_acc: 0.5156\n",
      "Epoch 2/120\n",
      "13543/13543 [==============================] - 0s 6us/step - loss: 0.6971 - acc: 0.5486 - val_loss: 0.6856 - val_acc: 0.5515\n",
      "Epoch 3/120\n",
      "13543/13543 [==============================] - 0s 7us/step - loss: 0.6747 - acc: 0.5884 - val_loss: 0.6703 - val_acc: 0.5854\n",
      "Epoch 4/120\n",
      "13543/13543 [==============================] - 0s 7us/step - loss: 0.6635 - acc: 0.6003 - val_loss: 0.6625 - val_acc: 0.6007\n",
      "Epoch 5/120\n",
      "13543/13543 [==============================] - 0s 7us/step - loss: 0.6573 - acc: 0.6073 - val_loss: 0.6580 - val_acc: 0.6093\n",
      "Epoch 6/120\n",
      "13543/13543 [==============================] - 0s 6us/step - loss: 0.6536 - acc: 0.6111 - val_loss: 0.6549 - val_acc: 0.6100\n",
      "Epoch 7/120\n",
      "13543/13543 [==============================] - 0s 8us/step - loss: 0.6509 - acc: 0.6163 - val_loss: 0.6528 - val_acc: 0.6219\n",
      "Epoch 8/120\n",
      "13543/13543 [==============================] - 0s 5us/step - loss: 0.6490 - acc: 0.6193 - val_loss: 0.6512 - val_acc: 0.6226\n",
      "Epoch 9/120\n",
      "13543/13543 [==============================] - 0s 6us/step - loss: 0.6474 - acc: 0.6208 - val_loss: 0.6502 - val_acc: 0.6226\n",
      "Epoch 10/120\n",
      "13543/13543 [==============================] - 0s 6us/step - loss: 0.6463 - acc: 0.6231 - val_loss: 0.6489 - val_acc: 0.6239\n",
      "Epoch 11/120\n",
      "13543/13543 [==============================] - 0s 6us/step - loss: 0.6451 - acc: 0.6251 - val_loss: 0.6481 - val_acc: 0.6233\n",
      "Epoch 12/120\n",
      "13543/13543 [==============================] - 0s 6us/step - loss: 0.6443 - acc: 0.6273 - val_loss: 0.6473 - val_acc: 0.6199\n",
      "Epoch 13/120\n",
      "13543/13543 [==============================] - 0s 5us/step - loss: 0.6436 - acc: 0.6283 - val_loss: 0.6466 - val_acc: 0.6213\n",
      "Epoch 14/120\n",
      "13543/13543 [==============================] - 0s 7us/step - loss: 0.6430 - acc: 0.6288 - val_loss: 0.6464 - val_acc: 0.6206\n",
      "Epoch 15/120\n",
      "13543/13543 [==============================] - 0s 7us/step - loss: 0.6425 - acc: 0.6293 - val_loss: 0.6452 - val_acc: 0.6266\n",
      "Epoch 16/120\n",
      "13543/13543 [==============================] - 0s 7us/step - loss: 0.6419 - acc: 0.6300 - val_loss: 0.6447 - val_acc: 0.6266\n",
      "Epoch 17/120\n",
      "13543/13543 [==============================] - 0s 6us/step - loss: 0.6416 - acc: 0.6318 - val_loss: 0.6444 - val_acc: 0.6279\n",
      "Epoch 18/120\n",
      "13543/13543 [==============================] - 0s 6us/step - loss: 0.6413 - acc: 0.6310 - val_loss: 0.6440 - val_acc: 0.6279\n",
      "Epoch 19/120\n",
      "13543/13543 [==============================] - 0s 5us/step - loss: 0.6409 - acc: 0.6321 - val_loss: 0.6434 - val_acc: 0.6299\n",
      "Epoch 20/120\n",
      "13543/13543 [==============================] - 0s 5us/step - loss: 0.6407 - acc: 0.6316 - val_loss: 0.6434 - val_acc: 0.6286\n",
      "Epoch 21/120\n",
      "13543/13543 [==============================] - 0s 5us/step - loss: 0.6405 - acc: 0.6349 - val_loss: 0.6432 - val_acc: 0.6286\n",
      "Epoch 22/120\n",
      "13543/13543 [==============================] - 0s 5us/step - loss: 0.6402 - acc: 0.6330 - val_loss: 0.6425 - val_acc: 0.6299\n",
      "Epoch 23/120\n",
      "13543/13543 [==============================] - 0s 5us/step - loss: 0.6400 - acc: 0.6338 - val_loss: 0.6425 - val_acc: 0.6286\n",
      "Epoch 24/120\n",
      "13543/13543 [==============================] - 0s 5us/step - loss: 0.6398 - acc: 0.6324 - val_loss: 0.6418 - val_acc: 0.6346\n",
      "Epoch 25/120\n",
      "13543/13543 [==============================] - 0s 6us/step - loss: 0.6396 - acc: 0.6335 - val_loss: 0.6419 - val_acc: 0.6292\n",
      "Epoch 26/120\n",
      "13543/13543 [==============================] - 0s 6us/step - loss: 0.6394 - acc: 0.6336 - val_loss: 0.6416 - val_acc: 0.6312\n",
      "Epoch 27/120\n",
      "13543/13543 [==============================] - 0s 5us/step - loss: 0.6393 - acc: 0.6344 - val_loss: 0.6412 - val_acc: 0.6312\n",
      "Epoch 28/120\n",
      "13543/13543 [==============================] - 0s 6us/step - loss: 0.6391 - acc: 0.6335 - val_loss: 0.6410 - val_acc: 0.6306\n",
      "Epoch 29/120\n",
      "13543/13543 [==============================] - 0s 5us/step - loss: 0.6389 - acc: 0.6338 - val_loss: 0.6407 - val_acc: 0.6312\n",
      "Epoch 30/120\n",
      "13543/13543 [==============================] - 0s 5us/step - loss: 0.6388 - acc: 0.6335 - val_loss: 0.6400 - val_acc: 0.6326\n",
      "Epoch 31/120\n",
      "13543/13543 [==============================] - 0s 5us/step - loss: 0.6387 - acc: 0.6343 - val_loss: 0.6400 - val_acc: 0.6326\n",
      "Epoch 32/120\n",
      "13543/13543 [==============================] - 0s 6us/step - loss: 0.6385 - acc: 0.6338 - val_loss: 0.6400 - val_acc: 0.6299\n",
      "Epoch 33/120\n",
      "13543/13543 [==============================] - 0s 5us/step - loss: 0.6385 - acc: 0.6341 - val_loss: 0.6403 - val_acc: 0.6319\n",
      "Epoch 34/120\n",
      "13543/13543 [==============================] - 0s 5us/step - loss: 0.6383 - acc: 0.6330 - val_loss: 0.6399 - val_acc: 0.6319\n",
      "Epoch 35/120\n",
      "13543/13543 [==============================] - 0s 5us/step - loss: 0.6382 - acc: 0.6333 - val_loss: 0.6394 - val_acc: 0.6346\n",
      "Epoch 36/120\n",
      "13543/13543 [==============================] - 0s 5us/step - loss: 0.6381 - acc: 0.6334 - val_loss: 0.6396 - val_acc: 0.6319\n",
      "Epoch 37/120\n",
      "13543/13543 [==============================] - 0s 5us/step - loss: 0.6380 - acc: 0.6339 - val_loss: 0.6392 - val_acc: 0.6346\n",
      "Epoch 38/120\n",
      "13543/13543 [==============================] - 0s 5us/step - loss: 0.6378 - acc: 0.6334 - val_loss: 0.6392 - val_acc: 0.6339\n",
      "Epoch 39/120\n",
      "13543/13543 [==============================] - 0s 5us/step - loss: 0.6378 - acc: 0.6329 - val_loss: 0.6391 - val_acc: 0.6346\n",
      "Epoch 40/120\n",
      "13543/13543 [==============================] - 0s 5us/step - loss: 0.6376 - acc: 0.6340 - val_loss: 0.6392 - val_acc: 0.6346\n",
      "Epoch 41/120\n",
      "13543/13543 [==============================] - 0s 5us/step - loss: 0.6375 - acc: 0.6342 - val_loss: 0.6387 - val_acc: 0.6352\n",
      "Epoch 42/120\n",
      "13543/13543 [==============================] - 0s 5us/step - loss: 0.6375 - acc: 0.6347 - val_loss: 0.6386 - val_acc: 0.6346\n",
      "Epoch 43/120\n",
      "13543/13543 [==============================] - 0s 5us/step - loss: 0.6374 - acc: 0.6333 - val_loss: 0.6388 - val_acc: 0.6332\n",
      "Epoch 44/120\n",
      "13543/13543 [==============================] - 0s 5us/step - loss: 0.6373 - acc: 0.6345 - val_loss: 0.6385 - val_acc: 0.6352\n",
      "Epoch 45/120\n",
      "13543/13543 [==============================] - 0s 5us/step - loss: 0.6372 - acc: 0.6352 - val_loss: 0.6386 - val_acc: 0.6346\n",
      "Epoch 46/120\n",
      "13543/13543 [==============================] - 0s 5us/step - loss: 0.6372 - acc: 0.6332 - val_loss: 0.6382 - val_acc: 0.6359\n",
      "Epoch 47/120\n",
      "13543/13543 [==============================] - 0s 5us/step - loss: 0.6370 - acc: 0.6346 - val_loss: 0.6378 - val_acc: 0.6372\n",
      "Epoch 48/120\n",
      "13543/13543 [==============================] - 0s 5us/step - loss: 0.6370 - acc: 0.6352 - val_loss: 0.6384 - val_acc: 0.6326\n",
      "Epoch 49/120\n",
      "13543/13543 [==============================] - 0s 5us/step - loss: 0.6369 - acc: 0.6348 - val_loss: 0.6379 - val_acc: 0.6352\n",
      "Epoch 50/120\n",
      "13543/13543 [==============================] - 0s 5us/step - loss: 0.6368 - acc: 0.6347 - val_loss: 0.6378 - val_acc: 0.6365\n",
      "Epoch 51/120\n",
      "13543/13543 [==============================] - 0s 5us/step - loss: 0.6367 - acc: 0.6341 - val_loss: 0.6376 - val_acc: 0.6379\n",
      "Epoch 52/120\n",
      "13543/13543 [==============================] - 0s 5us/step - loss: 0.6366 - acc: 0.6349 - val_loss: 0.6375 - val_acc: 0.6372\n",
      "Epoch 53/120\n",
      "13543/13543 [==============================] - 0s 5us/step - loss: 0.6365 - acc: 0.6349 - val_loss: 0.6375 - val_acc: 0.6352\n",
      "Epoch 54/120\n",
      "13543/13543 [==============================] - 0s 5us/step - loss: 0.6365 - acc: 0.6338 - val_loss: 0.6375 - val_acc: 0.6365\n",
      "Epoch 55/120\n",
      "13543/13543 [==============================] - 0s 5us/step - loss: 0.6364 - acc: 0.6341 - val_loss: 0.6373 - val_acc: 0.6385\n",
      "Epoch 56/120\n",
      "13543/13543 [==============================] - 0s 5us/step - loss: 0.6364 - acc: 0.6334 - val_loss: 0.6373 - val_acc: 0.6352\n",
      "Epoch 57/120\n",
      "13543/13543 [==============================] - 0s 5us/step - loss: 0.6363 - acc: 0.6335 - val_loss: 0.6371 - val_acc: 0.6379\n",
      "Epoch 58/120\n",
      "13543/13543 [==============================] - 0s 5us/step - loss: 0.6362 - acc: 0.6351 - val_loss: 0.6372 - val_acc: 0.6365\n",
      "Epoch 59/120\n",
      "13543/13543 [==============================] - 0s 5us/step - loss: 0.6361 - acc: 0.6341 - val_loss: 0.6368 - val_acc: 0.6392\n",
      "Epoch 60/120\n"
     ]
    },
    {
     "name": "stdout",
     "output_type": "stream",
     "text": [
      "13543/13543 [==============================] - 0s 5us/step - loss: 0.6361 - acc: 0.6355 - val_loss: 0.6371 - val_acc: 0.6379\n",
      "Epoch 61/120\n",
      "13543/13543 [==============================] - 0s 5us/step - loss: 0.6359 - acc: 0.6357 - val_loss: 0.6367 - val_acc: 0.6385\n",
      "Epoch 62/120\n",
      "13543/13543 [==============================] - 0s 5us/step - loss: 0.6358 - acc: 0.6353 - val_loss: 0.6368 - val_acc: 0.6385\n",
      "Epoch 63/120\n",
      "13543/13543 [==============================] - 0s 5us/step - loss: 0.6359 - acc: 0.6346 - val_loss: 0.6367 - val_acc: 0.6379\n",
      "Epoch 64/120\n",
      "13543/13543 [==============================] - 0s 5us/step - loss: 0.6358 - acc: 0.6351 - val_loss: 0.6369 - val_acc: 0.6379\n",
      "Epoch 65/120\n",
      "13543/13543 [==============================] - 0s 5us/step - loss: 0.6357 - acc: 0.6339 - val_loss: 0.6366 - val_acc: 0.6359\n",
      "Epoch 66/120\n",
      "13543/13543 [==============================] - 0s 5us/step - loss: 0.6357 - acc: 0.6347 - val_loss: 0.6366 - val_acc: 0.6399\n",
      "Epoch 67/120\n",
      "13543/13543 [==============================] - 0s 5us/step - loss: 0.6356 - acc: 0.6347 - val_loss: 0.6365 - val_acc: 0.6412\n",
      "Epoch 68/120\n",
      "13543/13543 [==============================] - 0s 5us/step - loss: 0.6356 - acc: 0.6349 - val_loss: 0.6367 - val_acc: 0.6405\n",
      "Epoch 69/120\n",
      "13543/13543 [==============================] - 0s 5us/step - loss: 0.6356 - acc: 0.6346 - val_loss: 0.6366 - val_acc: 0.6412\n",
      "Epoch 70/120\n",
      "13543/13543 [==============================] - 0s 5us/step - loss: 0.6355 - acc: 0.6360 - val_loss: 0.6364 - val_acc: 0.6419\n",
      "Epoch 71/120\n",
      "13543/13543 [==============================] - 0s 5us/step - loss: 0.6354 - acc: 0.6355 - val_loss: 0.6362 - val_acc: 0.6412\n",
      "Epoch 72/120\n",
      "13543/13543 [==============================] - 0s 6us/step - loss: 0.6354 - acc: 0.6348 - val_loss: 0.6363 - val_acc: 0.6425\n",
      "Epoch 73/120\n",
      "13543/13543 [==============================] - 0s 5us/step - loss: 0.6353 - acc: 0.6351 - val_loss: 0.6363 - val_acc: 0.6439\n",
      "Epoch 74/120\n",
      "13543/13543 [==============================] - 0s 6us/step - loss: 0.6353 - acc: 0.6349 - val_loss: 0.6362 - val_acc: 0.6439\n",
      "Epoch 75/120\n",
      "13543/13543 [==============================] - 0s 5us/step - loss: 0.6353 - acc: 0.6357 - val_loss: 0.6362 - val_acc: 0.6425\n",
      "Epoch 76/120\n",
      "13543/13543 [==============================] - 0s 5us/step - loss: 0.6352 - acc: 0.6350 - val_loss: 0.6362 - val_acc: 0.6445\n",
      "Epoch 77/120\n",
      "13543/13543 [==============================] - 0s 5us/step - loss: 0.6351 - acc: 0.6354 - val_loss: 0.6363 - val_acc: 0.6425\n",
      "Epoch 78/120\n",
      "13543/13543 [==============================] - 0s 6us/step - loss: 0.6352 - acc: 0.6365 - val_loss: 0.6369 - val_acc: 0.6405\n",
      "Epoch 79/120\n",
      "13543/13543 [==============================] - 0s 5us/step - loss: 0.6352 - acc: 0.6352 - val_loss: 0.6361 - val_acc: 0.6425\n",
      "Epoch 80/120\n",
      "13543/13543 [==============================] - 0s 5us/step - loss: 0.6351 - acc: 0.6346 - val_loss: 0.6359 - val_acc: 0.6439\n",
      "Epoch 81/120\n",
      "13543/13543 [==============================] - 0s 6us/step - loss: 0.6350 - acc: 0.6353 - val_loss: 0.6359 - val_acc: 0.6425\n",
      "Epoch 82/120\n",
      "13543/13543 [==============================] - 0s 6us/step - loss: 0.6351 - acc: 0.6349 - val_loss: 0.6360 - val_acc: 0.6445\n",
      "Epoch 83/120\n",
      "13543/13543 [==============================] - 0s 6us/step - loss: 0.6351 - acc: 0.6358 - val_loss: 0.6359 - val_acc: 0.6425\n",
      "Epoch 84/120\n",
      "13543/13543 [==============================] - 0s 5us/step - loss: 0.6349 - acc: 0.6352 - val_loss: 0.6356 - val_acc: 0.6425\n",
      "Epoch 85/120\n",
      "13543/13543 [==============================] - 0s 5us/step - loss: 0.6349 - acc: 0.6350 - val_loss: 0.6357 - val_acc: 0.6432\n",
      "Epoch 86/120\n",
      "13543/13543 [==============================] - 0s 5us/step - loss: 0.6348 - acc: 0.6344 - val_loss: 0.6361 - val_acc: 0.6399\n",
      "Epoch 87/120\n",
      "13543/13543 [==============================] - 0s 6us/step - loss: 0.6349 - acc: 0.6352 - val_loss: 0.6359 - val_acc: 0.6412\n",
      "Epoch 88/120\n",
      "13543/13543 [==============================] - 0s 5us/step - loss: 0.6348 - acc: 0.6355 - val_loss: 0.6353 - val_acc: 0.6452\n",
      "Epoch 89/120\n",
      "13543/13543 [==============================] - 0s 6us/step - loss: 0.6349 - acc: 0.6341 - val_loss: 0.6362 - val_acc: 0.6365\n",
      "Epoch 90/120\n",
      "13543/13543 [==============================] - 0s 6us/step - loss: 0.6348 - acc: 0.6352 - val_loss: 0.6357 - val_acc: 0.6392\n",
      "Epoch 91/120\n",
      "13543/13543 [==============================] - 0s 5us/step - loss: 0.6347 - acc: 0.6350 - val_loss: 0.6356 - val_acc: 0.6385\n",
      "Epoch 92/120\n",
      "13543/13543 [==============================] - 0s 5us/step - loss: 0.6348 - acc: 0.6350 - val_loss: 0.6355 - val_acc: 0.6392\n",
      "Epoch 93/120\n",
      "13543/13543 [==============================] - 0s 5us/step - loss: 0.6347 - acc: 0.6346 - val_loss: 0.6354 - val_acc: 0.6379\n",
      "Epoch 94/120\n",
      "13543/13543 [==============================] - 0s 5us/step - loss: 0.6346 - acc: 0.6352 - val_loss: 0.6358 - val_acc: 0.6419\n",
      "Epoch 95/120\n",
      "13543/13543 [==============================] - 0s 5us/step - loss: 0.6346 - acc: 0.6352 - val_loss: 0.6355 - val_acc: 0.6392\n",
      "Epoch 96/120\n",
      "13543/13543 [==============================] - 0s 5us/step - loss: 0.6346 - acc: 0.6335 - val_loss: 0.6355 - val_acc: 0.6392\n",
      "Epoch 97/120\n",
      "13543/13543 [==============================] - 0s 5us/step - loss: 0.6345 - acc: 0.6352 - val_loss: 0.6355 - val_acc: 0.6399\n",
      "Epoch 98/120\n",
      "13543/13543 [==============================] - 0s 5us/step - loss: 0.6345 - acc: 0.6356 - val_loss: 0.6354 - val_acc: 0.6412\n",
      "Epoch 99/120\n",
      "13543/13543 [==============================] - 0s 5us/step - loss: 0.6345 - acc: 0.6350 - val_loss: 0.6355 - val_acc: 0.6399\n",
      "Epoch 100/120\n",
      "13543/13543 [==============================] - 0s 6us/step - loss: 0.6345 - acc: 0.6352 - val_loss: 0.6353 - val_acc: 0.6399\n",
      "Epoch 101/120\n",
      "13543/13543 [==============================] - 0s 5us/step - loss: 0.6345 - acc: 0.6359 - val_loss: 0.6355 - val_acc: 0.6392\n",
      "Epoch 102/120\n",
      "13543/13543 [==============================] - 0s 6us/step - loss: 0.6345 - acc: 0.6358 - val_loss: 0.6354 - val_acc: 0.6392\n",
      "Epoch 103/120\n",
      "13543/13543 [==============================] - 0s 5us/step - loss: 0.6344 - acc: 0.6360 - val_loss: 0.6355 - val_acc: 0.6392\n",
      "Epoch 104/120\n",
      "13543/13543 [==============================] - 0s 5us/step - loss: 0.6344 - acc: 0.6355 - val_loss: 0.6353 - val_acc: 0.6405\n",
      "Epoch 105/120\n",
      "13543/13543 [==============================] - 0s 5us/step - loss: 0.6343 - acc: 0.6356 - val_loss: 0.6356 - val_acc: 0.6419\n",
      "Epoch 106/120\n",
      "13543/13543 [==============================] - 0s 5us/step - loss: 0.6344 - acc: 0.6359 - val_loss: 0.6356 - val_acc: 0.6412\n",
      "Epoch 107/120\n",
      "13543/13543 [==============================] - 0s 5us/step - loss: 0.6343 - acc: 0.6357 - val_loss: 0.6352 - val_acc: 0.6425\n",
      "Epoch 108/120\n",
      "13543/13543 [==============================] - 0s 5us/step - loss: 0.6344 - acc: 0.6346 - val_loss: 0.6357 - val_acc: 0.6412\n",
      "Epoch 109/120\n",
      "13543/13543 [==============================] - 0s 5us/step - loss: 0.6343 - acc: 0.6349 - val_loss: 0.6352 - val_acc: 0.6432\n",
      "Epoch 110/120\n",
      "13543/13543 [==============================] - 0s 6us/step - loss: 0.6343 - acc: 0.6354 - val_loss: 0.6352 - val_acc: 0.6425\n",
      "Epoch 111/120\n",
      "13543/13543 [==============================] - 0s 6us/step - loss: 0.6342 - acc: 0.6355 - val_loss: 0.6353 - val_acc: 0.6425\n",
      "Epoch 112/120\n",
      "13543/13543 [==============================] - 0s 5us/step - loss: 0.6343 - acc: 0.6358 - val_loss: 0.6355 - val_acc: 0.6425\n",
      "Epoch 113/120\n",
      "13543/13543 [==============================] - 0s 6us/step - loss: 0.6342 - acc: 0.6360 - val_loss: 0.6354 - val_acc: 0.6439\n",
      "Epoch 114/120\n",
      "13543/13543 [==============================] - 0s 6us/step - loss: 0.6342 - acc: 0.6359 - val_loss: 0.6357 - val_acc: 0.6432\n",
      "Epoch 115/120\n",
      "13543/13543 [==============================] - 0s 6us/step - loss: 0.6342 - acc: 0.6349 - val_loss: 0.6353 - val_acc: 0.6419\n",
      "Epoch 116/120\n",
      "13543/13543 [==============================] - 0s 5us/step - loss: 0.6342 - acc: 0.6364 - val_loss: 0.6353 - val_acc: 0.6432\n",
      "Epoch 117/120\n",
      "13543/13543 [==============================] - 0s 6us/step - loss: 0.6342 - acc: 0.6357 - val_loss: 0.6356 - val_acc: 0.6399\n",
      "Epoch 118/120\n",
      "13543/13543 [==============================] - 0s 6us/step - loss: 0.6342 - acc: 0.6358 - val_loss: 0.6353 - val_acc: 0.6425\n",
      "Epoch 119/120\n",
      "13543/13543 [==============================] - 0s 6us/step - loss: 0.6341 - acc: 0.6367 - val_loss: 0.6356 - val_acc: 0.6412\n",
      "Epoch 120/120\n",
      "13543/13543 [==============================] - 0s 5us/step - loss: 0.6341 - acc: 0.6360 - val_loss: 0.6353 - val_acc: 0.6432\n"
     ]
    }
   ],
   "source": [
    "from keras import Sequential,layers,models\n",
    "\n",
    "model=models.Sequential()\n",
    "model.add(layers.Dense(9,activation='relu'))\n",
    "model.add(layers.Dense(1,activation='sigmoid'))\n",
    "\n",
    "model.compile(loss='binary_crossentropy',optimizer='adam',metrics=['accuracy'])\n",
    "\n",
    "history0=model.fit(X_scaled_resampled_train,y_resampled_train,epochs=120,batch_size=256,validation_split=0.1)"
   ]
  },
  {
   "cell_type": "code",
   "execution_count": 82,
   "metadata": {},
   "outputs": [],
   "source": [
    "def plt_hist(history):\n",
    "    acc = history.history['acc']\n",
    "    val_acc = history.history['val_acc']\n",
    "    loss = history.history['loss']\n",
    "    val_loss = history.history['val_loss']\n",
    "    epochs = range(len(acc))\n",
    "    plt.plot(epochs, acc, 'bo', label='Training acc')\n",
    "    plt.plot(epochs, val_acc, 'b', label='Validation acc')\n",
    "    plt.title('Training and validation accuracy')\n",
    "    plt.legend()\n",
    "    plt.figure()\n",
    "    plt.plot(epochs, loss, 'bo', label='Training loss')\n",
    "    plt.plot(epochs, val_loss, 'b', label='Validation loss')\n",
    "    plt.title('Training and validation loss')\n",
    "    plt.legend()\n",
    "    plt.show()"
   ]
  },
  {
   "cell_type": "code",
   "execution_count": 85,
   "metadata": {},
   "outputs": [
    {
     "data": {
      "image/png": "[encoded data removed]",
      "text/plain": [
       "<Figure size 432x288 with 1 Axes>"
      ]
     },
     "metadata": {
      "needs_background": "light"
     },
     "output_type": "display_data"
    },
    {
     "data": {
      "image/png": "[encoded data removed]",
      "text/plain": [
       "<Figure size 432x288 with 1 Axes>"
      ]
     },
     "metadata": {
      "needs_background": "light"
     },
     "output_type": "display_data"
    }
   ],
   "source": [
    "plt_hist(history0)"
   ]
  },
  {
   "cell_type": "code",
   "execution_count": 87,
   "metadata": {
    "scrolled": true
   },
   "outputs": [
    {
     "name": "stdout",
     "output_type": "stream",
     "text": [
      "Train on 13543 samples, validate on 1505 samples\n",
      "Epoch 1/30\n",
      "13543/13543 [==============================] - 1s 59us/step - loss: 0.6670 - acc: 0.6002 - val_loss: 0.6474 - val_acc: 0.6339\n",
      "Epoch 2/30\n",
      "13543/13543 [==============================] - 0s 7us/step - loss: 0.6506 - acc: 0.6270 - val_loss: 0.6422 - val_acc: 0.6332\n",
      "Epoch 3/30\n",
      "13543/13543 [==============================] - 0s 7us/step - loss: 0.6467 - acc: 0.6279 - val_loss: 0.6418 - val_acc: 0.6292\n",
      "Epoch 4/30\n",
      "13543/13543 [==============================] - 0s 7us/step - loss: 0.6441 - acc: 0.6296 - val_loss: 0.6394 - val_acc: 0.6266\n",
      "Epoch 5/30\n",
      "13543/13543 [==============================] - 0s 7us/step - loss: 0.6423 - acc: 0.6293 - val_loss: 0.6392 - val_acc: 0.6352\n",
      "Epoch 6/30\n",
      "13543/13543 [==============================] - 0s 8us/step - loss: 0.6411 - acc: 0.6294 - val_loss: 0.6382 - val_acc: 0.6365\n",
      "Epoch 7/30\n",
      "13543/13543 [==============================] - 0s 7us/step - loss: 0.6399 - acc: 0.6307 - val_loss: 0.6391 - val_acc: 0.6359\n",
      "Epoch 8/30\n",
      "13543/13543 [==============================] - 0s 7us/step - loss: 0.6391 - acc: 0.6302 - val_loss: 0.6384 - val_acc: 0.6359\n",
      "Epoch 9/30\n",
      "13543/13543 [==============================] - 0s 6us/step - loss: 0.6383 - acc: 0.6304 - val_loss: 0.6390 - val_acc: 0.6359\n",
      "Epoch 10/30\n",
      "13543/13543 [==============================] - 0s 6us/step - loss: 0.6380 - acc: 0.6304 - val_loss: 0.6387 - val_acc: 0.6365\n",
      "Epoch 11/30\n",
      "13543/13543 [==============================] - 0s 6us/step - loss: 0.6375 - acc: 0.6298 - val_loss: 0.6380 - val_acc: 0.6326\n",
      "Epoch 12/30\n",
      "13543/13543 [==============================] - 0s 6us/step - loss: 0.6372 - acc: 0.6337 - val_loss: 0.6380 - val_acc: 0.6359\n",
      "Epoch 13/30\n",
      "13543/13543 [==============================] - 0s 6us/step - loss: 0.6368 - acc: 0.6318 - val_loss: 0.6402 - val_acc: 0.6332\n",
      "Epoch 14/30\n",
      "13543/13543 [==============================] - 0s 7us/step - loss: 0.6362 - acc: 0.6333 - val_loss: 0.6400 - val_acc: 0.6319\n",
      "Epoch 15/30\n",
      "13543/13543 [==============================] - 0s 7us/step - loss: 0.6360 - acc: 0.6316 - val_loss: 0.6388 - val_acc: 0.6359\n",
      "Epoch 16/30\n",
      "13543/13543 [==============================] - 0s 9us/step - loss: 0.6357 - acc: 0.6345 - val_loss: 0.6386 - val_acc: 0.6306\n",
      "Epoch 17/30\n",
      "13543/13543 [==============================] - 0s 9us/step - loss: 0.6354 - acc: 0.6339 - val_loss: 0.6394 - val_acc: 0.6312\n",
      "Epoch 18/30\n",
      "13543/13543 [==============================] - 0s 8us/step - loss: 0.6352 - acc: 0.6333 - val_loss: 0.6381 - val_acc: 0.6352\n",
      "Epoch 19/30\n",
      "13543/13543 [==============================] - 0s 8us/step - loss: 0.6350 - acc: 0.6362 - val_loss: 0.6381 - val_acc: 0.6379\n",
      "Epoch 20/30\n",
      "13543/13543 [==============================] - 0s 9us/step - loss: 0.6344 - acc: 0.6365 - val_loss: 0.6383 - val_acc: 0.6399\n",
      "Epoch 21/30\n",
      "13543/13543 [==============================] - 0s 8us/step - loss: 0.6345 - acc: 0.6350 - val_loss: 0.6388 - val_acc: 0.6306\n",
      "Epoch 22/30\n",
      "13543/13543 [==============================] - 0s 9us/step - loss: 0.6343 - acc: 0.6339 - val_loss: 0.6416 - val_acc: 0.6299\n",
      "Epoch 23/30\n",
      "13543/13543 [==============================] - 0s 9us/step - loss: 0.6341 - acc: 0.6368 - val_loss: 0.6382 - val_acc: 0.6326\n",
      "Epoch 24/30\n",
      "13543/13543 [==============================] - 0s 9us/step - loss: 0.6337 - acc: 0.6365 - val_loss: 0.6397 - val_acc: 0.6292\n",
      "Epoch 25/30\n",
      "13543/13543 [==============================] - 0s 10us/step - loss: 0.6336 - acc: 0.6372 - val_loss: 0.6381 - val_acc: 0.6326\n",
      "Epoch 26/30\n",
      "13543/13543 [==============================] - 0s 9us/step - loss: 0.6334 - acc: 0.6352 - val_loss: 0.6388 - val_acc: 0.6332\n",
      "Epoch 27/30\n",
      "13543/13543 [==============================] - 0s 9us/step - loss: 0.6334 - acc: 0.6356 - val_loss: 0.6408 - val_acc: 0.6272\n",
      "Epoch 28/30\n",
      "13543/13543 [==============================] - 0s 9us/step - loss: 0.6328 - acc: 0.6380 - val_loss: 0.6408 - val_acc: 0.6233\n",
      "Epoch 29/30\n",
      "13543/13543 [==============================] - 0s 9us/step - loss: 0.6325 - acc: 0.6372 - val_loss: 0.6407 - val_acc: 0.6246\n",
      "Epoch 30/30\n",
      "13543/13543 [==============================] - 0s 9us/step - loss: 0.6327 - acc: 0.6387 - val_loss: 0.6406 - val_acc: 0.6246\n"
     ]
    }
   ],
   "source": [
    "model=models.Sequential()\n",
    "model.add(layers.Dense(9,activation='relu'))\n",
    "model.add(layers.Dense(30,activation='relu'))\n",
    "model.add(layers.Dense(30,activation='relu'))\n",
    "model.add(layers.Dense(1,activation='sigmoid'))\n",
    "\n",
    "model.compile(loss='binary_crossentropy',optimizer='adam',metrics=['accuracy'])\n",
    "\n",
    "history1=model.fit(X_scaled_resampled_train,y_resampled_train,epochs=30,batch_size=256,validation_split=0.1)"
   ]
  },
  {
   "cell_type": "code",
   "execution_count": 88,
   "metadata": {},
   "outputs": [
    {
     "data": {
      "image/png": "[encoded data removed]",
      "text/plain": [
       "<Figure size 432x288 with 1 Axes>"
      ]
     },
     "metadata": {
      "needs_background": "light"
     },
     "output_type": "display_data"
    },
    {
     "data": {
      "image/png": "[encoded data removed]",
      "text/plain": [
       "<Figure size 432x288 with 1 Axes>"
      ]
     },
     "metadata": {
      "needs_background": "light"
     },
     "output_type": "display_data"
    }
   ],
   "source": [
    "plt_hist(history1)"
   ]
  },
  {
   "cell_type": "code",
   "execution_count": 96,
   "metadata": {
    "scrolled": true
   },
   "outputs": [
    {
     "name": "stdout",
     "output_type": "stream",
     "text": [
      "Train on 13543 samples, validate on 1505 samples\n",
      "Epoch 1/30\n",
      "13543/13543 [==============================] - 1s 69us/step - loss: 0.6498 - acc: 0.6216 - val_loss: 0.6372 - val_acc: 0.6365\n",
      "Epoch 2/30\n",
      "13543/13543 [==============================] - 0s 8us/step - loss: 0.6388 - acc: 0.6327 - val_loss: 0.6354 - val_acc: 0.6432\n",
      "Epoch 3/30\n",
      "13543/13543 [==============================] - 0s 8us/step - loss: 0.6365 - acc: 0.6326 - val_loss: 0.6372 - val_acc: 0.6425\n",
      "Epoch 4/30\n",
      "13543/13543 [==============================] - 0s 9us/step - loss: 0.6353 - acc: 0.6349 - val_loss: 0.6380 - val_acc: 0.6346\n",
      "Epoch 5/30\n",
      "13543/13543 [==============================] - 0s 8us/step - loss: 0.6345 - acc: 0.6364 - val_loss: 0.6375 - val_acc: 0.6392\n",
      "Epoch 6/30\n",
      "13543/13543 [==============================] - 0s 8us/step - loss: 0.6336 - acc: 0.6356 - val_loss: 0.6372 - val_acc: 0.6425\n",
      "Epoch 7/30\n",
      "13543/13543 [==============================] - 0s 8us/step - loss: 0.6325 - acc: 0.6396 - val_loss: 0.6376 - val_acc: 0.6359\n",
      "Epoch 8/30\n",
      "13543/13543 [==============================] - 0s 7us/step - loss: 0.6326 - acc: 0.6400 - val_loss: 0.6386 - val_acc: 0.6379\n",
      "Epoch 9/30\n",
      "13543/13543 [==============================] - 0s 7us/step - loss: 0.6318 - acc: 0.6389 - val_loss: 0.6376 - val_acc: 0.6379\n",
      "Epoch 10/30\n",
      "13543/13543 [==============================] - 0s 8us/step - loss: 0.6313 - acc: 0.6391 - val_loss: 0.6395 - val_acc: 0.6372\n",
      "Epoch 11/30\n",
      "13543/13543 [==============================] - 0s 8us/step - loss: 0.6310 - acc: 0.6369 - val_loss: 0.6381 - val_acc: 0.6392\n",
      "Epoch 12/30\n",
      "13543/13543 [==============================] - 0s 7us/step - loss: 0.6310 - acc: 0.6399 - val_loss: 0.6380 - val_acc: 0.6352\n",
      "Epoch 13/30\n",
      "13543/13543 [==============================] - 0s 7us/step - loss: 0.6301 - acc: 0.6408 - val_loss: 0.6384 - val_acc: 0.6385\n",
      "Epoch 14/30\n",
      "13543/13543 [==============================] - 0s 7us/step - loss: 0.6298 - acc: 0.6400 - val_loss: 0.6401 - val_acc: 0.6346\n",
      "Epoch 15/30\n",
      "13543/13543 [==============================] - 0s 7us/step - loss: 0.6300 - acc: 0.6415 - val_loss: 0.6398 - val_acc: 0.6332\n",
      "Epoch 16/30\n",
      "13543/13543 [==============================] - 0s 7us/step - loss: 0.6289 - acc: 0.6429 - val_loss: 0.6397 - val_acc: 0.6339\n",
      "Epoch 17/30\n",
      "13543/13543 [==============================] - 0s 7us/step - loss: 0.6289 - acc: 0.6413 - val_loss: 0.6393 - val_acc: 0.6339\n",
      "Epoch 18/30\n",
      "13543/13543 [==============================] - 0s 7us/step - loss: 0.6280 - acc: 0.6439 - val_loss: 0.6403 - val_acc: 0.6405\n",
      "Epoch 19/30\n",
      "13543/13543 [==============================] - 0s 7us/step - loss: 0.6280 - acc: 0.6437 - val_loss: 0.6404 - val_acc: 0.6405\n",
      "Epoch 20/30\n",
      "13543/13543 [==============================] - 0s 7us/step - loss: 0.6275 - acc: 0.6436 - val_loss: 0.6390 - val_acc: 0.6392\n",
      "Epoch 21/30\n",
      "13543/13543 [==============================] - 0s 8us/step - loss: 0.6276 - acc: 0.6428 - val_loss: 0.6390 - val_acc: 0.6365\n",
      "Epoch 22/30\n",
      "13543/13543 [==============================] - 0s 7us/step - loss: 0.6269 - acc: 0.6454 - val_loss: 0.6406 - val_acc: 0.6372\n",
      "Epoch 23/30\n",
      "13543/13543 [==============================] - 0s 7us/step - loss: 0.6263 - acc: 0.6436 - val_loss: 0.6397 - val_acc: 0.6412\n",
      "Epoch 24/30\n",
      "13543/13543 [==============================] - 0s 7us/step - loss: 0.6275 - acc: 0.6449 - val_loss: 0.6398 - val_acc: 0.6352\n",
      "Epoch 25/30\n",
      "13543/13543 [==============================] - 0s 7us/step - loss: 0.6261 - acc: 0.6454 - val_loss: 0.6410 - val_acc: 0.6379\n",
      "Epoch 26/30\n",
      "13543/13543 [==============================] - 0s 7us/step - loss: 0.6260 - acc: 0.6454 - val_loss: 0.6428 - val_acc: 0.6352\n",
      "Epoch 27/30\n",
      "13543/13543 [==============================] - 0s 7us/step - loss: 0.6259 - acc: 0.6442 - val_loss: 0.6405 - val_acc: 0.6352\n",
      "Epoch 28/30\n",
      "13543/13543 [==============================] - 0s 7us/step - loss: 0.6249 - acc: 0.6470 - val_loss: 0.6405 - val_acc: 0.6379\n",
      "Epoch 29/30\n",
      "13543/13543 [==============================] - 0s 7us/step - loss: 0.6244 - acc: 0.6452 - val_loss: 0.6396 - val_acc: 0.6359\n",
      "Epoch 30/30\n",
      "13543/13543 [==============================] - 0s 7us/step - loss: 0.6247 - acc: 0.6451 - val_loss: 0.6396 - val_acc: 0.6385\n"
     ]
    }
   ],
   "source": [
    "model=models.Sequential()\n",
    "model.add(layers.Dense(100,input_shape=(9,),activation='relu'))\n",
    "model.add(layers.Dense(30,activation='relu'))\n",
    "model.add(layers.Dense(1,activation='sigmoid'))\n",
    "\n",
    "model.compile(loss='binary_crossentropy',optimizer='adam',metrics=['accuracy'])\n",
    "\n",
    "history1=model.fit(X_scaled_resampled_train,y_resampled_train,epochs=30,batch_size=256,validation_split=0.1)"
   ]
  },
  {
   "cell_type": "code",
   "execution_count": 97,
   "metadata": {},
   "outputs": [
    {
     "data": {
      "image/png": "[encoded data removed]",
      "text/plain": [
       "<Figure size 432x288 with 1 Axes>"
      ]
     },
     "metadata": {
      "needs_background": "light"
     },
     "output_type": "display_data"
    },
    {
     "data": {
      "image/png": "[encoded data removed]",
      "text/plain": [
       "<Figure size 432x288 with 1 Axes>"
      ]
     },
     "metadata": {
      "needs_background": "light"
     },
     "output_type": "display_data"
    }
   ],
   "source": [
    "plt_hist(history2)"
   ]
  },
  {
   "cell_type": "code",
   "execution_count": null,
   "metadata": {},
   "outputs": [],
   "source": []
  }
 ],
 "metadata": {
  "kernelspec": {
   "display_name": "Python 3",
   "language": "python",
   "name": "python3"
  },
  "language_info": {
   "codemirror_mode": {
    "name": "ipython",
    "version": 3
   },
   "file_extension": ".py",
   "mimetype": "text/x-python",
   "name": "python",
   "nbconvert_exporter": "python",
   "pygments_lexer": "ipython3",
   "version": "3.7.0"
  }
 },
 "nbformat": 4,
 "nbformat_minor": 2
}
