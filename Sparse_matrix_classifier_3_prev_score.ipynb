{
 "cells": [
  {
   "cell_type": "code",
   "execution_count": 31,
   "metadata": {},
   "outputs": [],
   "source": [
    "import pandas as pd \n",
    "import numpy as np\n",
    "import matplotlib.pyplot as plt"
   ]
  },
  {
   "cell_type": "code",
   "execution_count": 32,
   "metadata": {},
   "outputs": [
    {
     "data": {
      "text/html": [
       "<div>\n",
       "<style scoped>\n",
       "    .dataframe tbody tr th:only-of-type {\n",
       "        vertical-align: middle;\n",
       "    }\n",
       "\n",
       "    .dataframe tbody tr th {\n",
       "        vertical-align: top;\n",
       "    }\n",
       "\n",
       "    .dataframe thead th {\n",
       "        text-align: right;\n",
       "    }\n",
       "</style>\n",
       "<table border=\"1\" class=\"dataframe\">\n",
       "  <thead>\n",
       "    <tr style=\"text-align: right;\">\n",
       "      <th></th>\n",
       "      <th>Unnamed: 0</th>\n",
       "      <th>Unnamed: 0.1</th>\n",
       "      <th>CAMIS</th>\n",
       "      <th>DATE</th>\n",
       "      <th>SCORE</th>\n",
       "      <th>INSPECTION TYPE</th>\n",
       "      <th>02A</th>\n",
       "      <th>02B</th>\n",
       "      <th>02C</th>\n",
       "      <th>02D</th>\n",
       "      <th>...</th>\n",
       "      <th>GRADE</th>\n",
       "      <th>prev_score</th>\n",
       "      <th>prev_critical</th>\n",
       "      <th>A</th>\n",
       "      <th>prev_A</th>\n",
       "      <th>DBA</th>\n",
       "      <th>CUISINE DESCRIPTION</th>\n",
       "      <th>is_chain</th>\n",
       "      <th>Community Board</th>\n",
       "      <th>BORO</th>\n",
       "    </tr>\n",
       "  </thead>\n",
       "  <tbody>\n",
       "    <tr>\n",
       "      <th>0</th>\n",
       "      <td>0</td>\n",
       "      <td>1</td>\n",
       "      <td>30075445</td>\n",
       "      <td>2018-05-11</td>\n",
       "      <td>5.0</td>\n",
       "      <td>Cycle Inspection / Initial Inspection</td>\n",
       "      <td>0.0</td>\n",
       "      <td>0.0</td>\n",
       "      <td>0.0</td>\n",
       "      <td>0.0</td>\n",
       "      <td>...</td>\n",
       "      <td>A</td>\n",
       "      <td>7.0</td>\n",
       "      <td>1</td>\n",
       "      <td>True</td>\n",
       "      <td>True</td>\n",
       "      <td>MORRIS PARK BAKE SHOP</td>\n",
       "      <td>Bakery</td>\n",
       "      <td>0</td>\n",
       "      <td>211.0</td>\n",
       "      <td>Bronx</td>\n",
       "    </tr>\n",
       "    <tr>\n",
       "      <th>1</th>\n",
       "      <td>1</td>\n",
       "      <td>2</td>\n",
       "      <td>30075445</td>\n",
       "      <td>2019-05-16</td>\n",
       "      <td>14.0</td>\n",
       "      <td>Cycle Inspection / Initial Inspection</td>\n",
       "      <td>0.0</td>\n",
       "      <td>0.0</td>\n",
       "      <td>0.0</td>\n",
       "      <td>0.0</td>\n",
       "      <td>...</td>\n",
       "      <td>B</td>\n",
       "      <td>5.0</td>\n",
       "      <td>0</td>\n",
       "      <td>False</td>\n",
       "      <td>True</td>\n",
       "      <td>MORRIS PARK BAKE SHOP</td>\n",
       "      <td>Bakery</td>\n",
       "      <td>0</td>\n",
       "      <td>211.0</td>\n",
       "      <td>Bronx</td>\n",
       "    </tr>\n",
       "    <tr>\n",
       "      <th>2</th>\n",
       "      <td>2</td>\n",
       "      <td>4</td>\n",
       "      <td>30112340</td>\n",
       "      <td>2017-06-26</td>\n",
       "      <td>7.0</td>\n",
       "      <td>Cycle Inspection / Initial Inspection</td>\n",
       "      <td>0.0</td>\n",
       "      <td>0.0</td>\n",
       "      <td>0.0</td>\n",
       "      <td>0.0</td>\n",
       "      <td>...</td>\n",
       "      <td>A</td>\n",
       "      <td>48.0</td>\n",
       "      <td>3</td>\n",
       "      <td>True</td>\n",
       "      <td>False</td>\n",
       "      <td>WENDY'S</td>\n",
       "      <td>Hamburgers</td>\n",
       "      <td>1</td>\n",
       "      <td>309.0</td>\n",
       "      <td>Brooklyn</td>\n",
       "    </tr>\n",
       "    <tr>\n",
       "      <th>3</th>\n",
       "      <td>3</td>\n",
       "      <td>5</td>\n",
       "      <td>30112340</td>\n",
       "      <td>2018-03-13</td>\n",
       "      <td>12.0</td>\n",
       "      <td>Cycle Inspection / Initial Inspection</td>\n",
       "      <td>0.0</td>\n",
       "      <td>0.0</td>\n",
       "      <td>0.0</td>\n",
       "      <td>0.0</td>\n",
       "      <td>...</td>\n",
       "      <td>A</td>\n",
       "      <td>7.0</td>\n",
       "      <td>1</td>\n",
       "      <td>True</td>\n",
       "      <td>True</td>\n",
       "      <td>WENDY'S</td>\n",
       "      <td>Hamburgers</td>\n",
       "      <td>1</td>\n",
       "      <td>309.0</td>\n",
       "      <td>Brooklyn</td>\n",
       "    </tr>\n",
       "    <tr>\n",
       "      <th>4</th>\n",
       "      <td>4</td>\n",
       "      <td>6</td>\n",
       "      <td>30112340</td>\n",
       "      <td>2019-03-04</td>\n",
       "      <td>13.0</td>\n",
       "      <td>Cycle Inspection / Initial Inspection</td>\n",
       "      <td>0.0</td>\n",
       "      <td>0.0</td>\n",
       "      <td>0.0</td>\n",
       "      <td>0.0</td>\n",
       "      <td>...</td>\n",
       "      <td>A</td>\n",
       "      <td>12.0</td>\n",
       "      <td>1</td>\n",
       "      <td>True</td>\n",
       "      <td>True</td>\n",
       "      <td>WENDY'S</td>\n",
       "      <td>Hamburgers</td>\n",
       "      <td>1</td>\n",
       "      <td>309.0</td>\n",
       "      <td>Brooklyn</td>\n",
       "    </tr>\n",
       "  </tbody>\n",
       "</table>\n",
       "<p>5 rows × 83 columns</p>\n",
       "</div>"
      ],
      "text/plain": [
       "   Unnamed: 0  Unnamed: 0.1     CAMIS        DATE  SCORE  \\\n",
       "0           0             1  30075445  2018-05-11    5.0   \n",
       "1           1             2  30075445  2019-05-16   14.0   \n",
       "2           2             4  30112340  2017-06-26    7.0   \n",
       "3           3             5  30112340  2018-03-13   12.0   \n",
       "4           4             6  30112340  2019-03-04   13.0   \n",
       "\n",
       "                         INSPECTION TYPE  02A  02B  02C  02D  ...  GRADE  \\\n",
       "0  Cycle Inspection / Initial Inspection  0.0  0.0  0.0  0.0  ...      A   \n",
       "1  Cycle Inspection / Initial Inspection  0.0  0.0  0.0  0.0  ...      B   \n",
       "2  Cycle Inspection / Initial Inspection  0.0  0.0  0.0  0.0  ...      A   \n",
       "3  Cycle Inspection / Initial Inspection  0.0  0.0  0.0  0.0  ...      A   \n",
       "4  Cycle Inspection / Initial Inspection  0.0  0.0  0.0  0.0  ...      A   \n",
       "\n",
       "   prev_score  prev_critical      A  prev_A                    DBA  \\\n",
       "0         7.0              1   True    True  MORRIS PARK BAKE SHOP   \n",
       "1         5.0              0  False    True  MORRIS PARK BAKE SHOP   \n",
       "2        48.0              3   True   False                WENDY'S   \n",
       "3         7.0              1   True    True                WENDY'S   \n",
       "4        12.0              1   True    True                WENDY'S   \n",
       "\n",
       "   CUISINE DESCRIPTION  is_chain  Community Board      BORO  \n",
       "0               Bakery         0            211.0     Bronx  \n",
       "1               Bakery         0            211.0     Bronx  \n",
       "2           Hamburgers         1            309.0  Brooklyn  \n",
       "3           Hamburgers         1            309.0  Brooklyn  \n",
       "4           Hamburgers         1            309.0  Brooklyn  \n",
       "\n",
       "[5 rows x 83 columns]"
      ]
     },
     "execution_count": 32,
     "metadata": {},
     "output_type": "execute_result"
    }
   ],
   "source": [
    "df_twice_merged=pd.read_csv('twice_merged.csv')\n",
    "df_twice_merged.head()"
   ]
  },
  {
   "cell_type": "code",
   "execution_count": 33,
   "metadata": {},
   "outputs": [
    {
     "name": "stdout",
     "output_type": "stream",
     "text": [
      "<class 'pandas.core.frame.DataFrame'>\n",
      "RangeIndex: 43894 entries, 0 to 43893\n",
      "Data columns (total 6 columns):\n",
      "A                      43894 non-null bool\n",
      "prev_score             43894 non-null float64\n",
      "prev_critical          43894 non-null int64\n",
      "is_chain               43894 non-null int64\n",
      "Community Board        43067 non-null float64\n",
      "CUISINE DESCRIPTION    43894 non-null object\n",
      "dtypes: bool(1), float64(2), int64(2), object(1)\n",
      "memory usage: 1.7+ MB\n"
     ]
    }
   ],
   "source": [
    "df_matrix=df_twice_merged[['A', 'prev_score','prev_critical','is_chain','Community Board','CUISINE DESCRIPTION']]\n",
    "df_matrix.info()\n",
    "\n"
   ]
  },
  {
   "cell_type": "code",
   "execution_count": 34,
   "metadata": {},
   "outputs": [
    {
     "name": "stdout",
     "output_type": "stream",
     "text": [
      "<class 'pandas.core.frame.DataFrame'>\n",
      "Int64Index: 43067 entries, 0 to 43893\n",
      "Data columns (total 6 columns):\n",
      "A                      43067 non-null bool\n",
      "prev_score             43067 non-null float64\n",
      "prev_critical          43067 non-null int64\n",
      "is_chain               43067 non-null int64\n",
      "Community Board        43067 non-null object\n",
      "CUISINE DESCRIPTION    43067 non-null object\n",
      "dtypes: bool(1), float64(1), int64(2), object(2)\n",
      "memory usage: 2.0+ MB\n"
     ]
    },
    {
     "name": "stderr",
     "output_type": "stream",
     "text": [
      "C:\\Users\\kosta\\Anaconda3\\lib\\site-packages\\ipykernel_launcher.py:1: SettingWithCopyWarning: \n",
      "A value is trying to be set on a copy of a slice from a DataFrame\n",
      "\n",
      "See the caveats in the documentation: http://pandas.pydata.org/pandas-docs/stable/indexing.html#indexing-view-versus-copy\n",
      "  \"\"\"Entry point for launching an IPython kernel.\n",
      "C:\\Users\\kosta\\Anaconda3\\lib\\site-packages\\ipykernel_launcher.py:2: SettingWithCopyWarning: \n",
      "A value is trying to be set on a copy of a slice from a DataFrame.\n",
      "Try using .loc[row_indexer,col_indexer] = value instead\n",
      "\n",
      "See the caveats in the documentation: http://pandas.pydata.org/pandas-docs/stable/indexing.html#indexing-view-versus-copy\n",
      "  \n"
     ]
    }
   ],
   "source": [
    "df_matrix.dropna(inplace=True)\n",
    "df_matrix['Community Board']=df_matrix['Community Board'].astype(int).astype(str)\n",
    "df_matrix.info()"
   ]
  },
  {
   "cell_type": "code",
   "execution_count": 35,
   "metadata": {},
   "outputs": [
    {
     "data": {
      "text/html": [
       "<div>\n",
       "<style scoped>\n",
       "    .dataframe tbody tr th:only-of-type {\n",
       "        vertical-align: middle;\n",
       "    }\n",
       "\n",
       "    .dataframe tbody tr th {\n",
       "        vertical-align: top;\n",
       "    }\n",
       "\n",
       "    .dataframe thead th {\n",
       "        text-align: right;\n",
       "    }\n",
       "</style>\n",
       "<table border=\"1\" class=\"dataframe\">\n",
       "  <thead>\n",
       "    <tr style=\"text-align: right;\">\n",
       "      <th></th>\n",
       "      <th>A</th>\n",
       "      <th>prev_score</th>\n",
       "      <th>prev_critical</th>\n",
       "      <th>is_chain</th>\n",
       "      <th>Community Board_101</th>\n",
       "      <th>Community Board_102</th>\n",
       "      <th>Community Board_103</th>\n",
       "      <th>Community Board_104</th>\n",
       "      <th>Community Board_105</th>\n",
       "      <th>Community Board_106</th>\n",
       "      <th>...</th>\n",
       "      <th>CUISINE DESCRIPTION_Soups &amp; Sandwiches</th>\n",
       "      <th>CUISINE DESCRIPTION_Southwestern</th>\n",
       "      <th>CUISINE DESCRIPTION_Spanish</th>\n",
       "      <th>CUISINE DESCRIPTION_Steak</th>\n",
       "      <th>CUISINE DESCRIPTION_Tapas</th>\n",
       "      <th>CUISINE DESCRIPTION_Tex-Mex</th>\n",
       "      <th>CUISINE DESCRIPTION_Thai</th>\n",
       "      <th>CUISINE DESCRIPTION_Turkish</th>\n",
       "      <th>CUISINE DESCRIPTION_Vegetarian</th>\n",
       "      <th>CUISINE DESCRIPTION_Vietnamese/Cambodian/Malaysia</th>\n",
       "    </tr>\n",
       "  </thead>\n",
       "  <tbody>\n",
       "    <tr>\n",
       "      <th>0</th>\n",
       "      <td>True</td>\n",
       "      <td>7.0</td>\n",
       "      <td>1</td>\n",
       "      <td>0</td>\n",
       "      <td>0</td>\n",
       "      <td>0</td>\n",
       "      <td>0</td>\n",
       "      <td>0</td>\n",
       "      <td>0</td>\n",
       "      <td>0</td>\n",
       "      <td>...</td>\n",
       "      <td>0</td>\n",
       "      <td>0</td>\n",
       "      <td>0</td>\n",
       "      <td>0</td>\n",
       "      <td>0</td>\n",
       "      <td>0</td>\n",
       "      <td>0</td>\n",
       "      <td>0</td>\n",
       "      <td>0</td>\n",
       "      <td>0</td>\n",
       "    </tr>\n",
       "    <tr>\n",
       "      <th>1</th>\n",
       "      <td>False</td>\n",
       "      <td>5.0</td>\n",
       "      <td>0</td>\n",
       "      <td>0</td>\n",
       "      <td>0</td>\n",
       "      <td>0</td>\n",
       "      <td>0</td>\n",
       "      <td>0</td>\n",
       "      <td>0</td>\n",
       "      <td>0</td>\n",
       "      <td>...</td>\n",
       "      <td>0</td>\n",
       "      <td>0</td>\n",
       "      <td>0</td>\n",
       "      <td>0</td>\n",
       "      <td>0</td>\n",
       "      <td>0</td>\n",
       "      <td>0</td>\n",
       "      <td>0</td>\n",
       "      <td>0</td>\n",
       "      <td>0</td>\n",
       "    </tr>\n",
       "    <tr>\n",
       "      <th>2</th>\n",
       "      <td>True</td>\n",
       "      <td>48.0</td>\n",
       "      <td>3</td>\n",
       "      <td>1</td>\n",
       "      <td>0</td>\n",
       "      <td>0</td>\n",
       "      <td>0</td>\n",
       "      <td>0</td>\n",
       "      <td>0</td>\n",
       "      <td>0</td>\n",
       "      <td>...</td>\n",
       "      <td>0</td>\n",
       "      <td>0</td>\n",
       "      <td>0</td>\n",
       "      <td>0</td>\n",
       "      <td>0</td>\n",
       "      <td>0</td>\n",
       "      <td>0</td>\n",
       "      <td>0</td>\n",
       "      <td>0</td>\n",
       "      <td>0</td>\n",
       "    </tr>\n",
       "    <tr>\n",
       "      <th>3</th>\n",
       "      <td>True</td>\n",
       "      <td>7.0</td>\n",
       "      <td>1</td>\n",
       "      <td>1</td>\n",
       "      <td>0</td>\n",
       "      <td>0</td>\n",
       "      <td>0</td>\n",
       "      <td>0</td>\n",
       "      <td>0</td>\n",
       "      <td>0</td>\n",
       "      <td>...</td>\n",
       "      <td>0</td>\n",
       "      <td>0</td>\n",
       "      <td>0</td>\n",
       "      <td>0</td>\n",
       "      <td>0</td>\n",
       "      <td>0</td>\n",
       "      <td>0</td>\n",
       "      <td>0</td>\n",
       "      <td>0</td>\n",
       "      <td>0</td>\n",
       "    </tr>\n",
       "    <tr>\n",
       "      <th>4</th>\n",
       "      <td>True</td>\n",
       "      <td>12.0</td>\n",
       "      <td>1</td>\n",
       "      <td>1</td>\n",
       "      <td>0</td>\n",
       "      <td>0</td>\n",
       "      <td>0</td>\n",
       "      <td>0</td>\n",
       "      <td>0</td>\n",
       "      <td>0</td>\n",
       "      <td>...</td>\n",
       "      <td>0</td>\n",
       "      <td>0</td>\n",
       "      <td>0</td>\n",
       "      <td>0</td>\n",
       "      <td>0</td>\n",
       "      <td>0</td>\n",
       "      <td>0</td>\n",
       "      <td>0</td>\n",
       "      <td>0</td>\n",
       "      <td>0</td>\n",
       "    </tr>\n",
       "  </tbody>\n",
       "</table>\n",
       "<p>5 rows × 157 columns</p>\n",
       "</div>"
      ],
      "text/plain": [
       "       A  prev_score  prev_critical  is_chain  Community Board_101  \\\n",
       "0   True         7.0              1         0                    0   \n",
       "1  False         5.0              0         0                    0   \n",
       "2   True        48.0              3         1                    0   \n",
       "3   True         7.0              1         1                    0   \n",
       "4   True        12.0              1         1                    0   \n",
       "\n",
       "   Community Board_102  Community Board_103  Community Board_104  \\\n",
       "0                    0                    0                    0   \n",
       "1                    0                    0                    0   \n",
       "2                    0                    0                    0   \n",
       "3                    0                    0                    0   \n",
       "4                    0                    0                    0   \n",
       "\n",
       "   Community Board_105  Community Board_106  ...  \\\n",
       "0                    0                    0  ...   \n",
       "1                    0                    0  ...   \n",
       "2                    0                    0  ...   \n",
       "3                    0                    0  ...   \n",
       "4                    0                    0  ...   \n",
       "\n",
       "   CUISINE DESCRIPTION_Soups & Sandwiches  CUISINE DESCRIPTION_Southwestern  \\\n",
       "0                                       0                                 0   \n",
       "1                                       0                                 0   \n",
       "2                                       0                                 0   \n",
       "3                                       0                                 0   \n",
       "4                                       0                                 0   \n",
       "\n",
       "   CUISINE DESCRIPTION_Spanish  CUISINE DESCRIPTION_Steak  \\\n",
       "0                            0                          0   \n",
       "1                            0                          0   \n",
       "2                            0                          0   \n",
       "3                            0                          0   \n",
       "4                            0                          0   \n",
       "\n",
       "   CUISINE DESCRIPTION_Tapas  CUISINE DESCRIPTION_Tex-Mex  \\\n",
       "0                          0                            0   \n",
       "1                          0                            0   \n",
       "2                          0                            0   \n",
       "3                          0                            0   \n",
       "4                          0                            0   \n",
       "\n",
       "   CUISINE DESCRIPTION_Thai  CUISINE DESCRIPTION_Turkish  \\\n",
       "0                         0                            0   \n",
       "1                         0                            0   \n",
       "2                         0                            0   \n",
       "3                         0                            0   \n",
       "4                         0                            0   \n",
       "\n",
       "   CUISINE DESCRIPTION_Vegetarian  \\\n",
       "0                               0   \n",
       "1                               0   \n",
       "2                               0   \n",
       "3                               0   \n",
       "4                               0   \n",
       "\n",
       "   CUISINE DESCRIPTION_Vietnamese/Cambodian/Malaysia  \n",
       "0                                                  0  \n",
       "1                                                  0  \n",
       "2                                                  0  \n",
       "3                                                  0  \n",
       "4                                                  0  \n",
       "\n",
       "[5 rows x 157 columns]"
      ]
     },
     "execution_count": 35,
     "metadata": {},
     "output_type": "execute_result"
    }
   ],
   "source": [
    "df_matrix_sparse=pd.get_dummies(df_matrix)\n",
    "df_matrix_sparse.head()"
   ]
  },
  {
   "cell_type": "code",
   "execution_count": 36,
   "metadata": {},
   "outputs": [],
   "source": [
    "X=df_matrix_sparse.drop(columns=['A'])\n",
    "y=df_matrix_sparse['A']"
   ]
  },
  {
   "cell_type": "code",
   "execution_count": 37,
   "metadata": {},
   "outputs": [],
   "source": [
    "import itertools\n",
    "def show_cf(y_true, y_pred, class_names=None, model_name=None):\n",
    "    '''Stylized Visual Confusion Matrix provided by Flatiron School'''\n",
    "    cf = confusion_matrix(y_true, y_pred)\n",
    "    plt.imshow(cf, cmap=plt.cm.Blues)\n",
    "    \n",
    "    if model_name:\n",
    "        plt.title(\"Confusion Matrix: {}\".format(model_name))\n",
    "    else:\n",
    "        plt.title(\"Confusion Matrix\")\n",
    "    plt.ylabel('True Label')\n",
    "    plt.xlabel('Predicted Label')\n",
    "    \n",
    "#     class_names = set(y_true)\n",
    "    tick_marks = np.arange(len(class_names))\n",
    "    if class_names:\n",
    "        plt.xticks(tick_marks, class_names)\n",
    "        plt.yticks(tick_marks, class_names)\n",
    "    \n",
    "    thresh = cf.max() / 2.\n",
    "    \n",
    "    for i, j in itertools.product(range(cf.shape[0]), range(cf.shape[1])):\n",
    "        plt.text(j, i, cf[i, j], horizontalalignment='center', color='white' if cf[i, j] > thresh else 'black')\n",
    "\n",
    "    plt.colorbar()\n",
    "    "
   ]
  },
  {
   "cell_type": "code",
   "execution_count": 38,
   "metadata": {},
   "outputs": [],
   "source": [
    "from sklearn.model_selection import train_test_split\n",
    "X_train, X_test,y_train, y_test=train_test_split(X,y,test_size=0.2)"
   ]
  },
  {
   "cell_type": "code",
   "execution_count": 64,
   "metadata": {
    "scrolled": true
   },
   "outputs": [
    {
     "data": {
      "text/plain": [
       "AdaBoostClassifier(algorithm='SAMME.R', base_estimator=None, learning_rate=1.0,\n",
       "                   n_estimators=50, random_state=None)"
      ]
     },
     "execution_count": 64,
     "metadata": {},
     "output_type": "execute_result"
    }
   ],
   "source": [
    "from sklearn.ensemble import AdaBoostClassifier\n",
    "ada_base=AdaBoostClassifier()\n",
    "ada_base.fit(X_train,y_train)"
   ]
  },
  {
   "cell_type": "code",
   "execution_count": 65,
   "metadata": {},
   "outputs": [
    {
     "name": "stdout",
     "output_type": "stream",
     "text": [
      "              precision    recall  f1-score   support\n",
      "\n",
      "       False       0.58      0.43      0.49      3490\n",
      "        True       0.67      0.79      0.72      5124\n",
      "\n",
      "    accuracy                           0.64      8614\n",
      "   macro avg       0.62      0.61      0.61      8614\n",
      "weighted avg       0.63      0.64      0.63      8614\n",
      "\n"
     ]
    },
    {
     "data": {
      "image/png": "[encoded data removed]",
      "text/plain": [
       "<Figure size 432x288 with 2 Axes>"
      ]
     },
     "metadata": {
      "needs_background": "light"
     },
     "output_type": "display_data"
    }
   ],
   "source": [
    "y_pred = ada_base.predict(X_test)\n",
    "from sklearn.metrics import confusion_matrix, classification_report\n",
    "\n",
    "\n",
    "print(classification_report(y_test,y_pred))\n",
    "show_cf(y_test,y_pred,class_names=['Not A','A'],model_name='Initial ADA Boost Clasifier')"
   ]
  },
  {
   "cell_type": "code",
   "execution_count": null,
   "metadata": {},
   "outputs": [],
   "source": []
  },
  {
   "cell_type": "code",
   "execution_count": 43,
   "metadata": {},
   "outputs": [],
   "source": [
    "from imblearn.over_sampling import SMOTE\n",
    "X_resampled, y_resampled = SMOTE().fit_sample(X, y) "
   ]
  },
  {
   "cell_type": "code",
   "execution_count": 44,
   "metadata": {},
   "outputs": [],
   "source": [
    "from sklearn.model_selection import train_test_split\n",
    "X_resampled_train, X_resampled_test,y_resampled_train, y_resampled_test=train_test_split(X_resampled,y_resampled,test_size=0.2)"
   ]
  },
  {
   "cell_type": "code",
   "execution_count": 45,
   "metadata": {
    "scrolled": true
   },
   "outputs": [
    {
     "name": "stdout",
     "output_type": "stream",
     "text": [
      "Fitting 3 folds for each of 15 candidates, totalling 45 fits\n",
      "[CV] learning_rate=1.0, n_estimators=30 ..............................\n"
     ]
    },
    {
     "name": "stderr",
     "output_type": "stream",
     "text": [
      "[Parallel(n_jobs=1)]: Using backend SequentialBackend with 1 concurrent workers.\n"
     ]
    },
    {
     "name": "stdout",
     "output_type": "stream",
     "text": [
      "[CV] ............... learning_rate=1.0, n_estimators=30, total=   3.1s\n",
      "[CV] learning_rate=1.0, n_estimators=30 ..............................\n"
     ]
    },
    {
     "name": "stderr",
     "output_type": "stream",
     "text": [
      "[Parallel(n_jobs=1)]: Done   1 out of   1 | elapsed:    3.0s remaining:    0.0s\n"
     ]
    },
    {
     "name": "stdout",
     "output_type": "stream",
     "text": [
      "[CV] ............... learning_rate=1.0, n_estimators=30, total=   3.0s\n",
      "[CV] learning_rate=1.0, n_estimators=30 ..............................\n",
      "[CV] ............... learning_rate=1.0, n_estimators=30, total=   3.0s\n",
      "[CV] learning_rate=1.0, n_estimators=50 ..............................\n",
      "[CV] ............... learning_rate=1.0, n_estimators=50, total=   5.0s\n",
      "[CV] learning_rate=1.0, n_estimators=50 ..............................\n",
      "[CV] ............... learning_rate=1.0, n_estimators=50, total=   4.9s\n",
      "[CV] learning_rate=1.0, n_estimators=50 ..............................\n",
      "[CV] ............... learning_rate=1.0, n_estimators=50, total=   5.1s\n",
      "[CV] learning_rate=1.0, n_estimators=70 ..............................\n",
      "[CV] ............... learning_rate=1.0, n_estimators=70, total=   7.0s\n",
      "[CV] learning_rate=1.0, n_estimators=70 ..............................\n",
      "[CV] ............... learning_rate=1.0, n_estimators=70, total=   7.1s\n",
      "[CV] learning_rate=1.0, n_estimators=70 ..............................\n",
      "[CV] ............... learning_rate=1.0, n_estimators=70, total=   7.1s\n",
      "[CV] learning_rate=1.0, n_estimators=100 .............................\n",
      "[CV] .............. learning_rate=1.0, n_estimators=100, total=  10.0s\n",
      "[CV] learning_rate=1.0, n_estimators=100 .............................\n",
      "[CV] .............. learning_rate=1.0, n_estimators=100, total=  10.0s\n",
      "[CV] learning_rate=1.0, n_estimators=100 .............................\n",
      "[CV] .............. learning_rate=1.0, n_estimators=100, total=   9.8s\n",
      "[CV] learning_rate=1.0, n_estimators=150 .............................\n",
      "[CV] .............. learning_rate=1.0, n_estimators=150, total=  14.9s\n",
      "[CV] learning_rate=1.0, n_estimators=150 .............................\n",
      "[CV] .............. learning_rate=1.0, n_estimators=150, total=  14.9s\n",
      "[CV] learning_rate=1.0, n_estimators=150 .............................\n",
      "[CV] .............. learning_rate=1.0, n_estimators=150, total=  14.6s\n",
      "[CV] learning_rate=0.5, n_estimators=30 ..............................\n",
      "[CV] ............... learning_rate=0.5, n_estimators=30, total=   3.1s\n",
      "[CV] learning_rate=0.5, n_estimators=30 ..............................\n",
      "[CV] ............... learning_rate=0.5, n_estimators=30, total=   3.0s\n",
      "[CV] learning_rate=0.5, n_estimators=30 ..............................\n",
      "[CV] ............... learning_rate=0.5, n_estimators=30, total=   3.0s\n",
      "[CV] learning_rate=0.5, n_estimators=50 ..............................\n",
      "[CV] ............... learning_rate=0.5, n_estimators=50, total=   5.0s\n",
      "[CV] learning_rate=0.5, n_estimators=50 ..............................\n",
      "[CV] ............... learning_rate=0.5, n_estimators=50, total=   5.1s\n",
      "[CV] learning_rate=0.5, n_estimators=50 ..............................\n",
      "[CV] ............... learning_rate=0.5, n_estimators=50, total=   5.0s\n",
      "[CV] learning_rate=0.5, n_estimators=70 ..............................\n",
      "[CV] ............... learning_rate=0.5, n_estimators=70, total=   7.1s\n",
      "[CV] learning_rate=0.5, n_estimators=70 ..............................\n",
      "[CV] ............... learning_rate=0.5, n_estimators=70, total=   7.1s\n",
      "[CV] learning_rate=0.5, n_estimators=70 ..............................\n",
      "[CV] ............... learning_rate=0.5, n_estimators=70, total=   7.1s\n",
      "[CV] learning_rate=0.5, n_estimators=100 .............................\n",
      "[CV] .............. learning_rate=0.5, n_estimators=100, total=  10.3s\n",
      "[CV] learning_rate=0.5, n_estimators=100 .............................\n",
      "[CV] .............. learning_rate=0.5, n_estimators=100, total=  10.0s\n",
      "[CV] learning_rate=0.5, n_estimators=100 .............................\n",
      "[CV] .............. learning_rate=0.5, n_estimators=100, total=  10.1s\n",
      "[CV] learning_rate=0.5, n_estimators=150 .............................\n",
      "[CV] .............. learning_rate=0.5, n_estimators=150, total=  15.2s\n",
      "[CV] learning_rate=0.5, n_estimators=150 .............................\n",
      "[CV] .............. learning_rate=0.5, n_estimators=150, total=  14.6s\n",
      "[CV] learning_rate=0.5, n_estimators=150 .............................\n",
      "[CV] .............. learning_rate=0.5, n_estimators=150, total=  14.7s\n",
      "[CV] learning_rate=0.1, n_estimators=30 ..............................\n",
      "[CV] ............... learning_rate=0.1, n_estimators=30, total=   3.1s\n",
      "[CV] learning_rate=0.1, n_estimators=30 ..............................\n",
      "[CV] ............... learning_rate=0.1, n_estimators=30, total=   3.0s\n",
      "[CV] learning_rate=0.1, n_estimators=30 ..............................\n",
      "[CV] ............... learning_rate=0.1, n_estimators=30, total=   3.1s\n",
      "[CV] learning_rate=0.1, n_estimators=50 ..............................\n",
      "[CV] ............... learning_rate=0.1, n_estimators=50, total=   5.1s\n",
      "[CV] learning_rate=0.1, n_estimators=50 ..............................\n",
      "[CV] ............... learning_rate=0.1, n_estimators=50, total=   5.0s\n",
      "[CV] learning_rate=0.1, n_estimators=50 ..............................\n",
      "[CV] ............... learning_rate=0.1, n_estimators=50, total=   5.1s\n",
      "[CV] learning_rate=0.1, n_estimators=70 ..............................\n",
      "[CV] ............... learning_rate=0.1, n_estimators=70, total=   7.0s\n",
      "[CV] learning_rate=0.1, n_estimators=70 ..............................\n",
      "[CV] ............... learning_rate=0.1, n_estimators=70, total=   7.1s\n",
      "[CV] learning_rate=0.1, n_estimators=70 ..............................\n",
      "[CV] ............... learning_rate=0.1, n_estimators=70, total=   6.9s\n",
      "[CV] learning_rate=0.1, n_estimators=100 .............................\n",
      "[CV] .............. learning_rate=0.1, n_estimators=100, total=  10.0s\n",
      "[CV] learning_rate=0.1, n_estimators=100 .............................\n",
      "[CV] .............. learning_rate=0.1, n_estimators=100, total=  10.1s\n",
      "[CV] learning_rate=0.1, n_estimators=100 .............................\n",
      "[CV] .............. learning_rate=0.1, n_estimators=100, total=  10.0s\n",
      "[CV] learning_rate=0.1, n_estimators=150 .............................\n",
      "[CV] .............. learning_rate=0.1, n_estimators=150, total=  14.6s\n",
      "[CV] learning_rate=0.1, n_estimators=150 .............................\n",
      "[CV] .............. learning_rate=0.1, n_estimators=150, total=  15.0s\n",
      "[CV] learning_rate=0.1, n_estimators=150 .............................\n",
      "[CV] .............. learning_rate=0.1, n_estimators=150, total=  14.7s\n"
     ]
    },
    {
     "name": "stderr",
     "output_type": "stream",
     "text": [
      "[Parallel(n_jobs=1)]: Done  45 out of  45 | elapsed:  6.0min finished\n"
     ]
    },
    {
     "data": {
      "text/plain": [
       "GridSearchCV(cv=3, error_score='raise-deprecating',\n",
       "             estimator=AdaBoostClassifier(algorithm='SAMME.R',\n",
       "                                          base_estimator=None,\n",
       "                                          learning_rate=1.0, n_estimators=50,\n",
       "                                          random_state=None),\n",
       "             iid='warn', n_jobs=None,\n",
       "             param_grid={'learning_rate': [1.0, 0.5, 0.1],\n",
       "                         'n_estimators': [30, 50, 70, 100, 150]},\n",
       "             pre_dispatch='2*n_jobs', refit=True, return_train_score=False,\n",
       "             scoring=None, verbose=2)"
      ]
     },
     "execution_count": 45,
     "metadata": {},
     "output_type": "execute_result"
    }
   ],
   "source": [
    "from sklearn.model_selection import GridSearchCV\n",
    "from sklearn.ensemble import AdaBoostClassifier\n",
    "param_grid_ada={'n_estimators': [30, 50, 70,100,150],\n",
    "                'learning_rate': [1.0, 0.5, 0.1]}\n",
    "grid_ada_res=GridSearchCV(estimator=AdaBoostClassifier(),\n",
    "                     param_grid=param_grid_ada,\n",
    "                     cv=3,\n",
    "                     verbose=2)\n",
    "grid_ada_res.fit(X_resampled_train,y_resampled_train)"
   ]
  },
  {
   "cell_type": "code",
   "execution_count": 46,
   "metadata": {},
   "outputs": [
    {
     "data": {
      "text/plain": [
       "{'learning_rate': 1.0, 'n_estimators': 150}"
      ]
     },
     "execution_count": 46,
     "metadata": {},
     "output_type": "execute_result"
    }
   ],
   "source": [
    "grid_ada_res.best_params_"
   ]
  },
  {
   "cell_type": "code",
   "execution_count": 47,
   "metadata": {},
   "outputs": [
    {
     "data": {
      "text/plain": [
       "0.641915438040697"
      ]
     },
     "execution_count": 47,
     "metadata": {},
     "output_type": "execute_result"
    }
   ],
   "source": [
    "grid_ada_res.best_score_"
   ]
  },
  {
   "cell_type": "code",
   "execution_count": 48,
   "metadata": {},
   "outputs": [
    {
     "name": "stdout",
     "output_type": "stream",
     "text": [
      "              precision    recall  f1-score   support\n",
      "\n",
      "       False       0.65      0.66      0.65      5110\n",
      "        True       0.65      0.64      0.65      5149\n",
      "\n",
      "    accuracy                           0.65     10259\n",
      "   macro avg       0.65      0.65      0.65     10259\n",
      "weighted avg       0.65      0.65      0.65     10259\n",
      "\n"
     ]
    },
    {
     "data": {
      "image/png": "[encoded data removed]",
      "text/plain": [
       "<Figure size 432x288 with 2 Axes>"
      ]
     },
     "metadata": {
      "needs_background": "light"
     },
     "output_type": "display_data"
    }
   ],
   "source": [
    "y_res_pred = grid_ada_res.best_estimator_.predict(X_resampled_test)\n",
    "from sklearn.metrics import confusion_matrix, classification_report\n",
    "\n",
    "print(classification_report(y_resampled_test,y_res_pred))\n",
    "show_cf(y_test,y_pred,class_names=['Not A','A'],model_name='Resampled ADABoost Classifier')"
   ]
  },
  {
   "cell_type": "code",
   "execution_count": null,
   "metadata": {},
   "outputs": [],
   "source": []
  },
  {
   "cell_type": "code",
   "execution_count": 49,
   "metadata": {
    "scrolled": true
   },
   "outputs": [
    {
     "name": "stdout",
     "output_type": "stream",
     "text": [
      "Fitting 3 folds for each of 54 candidates, totalling 162 fits\n",
      "[CV] learning_rate=0.3, max_depth=5, min_child_weight=0, n_estimators=10 \n"
     ]
    },
    {
     "name": "stderr",
     "output_type": "stream",
     "text": [
      "[Parallel(n_jobs=1)]: Using backend SequentialBackend with 1 concurrent workers.\n"
     ]
    },
    {
     "name": "stdout",
     "output_type": "stream",
     "text": [
      "[CV]  learning_rate=0.3, max_depth=5, min_child_weight=0, n_estimators=10, total=   3.6s\n",
      "[CV] learning_rate=0.3, max_depth=5, min_child_weight=0, n_estimators=10 \n"
     ]
    },
    {
     "name": "stderr",
     "output_type": "stream",
     "text": [
      "[Parallel(n_jobs=1)]: Done   1 out of   1 | elapsed:    3.5s remaining:    0.0s\n"
     ]
    },
    {
     "name": "stdout",
     "output_type": "stream",
     "text": [
      "[CV]  learning_rate=0.3, max_depth=5, min_child_weight=0, n_estimators=10, total=   1.9s\n",
      "[CV] learning_rate=0.3, max_depth=5, min_child_weight=0, n_estimators=10 \n",
      "[CV]  learning_rate=0.3, max_depth=5, min_child_weight=0, n_estimators=10, total=   1.9s\n",
      "[CV] learning_rate=0.3, max_depth=5, min_child_weight=0, n_estimators=100 \n",
      "[CV]  learning_rate=0.3, max_depth=5, min_child_weight=0, n_estimators=100, total=  16.1s\n",
      "[CV] learning_rate=0.3, max_depth=5, min_child_weight=0, n_estimators=100 \n",
      "[CV]  learning_rate=0.3, max_depth=5, min_child_weight=0, n_estimators=100, total=  16.0s\n",
      "[CV] learning_rate=0.3, max_depth=5, min_child_weight=0, n_estimators=100 \n",
      "[CV]  learning_rate=0.3, max_depth=5, min_child_weight=0, n_estimators=100, total=  15.9s\n",
      "[CV] learning_rate=0.3, max_depth=5, min_child_weight=1, n_estimators=10 \n",
      "[CV]  learning_rate=0.3, max_depth=5, min_child_weight=1, n_estimators=10, total=   1.9s\n",
      "[CV] learning_rate=0.3, max_depth=5, min_child_weight=1, n_estimators=10 \n",
      "[CV]  learning_rate=0.3, max_depth=5, min_child_weight=1, n_estimators=10, total=   1.9s\n",
      "[CV] learning_rate=0.3, max_depth=5, min_child_weight=1, n_estimators=10 \n",
      "[CV]  learning_rate=0.3, max_depth=5, min_child_weight=1, n_estimators=10, total=   1.8s\n",
      "[CV] learning_rate=0.3, max_depth=5, min_child_weight=1, n_estimators=100 \n",
      "[CV]  learning_rate=0.3, max_depth=5, min_child_weight=1, n_estimators=100, total=  15.9s\n",
      "[CV] learning_rate=0.3, max_depth=5, min_child_weight=1, n_estimators=100 \n",
      "[CV]  learning_rate=0.3, max_depth=5, min_child_weight=1, n_estimators=100, total=  15.9s\n",
      "[CV] learning_rate=0.3, max_depth=5, min_child_weight=1, n_estimators=100 \n",
      "[CV]  learning_rate=0.3, max_depth=5, min_child_weight=1, n_estimators=100, total=  16.0s\n",
      "[CV] learning_rate=0.3, max_depth=5, min_child_weight=3, n_estimators=10 \n",
      "[CV]  learning_rate=0.3, max_depth=5, min_child_weight=3, n_estimators=10, total=   1.8s\n",
      "[CV] learning_rate=0.3, max_depth=5, min_child_weight=3, n_estimators=10 \n",
      "[CV]  learning_rate=0.3, max_depth=5, min_child_weight=3, n_estimators=10, total=   1.8s\n",
      "[CV] learning_rate=0.3, max_depth=5, min_child_weight=3, n_estimators=10 \n",
      "[CV]  learning_rate=0.3, max_depth=5, min_child_weight=3, n_estimators=10, total=   1.8s\n",
      "[CV] learning_rate=0.3, max_depth=5, min_child_weight=3, n_estimators=100 \n",
      "[CV]  learning_rate=0.3, max_depth=5, min_child_weight=3, n_estimators=100, total=  16.3s\n",
      "[CV] learning_rate=0.3, max_depth=5, min_child_weight=3, n_estimators=100 \n",
      "[CV]  learning_rate=0.3, max_depth=5, min_child_weight=3, n_estimators=100, total=  16.1s\n",
      "[CV] learning_rate=0.3, max_depth=5, min_child_weight=3, n_estimators=100 \n",
      "[CV]  learning_rate=0.3, max_depth=5, min_child_weight=3, n_estimators=100, total=  15.9s\n",
      "[CV] learning_rate=0.3, max_depth=6, min_child_weight=0, n_estimators=10 \n",
      "[CV]  learning_rate=0.3, max_depth=6, min_child_weight=0, n_estimators=10, total=   2.1s\n",
      "[CV] learning_rate=0.3, max_depth=6, min_child_weight=0, n_estimators=10 \n",
      "[CV]  learning_rate=0.3, max_depth=6, min_child_weight=0, n_estimators=10, total=   2.1s\n",
      "[CV] learning_rate=0.3, max_depth=6, min_child_weight=0, n_estimators=10 \n",
      "[CV]  learning_rate=0.3, max_depth=6, min_child_weight=0, n_estimators=10, total=   2.1s\n",
      "[CV] learning_rate=0.3, max_depth=6, min_child_weight=0, n_estimators=100 \n",
      "[CV]  learning_rate=0.3, max_depth=6, min_child_weight=0, n_estimators=100, total=  18.2s\n",
      "[CV] learning_rate=0.3, max_depth=6, min_child_weight=0, n_estimators=100 \n",
      "[CV]  learning_rate=0.3, max_depth=6, min_child_weight=0, n_estimators=100, total=  18.3s\n",
      "[CV] learning_rate=0.3, max_depth=6, min_child_weight=0, n_estimators=100 \n",
      "[CV]  learning_rate=0.3, max_depth=6, min_child_weight=0, n_estimators=100, total=  18.5s\n",
      "[CV] learning_rate=0.3, max_depth=6, min_child_weight=1, n_estimators=10 \n",
      "[CV]  learning_rate=0.3, max_depth=6, min_child_weight=1, n_estimators=10, total=   2.1s\n",
      "[CV] learning_rate=0.3, max_depth=6, min_child_weight=1, n_estimators=10 \n",
      "[CV]  learning_rate=0.3, max_depth=6, min_child_weight=1, n_estimators=10, total=   2.1s\n",
      "[CV] learning_rate=0.3, max_depth=6, min_child_weight=1, n_estimators=10 \n",
      "[CV]  learning_rate=0.3, max_depth=6, min_child_weight=1, n_estimators=10, total=   2.1s\n",
      "[CV] learning_rate=0.3, max_depth=6, min_child_weight=1, n_estimators=100 \n",
      "[CV]  learning_rate=0.3, max_depth=6, min_child_weight=1, n_estimators=100, total=  18.3s\n",
      "[CV] learning_rate=0.3, max_depth=6, min_child_weight=1, n_estimators=100 \n",
      "[CV]  learning_rate=0.3, max_depth=6, min_child_weight=1, n_estimators=100, total=  18.1s\n",
      "[CV] learning_rate=0.3, max_depth=6, min_child_weight=1, n_estimators=100 \n",
      "[CV]  learning_rate=0.3, max_depth=6, min_child_weight=1, n_estimators=100, total=  18.3s\n",
      "[CV] learning_rate=0.3, max_depth=6, min_child_weight=3, n_estimators=10 \n",
      "[CV]  learning_rate=0.3, max_depth=6, min_child_weight=3, n_estimators=10, total=   2.1s\n",
      "[CV] learning_rate=0.3, max_depth=6, min_child_weight=3, n_estimators=10 \n",
      "[CV]  learning_rate=0.3, max_depth=6, min_child_weight=3, n_estimators=10, total=   2.1s\n",
      "[CV] learning_rate=0.3, max_depth=6, min_child_weight=3, n_estimators=10 \n",
      "[CV]  learning_rate=0.3, max_depth=6, min_child_weight=3, n_estimators=10, total=   2.1s\n",
      "[CV] learning_rate=0.3, max_depth=6, min_child_weight=3, n_estimators=100 \n",
      "[CV]  learning_rate=0.3, max_depth=6, min_child_weight=3, n_estimators=100, total=  18.1s\n",
      "[CV] learning_rate=0.3, max_depth=6, min_child_weight=3, n_estimators=100 \n",
      "[CV]  learning_rate=0.3, max_depth=6, min_child_weight=3, n_estimators=100, total=  18.2s\n",
      "[CV] learning_rate=0.3, max_depth=6, min_child_weight=3, n_estimators=100 \n",
      "[CV]  learning_rate=0.3, max_depth=6, min_child_weight=3, n_estimators=100, total=  18.3s\n",
      "[CV] learning_rate=0.3, max_depth=7, min_child_weight=0, n_estimators=10 \n",
      "[CV]  learning_rate=0.3, max_depth=7, min_child_weight=0, n_estimators=10, total=   2.3s\n",
      "[CV] learning_rate=0.3, max_depth=7, min_child_weight=0, n_estimators=10 \n",
      "[CV]  learning_rate=0.3, max_depth=7, min_child_weight=0, n_estimators=10, total=   2.3s\n",
      "[CV] learning_rate=0.3, max_depth=7, min_child_weight=0, n_estimators=10 \n",
      "[CV]  learning_rate=0.3, max_depth=7, min_child_weight=0, n_estimators=10, total=   2.4s\n",
      "[CV] learning_rate=0.3, max_depth=7, min_child_weight=0, n_estimators=100 \n",
      "[CV]  learning_rate=0.3, max_depth=7, min_child_weight=0, n_estimators=100, total=  20.8s\n",
      "[CV] learning_rate=0.3, max_depth=7, min_child_weight=0, n_estimators=100 \n",
      "[CV]  learning_rate=0.3, max_depth=7, min_child_weight=0, n_estimators=100, total=  20.8s\n",
      "[CV] learning_rate=0.3, max_depth=7, min_child_weight=0, n_estimators=100 \n",
      "[CV]  learning_rate=0.3, max_depth=7, min_child_weight=0, n_estimators=100, total=  20.7s\n",
      "[CV] learning_rate=0.3, max_depth=7, min_child_weight=1, n_estimators=10 \n",
      "[CV]  learning_rate=0.3, max_depth=7, min_child_weight=1, n_estimators=10, total=   2.3s\n",
      "[CV] learning_rate=0.3, max_depth=7, min_child_weight=1, n_estimators=10 \n",
      "[CV]  learning_rate=0.3, max_depth=7, min_child_weight=1, n_estimators=10, total=   2.4s\n",
      "[CV] learning_rate=0.3, max_depth=7, min_child_weight=1, n_estimators=10 \n",
      "[CV]  learning_rate=0.3, max_depth=7, min_child_weight=1, n_estimators=10, total=   2.3s\n",
      "[CV] learning_rate=0.3, max_depth=7, min_child_weight=1, n_estimators=100 \n",
      "[CV]  learning_rate=0.3, max_depth=7, min_child_weight=1, n_estimators=100, total=  20.9s\n",
      "[CV] learning_rate=0.3, max_depth=7, min_child_weight=1, n_estimators=100 \n",
      "[CV]  learning_rate=0.3, max_depth=7, min_child_weight=1, n_estimators=100, total=  20.5s\n",
      "[CV] learning_rate=0.3, max_depth=7, min_child_weight=1, n_estimators=100 \n",
      "[CV]  learning_rate=0.3, max_depth=7, min_child_weight=1, n_estimators=100, total=  20.4s\n",
      "[CV] learning_rate=0.3, max_depth=7, min_child_weight=3, n_estimators=10 \n",
      "[CV]  learning_rate=0.3, max_depth=7, min_child_weight=3, n_estimators=10, total=   2.3s\n",
      "[CV] learning_rate=0.3, max_depth=7, min_child_weight=3, n_estimators=10 \n",
      "[CV]  learning_rate=0.3, max_depth=7, min_child_weight=3, n_estimators=10, total=   2.3s\n",
      "[CV] learning_rate=0.3, max_depth=7, min_child_weight=3, n_estimators=10 \n",
      "[CV]  learning_rate=0.3, max_depth=7, min_child_weight=3, n_estimators=10, total=   2.4s\n",
      "[CV] learning_rate=0.3, max_depth=7, min_child_weight=3, n_estimators=100 \n"
     ]
    },
    {
     "name": "stdout",
     "output_type": "stream",
     "text": [
      "[CV]  learning_rate=0.3, max_depth=7, min_child_weight=3, n_estimators=100, total=  20.5s\n",
      "[CV] learning_rate=0.3, max_depth=7, min_child_weight=3, n_estimators=100 \n",
      "[CV]  learning_rate=0.3, max_depth=7, min_child_weight=3, n_estimators=100, total=  20.6s\n",
      "[CV] learning_rate=0.3, max_depth=7, min_child_weight=3, n_estimators=100 \n",
      "[CV]  learning_rate=0.3, max_depth=7, min_child_weight=3, n_estimators=100, total=  20.5s\n",
      "[CV] learning_rate=0.5, max_depth=5, min_child_weight=0, n_estimators=10 \n",
      "[CV]  learning_rate=0.5, max_depth=5, min_child_weight=0, n_estimators=10, total=   1.8s\n",
      "[CV] learning_rate=0.5, max_depth=5, min_child_weight=0, n_estimators=10 \n",
      "[CV]  learning_rate=0.5, max_depth=5, min_child_weight=0, n_estimators=10, total=   1.8s\n",
      "[CV] learning_rate=0.5, max_depth=5, min_child_weight=0, n_estimators=10 \n",
      "[CV]  learning_rate=0.5, max_depth=5, min_child_weight=0, n_estimators=10, total=   1.9s\n",
      "[CV] learning_rate=0.5, max_depth=5, min_child_weight=0, n_estimators=100 \n",
      "[CV]  learning_rate=0.5, max_depth=5, min_child_weight=0, n_estimators=100, total=  16.0s\n",
      "[CV] learning_rate=0.5, max_depth=5, min_child_weight=0, n_estimators=100 \n",
      "[CV]  learning_rate=0.5, max_depth=5, min_child_weight=0, n_estimators=100, total=  15.9s\n",
      "[CV] learning_rate=0.5, max_depth=5, min_child_weight=0, n_estimators=100 \n",
      "[CV]  learning_rate=0.5, max_depth=5, min_child_weight=0, n_estimators=100, total=  16.1s\n",
      "[CV] learning_rate=0.5, max_depth=5, min_child_weight=1, n_estimators=10 \n",
      "[CV]  learning_rate=0.5, max_depth=5, min_child_weight=1, n_estimators=10, total=   1.8s\n",
      "[CV] learning_rate=0.5, max_depth=5, min_child_weight=1, n_estimators=10 \n",
      "[CV]  learning_rate=0.5, max_depth=5, min_child_weight=1, n_estimators=10, total=   1.9s\n",
      "[CV] learning_rate=0.5, max_depth=5, min_child_weight=1, n_estimators=10 \n",
      "[CV]  learning_rate=0.5, max_depth=5, min_child_weight=1, n_estimators=10, total=   1.8s\n",
      "[CV] learning_rate=0.5, max_depth=5, min_child_weight=1, n_estimators=100 \n",
      "[CV]  learning_rate=0.5, max_depth=5, min_child_weight=1, n_estimators=100, total=  15.9s\n",
      "[CV] learning_rate=0.5, max_depth=5, min_child_weight=1, n_estimators=100 \n",
      "[CV]  learning_rate=0.5, max_depth=5, min_child_weight=1, n_estimators=100, total=  16.0s\n",
      "[CV] learning_rate=0.5, max_depth=5, min_child_weight=1, n_estimators=100 \n",
      "[CV]  learning_rate=0.5, max_depth=5, min_child_weight=1, n_estimators=100, total=  15.8s\n",
      "[CV] learning_rate=0.5, max_depth=5, min_child_weight=3, n_estimators=10 \n",
      "[CV]  learning_rate=0.5, max_depth=5, min_child_weight=3, n_estimators=10, total=   1.8s\n",
      "[CV] learning_rate=0.5, max_depth=5, min_child_weight=3, n_estimators=10 \n",
      "[CV]  learning_rate=0.5, max_depth=5, min_child_weight=3, n_estimators=10, total=   1.8s\n",
      "[CV] learning_rate=0.5, max_depth=5, min_child_weight=3, n_estimators=10 \n",
      "[CV]  learning_rate=0.5, max_depth=5, min_child_weight=3, n_estimators=10, total=   1.8s\n",
      "[CV] learning_rate=0.5, max_depth=5, min_child_weight=3, n_estimators=100 \n",
      "[CV]  learning_rate=0.5, max_depth=5, min_child_weight=3, n_estimators=100, total=  15.9s\n",
      "[CV] learning_rate=0.5, max_depth=5, min_child_weight=3, n_estimators=100 \n",
      "[CV]  learning_rate=0.5, max_depth=5, min_child_weight=3, n_estimators=100, total=  16.0s\n",
      "[CV] learning_rate=0.5, max_depth=5, min_child_weight=3, n_estimators=100 \n",
      "[CV]  learning_rate=0.5, max_depth=5, min_child_weight=3, n_estimators=100, total=  15.9s\n",
      "[CV] learning_rate=0.5, max_depth=6, min_child_weight=0, n_estimators=10 \n",
      "[CV]  learning_rate=0.5, max_depth=6, min_child_weight=0, n_estimators=10, total=   2.1s\n",
      "[CV] learning_rate=0.5, max_depth=6, min_child_weight=0, n_estimators=10 \n",
      "[CV]  learning_rate=0.5, max_depth=6, min_child_weight=0, n_estimators=10, total=   2.1s\n",
      "[CV] learning_rate=0.5, max_depth=6, min_child_weight=0, n_estimators=10 \n",
      "[CV]  learning_rate=0.5, max_depth=6, min_child_weight=0, n_estimators=10, total=   2.1s\n",
      "[CV] learning_rate=0.5, max_depth=6, min_child_weight=0, n_estimators=100 \n",
      "[CV]  learning_rate=0.5, max_depth=6, min_child_weight=0, n_estimators=100, total=  18.3s\n",
      "[CV] learning_rate=0.5, max_depth=6, min_child_weight=0, n_estimators=100 \n",
      "[CV]  learning_rate=0.5, max_depth=6, min_child_weight=0, n_estimators=100, total=  18.4s\n",
      "[CV] learning_rate=0.5, max_depth=6, min_child_weight=0, n_estimators=100 \n",
      "[CV]  learning_rate=0.5, max_depth=6, min_child_weight=0, n_estimators=100, total=  18.4s\n",
      "[CV] learning_rate=0.5, max_depth=6, min_child_weight=1, n_estimators=10 \n",
      "[CV]  learning_rate=0.5, max_depth=6, min_child_weight=1, n_estimators=10, total=   2.1s\n",
      "[CV] learning_rate=0.5, max_depth=6, min_child_weight=1, n_estimators=10 \n",
      "[CV]  learning_rate=0.5, max_depth=6, min_child_weight=1, n_estimators=10, total=   2.1s\n",
      "[CV] learning_rate=0.5, max_depth=6, min_child_weight=1, n_estimators=10 \n",
      "[CV]  learning_rate=0.5, max_depth=6, min_child_weight=1, n_estimators=10, total=   2.0s\n",
      "[CV] learning_rate=0.5, max_depth=6, min_child_weight=1, n_estimators=100 \n",
      "[CV]  learning_rate=0.5, max_depth=6, min_child_weight=1, n_estimators=100, total=  18.1s\n",
      "[CV] learning_rate=0.5, max_depth=6, min_child_weight=1, n_estimators=100 \n",
      "[CV]  learning_rate=0.5, max_depth=6, min_child_weight=1, n_estimators=100, total=  18.3s\n",
      "[CV] learning_rate=0.5, max_depth=6, min_child_weight=1, n_estimators=100 \n",
      "[CV]  learning_rate=0.5, max_depth=6, min_child_weight=1, n_estimators=100, total=  18.4s\n",
      "[CV] learning_rate=0.5, max_depth=6, min_child_weight=3, n_estimators=10 \n",
      "[CV]  learning_rate=0.5, max_depth=6, min_child_weight=3, n_estimators=10, total=   2.1s\n",
      "[CV] learning_rate=0.5, max_depth=6, min_child_weight=3, n_estimators=10 \n",
      "[CV]  learning_rate=0.5, max_depth=6, min_child_weight=3, n_estimators=10, total=   2.1s\n",
      "[CV] learning_rate=0.5, max_depth=6, min_child_weight=3, n_estimators=10 \n",
      "[CV]  learning_rate=0.5, max_depth=6, min_child_weight=3, n_estimators=10, total=   2.1s\n",
      "[CV] learning_rate=0.5, max_depth=6, min_child_weight=3, n_estimators=100 \n",
      "[CV]  learning_rate=0.5, max_depth=6, min_child_weight=3, n_estimators=100, total=  18.2s\n",
      "[CV] learning_rate=0.5, max_depth=6, min_child_weight=3, n_estimators=100 \n",
      "[CV]  learning_rate=0.5, max_depth=6, min_child_weight=3, n_estimators=100, total=  18.2s\n",
      "[CV] learning_rate=0.5, max_depth=6, min_child_weight=3, n_estimators=100 \n",
      "[CV]  learning_rate=0.5, max_depth=6, min_child_weight=3, n_estimators=100, total=  18.3s\n",
      "[CV] learning_rate=0.5, max_depth=7, min_child_weight=0, n_estimators=10 \n",
      "[CV]  learning_rate=0.5, max_depth=7, min_child_weight=0, n_estimators=10, total=   2.3s\n",
      "[CV] learning_rate=0.5, max_depth=7, min_child_weight=0, n_estimators=10 \n",
      "[CV]  learning_rate=0.5, max_depth=7, min_child_weight=0, n_estimators=10, total=   2.3s\n",
      "[CV] learning_rate=0.5, max_depth=7, min_child_weight=0, n_estimators=10 \n",
      "[CV]  learning_rate=0.5, max_depth=7, min_child_weight=0, n_estimators=10, total=   2.3s\n",
      "[CV] learning_rate=0.5, max_depth=7, min_child_weight=0, n_estimators=100 \n",
      "[CV]  learning_rate=0.5, max_depth=7, min_child_weight=0, n_estimators=100, total=  20.4s\n",
      "[CV] learning_rate=0.5, max_depth=7, min_child_weight=0, n_estimators=100 \n",
      "[CV]  learning_rate=0.5, max_depth=7, min_child_weight=0, n_estimators=100, total=  20.5s\n",
      "[CV] learning_rate=0.5, max_depth=7, min_child_weight=0, n_estimators=100 \n",
      "[CV]  learning_rate=0.5, max_depth=7, min_child_weight=0, n_estimators=100, total=  20.5s\n",
      "[CV] learning_rate=0.5, max_depth=7, min_child_weight=1, n_estimators=10 \n",
      "[CV]  learning_rate=0.5, max_depth=7, min_child_weight=1, n_estimators=10, total=   2.3s\n",
      "[CV] learning_rate=0.5, max_depth=7, min_child_weight=1, n_estimators=10 \n",
      "[CV]  learning_rate=0.5, max_depth=7, min_child_weight=1, n_estimators=10, total=   2.4s\n",
      "[CV] learning_rate=0.5, max_depth=7, min_child_weight=1, n_estimators=10 \n",
      "[CV]  learning_rate=0.5, max_depth=7, min_child_weight=1, n_estimators=10, total=   2.3s\n",
      "[CV] learning_rate=0.5, max_depth=7, min_child_weight=1, n_estimators=100 \n",
      "[CV]  learning_rate=0.5, max_depth=7, min_child_weight=1, n_estimators=100, total=  20.7s\n",
      "[CV] learning_rate=0.5, max_depth=7, min_child_weight=1, n_estimators=100 \n",
      "[CV]  learning_rate=0.5, max_depth=7, min_child_weight=1, n_estimators=100, total=  21.1s\n",
      "[CV] learning_rate=0.5, max_depth=7, min_child_weight=1, n_estimators=100 \n"
     ]
    },
    {
     "name": "stdout",
     "output_type": "stream",
     "text": [
      "[CV]  learning_rate=0.5, max_depth=7, min_child_weight=1, n_estimators=100, total=  21.6s\n",
      "[CV] learning_rate=0.5, max_depth=7, min_child_weight=3, n_estimators=10 \n",
      "[CV]  learning_rate=0.5, max_depth=7, min_child_weight=3, n_estimators=10, total=   2.3s\n",
      "[CV] learning_rate=0.5, max_depth=7, min_child_weight=3, n_estimators=10 \n",
      "[CV]  learning_rate=0.5, max_depth=7, min_child_weight=3, n_estimators=10, total=   2.3s\n",
      "[CV] learning_rate=0.5, max_depth=7, min_child_weight=3, n_estimators=10 \n",
      "[CV]  learning_rate=0.5, max_depth=7, min_child_weight=3, n_estimators=10, total=   2.3s\n",
      "[CV] learning_rate=0.5, max_depth=7, min_child_weight=3, n_estimators=100 \n",
      "[CV]  learning_rate=0.5, max_depth=7, min_child_weight=3, n_estimators=100, total=  20.5s\n",
      "[CV] learning_rate=0.5, max_depth=7, min_child_weight=3, n_estimators=100 \n",
      "[CV]  learning_rate=0.5, max_depth=7, min_child_weight=3, n_estimators=100, total=  20.5s\n",
      "[CV] learning_rate=0.5, max_depth=7, min_child_weight=3, n_estimators=100 \n",
      "[CV]  learning_rate=0.5, max_depth=7, min_child_weight=3, n_estimators=100, total=  20.6s\n",
      "[CV] learning_rate=0.7, max_depth=5, min_child_weight=0, n_estimators=10 \n",
      "[CV]  learning_rate=0.7, max_depth=5, min_child_weight=0, n_estimators=10, total=   1.8s\n",
      "[CV] learning_rate=0.7, max_depth=5, min_child_weight=0, n_estimators=10 \n",
      "[CV]  learning_rate=0.7, max_depth=5, min_child_weight=0, n_estimators=10, total=   1.8s\n",
      "[CV] learning_rate=0.7, max_depth=5, min_child_weight=0, n_estimators=10 \n",
      "[CV]  learning_rate=0.7, max_depth=5, min_child_weight=0, n_estimators=10, total=   1.8s\n",
      "[CV] learning_rate=0.7, max_depth=5, min_child_weight=0, n_estimators=100 \n",
      "[CV]  learning_rate=0.7, max_depth=5, min_child_weight=0, n_estimators=100, total=  15.9s\n",
      "[CV] learning_rate=0.7, max_depth=5, min_child_weight=0, n_estimators=100 \n",
      "[CV]  learning_rate=0.7, max_depth=5, min_child_weight=0, n_estimators=100, total=  16.0s\n",
      "[CV] learning_rate=0.7, max_depth=5, min_child_weight=0, n_estimators=100 \n",
      "[CV]  learning_rate=0.7, max_depth=5, min_child_weight=0, n_estimators=100, total=  16.0s\n",
      "[CV] learning_rate=0.7, max_depth=5, min_child_weight=1, n_estimators=10 \n",
      "[CV]  learning_rate=0.7, max_depth=5, min_child_weight=1, n_estimators=10, total=   1.9s\n",
      "[CV] learning_rate=0.7, max_depth=5, min_child_weight=1, n_estimators=10 \n",
      "[CV]  learning_rate=0.7, max_depth=5, min_child_weight=1, n_estimators=10, total=   1.8s\n",
      "[CV] learning_rate=0.7, max_depth=5, min_child_weight=1, n_estimators=10 \n",
      "[CV]  learning_rate=0.7, max_depth=5, min_child_weight=1, n_estimators=10, total=   1.9s\n",
      "[CV] learning_rate=0.7, max_depth=5, min_child_weight=1, n_estimators=100 \n",
      "[CV]  learning_rate=0.7, max_depth=5, min_child_weight=1, n_estimators=100, total=  16.0s\n",
      "[CV] learning_rate=0.7, max_depth=5, min_child_weight=1, n_estimators=100 \n",
      "[CV]  learning_rate=0.7, max_depth=5, min_child_weight=1, n_estimators=100, total=  17.5s\n",
      "[CV] learning_rate=0.7, max_depth=5, min_child_weight=1, n_estimators=100 \n",
      "[CV]  learning_rate=0.7, max_depth=5, min_child_weight=1, n_estimators=100, total=  16.3s\n",
      "[CV] learning_rate=0.7, max_depth=5, min_child_weight=3, n_estimators=10 \n",
      "[CV]  learning_rate=0.7, max_depth=5, min_child_weight=3, n_estimators=10, total=   1.8s\n",
      "[CV] learning_rate=0.7, max_depth=5, min_child_weight=3, n_estimators=10 \n",
      "[CV]  learning_rate=0.7, max_depth=5, min_child_weight=3, n_estimators=10, total=   1.8s\n",
      "[CV] learning_rate=0.7, max_depth=5, min_child_weight=3, n_estimators=10 \n",
      "[CV]  learning_rate=0.7, max_depth=5, min_child_weight=3, n_estimators=10, total=   1.8s\n",
      "[CV] learning_rate=0.7, max_depth=5, min_child_weight=3, n_estimators=100 \n",
      "[CV]  learning_rate=0.7, max_depth=5, min_child_weight=3, n_estimators=100, total=  16.3s\n",
      "[CV] learning_rate=0.7, max_depth=5, min_child_weight=3, n_estimators=100 \n",
      "[CV]  learning_rate=0.7, max_depth=5, min_child_weight=3, n_estimators=100, total=  16.4s\n",
      "[CV] learning_rate=0.7, max_depth=5, min_child_weight=3, n_estimators=100 \n",
      "[CV]  learning_rate=0.7, max_depth=5, min_child_weight=3, n_estimators=100, total=  16.0s\n",
      "[CV] learning_rate=0.7, max_depth=6, min_child_weight=0, n_estimators=10 \n",
      "[CV]  learning_rate=0.7, max_depth=6, min_child_weight=0, n_estimators=10, total=   2.1s\n",
      "[CV] learning_rate=0.7, max_depth=6, min_child_weight=0, n_estimators=10 \n",
      "[CV]  learning_rate=0.7, max_depth=6, min_child_weight=0, n_estimators=10, total=   2.1s\n",
      "[CV] learning_rate=0.7, max_depth=6, min_child_weight=0, n_estimators=10 \n",
      "[CV]  learning_rate=0.7, max_depth=6, min_child_weight=0, n_estimators=10, total=   2.1s\n",
      "[CV] learning_rate=0.7, max_depth=6, min_child_weight=0, n_estimators=100 \n",
      "[CV]  learning_rate=0.7, max_depth=6, min_child_weight=0, n_estimators=100, total=  18.4s\n",
      "[CV] learning_rate=0.7, max_depth=6, min_child_weight=0, n_estimators=100 \n",
      "[CV]  learning_rate=0.7, max_depth=6, min_child_weight=0, n_estimators=100, total=  18.5s\n",
      "[CV] learning_rate=0.7, max_depth=6, min_child_weight=0, n_estimators=100 \n",
      "[CV]  learning_rate=0.7, max_depth=6, min_child_weight=0, n_estimators=100, total=  18.3s\n",
      "[CV] learning_rate=0.7, max_depth=6, min_child_weight=1, n_estimators=10 \n",
      "[CV]  learning_rate=0.7, max_depth=6, min_child_weight=1, n_estimators=10, total=   2.1s\n",
      "[CV] learning_rate=0.7, max_depth=6, min_child_weight=1, n_estimators=10 \n",
      "[CV]  learning_rate=0.7, max_depth=6, min_child_weight=1, n_estimators=10, total=   2.1s\n",
      "[CV] learning_rate=0.7, max_depth=6, min_child_weight=1, n_estimators=10 \n",
      "[CV]  learning_rate=0.7, max_depth=6, min_child_weight=1, n_estimators=10, total=   2.1s\n",
      "[CV] learning_rate=0.7, max_depth=6, min_child_weight=1, n_estimators=100 \n",
      "[CV]  learning_rate=0.7, max_depth=6, min_child_weight=1, n_estimators=100, total=  18.4s\n",
      "[CV] learning_rate=0.7, max_depth=6, min_child_weight=1, n_estimators=100 \n",
      "[CV]  learning_rate=0.7, max_depth=6, min_child_weight=1, n_estimators=100, total=  18.5s\n",
      "[CV] learning_rate=0.7, max_depth=6, min_child_weight=1, n_estimators=100 \n",
      "[CV]  learning_rate=0.7, max_depth=6, min_child_weight=1, n_estimators=100, total=  18.3s\n",
      "[CV] learning_rate=0.7, max_depth=6, min_child_weight=3, n_estimators=10 \n",
      "[CV]  learning_rate=0.7, max_depth=6, min_child_weight=3, n_estimators=10, total=   2.1s\n",
      "[CV] learning_rate=0.7, max_depth=6, min_child_weight=3, n_estimators=10 \n",
      "[CV]  learning_rate=0.7, max_depth=6, min_child_weight=3, n_estimators=10, total=   2.1s\n",
      "[CV] learning_rate=0.7, max_depth=6, min_child_weight=3, n_estimators=10 \n",
      "[CV]  learning_rate=0.7, max_depth=6, min_child_weight=3, n_estimators=10, total=   2.1s\n",
      "[CV] learning_rate=0.7, max_depth=6, min_child_weight=3, n_estimators=100 \n",
      "[CV]  learning_rate=0.7, max_depth=6, min_child_weight=3, n_estimators=100, total=  18.3s\n",
      "[CV] learning_rate=0.7, max_depth=6, min_child_weight=3, n_estimators=100 \n",
      "[CV]  learning_rate=0.7, max_depth=6, min_child_weight=3, n_estimators=100, total=  18.3s\n",
      "[CV] learning_rate=0.7, max_depth=6, min_child_weight=3, n_estimators=100 \n",
      "[CV]  learning_rate=0.7, max_depth=6, min_child_weight=3, n_estimators=100, total=  18.5s\n",
      "[CV] learning_rate=0.7, max_depth=7, min_child_weight=0, n_estimators=10 \n",
      "[CV]  learning_rate=0.7, max_depth=7, min_child_weight=0, n_estimators=10, total=   2.3s\n",
      "[CV] learning_rate=0.7, max_depth=7, min_child_weight=0, n_estimators=10 \n",
      "[CV]  learning_rate=0.7, max_depth=7, min_child_weight=0, n_estimators=10, total=   2.4s\n",
      "[CV] learning_rate=0.7, max_depth=7, min_child_weight=0, n_estimators=10 \n",
      "[CV]  learning_rate=0.7, max_depth=7, min_child_weight=0, n_estimators=10, total=   2.3s\n",
      "[CV] learning_rate=0.7, max_depth=7, min_child_weight=0, n_estimators=100 \n",
      "[CV]  learning_rate=0.7, max_depth=7, min_child_weight=0, n_estimators=100, total=  20.7s\n",
      "[CV] learning_rate=0.7, max_depth=7, min_child_weight=0, n_estimators=100 \n",
      "[CV]  learning_rate=0.7, max_depth=7, min_child_weight=0, n_estimators=100, total=  20.5s\n",
      "[CV] learning_rate=0.7, max_depth=7, min_child_weight=0, n_estimators=100 \n",
      "[CV]  learning_rate=0.7, max_depth=7, min_child_weight=0, n_estimators=100, total=  20.6s\n",
      "[CV] learning_rate=0.7, max_depth=7, min_child_weight=1, n_estimators=10 \n",
      "[CV]  learning_rate=0.7, max_depth=7, min_child_weight=1, n_estimators=10, total=   2.3s\n",
      "[CV] learning_rate=0.7, max_depth=7, min_child_weight=1, n_estimators=10 \n"
     ]
    },
    {
     "name": "stdout",
     "output_type": "stream",
     "text": [
      "[CV]  learning_rate=0.7, max_depth=7, min_child_weight=1, n_estimators=10, total=   2.3s\n",
      "[CV] learning_rate=0.7, max_depth=7, min_child_weight=1, n_estimators=10 \n",
      "[CV]  learning_rate=0.7, max_depth=7, min_child_weight=1, n_estimators=10, total=   2.3s\n",
      "[CV] learning_rate=0.7, max_depth=7, min_child_weight=1, n_estimators=100 \n",
      "[CV]  learning_rate=0.7, max_depth=7, min_child_weight=1, n_estimators=100, total=  20.5s\n",
      "[CV] learning_rate=0.7, max_depth=7, min_child_weight=1, n_estimators=100 \n",
      "[CV]  learning_rate=0.7, max_depth=7, min_child_weight=1, n_estimators=100, total=  20.8s\n",
      "[CV] learning_rate=0.7, max_depth=7, min_child_weight=1, n_estimators=100 \n",
      "[CV]  learning_rate=0.7, max_depth=7, min_child_weight=1, n_estimators=100, total=  21.5s\n",
      "[CV] learning_rate=0.7, max_depth=7, min_child_weight=3, n_estimators=10 \n",
      "[CV]  learning_rate=0.7, max_depth=7, min_child_weight=3, n_estimators=10, total=   2.3s\n",
      "[CV] learning_rate=0.7, max_depth=7, min_child_weight=3, n_estimators=10 \n",
      "[CV]  learning_rate=0.7, max_depth=7, min_child_weight=3, n_estimators=10, total=   2.3s\n",
      "[CV] learning_rate=0.7, max_depth=7, min_child_weight=3, n_estimators=10 \n",
      "[CV]  learning_rate=0.7, max_depth=7, min_child_weight=3, n_estimators=10, total=   2.3s\n",
      "[CV] learning_rate=0.7, max_depth=7, min_child_weight=3, n_estimators=100 \n",
      "[CV]  learning_rate=0.7, max_depth=7, min_child_weight=3, n_estimators=100, total=  20.7s\n",
      "[CV] learning_rate=0.7, max_depth=7, min_child_weight=3, n_estimators=100 \n",
      "[CV]  learning_rate=0.7, max_depth=7, min_child_weight=3, n_estimators=100, total=  22.3s\n",
      "[CV] learning_rate=0.7, max_depth=7, min_child_weight=3, n_estimators=100 \n",
      "[CV]  learning_rate=0.7, max_depth=7, min_child_weight=3, n_estimators=100, total=  21.7s\n"
     ]
    },
    {
     "name": "stderr",
     "output_type": "stream",
     "text": [
      "[Parallel(n_jobs=1)]: Done 162 out of 162 | elapsed: 27.7min finished\n"
     ]
    },
    {
     "data": {
      "text/plain": [
       "GridSearchCV(cv=3, error_score='raise-deprecating',\n",
       "             estimator=XGBClassifier(base_score=0.5, booster='gbtree',\n",
       "                                     colsample_bylevel=1, colsample_bynode=1,\n",
       "                                     colsample_bytree=1, gamma=0,\n",
       "                                     learning_rate=0.1, max_delta_step=0,\n",
       "                                     max_depth=3, min_child_weight=1,\n",
       "                                     missing=None, n_estimators=100, n_jobs=1,\n",
       "                                     nthread=None, objective='binary:logistic',\n",
       "                                     random_state=0, reg_alpha=0, reg_lambda=1,\n",
       "                                     scale_pos_weight=1, seed=None, silent=None,\n",
       "                                     subsample=1, verbosity=1),\n",
       "             iid='warn', n_jobs=None,\n",
       "             param_grid={'learning_rate': [0.3, 0.5, 0.7],\n",
       "                         'max_depth': [5, 6, 7], 'min_child_weight': [0, 1, 3],\n",
       "                         'n_estimators': [10, 100]},\n",
       "             pre_dispatch='2*n_jobs', refit=True, return_train_score=False,\n",
       "             scoring=None, verbose=2)"
      ]
     },
     "execution_count": 49,
     "metadata": {},
     "output_type": "execute_result"
    }
   ],
   "source": [
    "import xgboost as xgb\n",
    "from sklearn.model_selection import GridSearchCV\n",
    "param_grid_xgb= {\n",
    "    \"learning_rate\": [0.3,0.5,0.7],\n",
    "    'max_depth': [5,6,7],\n",
    "    'min_child_weight': [0,1,3],\n",
    "    'n_estimators': [10,100],\n",
    "}\n",
    "grid_xgb=GridSearchCV(estimator=xgb.XGBClassifier(),\n",
    "                      param_grid=param_grid_xgb,\n",
    "                     cv=3,\n",
    "                     verbose=2)\n",
    "grid_xgb.fit(X_resampled_train,y_resampled_train)"
   ]
  },
  {
   "cell_type": "code",
   "execution_count": 50,
   "metadata": {},
   "outputs": [
    {
     "data": {
      "text/plain": [
       "{'learning_rate': 0.3,\n",
       " 'max_depth': 5,\n",
       " 'min_child_weight': 0,\n",
       " 'n_estimators': 100}"
      ]
     },
     "execution_count": 50,
     "metadata": {},
     "output_type": "execute_result"
    }
   ],
   "source": [
    "grid_xgb.best_params_"
   ]
  },
  {
   "cell_type": "code",
   "execution_count": 51,
   "metadata": {},
   "outputs": [
    {
     "data": {
      "text/plain": [
       "0.6773242354087974"
      ]
     },
     "execution_count": 51,
     "metadata": {},
     "output_type": "execute_result"
    }
   ],
   "source": [
    "grid_xgb.best_score_"
   ]
  },
  {
   "cell_type": "code",
   "execution_count": 52,
   "metadata": {},
   "outputs": [
    {
     "name": "stdout",
     "output_type": "stream",
     "text": [
      "              precision    recall  f1-score   support\n",
      "\n",
      "       False       0.69      0.66      0.67      5110\n",
      "        True       0.68      0.71      0.69      5149\n",
      "\n",
      "    accuracy                           0.68     10259\n",
      "   macro avg       0.68      0.68      0.68     10259\n",
      "weighted avg       0.68      0.68      0.68     10259\n",
      "\n"
     ]
    },
    {
     "data": {
      "image/png": "[encoded data removed]",
      "text/plain": [
       "<Figure size 432x288 with 2 Axes>"
      ]
     },
     "metadata": {
      "needs_background": "light"
     },
     "output_type": "display_data"
    }
   ],
   "source": [
    "y_pred = grid_xgb.best_estimator_.predict(X_resampled_test)\n",
    "\n",
    "print(classification_report(y_resampled_test,y_pred))\n",
    "show_cf(y_resampled_test,y_pred,class_names=['Not A','A'],model_name='XGBoost Resampled')"
   ]
  },
  {
   "cell_type": "code",
   "execution_count": null,
   "metadata": {},
   "outputs": [],
   "source": []
  },
  {
   "cell_type": "code",
   "execution_count": 53,
   "metadata": {},
   "outputs": [
    {
     "data": {
      "text/plain": [
       "array([0.01291154, 0.01048248, 0.02563821, 0.00691987, 0.01045517,\n",
       "       0.01458021, 0.0102237 , 0.01629416, 0.010823  , 0.00980715,\n",
       "       0.01169039, 0.0073766 , 0.00737125, 0.0082462 , 0.00377939,\n",
       "       0.00148569, 0.01230528, 0.0058852 , 0.00532099, 0.0114706 ,\n",
       "       0.0036267 , 0.00470086, 0.00572596, 0.00498887, 0.00917918,\n",
       "       0.01071814, 0.01111702, 0.00334536, 0.        , 0.        ,\n",
       "       0.        , 0.00543857, 0.0060674 , 0.00513594, 0.00255214,\n",
       "       0.00687   , 0.00535621, 0.0113759 , 0.00493883, 0.0081691 ,\n",
       "       0.00789645, 0.00868468, 0.00316996, 0.0066917 , 0.00929841,\n",
       "       0.00524987, 0.00271234, 0.00821444, 0.01286911, 0.        ,\n",
       "       0.02278023, 0.00851633, 0.01512332, 0.00785865, 0.01042897,\n",
       "       0.00964366, 0.01273963, 0.0088246 , 0.01133918, 0.01280081,\n",
       "       0.01332059, 0.00537253, 0.01174478, 0.00516714, 0.00964425,\n",
       "       0.        , 0.        , 0.00975986, 0.0081934 , 0.00985083,\n",
       "       0.00541106, 0.        , 0.00164036, 0.00228932, 0.01533724,\n",
       "       0.00170014, 0.00350394, 0.0019658 , 0.00727534, 0.00970465,\n",
       "       0.00260145, 0.00215055, 0.        , 0.00523714, 0.00281775,\n",
       "       0.02124181, 0.        , 0.00155003, 0.01276029, 0.00688976,\n",
       "       0.        , 0.00848724, 0.0027784 , 0.00201477, 0.00376523,\n",
       "       0.0024042 , 0.00159701, 0.        , 0.00750861, 0.01110698,\n",
       "       0.00418024, 0.00283722, 0.00353615, 0.00165924, 0.00245503,\n",
       "       0.00946412, 0.        , 0.00244611, 0.00547856, 0.00946216,\n",
       "       0.        , 0.00435944, 0.0023272 , 0.01225759, 0.00827246,\n",
       "       0.        , 0.        , 0.01233044, 0.00873226, 0.01207773,\n",
       "       0.00580056, 0.01092106, 0.00807734, 0.01613207, 0.01455046,\n",
       "       0.01192266, 0.00955288, 0.        , 0.00168675, 0.        ,\n",
       "       0.00706523, 0.        , 0.0024073 , 0.00400094, 0.00734261,\n",
       "       0.00758577, 0.0023904 , 0.        , 0.        , 0.00359093,\n",
       "       0.01281452, 0.00840462, 0.        , 0.00645665, 0.00216576,\n",
       "       0.        , 0.00296238, 0.        , 0.01276655, 0.00227987,\n",
       "       0.        , 0.00790205, 0.0090731 , 0.        , 0.        ,\n",
       "       0.00626356], dtype=float32)"
      ]
     },
     "execution_count": 53,
     "metadata": {},
     "output_type": "execute_result"
    }
   ],
   "source": [
    "grid_xgb.best_estimator_.feature_importances_"
   ]
  },
  {
   "cell_type": "code",
   "execution_count": 54,
   "metadata": {},
   "outputs": [
    {
     "data": {
      "text/plain": [
       "[0.025638213, 0.022780227, 0.021241808, 0.01629416, 0.016132072]"
      ]
     },
     "execution_count": 54,
     "metadata": {},
     "output_type": "execute_result"
    }
   ],
   "source": [
    "sorted(grid_xgb.best_estimator_.feature_importances_,reverse=True)[:5]"
   ]
  },
  {
   "cell_type": "code",
   "execution_count": null,
   "metadata": {},
   "outputs": [],
   "source": []
  },
  {
   "cell_type": "code",
   "execution_count": null,
   "metadata": {},
   "outputs": [],
   "source": []
  },
  {
   "cell_type": "markdown",
   "metadata": {},
   "source": [
    "Build Keras Deep Learning Neural Network to attempt to improve on Machine Learning model"
   ]
  },
  {
   "cell_type": "code",
   "execution_count": 55,
   "metadata": {},
   "outputs": [
    {
     "data": {
      "text/plain": [
       "(34453, 156)"
      ]
     },
     "execution_count": 55,
     "metadata": {},
     "output_type": "execute_result"
    }
   ],
   "source": [
    "X_train.shape"
   ]
  },
  {
   "cell_type": "code",
   "execution_count": 57,
   "metadata": {
    "scrolled": true
   },
   "outputs": [
    {
     "name": "stdout",
     "output_type": "stream",
     "text": [
      "Train on 31007 samples, validate on 3446 samples\n",
      "Epoch 1/50\n",
      "31007/31007 [==============================] - 2s 54us/step - loss: 0.6478 - acc: 0.6239 - val_loss: 0.6421 - val_acc: 0.6283\n",
      "Epoch 2/50\n",
      "31007/31007 [==============================] - 0s 13us/step - loss: 0.6317 - acc: 0.6400 - val_loss: 0.6390 - val_acc: 0.6109\n",
      "Epoch 3/50\n",
      "31007/31007 [==============================] - 0s 13us/step - loss: 0.6294 - acc: 0.6423 - val_loss: 0.6413 - val_acc: 0.6146\n",
      "Epoch 4/50\n",
      "31007/31007 [==============================] - 0s 13us/step - loss: 0.6281 - acc: 0.6391 - val_loss: 0.6350 - val_acc: 0.6387\n",
      "Epoch 5/50\n",
      "31007/31007 [==============================] - 0s 14us/step - loss: 0.6253 - acc: 0.6410 - val_loss: 0.6361 - val_acc: 0.6355\n",
      "Epoch 6/50\n",
      "31007/31007 [==============================] - ETA: 0s - loss: 0.6236 - acc: 0.643 - 0s 15us/step - loss: 0.6233 - acc: 0.6441 - val_loss: 0.6531 - val_acc: 0.6230\n",
      "Epoch 7/50\n",
      "31007/31007 [==============================] - 0s 12us/step - loss: 0.6237 - acc: 0.6436 - val_loss: 0.6350 - val_acc: 0.6451\n",
      "Epoch 8/50\n",
      "31007/31007 [==============================] - 0s 12us/step - loss: 0.6187 - acc: 0.6469 - val_loss: 0.6361 - val_acc: 0.6367\n",
      "Epoch 9/50\n",
      "31007/31007 [==============================] - 0s 15us/step - loss: 0.6180 - acc: 0.6476 - val_loss: 0.6369 - val_acc: 0.6326\n",
      "Epoch 10/50\n",
      "31007/31007 [==============================] - 0s 14us/step - loss: 0.6161 - acc: 0.6489 - val_loss: 0.6400 - val_acc: 0.6358\n",
      "Epoch 11/50\n",
      "31007/31007 [==============================] - 0s 15us/step - loss: 0.6145 - acc: 0.6481 - val_loss: 0.6547 - val_acc: 0.6132\n",
      "Epoch 12/50\n",
      "31007/31007 [==============================] - 1s 21us/step - loss: 0.6139 - acc: 0.6482 - val_loss: 0.6476 - val_acc: 0.6187\n",
      "Epoch 13/50\n",
      "31007/31007 [==============================] - 1s 20us/step - loss: 0.6103 - acc: 0.6529 - val_loss: 0.6417 - val_acc: 0.6317\n",
      "Epoch 14/50\n",
      "31007/31007 [==============================] - 1s 21us/step - loss: 0.6093 - acc: 0.6543 - val_loss: 0.6607 - val_acc: 0.6103\n",
      "Epoch 15/50\n",
      "31007/31007 [==============================] - 1s 19us/step - loss: 0.6078 - acc: 0.6569 - val_loss: 0.6495 - val_acc: 0.6228\n",
      "Epoch 16/50\n",
      "31007/31007 [==============================] - 1s 21us/step - loss: 0.6046 - acc: 0.6577 - val_loss: 0.6512 - val_acc: 0.6181\n",
      "Epoch 17/50\n",
      "31007/31007 [==============================] - 1s 19us/step - loss: 0.6021 - acc: 0.6593 - val_loss: 0.6585 - val_acc: 0.6164\n",
      "Epoch 18/50\n",
      "31007/31007 [==============================] - 1s 21us/step - loss: 0.5999 - acc: 0.6624 - val_loss: 0.6626 - val_acc: 0.6251\n",
      "Epoch 19/50\n",
      "31007/31007 [==============================] - 1s 21us/step - loss: 0.5979 - acc: 0.6628 - val_loss: 0.6657 - val_acc: 0.6117\n",
      "Epoch 20/50\n",
      "31007/31007 [==============================] - 1s 17us/step - loss: 0.5964 - acc: 0.6654 - val_loss: 0.6624 - val_acc: 0.6103\n",
      "Epoch 21/50\n",
      "31007/31007 [==============================] - 0s 11us/step - loss: 0.5946 - acc: 0.6677 - val_loss: 0.6684 - val_acc: 0.6175\n",
      "Epoch 22/50\n",
      "31007/31007 [==============================] - 0s 14us/step - loss: 0.5941 - acc: 0.6649 - val_loss: 0.6698 - val_acc: 0.6126\n",
      "Epoch 23/50\n",
      "31007/31007 [==============================] - 0s 11us/step - loss: 0.5908 - acc: 0.6683 - val_loss: 0.6682 - val_acc: 0.6172\n",
      "Epoch 24/50\n",
      "31007/31007 [==============================] - 0s 11us/step - loss: 0.5888 - acc: 0.6727 - val_loss: 0.6683 - val_acc: 0.6140\n",
      "Epoch 25/50\n",
      "31007/31007 [==============================] - 0s 11us/step - loss: 0.5864 - acc: 0.6704 - val_loss: 0.6733 - val_acc: 0.6219\n",
      "Epoch 26/50\n",
      "31007/31007 [==============================] - 0s 11us/step - loss: 0.5845 - acc: 0.6739 - val_loss: 0.6813 - val_acc: 0.6123\n",
      "Epoch 27/50\n",
      "31007/31007 [==============================] - 0s 12us/step - loss: 0.5827 - acc: 0.6763 - val_loss: 0.6785 - val_acc: 0.6152\n",
      "Epoch 28/50\n",
      "31007/31007 [==============================] - 0s 11us/step - loss: 0.5805 - acc: 0.6767 - val_loss: 0.7262 - val_acc: 0.6030\n",
      "Epoch 29/50\n",
      "31007/31007 [==============================] - 0s 15us/step - loss: 0.5834 - acc: 0.6736 - val_loss: 0.6824 - val_acc: 0.6088\n",
      "Epoch 30/50\n",
      "31007/31007 [==============================] - 0s 15us/step - loss: 0.5784 - acc: 0.6776 - val_loss: 0.6964 - val_acc: 0.5987\n",
      "Epoch 31/50\n",
      "31007/31007 [==============================] - 0s 14us/step - loss: 0.5761 - acc: 0.6816 - val_loss: 0.6942 - val_acc: 0.6135\n",
      "Epoch 32/50\n",
      "31007/31007 [==============================] - 0s 14us/step - loss: 0.5752 - acc: 0.6788 - val_loss: 0.6907 - val_acc: 0.6140\n",
      "Epoch 33/50\n",
      "31007/31007 [==============================] - 0s 13us/step - loss: 0.5739 - acc: 0.6822 - val_loss: 0.6978 - val_acc: 0.6068\n",
      "Epoch 34/50\n",
      "31007/31007 [==============================] - 1s 18us/step - loss: 0.5720 - acc: 0.6810 - val_loss: 0.6989 - val_acc: 0.6129\n",
      "Epoch 35/50\n",
      "31007/31007 [==============================] - 0s 13us/step - loss: 0.5711 - acc: 0.6846 - val_loss: 0.7032 - val_acc: 0.6030\n",
      "Epoch 36/50\n",
      "31007/31007 [==============================] - 0s 14us/step - loss: 0.5700 - acc: 0.6814 - val_loss: 0.7004 - val_acc: 0.6117\n",
      "Epoch 37/50\n",
      "31007/31007 [==============================] - 1s 18us/step - loss: 0.5690 - acc: 0.6872 - val_loss: 0.7171 - val_acc: 0.6007\n",
      "Epoch 38/50\n",
      "31007/31007 [==============================] - 0s 14us/step - loss: 0.5670 - acc: 0.6881 - val_loss: 0.7139 - val_acc: 0.6053\n",
      "Epoch 39/50\n",
      "31007/31007 [==============================] - 0s 11us/step - loss: 0.5657 - acc: 0.6875 - val_loss: 0.7157 - val_acc: 0.6135\n",
      "Epoch 40/50\n",
      "31007/31007 [==============================] - 0s 11us/step - loss: 0.5657 - acc: 0.6868 - val_loss: 0.7319 - val_acc: 0.6007\n",
      "Epoch 41/50\n",
      "31007/31007 [==============================] - 0s 11us/step - loss: 0.5646 - acc: 0.6868 - val_loss: 0.7198 - val_acc: 0.5969\n",
      "Epoch 42/50\n",
      "31007/31007 [==============================] - 0s 12us/step - loss: 0.5629 - acc: 0.6898 - val_loss: 0.7168 - val_acc: 0.6088\n",
      "Epoch 43/50\n",
      "31007/31007 [==============================] - 0s 12us/step - loss: 0.5609 - acc: 0.6899 - val_loss: 0.7323 - val_acc: 0.6027\n",
      "Epoch 44/50\n",
      "31007/31007 [==============================] - 0s 11us/step - loss: 0.5602 - acc: 0.6905 - val_loss: 0.7223 - val_acc: 0.6068\n",
      "Epoch 45/50\n",
      "31007/31007 [==============================] - 0s 11us/step - loss: 0.5591 - acc: 0.6938 - val_loss: 0.7252 - val_acc: 0.6123\n",
      "Epoch 46/50\n",
      "31007/31007 [==============================] - 0s 12us/step - loss: 0.5601 - acc: 0.6899 - val_loss: 0.7359 - val_acc: 0.5902\n",
      "Epoch 47/50\n",
      "31007/31007 [==============================] - 0s 12us/step - loss: 0.5563 - acc: 0.6937 - val_loss: 0.7312 - val_acc: 0.6068\n",
      "Epoch 48/50\n",
      "31007/31007 [==============================] - 0s 13us/step - loss: 0.5554 - acc: 0.6939 - val_loss: 0.7309 - val_acc: 0.6042\n",
      "Epoch 49/50\n",
      "31007/31007 [==============================] - 0s 16us/step - loss: 0.5560 - acc: 0.6937 - val_loss: 0.7424 - val_acc: 0.5949\n",
      "Epoch 50/50\n",
      "31007/31007 [==============================] - 0s 11us/step - loss: 0.5543 - acc: 0.6948 - val_loss: 0.7439 - val_acc: 0.6074\n"
     ]
    }
   ],
   "source": [
    "from keras import Sequential,layers,models\n",
    "\n",
    "model=models.Sequential()\n",
    "model.add(layers.Dense(100,input_shape=(156,),activation='relu'))\n",
    "model.add(layers.Dense(50,activation='relu'))\n",
    "model.add(layers.Dense(1,activation='sigmoid'))\n",
    "\n",
    "model.compile(loss='binary_crossentropy',optimizer='adam',metrics=['accuracy'])\n",
    "\n",
    "history0=model.fit(X_train,y_train,epochs=50,batch_size=256,validation_split=0.1)"
   ]
  },
  {
   "cell_type": "code",
   "execution_count": 58,
   "metadata": {},
   "outputs": [],
   "source": [
    "def plt_hist(history):\n",
    "    acc = history.history['acc']\n",
    "    val_acc = history.history['val_acc']\n",
    "    loss = history.history['loss']\n",
    "    val_loss = history.history['val_loss']\n",
    "    epochs = range(len(acc))\n",
    "    plt.plot(epochs, acc, 'bo', label='Training acc')\n",
    "    plt.plot(epochs, val_acc, 'b', label='Validation acc')\n",
    "    plt.title('Training and validation accuracy')\n",
    "    plt.legend()\n",
    "    plt.figure()\n",
    "    plt.plot(epochs, loss, 'bo', label='Training loss')\n",
    "    plt.plot(epochs, val_loss, 'b', label='Validation loss')\n",
    "    plt.title('Training and validation loss')\n",
    "    plt.legend()\n",
    "    plt.show()"
   ]
  },
  {
   "cell_type": "code",
   "execution_count": 59,
   "metadata": {},
   "outputs": [
    {
     "data": {
      "image/png": "[encoded data removed]",
      "text/plain": [
       "<Figure size 432x288 with 1 Axes>"
      ]
     },
     "metadata": {
      "needs_background": "light"
     },
     "output_type": "display_data"
    },
    {
     "data": {
      "image/png": "[encoded data removed]",
      "text/plain": [
       "<Figure size 432x288 with 1 Axes>"
      ]
     },
     "metadata": {
      "needs_background": "light"
     },
     "output_type": "display_data"
    }
   ],
   "source": [
    "plt_hist(history0)"
   ]
  },
  {
   "cell_type": "code",
   "execution_count": null,
   "metadata": {},
   "outputs": [],
   "source": []
  }
 ],
 "metadata": {
  "kernelspec": {
   "display_name": "Python 3",
   "language": "python",
   "name": "python3"
  },
  "language_info": {
   "codemirror_mode": {
    "name": "ipython",
    "version": 3
   },
   "file_extension": ".py",
   "mimetype": "text/x-python",
   "name": "python",
   "nbconvert_exporter": "python",
   "pygments_lexer": "ipython3",
   "version": "3.7.0"
  }
 },
 "nbformat": 4,
 "nbformat_minor": 2
}
